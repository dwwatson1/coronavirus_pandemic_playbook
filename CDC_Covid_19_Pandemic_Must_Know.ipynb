{
  "nbformat": 4,
  "nbformat_minor": 0,
  "metadata": {
    "kernelspec": {
      "display_name": "Python 3",
      "language": "python",
      "name": "python3"
    },
    "language_info": {
      "codemirror_mode": {
        "name": "ipython",
        "version": 3
      },
      "file_extension": ".py",
      "mimetype": "text/x-python",
      "name": "python",
      "nbconvert_exporter": "python",
      "pygments_lexer": "ipython3",
      "version": "3.8.5"
    },
    "colab": {
      "name": "CDC_Covid_19_Pandemic_Must_Know.ipynb",
      "provenance": [],
      "include_colab_link": true
    }
  },
  "cells": [
    {
      "cell_type": "markdown",
      "metadata": {
        "id": "view-in-github",
        "colab_type": "text"
      },
      "source": [
        "<a href=\"https://colab.research.google.com/github/dwwatson1/coronavirus_pandemic_playbook/blob/Dinah_work/CDC_Covid_19_Pandemic_Must_Know.ipynb\" target=\"_parent\"><img src=\"https://colab.research.google.com/assets/colab-badge.svg\" alt=\"Open In Colab\"/></a>"
      ]
    },
    {
      "cell_type": "markdown",
      "metadata": {
        "id": "rKQf7yvaHNKn"
      },
      "source": [
        "### Deliverable 1"
      ]
    },
    {
      "cell_type": "code",
      "metadata": {
        "id": "Vdcyz3aTHNKo"
      },
      "source": [
        "# Import our dependencies\n",
        "from sklearn.model_selection import train_test_split\n",
        "from sklearn.preprocessing import StandardScaler,OneHotEncoder\n",
        "import pandas as pd\n",
        "import numpy as np\n",
        "import tensorflow as tf\n",
        "import os"
      ],
      "execution_count": 35,
      "outputs": []
    },
    {
      "cell_type": "code",
      "metadata": {
        "id": "I6LWveSzkM3q",
        "colab": {
          "base_uri": "https://localhost:8080/",
          "height": 374
        },
        "outputId": "b0c0e840-4195-4375-8dbc-8636340c5f3b"
      },
      "source": [
        "# Extract from file 1\n",
        "# Step 1\n",
        "application_df = pd.read_csv(\"Provisional_COVID-19_Deaths_by_Sex_and_Age.csv\")\n",
        "application_df.head()"
      ],
      "execution_count": 36,
      "outputs": [
        {
          "output_type": "execute_result",
          "data": {
            "text/html": [
              "<div>\n",
              "<style scoped>\n",
              "    .dataframe tbody tr th:only-of-type {\n",
              "        vertical-align: middle;\n",
              "    }\n",
              "\n",
              "    .dataframe tbody tr th {\n",
              "        vertical-align: top;\n",
              "    }\n",
              "\n",
              "    .dataframe thead th {\n",
              "        text-align: right;\n",
              "    }\n",
              "</style>\n",
              "<table border=\"1\" class=\"dataframe\">\n",
              "  <thead>\n",
              "    <tr style=\"text-align: right;\">\n",
              "      <th></th>\n",
              "      <th>Data As Of</th>\n",
              "      <th>Start Date</th>\n",
              "      <th>End Date</th>\n",
              "      <th>Group</th>\n",
              "      <th>Year</th>\n",
              "      <th>Month</th>\n",
              "      <th>State</th>\n",
              "      <th>Sex</th>\n",
              "      <th>Age Group</th>\n",
              "      <th>COVID-19 Deaths</th>\n",
              "      <th>Total Deaths</th>\n",
              "      <th>Pneumonia Deaths</th>\n",
              "      <th>Pneumonia and COVID-19 Deaths</th>\n",
              "      <th>Influenza Deaths</th>\n",
              "      <th>Pneumonia, Influenza, or COVID-19 Deaths</th>\n",
              "      <th>Footnote</th>\n",
              "    </tr>\n",
              "  </thead>\n",
              "  <tbody>\n",
              "    <tr>\n",
              "      <th>0</th>\n",
              "      <td>07/07/2021</td>\n",
              "      <td>01/01/2020</td>\n",
              "      <td>07/03/2021</td>\n",
              "      <td>By Total</td>\n",
              "      <td>NaN</td>\n",
              "      <td>NaN</td>\n",
              "      <td>United States</td>\n",
              "      <td>All Sexes</td>\n",
              "      <td>All Ages</td>\n",
              "      <td>596740.0</td>\n",
              "      <td>4952380.0</td>\n",
              "      <td>531528.0</td>\n",
              "      <td>293034.0</td>\n",
              "      <td>9189.0</td>\n",
              "      <td>843136.0</td>\n",
              "      <td>NaN</td>\n",
              "    </tr>\n",
              "    <tr>\n",
              "      <th>1</th>\n",
              "      <td>07/07/2021</td>\n",
              "      <td>01/01/2020</td>\n",
              "      <td>07/03/2021</td>\n",
              "      <td>By Total</td>\n",
              "      <td>NaN</td>\n",
              "      <td>NaN</td>\n",
              "      <td>United States</td>\n",
              "      <td>All Sexes</td>\n",
              "      <td>Under 1 year</td>\n",
              "      <td>82.0</td>\n",
              "      <td>27948.0</td>\n",
              "      <td>299.0</td>\n",
              "      <td>12.0</td>\n",
              "      <td>22.0</td>\n",
              "      <td>391.0</td>\n",
              "      <td>NaN</td>\n",
              "    </tr>\n",
              "    <tr>\n",
              "      <th>2</th>\n",
              "      <td>07/07/2021</td>\n",
              "      <td>01/01/2020</td>\n",
              "      <td>07/03/2021</td>\n",
              "      <td>By Total</td>\n",
              "      <td>NaN</td>\n",
              "      <td>NaN</td>\n",
              "      <td>United States</td>\n",
              "      <td>All Sexes</td>\n",
              "      <td>0-17 years</td>\n",
              "      <td>331.0</td>\n",
              "      <td>49047.0</td>\n",
              "      <td>801.0</td>\n",
              "      <td>64.0</td>\n",
              "      <td>185.0</td>\n",
              "      <td>1253.0</td>\n",
              "      <td>NaN</td>\n",
              "    </tr>\n",
              "    <tr>\n",
              "      <th>3</th>\n",
              "      <td>07/07/2021</td>\n",
              "      <td>01/01/2020</td>\n",
              "      <td>07/03/2021</td>\n",
              "      <td>By Total</td>\n",
              "      <td>NaN</td>\n",
              "      <td>NaN</td>\n",
              "      <td>United States</td>\n",
              "      <td>All Sexes</td>\n",
              "      <td>1-4 years</td>\n",
              "      <td>38.0</td>\n",
              "      <td>5082.0</td>\n",
              "      <td>162.0</td>\n",
              "      <td>6.0</td>\n",
              "      <td>64.0</td>\n",
              "      <td>258.0</td>\n",
              "      <td>NaN</td>\n",
              "    </tr>\n",
              "    <tr>\n",
              "      <th>4</th>\n",
              "      <td>07/07/2021</td>\n",
              "      <td>01/01/2020</td>\n",
              "      <td>07/03/2021</td>\n",
              "      <td>By Total</td>\n",
              "      <td>NaN</td>\n",
              "      <td>NaN</td>\n",
              "      <td>United States</td>\n",
              "      <td>All Sexes</td>\n",
              "      <td>5-14 years</td>\n",
              "      <td>116.0</td>\n",
              "      <td>8144.0</td>\n",
              "      <td>229.0</td>\n",
              "      <td>26.0</td>\n",
              "      <td>78.0</td>\n",
              "      <td>397.0</td>\n",
              "      <td>NaN</td>\n",
              "    </tr>\n",
              "  </tbody>\n",
              "</table>\n",
              "</div>"
            ],
            "text/plain": [
              "   Data As Of  Start Date  ... Pneumonia, Influenza, or COVID-19 Deaths Footnote\n",
              "0  07/07/2021  01/01/2020  ...                                 843136.0      NaN\n",
              "1  07/07/2021  01/01/2020  ...                                    391.0      NaN\n",
              "2  07/07/2021  01/01/2020  ...                                   1253.0      NaN\n",
              "3  07/07/2021  01/01/2020  ...                                    258.0      NaN\n",
              "4  07/07/2021  01/01/2020  ...                                    397.0      NaN\n",
              "\n",
              "[5 rows x 16 columns]"
            ]
          },
          "metadata": {
            "tags": []
          },
          "execution_count": 36
        }
      ]
    },
    {
      "cell_type": "code",
      "metadata": {
        "id": "2cHPYgPEzHYW",
        "colab": {
          "base_uri": "https://localhost:8080/"
        },
        "outputId": "8fab370d-b3c9-4db3-aed0-8eeccfd905dc"
      },
      "source": [
        "# Determine the number of unique values in each column\n",
        "# Step 2\n",
        "application_df.nunique()"
      ],
      "execution_count": 37,
      "outputs": [
        {
          "output_type": "execute_result",
          "data": {
            "text/plain": [
              "Data As Of                                     1\n",
              "Start Date                                    19\n",
              "End Date                                      19\n",
              "Group                                          3\n",
              "Year                                           2\n",
              "Month                                         12\n",
              "State                                         54\n",
              "Sex                                            3\n",
              "Age Group                                     17\n",
              "COVID-19 Deaths                             2533\n",
              "Total Deaths                                6672\n",
              "Pneumonia Deaths                            2396\n",
              "Pneumonia and COVID-19 Deaths               1836\n",
              "Influenza Deaths                             325\n",
              "Pneumonia, Influenza, or COVID-19 Deaths    2963\n",
              "Footnote                                       1\n",
              "dtype: int64"
            ]
          },
          "metadata": {
            "tags": []
          },
          "execution_count": 37
        }
      ]
    },
    {
      "cell_type": "code",
      "metadata": {
        "colab": {
          "base_uri": "https://localhost:8080/"
        },
        "id": "f1RziONpCeZC",
        "outputId": "dd0f672f-6445-409a-d2fd-1782d090e02c"
      },
      "source": [
        "# Step 3\n",
        "application_df.shape"
      ],
      "execution_count": 39,
      "outputs": [
        {
          "output_type": "execute_result",
          "data": {
            "text/plain": [
              "(60588, 16)"
            ]
          },
          "metadata": {
            "tags": []
          },
          "execution_count": 39
        }
      ]
    },
    {
      "cell_type": "code",
      "metadata": {
        "id": "Ei_yKjGFDn2v"
      },
      "source": [
        "# Step 4\n",
        "new_Provisional_COVID_Deaths_by_Sex_and_Age_df=application_df[[\"Data As Of\",\"Start Date\",\"End Date\",\"Group\",\"State\", \"Sex\", \"Age Group\"]]"
      ],
      "execution_count": 40,
      "outputs": []
    },
    {
      "cell_type": "code",
      "metadata": {
        "colab": {
          "base_uri": "https://localhost:8080/"
        },
        "id": "RFqaDX44PhII",
        "outputId": "ce0a8290-6de9-4473-d2f2-2eecd5e8e93f"
      },
      "source": [
        "# Step 5\n",
        "new_Provisional_COVID_Deaths_by_Sex_and_Age_df.isnull().sum()"
      ],
      "execution_count": 41,
      "outputs": [
        {
          "output_type": "execute_result",
          "data": {
            "text/plain": [
              "Data As Of    0\n",
              "Start Date    0\n",
              "End Date      0\n",
              "Group         0\n",
              "State         0\n",
              "Sex           0\n",
              "Age Group     0\n",
              "dtype: int64"
            ]
          },
          "metadata": {
            "tags": []
          },
          "execution_count": 41
        }
      ]
    },
    {
      "cell_type": "code",
      "metadata": {
        "id": "53gnssqyHNKq",
        "colab": {
          "base_uri": "https://localhost:8080/"
        },
        "outputId": "77ff10fe-562d-491c-e075-29307b05db98"
      },
      "source": [
        "# Determine the number of unique values in each column\n",
        "# Step 6\n",
        "new_Provisional_COVID_Deaths_by_Sex_and_Age_df.nunique()"
      ],
      "execution_count": 42,
      "outputs": [
        {
          "output_type": "execute_result",
          "data": {
            "text/plain": [
              "Data As Of     1\n",
              "Start Date    19\n",
              "End Date      19\n",
              "Group          3\n",
              "State         54\n",
              "Sex            3\n",
              "Age Group     17\n",
              "dtype: int64"
            ]
          },
          "metadata": {
            "tags": []
          },
          "execution_count": 42
        }
      ]
    },
    {
      "cell_type": "code",
      "metadata": {
        "colab": {
          "base_uri": "https://localhost:8080/"
        },
        "id": "1Hbs07mnBzQG",
        "outputId": "0d3266a0-e2fa-421c-b051-fe962a35ab86"
      },
      "source": [
        "# Step 7\n",
        "new_Provisional_COVID_Deaths_by_Sex_and_Age_df.head"
      ],
      "execution_count": 45,
      "outputs": [
        {
          "output_type": "execute_result",
          "data": {
            "text/plain": [
              "<bound method NDFrame.head of        Data As Of  Start Date  ...        Sex          Age Group\n",
              "0      07/07/2021  01/01/2020  ...  All Sexes           All Ages\n",
              "1      07/07/2021  01/01/2020  ...  All Sexes       Under 1 year\n",
              "2      07/07/2021  01/01/2020  ...  All Sexes         0-17 years\n",
              "3      07/07/2021  01/01/2020  ...  All Sexes          1-4 years\n",
              "4      07/07/2021  01/01/2020  ...  All Sexes         5-14 years\n",
              "...           ...         ...  ...        ...                ...\n",
              "60583  07/07/2021  07/01/2021  ...     Female        50-64 years\n",
              "60584  07/07/2021  07/01/2021  ...     Female        55-64 years\n",
              "60585  07/07/2021  07/01/2021  ...     Female        65-74 years\n",
              "60586  07/07/2021  07/01/2021  ...     Female        75-84 years\n",
              "60587  07/07/2021  07/01/2021  ...     Female  85 years and over\n",
              "\n",
              "[60588 rows x 7 columns]>"
            ]
          },
          "metadata": {
            "tags": []
          },
          "execution_count": 45
        }
      ]
    },
    {
      "cell_type": "code",
      "metadata": {
        "id": "4LlDaEcpHNKv"
      },
      "source": [
        "# Save and export your results to an csv file - Provisional_COVID-19_Deaths_by_Sex_and_Age\n",
        "# File 1\n",
        "# Step 8\n",
        "new_Provisional_COVID_Deaths_by_Sex_and_Age_df.to_csv(\"new_Provisional_COVID_Deaths_by_Sex_and_Age.csv\")"
      ],
      "execution_count": 44,
      "outputs": []
    },
    {
      "cell_type": "code",
      "metadata": {
        "id": "NJZRxBjVHNKp",
        "colab": {
          "base_uri": "https://localhost:8080/",
          "height": 391
        },
        "outputId": "5442b8db-3cb3-4329-c917-5bace58d5101"
      },
      "source": [
        "# Extract from file 2\n",
        "# Step 1\n",
        "app_df = pd.read_csv(\"United_States_COVID-19_Cases_and_Deaths_by_State_over_Time.csv\")\n",
        "app_df.head()"
      ],
      "execution_count": 46,
      "outputs": [
        {
          "output_type": "execute_result",
          "data": {
            "text/html": [
              "<div>\n",
              "<style scoped>\n",
              "    .dataframe tbody tr th:only-of-type {\n",
              "        vertical-align: middle;\n",
              "    }\n",
              "\n",
              "    .dataframe tbody tr th {\n",
              "        vertical-align: top;\n",
              "    }\n",
              "\n",
              "    .dataframe thead th {\n",
              "        text-align: right;\n",
              "    }\n",
              "</style>\n",
              "<table border=\"1\" class=\"dataframe\">\n",
              "  <thead>\n",
              "    <tr style=\"text-align: right;\">\n",
              "      <th></th>\n",
              "      <th>submission_date</th>\n",
              "      <th>state</th>\n",
              "      <th>tot_cases</th>\n",
              "      <th>conf_cases</th>\n",
              "      <th>prob_cases</th>\n",
              "      <th>new_case</th>\n",
              "      <th>pnew_case</th>\n",
              "      <th>tot_death</th>\n",
              "      <th>conf_death</th>\n",
              "      <th>prob_death</th>\n",
              "      <th>new_death</th>\n",
              "      <th>pnew_death</th>\n",
              "      <th>created_at</th>\n",
              "      <th>consent_cases</th>\n",
              "      <th>consent_deaths</th>\n",
              "    </tr>\n",
              "  </thead>\n",
              "  <tbody>\n",
              "    <tr>\n",
              "      <th>0</th>\n",
              "      <td>03/29/2021</td>\n",
              "      <td>TX</td>\n",
              "      <td>2775669</td>\n",
              "      <td>NaN</td>\n",
              "      <td>NaN</td>\n",
              "      <td>3589</td>\n",
              "      <td>1251.0</td>\n",
              "      <td>48628</td>\n",
              "      <td>NaN</td>\n",
              "      <td>NaN</td>\n",
              "      <td>46</td>\n",
              "      <td>0.0</td>\n",
              "      <td>03/31/2021 12:00:00 AM</td>\n",
              "      <td>Not agree</td>\n",
              "      <td>Not agree</td>\n",
              "    </tr>\n",
              "    <tr>\n",
              "      <th>1</th>\n",
              "      <td>07/28/2020</td>\n",
              "      <td>MP</td>\n",
              "      <td>40</td>\n",
              "      <td>40.0</td>\n",
              "      <td>0.0</td>\n",
              "      <td>0</td>\n",
              "      <td>0.0</td>\n",
              "      <td>2</td>\n",
              "      <td>2.0</td>\n",
              "      <td>0.0</td>\n",
              "      <td>0</td>\n",
              "      <td>0.0</td>\n",
              "      <td>07/29/2020 02:34:46 PM</td>\n",
              "      <td>Agree</td>\n",
              "      <td>Agree</td>\n",
              "    </tr>\n",
              "    <tr>\n",
              "      <th>2</th>\n",
              "      <td>08/22/2020</td>\n",
              "      <td>AR</td>\n",
              "      <td>56199</td>\n",
              "      <td>NaN</td>\n",
              "      <td>NaN</td>\n",
              "      <td>547</td>\n",
              "      <td>0.0</td>\n",
              "      <td>674</td>\n",
              "      <td>NaN</td>\n",
              "      <td>NaN</td>\n",
              "      <td>11</td>\n",
              "      <td>0.0</td>\n",
              "      <td>08/23/2020 02:15:28 PM</td>\n",
              "      <td>Not agree</td>\n",
              "      <td>Not agree</td>\n",
              "    </tr>\n",
              "    <tr>\n",
              "      <th>3</th>\n",
              "      <td>05/09/2021</td>\n",
              "      <td>PW</td>\n",
              "      <td>0</td>\n",
              "      <td>NaN</td>\n",
              "      <td>NaN</td>\n",
              "      <td>0</td>\n",
              "      <td>0.0</td>\n",
              "      <td>0</td>\n",
              "      <td>NaN</td>\n",
              "      <td>NaN</td>\n",
              "      <td>0</td>\n",
              "      <td>0.0</td>\n",
              "      <td>05/10/2021 02:15:36 PM</td>\n",
              "      <td>NaN</td>\n",
              "      <td>NaN</td>\n",
              "    </tr>\n",
              "    <tr>\n",
              "      <th>4</th>\n",
              "      <td>08/15/2020</td>\n",
              "      <td>FL</td>\n",
              "      <td>563628</td>\n",
              "      <td>NaN</td>\n",
              "      <td>NaN</td>\n",
              "      <td>6291</td>\n",
              "      <td>120.0</td>\n",
              "      <td>9345</td>\n",
              "      <td>NaN</td>\n",
              "      <td>NaN</td>\n",
              "      <td>204</td>\n",
              "      <td>3.0</td>\n",
              "      <td>08/16/2020 02:57:14 PM</td>\n",
              "      <td>Not agree</td>\n",
              "      <td>Not agree</td>\n",
              "    </tr>\n",
              "  </tbody>\n",
              "</table>\n",
              "</div>"
            ],
            "text/plain": [
              "  submission_date state  ...  consent_cases  consent_deaths\n",
              "0      03/29/2021    TX  ...      Not agree       Not agree\n",
              "1      07/28/2020    MP  ...          Agree           Agree\n",
              "2      08/22/2020    AR  ...      Not agree       Not agree\n",
              "3      05/09/2021    PW  ...            NaN             NaN\n",
              "4      08/15/2020    FL  ...      Not agree       Not agree\n",
              "\n",
              "[5 rows x 15 columns]"
            ]
          },
          "metadata": {
            "tags": []
          },
          "execution_count": 46
        }
      ]
    },
    {
      "cell_type": "code",
      "metadata": {
        "colab": {
          "base_uri": "https://localhost:8080/"
        },
        "id": "V7nyW_V0QMzE",
        "outputId": "1a0597e2-03d1-4cd0-ac6f-746fcffbe639"
      },
      "source": [
        "# Determine the number of unique values in each column\n",
        "# Step 2\n",
        "app_df.nunique()"
      ],
      "execution_count": 55,
      "outputs": [
        {
          "output_type": "execute_result",
          "data": {
            "text/plain": [
              "submission_date      531\n",
              "state                 60\n",
              "tot_cases          23510\n",
              "conf_cases         13043\n",
              "prob_cases          9188\n",
              "new_case            5133\n",
              "pnew_case           1757\n",
              "tot_death          10677\n",
              "conf_death          7822\n",
              "prob_death          2291\n",
              "new_death            444\n",
              "pnew_death           252\n",
              "created_at          1755\n",
              "consent_cases          2\n",
              "consent_deaths         2\n",
              "dtype: int64"
            ]
          },
          "metadata": {
            "tags": []
          },
          "execution_count": 55
        }
      ]
    },
    {
      "cell_type": "code",
      "metadata": {
        "colab": {
          "base_uri": "https://localhost:8080/"
        },
        "id": "Etp1AfhHQQXW",
        "outputId": "f933a6ee-a933-4b8f-8174-d0a7526f0cfd"
      },
      "source": [
        "# Step 3\n",
        "app_df.shape"
      ],
      "execution_count": 56,
      "outputs": [
        {
          "output_type": "execute_result",
          "data": {
            "text/plain": [
              "(31860, 15)"
            ]
          },
          "metadata": {
            "tags": []
          },
          "execution_count": 56
        }
      ]
    },
    {
      "cell_type": "code",
      "metadata": {
        "id": "9gDZiLhNQRKm"
      },
      "source": [
        "# Step 4\n",
        "new_US_COVID_Cases_and_Deaths_by_State_over_Time_df=app_df[[\"submission_date\",\"state\",\"tot_cases\",\"new_case\",\"tot_death\", \"new_death\", \"created_at\"]]\n"
      ],
      "execution_count": 59,
      "outputs": []
    },
    {
      "cell_type": "code",
      "metadata": {
        "colab": {
          "base_uri": "https://localhost:8080/"
        },
        "id": "NN4RQpkLQQCl",
        "outputId": "f4eac0b7-2969-4077-8310-78a26d7939ec"
      },
      "source": [
        "# Step 5\n",
        "new_US_COVID_Cases_and_Deaths_by_State_over_Time_df.isnull().sum()"
      ],
      "execution_count": 60,
      "outputs": [
        {
          "output_type": "execute_result",
          "data": {
            "text/plain": [
              "submission_date    0\n",
              "state              0\n",
              "tot_cases          0\n",
              "new_case           0\n",
              "tot_death          0\n",
              "new_death          0\n",
              "created_at         0\n",
              "dtype: int64"
            ]
          },
          "metadata": {
            "tags": []
          },
          "execution_count": 60
        }
      ]
    },
    {
      "cell_type": "code",
      "metadata": {
        "colab": {
          "base_uri": "https://localhost:8080/"
        },
        "id": "_H_fZkUwQNA3",
        "outputId": "81248f05-635f-4f74-fd0f-e5b9e9a8e0f8"
      },
      "source": [
        "# Determine the number of unique values in each column\n",
        "# Step 6\n",
        "new_US_COVID_Cases_and_Deaths_by_State_over_Time_df.nunique()"
      ],
      "execution_count": 61,
      "outputs": [
        {
          "output_type": "execute_result",
          "data": {
            "text/plain": [
              "submission_date      531\n",
              "state                 60\n",
              "tot_cases          23510\n",
              "new_case            5133\n",
              "tot_death          10677\n",
              "new_death            444\n",
              "created_at          1755\n",
              "dtype: int64"
            ]
          },
          "metadata": {
            "tags": []
          },
          "execution_count": 61
        }
      ]
    },
    {
      "cell_type": "code",
      "metadata": {
        "colab": {
          "base_uri": "https://localhost:8080/"
        },
        "id": "7Zl48dSF-11h",
        "outputId": "cd3e4508-ad3e-4466-ec44-bfec914bcb51"
      },
      "source": [
        "# Step 7\n",
        "new_US_COVID_Cases_and_Deaths_by_State_over_Time_df.head"
      ],
      "execution_count": 62,
      "outputs": [
        {
          "output_type": "execute_result",
          "data": {
            "text/plain": [
              "<bound method NDFrame.head of       submission_date state  ...  new_death              created_at\n",
              "0          03/29/2021    TX  ...         46  03/31/2021 12:00:00 AM\n",
              "1          07/28/2020    MP  ...          0  07/29/2020 02:34:46 PM\n",
              "2          08/22/2020    AR  ...         11  08/23/2020 02:15:28 PM\n",
              "3          05/09/2021    PW  ...          0  05/10/2021 02:15:36 PM\n",
              "4          08/15/2020    FL  ...        204  08/16/2020 02:57:14 PM\n",
              "...               ...   ...  ...        ...                     ...\n",
              "31855      03/08/2020    OH  ...          0  03/26/2020 04:22:39 PM\n",
              "31856      04/30/2021    SD  ...          5  05/01/2021 01:43:22 PM\n",
              "31857      09/09/2020    NM  ...          2  09/11/2020 12:00:00 AM\n",
              "31858      03/10/2021    SD  ...          3  03/11/2021 03:36:21 PM\n",
              "31859      03/13/2021    IA  ...          3  03/14/2021 01:53:25 PM\n",
              "\n",
              "[31860 rows x 7 columns]>"
            ]
          },
          "metadata": {
            "tags": []
          },
          "execution_count": 62
        }
      ]
    },
    {
      "cell_type": "code",
      "metadata": {
        "id": "nqSRBku_PJpn"
      },
      "source": [
        "# Save and export your results to an csv file - United_States_COVID-19_Cases_and_Deaths_by_State_over_Time\n",
        "# File 2\n",
        "# Step 8\n",
        "new_US_COVID_Cases_and_Deaths_by_State_over_Time_df.to_csv(\"new_US_COVID_Cases_and_Deaths_by_State_over_Time.csv\")"
      ],
      "execution_count": 63,
      "outputs": []
    },
    {
      "cell_type": "code",
      "metadata": {
        "colab": {
          "base_uri": "https://localhost:8080/",
          "height": 304
        },
        "id": "EJ_NHiQLQL1d",
        "outputId": "3596cf87-8414-48af-9171-2bf325554130"
      },
      "source": [
        "# Extract from file 3\n",
        "# Step 1\n",
        "df_application = pd.read_csv(\"Conditions_Contributing_to_COVID-19_Deaths__by_State_and_Age.csv\")\n",
        "df_application.head()"
      ],
      "execution_count": 64,
      "outputs": [
        {
          "output_type": "execute_result",
          "data": {
            "text/html": [
              "<div>\n",
              "<style scoped>\n",
              "    .dataframe tbody tr th:only-of-type {\n",
              "        vertical-align: middle;\n",
              "    }\n",
              "\n",
              "    .dataframe tbody tr th {\n",
              "        vertical-align: top;\n",
              "    }\n",
              "\n",
              "    .dataframe thead th {\n",
              "        text-align: right;\n",
              "    }\n",
              "</style>\n",
              "<table border=\"1\" class=\"dataframe\">\n",
              "  <thead>\n",
              "    <tr style=\"text-align: right;\">\n",
              "      <th></th>\n",
              "      <th>Data As Of</th>\n",
              "      <th>Start Date</th>\n",
              "      <th>End Date</th>\n",
              "      <th>Group</th>\n",
              "      <th>Year</th>\n",
              "      <th>Month</th>\n",
              "      <th>State</th>\n",
              "      <th>Condition Group</th>\n",
              "      <th>Condition</th>\n",
              "      <th>ICD10_codes</th>\n",
              "      <th>Age Group</th>\n",
              "      <th>COVID-19 Deaths</th>\n",
              "      <th>Number of Mentions</th>\n",
              "      <th>Flag</th>\n",
              "    </tr>\n",
              "  </thead>\n",
              "  <tbody>\n",
              "    <tr>\n",
              "      <th>0</th>\n",
              "      <td>07/04/2021</td>\n",
              "      <td>01/01/2020</td>\n",
              "      <td>07/03/2021</td>\n",
              "      <td>By Total</td>\n",
              "      <td>NaN</td>\n",
              "      <td>NaN</td>\n",
              "      <td>United States</td>\n",
              "      <td>Respiratory diseases</td>\n",
              "      <td>Influenza and pneumonia</td>\n",
              "      <td>J09-J18</td>\n",
              "      <td>0-24</td>\n",
              "      <td>435.0</td>\n",
              "      <td>453.0</td>\n",
              "      <td>NaN</td>\n",
              "    </tr>\n",
              "    <tr>\n",
              "      <th>1</th>\n",
              "      <td>07/04/2021</td>\n",
              "      <td>01/01/2020</td>\n",
              "      <td>07/03/2021</td>\n",
              "      <td>By Total</td>\n",
              "      <td>NaN</td>\n",
              "      <td>NaN</td>\n",
              "      <td>United States</td>\n",
              "      <td>Respiratory diseases</td>\n",
              "      <td>Influenza and pneumonia</td>\n",
              "      <td>J09-J18</td>\n",
              "      <td>25-34</td>\n",
              "      <td>1969.0</td>\n",
              "      <td>2020.0</td>\n",
              "      <td>NaN</td>\n",
              "    </tr>\n",
              "    <tr>\n",
              "      <th>2</th>\n",
              "      <td>07/04/2021</td>\n",
              "      <td>01/01/2020</td>\n",
              "      <td>07/03/2021</td>\n",
              "      <td>By Total</td>\n",
              "      <td>NaN</td>\n",
              "      <td>NaN</td>\n",
              "      <td>United States</td>\n",
              "      <td>Respiratory diseases</td>\n",
              "      <td>Influenza and pneumonia</td>\n",
              "      <td>J09-J18</td>\n",
              "      <td>35-44</td>\n",
              "      <td>5213.0</td>\n",
              "      <td>5354.0</td>\n",
              "      <td>NaN</td>\n",
              "    </tr>\n",
              "    <tr>\n",
              "      <th>3</th>\n",
              "      <td>07/04/2021</td>\n",
              "      <td>01/01/2020</td>\n",
              "      <td>07/03/2021</td>\n",
              "      <td>By Total</td>\n",
              "      <td>NaN</td>\n",
              "      <td>NaN</td>\n",
              "      <td>United States</td>\n",
              "      <td>Respiratory diseases</td>\n",
              "      <td>Influenza and pneumonia</td>\n",
              "      <td>J09-J18</td>\n",
              "      <td>45-54</td>\n",
              "      <td>15393.0</td>\n",
              "      <td>15843.0</td>\n",
              "      <td>NaN</td>\n",
              "    </tr>\n",
              "    <tr>\n",
              "      <th>4</th>\n",
              "      <td>07/04/2021</td>\n",
              "      <td>01/01/2020</td>\n",
              "      <td>07/03/2021</td>\n",
              "      <td>By Total</td>\n",
              "      <td>NaN</td>\n",
              "      <td>NaN</td>\n",
              "      <td>United States</td>\n",
              "      <td>Respiratory diseases</td>\n",
              "      <td>Influenza and pneumonia</td>\n",
              "      <td>J09-J18</td>\n",
              "      <td>55-64</td>\n",
              "      <td>38824.0</td>\n",
              "      <td>39904.0</td>\n",
              "      <td>NaN</td>\n",
              "    </tr>\n",
              "  </tbody>\n",
              "</table>\n",
              "</div>"
            ],
            "text/plain": [
              "   Data As Of  Start Date    End Date  ... COVID-19 Deaths  Number of Mentions  Flag\n",
              "0  07/04/2021  01/01/2020  07/03/2021  ...           435.0               453.0   NaN\n",
              "1  07/04/2021  01/01/2020  07/03/2021  ...          1969.0              2020.0   NaN\n",
              "2  07/04/2021  01/01/2020  07/03/2021  ...          5213.0              5354.0   NaN\n",
              "3  07/04/2021  01/01/2020  07/03/2021  ...         15393.0             15843.0   NaN\n",
              "4  07/04/2021  01/01/2020  07/03/2021  ...         38824.0             39904.0   NaN\n",
              "\n",
              "[5 rows x 14 columns]"
            ]
          },
          "metadata": {
            "tags": []
          },
          "execution_count": 64
        }
      ]
    },
    {
      "cell_type": "code",
      "metadata": {
        "colab": {
          "base_uri": "https://localhost:8080/"
        },
        "id": "tDDAl6eJQMl5",
        "outputId": "a2c33c47-8462-4f66-c708-f1581b401176"
      },
      "source": [
        "# Determine the number of unique values in each column\n",
        "# Step 2\n",
        "df_application.nunique()"
      ],
      "execution_count": 65,
      "outputs": [
        {
          "output_type": "execute_result",
          "data": {
            "text/plain": [
              "Data As Of               1\n",
              "Start Date              19\n",
              "End Date                19\n",
              "Group                    3\n",
              "Year                     2\n",
              "Month                   12\n",
              "State                   54\n",
              "Condition Group         12\n",
              "Condition               23\n",
              "ICD10_codes             23\n",
              "Age Group               10\n",
              "COVID-19 Deaths       3426\n",
              "Number of Mentions    3561\n",
              "Flag                     1\n",
              "dtype: int64"
            ]
          },
          "metadata": {
            "tags": []
          },
          "execution_count": 65
        }
      ]
    },
    {
      "cell_type": "code",
      "metadata": {
        "colab": {
          "base_uri": "https://localhost:8080/"
        },
        "id": "2vI9jYEjQQhz",
        "outputId": "13eabb97-097a-4431-eddd-21d3c175bbf4"
      },
      "source": [
        "# Step 3\n",
        "df_application.shape"
      ],
      "execution_count": 67,
      "outputs": [
        {
          "output_type": "execute_result",
          "data": {
            "text/plain": [
              "(273240, 14)"
            ]
          },
          "metadata": {
            "tags": []
          },
          "execution_count": 67
        }
      ]
    },
    {
      "cell_type": "code",
      "metadata": {
        "id": "WL8O_05JQRUM"
      },
      "source": [
        "# Step 4\n",
        "new_Conditions_Contributing_COVID_Deaths_by_State_and_Age_df=application_df[[\"Data As Of\",\"Group\", \"State\",\"Age Group\"]]"
      ],
      "execution_count": 73,
      "outputs": []
    },
    {
      "cell_type": "code",
      "metadata": {
        "colab": {
          "base_uri": "https://localhost:8080/"
        },
        "id": "lX_ddeVXSuFB",
        "outputId": "d306824c-45b3-4090-b176-a5b8940f0e88"
      },
      "source": [
        "# Step 5\n",
        "new_Conditions_Contributing_COVID_Deaths_by_State_and_Age_df.isnull().sum()"
      ],
      "execution_count": 74,
      "outputs": [
        {
          "output_type": "execute_result",
          "data": {
            "text/plain": [
              "Data As Of    0\n",
              "Group         0\n",
              "State         0\n",
              "Age Group     0\n",
              "dtype: int64"
            ]
          },
          "metadata": {
            "tags": []
          },
          "execution_count": 74
        }
      ]
    },
    {
      "cell_type": "code",
      "metadata": {
        "colab": {
          "base_uri": "https://localhost:8080/"
        },
        "id": "yQPbE5NvQPRj",
        "outputId": "41605401-972d-4f19-b8e7-e8806b628038"
      },
      "source": [
        "# Determine the number of unique values in each column\n",
        "# Step 7\n",
        "new_Conditions_Contributing_COVID_Deaths_by_State_and_Age_df.nunique()"
      ],
      "execution_count": 75,
      "outputs": [
        {
          "output_type": "execute_result",
          "data": {
            "text/plain": [
              "Data As Of     1\n",
              "Group          3\n",
              "State         54\n",
              "Age Group     17\n",
              "dtype: int64"
            ]
          },
          "metadata": {
            "tags": []
          },
          "execution_count": 75
        }
      ]
    },
    {
      "cell_type": "code",
      "metadata": {
        "colab": {
          "base_uri": "https://localhost:8080/"
        },
        "id": "o8gpiPs7QQNW",
        "outputId": "6ce7923b-dc8f-45e6-fbb5-5e86ff9df8e7"
      },
      "source": [
        "# Step 7\n",
        "new_Conditions_Contributing_COVID_Deaths_by_State_and_Age_df.head"
      ],
      "execution_count": 76,
      "outputs": [
        {
          "output_type": "execute_result",
          "data": {
            "text/plain": [
              "<bound method NDFrame.head of        Data As Of     Group          State          Age Group\n",
              "0      07/07/2021  By Total  United States           All Ages\n",
              "1      07/07/2021  By Total  United States       Under 1 year\n",
              "2      07/07/2021  By Total  United States         0-17 years\n",
              "3      07/07/2021  By Total  United States          1-4 years\n",
              "4      07/07/2021  By Total  United States         5-14 years\n",
              "...           ...       ...            ...                ...\n",
              "60583  07/07/2021  By Month    Puerto Rico        50-64 years\n",
              "60584  07/07/2021  By Month    Puerto Rico        55-64 years\n",
              "60585  07/07/2021  By Month    Puerto Rico        65-74 years\n",
              "60586  07/07/2021  By Month    Puerto Rico        75-84 years\n",
              "60587  07/07/2021  By Month    Puerto Rico  85 years and over\n",
              "\n",
              "[60588 rows x 4 columns]>"
            ]
          },
          "metadata": {
            "tags": []
          },
          "execution_count": 76
        }
      ]
    },
    {
      "cell_type": "code",
      "metadata": {
        "id": "E5OTwKMdQiTW"
      },
      "source": [
        "# Save and export your results to an csv file - Conditions_Contributing_to_COVID-19_Deaths__by_State_and_Age\n",
        "# File 3\n",
        "# Step 8\n",
        "new_Conditions_Contributing_COVID_Deaths_by_State_and_Age_df.to_csv(\"new_Conditions_Contributing_COVID_Deaths_by_State_and_Age.csv\")"
      ],
      "execution_count": 77,
      "outputs": []
    },
    {
      "cell_type": "code",
      "metadata": {
        "id": "VjnlG61ySvIa"
      },
      "source": [
        ""
      ],
      "execution_count": null,
      "outputs": []
    }
  ]
}
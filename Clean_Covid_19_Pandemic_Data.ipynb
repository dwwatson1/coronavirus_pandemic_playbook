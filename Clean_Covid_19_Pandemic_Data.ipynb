{
  "nbformat": 4,
  "nbformat_minor": 0,
  "metadata": {
    "kernelspec": {
      "display_name": "Python 3",
      "language": "python",
      "name": "python3"
    },
    "language_info": {
      "codemirror_mode": {
        "name": "ipython",
        "version": 3
      },
      "file_extension": ".py",
      "mimetype": "text/x-python",
      "name": "python",
      "nbconvert_exporter": "python",
      "pygments_lexer": "ipython3",
      "version": "3.8.5"
    },
    "colab": {
      "name": "Clean_Covid_19_Pandemic_Data.ipynb",
      "provenance": [],
      "include_colab_link": true
    }
  },
  "cells": [
    {
      "cell_type": "markdown",
      "metadata": {
        "id": "view-in-github",
        "colab_type": "text"
      },
      "source": [
        "<a href=\"https://colab.research.google.com/github/dwwatson1/coronavirus_pandemic_playbook/blob/Dinah_work/Clean_Covid_19_Pandemic_Data.ipynb\" target=\"_parent\"><img src=\"https://colab.research.google.com/assets/colab-badge.svg\" alt=\"Open In Colab\"/></a>"
      ]
    },
    {
      "cell_type": "markdown",
      "metadata": {
        "id": "rKQf7yvaHNKn"
      },
      "source": [
        "### Deliverable 1"
      ]
    },
    {
      "cell_type": "code",
      "metadata": {
        "id": "Vdcyz3aTHNKo"
      },
      "source": [
        "# Import our dependencies\n",
        "from sklearn.model_selection import train_test_split\n",
        "from sklearn.preprocessing import StandardScaler,OneHotEncoder\n",
        "import pandas as pd\n",
        "import numpy as np\n",
        "import tensorflow as tf\n",
        "import os"
      ],
      "execution_count": null,
      "outputs": []
    },
    {
      "cell_type": "code",
      "metadata": {
        "id": "I6LWveSzkM3q",
        "colab": {
          "base_uri": "https://localhost:8080/",
          "height": 304
        },
        "outputId": "98065dc8-beb1-4b40-97b7-618e7cced2f7"
      },
      "source": [
        "# Extract from file 1\n",
        "# Step 1\n",
        "application_df = pd.read_csv(\"Provisional_COVID-19_Deaths_by_Sex_and_Age.csv\")\n",
        "application_df.head()"
      ],
      "execution_count": null,
      "outputs": [
        {
          "output_type": "execute_result",
          "data": {
            "text/html": [
              "<div>\n",
              "<style scoped>\n",
              "    .dataframe tbody tr th:only-of-type {\n",
              "        vertical-align: middle;\n",
              "    }\n",
              "\n",
              "    .dataframe tbody tr th {\n",
              "        vertical-align: top;\n",
              "    }\n",
              "\n",
              "    .dataframe thead th {\n",
              "        text-align: right;\n",
              "    }\n",
              "</style>\n",
              "<table border=\"1\" class=\"dataframe\">\n",
              "  <thead>\n",
              "    <tr style=\"text-align: right;\">\n",
              "      <th></th>\n",
              "      <th>Data As Of</th>\n",
              "      <th>Start Date</th>\n",
              "      <th>End Date</th>\n",
              "      <th>Group</th>\n",
              "      <th>Year</th>\n",
              "      <th>Month</th>\n",
              "      <th>State</th>\n",
              "      <th>Sex</th>\n",
              "      <th>Age Group</th>\n",
              "      <th>COVID-19 Deaths</th>\n",
              "      <th>Total Deaths</th>\n",
              "      <th>Pneumonia Deaths</th>\n",
              "      <th>Pneumonia and COVID-19 Deaths</th>\n",
              "      <th>Influenza Deaths</th>\n",
              "      <th>Pneumonia, Influenza, or COVID-19 Deaths</th>\n",
              "      <th>Footnote</th>\n",
              "    </tr>\n",
              "  </thead>\n",
              "  <tbody>\n",
              "    <tr>\n",
              "      <th>0</th>\n",
              "      <td>07/07/2021</td>\n",
              "      <td>01/01/2020</td>\n",
              "      <td>07/03/2021</td>\n",
              "      <td>By Total</td>\n",
              "      <td>NaN</td>\n",
              "      <td>NaN</td>\n",
              "      <td>United States</td>\n",
              "      <td>All Sexes</td>\n",
              "      <td>All Ages</td>\n",
              "      <td>596740.0</td>\n",
              "      <td>4952380.0</td>\n",
              "      <td>531528.0</td>\n",
              "      <td>293034.0</td>\n",
              "      <td>9189.0</td>\n",
              "      <td>843136.0</td>\n",
              "      <td>NaN</td>\n",
              "    </tr>\n",
              "    <tr>\n",
              "      <th>1</th>\n",
              "      <td>07/07/2021</td>\n",
              "      <td>01/01/2020</td>\n",
              "      <td>07/03/2021</td>\n",
              "      <td>By Total</td>\n",
              "      <td>NaN</td>\n",
              "      <td>NaN</td>\n",
              "      <td>United States</td>\n",
              "      <td>All Sexes</td>\n",
              "      <td>Under 1 year</td>\n",
              "      <td>82.0</td>\n",
              "      <td>27948.0</td>\n",
              "      <td>299.0</td>\n",
              "      <td>12.0</td>\n",
              "      <td>22.0</td>\n",
              "      <td>391.0</td>\n",
              "      <td>NaN</td>\n",
              "    </tr>\n",
              "    <tr>\n",
              "      <th>2</th>\n",
              "      <td>07/07/2021</td>\n",
              "      <td>01/01/2020</td>\n",
              "      <td>07/03/2021</td>\n",
              "      <td>By Total</td>\n",
              "      <td>NaN</td>\n",
              "      <td>NaN</td>\n",
              "      <td>United States</td>\n",
              "      <td>All Sexes</td>\n",
              "      <td>0-17 years</td>\n",
              "      <td>331.0</td>\n",
              "      <td>49047.0</td>\n",
              "      <td>801.0</td>\n",
              "      <td>64.0</td>\n",
              "      <td>185.0</td>\n",
              "      <td>1253.0</td>\n",
              "      <td>NaN</td>\n",
              "    </tr>\n",
              "    <tr>\n",
              "      <th>3</th>\n",
              "      <td>07/07/2021</td>\n",
              "      <td>01/01/2020</td>\n",
              "      <td>07/03/2021</td>\n",
              "      <td>By Total</td>\n",
              "      <td>NaN</td>\n",
              "      <td>NaN</td>\n",
              "      <td>United States</td>\n",
              "      <td>All Sexes</td>\n",
              "      <td>1-4 years</td>\n",
              "      <td>38.0</td>\n",
              "      <td>5082.0</td>\n",
              "      <td>162.0</td>\n",
              "      <td>6.0</td>\n",
              "      <td>64.0</td>\n",
              "      <td>258.0</td>\n",
              "      <td>NaN</td>\n",
              "    </tr>\n",
              "    <tr>\n",
              "      <th>4</th>\n",
              "      <td>07/07/2021</td>\n",
              "      <td>01/01/2020</td>\n",
              "      <td>07/03/2021</td>\n",
              "      <td>By Total</td>\n",
              "      <td>NaN</td>\n",
              "      <td>NaN</td>\n",
              "      <td>United States</td>\n",
              "      <td>All Sexes</td>\n",
              "      <td>5-14 years</td>\n",
              "      <td>116.0</td>\n",
              "      <td>8144.0</td>\n",
              "      <td>229.0</td>\n",
              "      <td>26.0</td>\n",
              "      <td>78.0</td>\n",
              "      <td>397.0</td>\n",
              "      <td>NaN</td>\n",
              "    </tr>\n",
              "  </tbody>\n",
              "</table>\n",
              "</div>"
            ],
            "text/plain": [
              "   Data As Of  Start Date  ... Pneumonia, Influenza, or COVID-19 Deaths Footnote\n",
              "0  07/07/2021  01/01/2020  ...                                 843136.0      NaN\n",
              "1  07/07/2021  01/01/2020  ...                                    391.0      NaN\n",
              "2  07/07/2021  01/01/2020  ...                                   1253.0      NaN\n",
              "3  07/07/2021  01/01/2020  ...                                    258.0      NaN\n",
              "4  07/07/2021  01/01/2020  ...                                    397.0      NaN\n",
              "\n",
              "[5 rows x 16 columns]"
            ]
          },
          "metadata": {
            "tags": []
          },
          "execution_count": 55
        }
      ]
    },
    {
      "cell_type": "code",
      "metadata": {
        "id": "2cHPYgPEzHYW",
        "colab": {
          "base_uri": "https://localhost:8080/"
        },
        "outputId": "e7822482-b8c5-43bc-f321-68fd5864fbc0"
      },
      "source": [
        "# Determine the number of unique values in each column\n",
        "# Step 2\n",
        "application_df.nunique()"
      ],
      "execution_count": null,
      "outputs": [
        {
          "output_type": "execute_result",
          "data": {
            "text/plain": [
              "Data As Of                                     1\n",
              "Start Date                                    19\n",
              "End Date                                      19\n",
              "Group                                          3\n",
              "Year                                           2\n",
              "Month                                         12\n",
              "State                                         54\n",
              "Sex                                            3\n",
              "Age Group                                     17\n",
              "COVID-19 Deaths                             2533\n",
              "Total Deaths                                6672\n",
              "Pneumonia Deaths                            2396\n",
              "Pneumonia and COVID-19 Deaths               1836\n",
              "Influenza Deaths                             325\n",
              "Pneumonia, Influenza, or COVID-19 Deaths    2963\n",
              "Footnote                                       1\n",
              "dtype: int64"
            ]
          },
          "metadata": {
            "tags": []
          },
          "execution_count": 56
        }
      ]
    },
    {
      "cell_type": "code",
      "metadata": {
        "colab": {
          "base_uri": "https://localhost:8080/"
        },
        "id": "f1RziONpCeZC",
        "outputId": "5703d348-c80c-47d9-bac0-bb940bcc0a28"
      },
      "source": [
        "# Step 3\n",
        "application_df.shape"
      ],
      "execution_count": null,
      "outputs": [
        {
          "output_type": "execute_result",
          "data": {
            "text/plain": [
              "(60588, 16)"
            ]
          },
          "metadata": {
            "tags": []
          },
          "execution_count": 57
        }
      ]
    },
    {
      "cell_type": "code",
      "metadata": {
        "id": "Ei_yKjGFDn2v"
      },
      "source": [
        "# Step 4\n",
        "new_Provisional_COVID_Deaths_by_Sex_and_Age_df=application_df[[\"Data As Of\",\"Start Date\",\"End Date\",\"Group\",\"State\", \"Sex\", \"Age Group\"]]"
      ],
      "execution_count": null,
      "outputs": []
    },
    {
      "cell_type": "code",
      "metadata": {
        "colab": {
          "base_uri": "https://localhost:8080/"
        },
        "id": "RFqaDX44PhII",
        "outputId": "290657ad-cf07-4976-ee2b-9cc1e9a79fac"
      },
      "source": [
        "# Step 5\n",
        "new_Provisional_COVID_Deaths_by_Sex_and_Age_df.isnull().sum()"
      ],
      "execution_count": null,
      "outputs": [
        {
          "output_type": "execute_result",
          "data": {
            "text/plain": [
              "Data As Of    0\n",
              "Start Date    0\n",
              "End Date      0\n",
              "Group         0\n",
              "State         0\n",
              "Sex           0\n",
              "Age Group     0\n",
              "dtype: int64"
            ]
          },
          "metadata": {
            "tags": []
          },
          "execution_count": 59
        }
      ]
    },
    {
      "cell_type": "code",
      "metadata": {
        "id": "53gnssqyHNKq",
        "colab": {
          "base_uri": "https://localhost:8080/"
        },
        "outputId": "7ca089c6-1eec-4ffb-9ea2-01824c1d6abc"
      },
      "source": [
        "# Determine the number of unique values in each column\n",
        "# Step 6\n",
        "new_Provisional_COVID_Deaths_by_Sex_and_Age_df.nunique()"
      ],
      "execution_count": null,
      "outputs": [
        {
          "output_type": "execute_result",
          "data": {
            "text/plain": [
              "Data As Of     1\n",
              "Start Date    19\n",
              "End Date      19\n",
              "Group          3\n",
              "State         54\n",
              "Sex            3\n",
              "Age Group     17\n",
              "dtype: int64"
            ]
          },
          "metadata": {
            "tags": []
          },
          "execution_count": 60
        }
      ]
    },
    {
      "cell_type": "code",
      "metadata": {
        "colab": {
          "base_uri": "https://localhost:8080/"
        },
        "id": "1Hbs07mnBzQG",
        "outputId": "8ced1da2-40c5-41a3-cd67-340a35e0cf56"
      },
      "source": [
        "# Step 7\n",
        "df_Covid_Sex_Age=new_Provisional_COVID_Deaths_by_Sex_and_Age_df.rename(columns={'Data As Of': 'AsOfDate','Start Date':'StartDate','End Date':'EndDate','Group' : 'Grouping','Age Group':'AgeGroup'}, inplace=False)\n",
        "df_Covid_Sex_Age.head"
      ],
      "execution_count": null,
      "outputs": [
        {
          "output_type": "execute_result",
          "data": {
            "text/plain": [
              "<bound method NDFrame.head of          AsOfDate   StartDate  ...        Sex           AgeGroup\n",
              "0      07/07/2021  01/01/2020  ...  All Sexes           All Ages\n",
              "1      07/07/2021  01/01/2020  ...  All Sexes       Under 1 year\n",
              "2      07/07/2021  01/01/2020  ...  All Sexes         0-17 years\n",
              "3      07/07/2021  01/01/2020  ...  All Sexes          1-4 years\n",
              "4      07/07/2021  01/01/2020  ...  All Sexes         5-14 years\n",
              "...           ...         ...  ...        ...                ...\n",
              "60583  07/07/2021  07/01/2021  ...     Female        50-64 years\n",
              "60584  07/07/2021  07/01/2021  ...     Female        55-64 years\n",
              "60585  07/07/2021  07/01/2021  ...     Female        65-74 years\n",
              "60586  07/07/2021  07/01/2021  ...     Female        75-84 years\n",
              "60587  07/07/2021  07/01/2021  ...     Female  85 years and over\n",
              "\n",
              "[60588 rows x 7 columns]>"
            ]
          },
          "metadata": {
            "tags": []
          },
          "execution_count": 61
        }
      ]
    },
    {
      "cell_type": "code",
      "metadata": {
        "colab": {
          "base_uri": "https://localhost:8080/"
        },
        "id": "BodTMqiyI42R",
        "outputId": "4b1f26fa-c479-417b-b8fd-a4ca59f1105b"
      },
      "source": [
        "# Step 8\n",
        "df_Covid_Sex_Age.nunique()"
      ],
      "execution_count": null,
      "outputs": [
        {
          "output_type": "execute_result",
          "data": {
            "text/plain": [
              "AsOfDate      1\n",
              "StartDate    19\n",
              "EndDate      19\n",
              "Grouping      3\n",
              "State        54\n",
              "Sex           3\n",
              "AgeGroup     17\n",
              "dtype: int64"
            ]
          },
          "metadata": {
            "tags": []
          },
          "execution_count": 62
        }
      ]
    },
    {
      "cell_type": "code",
      "metadata": {
        "id": "4LlDaEcpHNKv"
      },
      "source": [
        "# Save and export your results to an csv file - Provisional_COVID-19_Deaths_by_Sex_and_Age\n",
        "# File 1\n",
        "# Step 9\n",
        "df_Covid_Sex_Age.to_csv(\"COVID_Deaths_by_Sex_and_Age.csv\")"
      ],
      "execution_count": null,
      "outputs": []
    },
    {
      "cell_type": "code",
      "metadata": {
        "id": "NJZRxBjVHNKp",
        "colab": {
          "base_uri": "https://localhost:8080/",
          "height": 287
        },
        "outputId": "9665fecf-9260-4d7d-8095-27859911a3be"
      },
      "source": [
        "# Extract from file 2\n",
        "# Step 1\n",
        "app_df = pd.read_csv(\"United_States_COVID-19_Cases_and_Deaths_by_State_over_Time.csv\")\n",
        "app_df.head()"
      ],
      "execution_count": null,
      "outputs": [
        {
          "output_type": "execute_result",
          "data": {
            "text/html": [
              "<div>\n",
              "<style scoped>\n",
              "    .dataframe tbody tr th:only-of-type {\n",
              "        vertical-align: middle;\n",
              "    }\n",
              "\n",
              "    .dataframe tbody tr th {\n",
              "        vertical-align: top;\n",
              "    }\n",
              "\n",
              "    .dataframe thead th {\n",
              "        text-align: right;\n",
              "    }\n",
              "</style>\n",
              "<table border=\"1\" class=\"dataframe\">\n",
              "  <thead>\n",
              "    <tr style=\"text-align: right;\">\n",
              "      <th></th>\n",
              "      <th>submission_date</th>\n",
              "      <th>state</th>\n",
              "      <th>tot_cases</th>\n",
              "      <th>conf_cases</th>\n",
              "      <th>prob_cases</th>\n",
              "      <th>new_case</th>\n",
              "      <th>pnew_case</th>\n",
              "      <th>tot_death</th>\n",
              "      <th>conf_death</th>\n",
              "      <th>prob_death</th>\n",
              "      <th>new_death</th>\n",
              "      <th>pnew_death</th>\n",
              "      <th>created_at</th>\n",
              "      <th>consent_cases</th>\n",
              "      <th>consent_deaths</th>\n",
              "    </tr>\n",
              "  </thead>\n",
              "  <tbody>\n",
              "    <tr>\n",
              "      <th>0</th>\n",
              "      <td>03/29/2021</td>\n",
              "      <td>TX</td>\n",
              "      <td>2775669</td>\n",
              "      <td>NaN</td>\n",
              "      <td>NaN</td>\n",
              "      <td>3589</td>\n",
              "      <td>1251.0</td>\n",
              "      <td>48628</td>\n",
              "      <td>NaN</td>\n",
              "      <td>NaN</td>\n",
              "      <td>46</td>\n",
              "      <td>0.0</td>\n",
              "      <td>03/31/2021 12:00:00 AM</td>\n",
              "      <td>Not agree</td>\n",
              "      <td>Not agree</td>\n",
              "    </tr>\n",
              "    <tr>\n",
              "      <th>1</th>\n",
              "      <td>07/28/2020</td>\n",
              "      <td>MP</td>\n",
              "      <td>40</td>\n",
              "      <td>40.0</td>\n",
              "      <td>0.0</td>\n",
              "      <td>0</td>\n",
              "      <td>0.0</td>\n",
              "      <td>2</td>\n",
              "      <td>2.0</td>\n",
              "      <td>0.0</td>\n",
              "      <td>0</td>\n",
              "      <td>0.0</td>\n",
              "      <td>07/29/2020 02:34:46 PM</td>\n",
              "      <td>Agree</td>\n",
              "      <td>Agree</td>\n",
              "    </tr>\n",
              "    <tr>\n",
              "      <th>2</th>\n",
              "      <td>08/22/2020</td>\n",
              "      <td>AR</td>\n",
              "      <td>56199</td>\n",
              "      <td>NaN</td>\n",
              "      <td>NaN</td>\n",
              "      <td>547</td>\n",
              "      <td>0.0</td>\n",
              "      <td>674</td>\n",
              "      <td>NaN</td>\n",
              "      <td>NaN</td>\n",
              "      <td>11</td>\n",
              "      <td>0.0</td>\n",
              "      <td>08/23/2020 02:15:28 PM</td>\n",
              "      <td>Not agree</td>\n",
              "      <td>Not agree</td>\n",
              "    </tr>\n",
              "    <tr>\n",
              "      <th>3</th>\n",
              "      <td>05/09/2021</td>\n",
              "      <td>PW</td>\n",
              "      <td>0</td>\n",
              "      <td>NaN</td>\n",
              "      <td>NaN</td>\n",
              "      <td>0</td>\n",
              "      <td>0.0</td>\n",
              "      <td>0</td>\n",
              "      <td>NaN</td>\n",
              "      <td>NaN</td>\n",
              "      <td>0</td>\n",
              "      <td>0.0</td>\n",
              "      <td>05/10/2021 02:15:36 PM</td>\n",
              "      <td>NaN</td>\n",
              "      <td>NaN</td>\n",
              "    </tr>\n",
              "    <tr>\n",
              "      <th>4</th>\n",
              "      <td>08/15/2020</td>\n",
              "      <td>FL</td>\n",
              "      <td>563628</td>\n",
              "      <td>NaN</td>\n",
              "      <td>NaN</td>\n",
              "      <td>6291</td>\n",
              "      <td>120.0</td>\n",
              "      <td>9345</td>\n",
              "      <td>NaN</td>\n",
              "      <td>NaN</td>\n",
              "      <td>204</td>\n",
              "      <td>3.0</td>\n",
              "      <td>08/16/2020 02:57:14 PM</td>\n",
              "      <td>Not agree</td>\n",
              "      <td>Not agree</td>\n",
              "    </tr>\n",
              "  </tbody>\n",
              "</table>\n",
              "</div>"
            ],
            "text/plain": [
              "  submission_date state  ...  consent_cases  consent_deaths\n",
              "0      03/29/2021    TX  ...      Not agree       Not agree\n",
              "1      07/28/2020    MP  ...          Agree           Agree\n",
              "2      08/22/2020    AR  ...      Not agree       Not agree\n",
              "3      05/09/2021    PW  ...            NaN             NaN\n",
              "4      08/15/2020    FL  ...      Not agree       Not agree\n",
              "\n",
              "[5 rows x 15 columns]"
            ]
          },
          "metadata": {
            "tags": []
          },
          "execution_count": 64
        }
      ]
    },
    {
      "cell_type": "code",
      "metadata": {
        "colab": {
          "base_uri": "https://localhost:8080/"
        },
        "id": "V7nyW_V0QMzE",
        "outputId": "b4cb4413-2ca3-4f81-b4fb-3bfc6e01fedc"
      },
      "source": [
        "# Determine the number of unique values in each column\n",
        "# Step 2\n",
        "app_df.nunique()"
      ],
      "execution_count": null,
      "outputs": [
        {
          "output_type": "execute_result",
          "data": {
            "text/plain": [
              "submission_date      531\n",
              "state                 60\n",
              "tot_cases          23510\n",
              "conf_cases         13043\n",
              "prob_cases          9188\n",
              "new_case            5133\n",
              "pnew_case           1757\n",
              "tot_death          10677\n",
              "conf_death          7822\n",
              "prob_death          2291\n",
              "new_death            444\n",
              "pnew_death           252\n",
              "created_at          1755\n",
              "consent_cases          2\n",
              "consent_deaths         2\n",
              "dtype: int64"
            ]
          },
          "metadata": {
            "tags": []
          },
          "execution_count": 65
        }
      ]
    },
    {
      "cell_type": "code",
      "metadata": {
        "colab": {
          "base_uri": "https://localhost:8080/"
        },
        "id": "Etp1AfhHQQXW",
        "outputId": "afe86d3d-c981-40e5-d4fa-24ac4e7be0fe"
      },
      "source": [
        "# Step 3\n",
        "app_df.shape"
      ],
      "execution_count": null,
      "outputs": [
        {
          "output_type": "execute_result",
          "data": {
            "text/plain": [
              "(31860, 15)"
            ]
          },
          "metadata": {
            "tags": []
          },
          "execution_count": 66
        }
      ]
    },
    {
      "cell_type": "code",
      "metadata": {
        "id": "9gDZiLhNQRKm"
      },
      "source": [
        "# Step 4\n",
        "new_US_COVID_Cases_and_Deaths_by_State_over_Time_df=app_df[[\"submission_date\",\"state\",\"tot_cases\",\"new_case\",\"tot_death\", \"new_death\", \"created_at\"]]\n"
      ],
      "execution_count": null,
      "outputs": []
    },
    {
      "cell_type": "code",
      "metadata": {
        "colab": {
          "base_uri": "https://localhost:8080/"
        },
        "id": "NN4RQpkLQQCl",
        "outputId": "cc64aa31-e196-4683-ac68-b90f74265db3"
      },
      "source": [
        "# Step 5\n",
        "new_US_COVID_Cases_and_Deaths_by_State_over_Time_df.isnull().sum()"
      ],
      "execution_count": null,
      "outputs": [
        {
          "output_type": "execute_result",
          "data": {
            "text/plain": [
              "submission_date    0\n",
              "state              0\n",
              "tot_cases          0\n",
              "new_case           0\n",
              "tot_death          0\n",
              "new_death          0\n",
              "created_at         0\n",
              "dtype: int64"
            ]
          },
          "metadata": {
            "tags": []
          },
          "execution_count": 68
        }
      ]
    },
    {
      "cell_type": "code",
      "metadata": {
        "colab": {
          "base_uri": "https://localhost:8080/"
        },
        "id": "_H_fZkUwQNA3",
        "outputId": "46caf491-58d6-47b7-e40d-de2ee395dad7"
      },
      "source": [
        "# Determine the number of unique values in each column\n",
        "# Step 6\n",
        "new_US_COVID_Cases_and_Deaths_by_State_over_Time_df.nunique()"
      ],
      "execution_count": null,
      "outputs": [
        {
          "output_type": "execute_result",
          "data": {
            "text/plain": [
              "submission_date      531\n",
              "state                 60\n",
              "tot_cases          23510\n",
              "new_case            5133\n",
              "tot_death          10677\n",
              "new_death            444\n",
              "created_at          1755\n",
              "dtype: int64"
            ]
          },
          "metadata": {
            "tags": []
          },
          "execution_count": 69
        }
      ]
    },
    {
      "cell_type": "code",
      "metadata": {
        "colab": {
          "base_uri": "https://localhost:8080/"
        },
        "id": "7Zl48dSF-11h",
        "outputId": "50dd5b98-1170-4d12-edb4-63c4aad3d968"
      },
      "source": [
        "# Step 7\n",
        "df_COVID_Cases_Deaths_by_State=new_US_COVID_Cases_and_Deaths_by_State_over_Time_df.rename(columns={'submission_date': 'AsOfDate'}, inplace=False)\n",
        "df_COVID_Cases_Deaths_by_State.head"
      ],
      "execution_count": null,
      "outputs": [
        {
          "output_type": "execute_result",
          "data": {
            "text/plain": [
              "<bound method NDFrame.head of          AsOfDate state  ...  new_death              created_at\n",
              "0      03/29/2021    TX  ...         46  03/31/2021 12:00:00 AM\n",
              "1      07/28/2020    MP  ...          0  07/29/2020 02:34:46 PM\n",
              "2      08/22/2020    AR  ...         11  08/23/2020 02:15:28 PM\n",
              "3      05/09/2021    PW  ...          0  05/10/2021 02:15:36 PM\n",
              "4      08/15/2020    FL  ...        204  08/16/2020 02:57:14 PM\n",
              "...           ...   ...  ...        ...                     ...\n",
              "31855  03/08/2020    OH  ...          0  03/26/2020 04:22:39 PM\n",
              "31856  04/30/2021    SD  ...          5  05/01/2021 01:43:22 PM\n",
              "31857  09/09/2020    NM  ...          2  09/11/2020 12:00:00 AM\n",
              "31858  03/10/2021    SD  ...          3  03/11/2021 03:36:21 PM\n",
              "31859  03/13/2021    IA  ...          3  03/14/2021 01:53:25 PM\n",
              "\n",
              "[31860 rows x 7 columns]>"
            ]
          },
          "metadata": {
            "tags": []
          },
          "execution_count": 70
        }
      ]
    },
    {
      "cell_type": "code",
      "metadata": {
        "colab": {
          "base_uri": "https://localhost:8080/"
        },
        "id": "8sH1VsoIIPlc",
        "outputId": "2c788166-ffff-413a-8fac-8e5205218102"
      },
      "source": [
        "# Step 8\n",
        "df_COVID_Cases_Deaths_by_State.nunique()"
      ],
      "execution_count": null,
      "outputs": [
        {
          "output_type": "execute_result",
          "data": {
            "text/plain": [
              "AsOfDate        531\n",
              "state            60\n",
              "tot_cases     23510\n",
              "new_case       5133\n",
              "tot_death     10677\n",
              "new_death       444\n",
              "created_at     1755\n",
              "dtype: int64"
            ]
          },
          "metadata": {
            "tags": []
          },
          "execution_count": 71
        }
      ]
    },
    {
      "cell_type": "code",
      "metadata": {
        "id": "nqSRBku_PJpn"
      },
      "source": [
        "# Save and export your results to an csv file - United_States_COVID-19_Cases_and_Deaths_by_State_over_Time\n",
        "# File 2\n",
        "# Step 9\n",
        "df_COVID_Cases_Deaths_by_State.to_csv(\"COVID_Cases_Deaths_by_State.csv\")"
      ],
      "execution_count": null,
      "outputs": []
    },
    {
      "cell_type": "code",
      "metadata": {
        "colab": {
          "base_uri": "https://localhost:8080/",
          "height": 203
        },
        "id": "EJ_NHiQLQL1d",
        "outputId": "8a93abb0-49e7-4125-8be7-a68714cfb969"
      },
      "source": [
        "# Extract from file 3\n",
        "# Step 1\n",
        "df_application = pd.read_csv(\"Conditions_Contributing_to_COVID-19_Deaths__by_State_and_Age.csv\")\n",
        "df_application.head()"
      ],
      "execution_count": null,
      "outputs": [
        {
          "output_type": "execute_result",
          "data": {
            "text/html": [
              "<div>\n",
              "<style scoped>\n",
              "    .dataframe tbody tr th:only-of-type {\n",
              "        vertical-align: middle;\n",
              "    }\n",
              "\n",
              "    .dataframe tbody tr th {\n",
              "        vertical-align: top;\n",
              "    }\n",
              "\n",
              "    .dataframe thead th {\n",
              "        text-align: right;\n",
              "    }\n",
              "</style>\n",
              "<table border=\"1\" class=\"dataframe\">\n",
              "  <thead>\n",
              "    <tr style=\"text-align: right;\">\n",
              "      <th></th>\n",
              "      <th>Data As Of</th>\n",
              "      <th>Start Date</th>\n",
              "      <th>End Date</th>\n",
              "      <th>Group</th>\n",
              "      <th>Year</th>\n",
              "      <th>Month</th>\n",
              "      <th>State</th>\n",
              "      <th>Condition Group</th>\n",
              "      <th>Condition</th>\n",
              "      <th>ICD10_codes</th>\n",
              "      <th>Age Group</th>\n",
              "      <th>COVID-19 Deaths</th>\n",
              "      <th>Number of Mentions</th>\n",
              "      <th>Flag</th>\n",
              "    </tr>\n",
              "  </thead>\n",
              "  <tbody>\n",
              "    <tr>\n",
              "      <th>0</th>\n",
              "      <td>07/04/2021</td>\n",
              "      <td>01/01/2020</td>\n",
              "      <td>07/03/2021</td>\n",
              "      <td>By Total</td>\n",
              "      <td>NaN</td>\n",
              "      <td>NaN</td>\n",
              "      <td>United States</td>\n",
              "      <td>Respiratory diseases</td>\n",
              "      <td>Influenza and pneumonia</td>\n",
              "      <td>J09-J18</td>\n",
              "      <td>0-24</td>\n",
              "      <td>435.0</td>\n",
              "      <td>453.0</td>\n",
              "      <td>NaN</td>\n",
              "    </tr>\n",
              "    <tr>\n",
              "      <th>1</th>\n",
              "      <td>07/04/2021</td>\n",
              "      <td>01/01/2020</td>\n",
              "      <td>07/03/2021</td>\n",
              "      <td>By Total</td>\n",
              "      <td>NaN</td>\n",
              "      <td>NaN</td>\n",
              "      <td>United States</td>\n",
              "      <td>Respiratory diseases</td>\n",
              "      <td>Influenza and pneumonia</td>\n",
              "      <td>J09-J18</td>\n",
              "      <td>25-34</td>\n",
              "      <td>1969.0</td>\n",
              "      <td>2020.0</td>\n",
              "      <td>NaN</td>\n",
              "    </tr>\n",
              "    <tr>\n",
              "      <th>2</th>\n",
              "      <td>07/04/2021</td>\n",
              "      <td>01/01/2020</td>\n",
              "      <td>07/03/2021</td>\n",
              "      <td>By Total</td>\n",
              "      <td>NaN</td>\n",
              "      <td>NaN</td>\n",
              "      <td>United States</td>\n",
              "      <td>Respiratory diseases</td>\n",
              "      <td>Influenza and pneumonia</td>\n",
              "      <td>J09-J18</td>\n",
              "      <td>35-44</td>\n",
              "      <td>5213.0</td>\n",
              "      <td>5354.0</td>\n",
              "      <td>NaN</td>\n",
              "    </tr>\n",
              "    <tr>\n",
              "      <th>3</th>\n",
              "      <td>07/04/2021</td>\n",
              "      <td>01/01/2020</td>\n",
              "      <td>07/03/2021</td>\n",
              "      <td>By Total</td>\n",
              "      <td>NaN</td>\n",
              "      <td>NaN</td>\n",
              "      <td>United States</td>\n",
              "      <td>Respiratory diseases</td>\n",
              "      <td>Influenza and pneumonia</td>\n",
              "      <td>J09-J18</td>\n",
              "      <td>45-54</td>\n",
              "      <td>15393.0</td>\n",
              "      <td>15843.0</td>\n",
              "      <td>NaN</td>\n",
              "    </tr>\n",
              "    <tr>\n",
              "      <th>4</th>\n",
              "      <td>07/04/2021</td>\n",
              "      <td>01/01/2020</td>\n",
              "      <td>07/03/2021</td>\n",
              "      <td>By Total</td>\n",
              "      <td>NaN</td>\n",
              "      <td>NaN</td>\n",
              "      <td>United States</td>\n",
              "      <td>Respiratory diseases</td>\n",
              "      <td>Influenza and pneumonia</td>\n",
              "      <td>J09-J18</td>\n",
              "      <td>55-64</td>\n",
              "      <td>38824.0</td>\n",
              "      <td>39904.0</td>\n",
              "      <td>NaN</td>\n",
              "    </tr>\n",
              "  </tbody>\n",
              "</table>\n",
              "</div>"
            ],
            "text/plain": [
              "   Data As Of  Start Date    End Date  ... COVID-19 Deaths  Number of Mentions  Flag\n",
              "0  07/04/2021  01/01/2020  07/03/2021  ...           435.0               453.0   NaN\n",
              "1  07/04/2021  01/01/2020  07/03/2021  ...          1969.0              2020.0   NaN\n",
              "2  07/04/2021  01/01/2020  07/03/2021  ...          5213.0              5354.0   NaN\n",
              "3  07/04/2021  01/01/2020  07/03/2021  ...         15393.0             15843.0   NaN\n",
              "4  07/04/2021  01/01/2020  07/03/2021  ...         38824.0             39904.0   NaN\n",
              "\n",
              "[5 rows x 14 columns]"
            ]
          },
          "metadata": {
            "tags": []
          },
          "execution_count": 73
        }
      ]
    },
    {
      "cell_type": "code",
      "metadata": {
        "colab": {
          "base_uri": "https://localhost:8080/"
        },
        "id": "tDDAl6eJQMl5",
        "outputId": "15b8e648-56b2-4349-dde1-c78a96556a57"
      },
      "source": [
        "# Determine the number of unique values in each column\n",
        "# Step 2\n",
        "df_application.nunique()"
      ],
      "execution_count": null,
      "outputs": [
        {
          "output_type": "execute_result",
          "data": {
            "text/plain": [
              "Data As Of               1\n",
              "Start Date              19\n",
              "End Date                19\n",
              "Group                    3\n",
              "Year                     2\n",
              "Month                   12\n",
              "State                   54\n",
              "Condition Group         12\n",
              "Condition               23\n",
              "ICD10_codes             23\n",
              "Age Group               10\n",
              "COVID-19 Deaths       3426\n",
              "Number of Mentions    3561\n",
              "Flag                     1\n",
              "dtype: int64"
            ]
          },
          "metadata": {
            "tags": []
          },
          "execution_count": 74
        }
      ]
    },
    {
      "cell_type": "code",
      "metadata": {
        "colab": {
          "base_uri": "https://localhost:8080/"
        },
        "id": "2vI9jYEjQQhz",
        "outputId": "79e75338-f180-4c63-c442-7718ccb1af48"
      },
      "source": [
        "# Step 3\n",
        "df_application.shape"
      ],
      "execution_count": null,
      "outputs": [
        {
          "output_type": "execute_result",
          "data": {
            "text/plain": [
              "(273240, 14)"
            ]
          },
          "metadata": {
            "tags": []
          },
          "execution_count": 75
        }
      ]
    },
    {
      "cell_type": "code",
      "metadata": {
        "id": "WL8O_05JQRUM"
      },
      "source": [
        "# Step 4\n",
        "new_Conditions_Contributing_COVID_Deaths_by_State_and_Age_df=df_application[[\"Data As Of\",\"Start Date\", \"End Date\",\"Group\", \"State\", \"Condition\", \"Condition Group\", \"Age Group\",\"COVID-19 Deaths\"]]\n"
      ],
      "execution_count": null,
      "outputs": []
    },
    {
      "cell_type": "code",
      "metadata": {
        "colab": {
          "base_uri": "https://localhost:8080/"
        },
        "id": "lX_ddeVXSuFB",
        "outputId": "c8facb8b-2be6-430c-f7b7-6675a08a1131"
      },
      "source": [
        "# Step 5\n",
        "new_Conditions_Contributing_COVID_Deaths_by_State_and_Age_df.isnull().sum()"
      ],
      "execution_count": null,
      "outputs": [
        {
          "output_type": "execute_result",
          "data": {
            "text/plain": [
              "Data As Of             0\n",
              "Start Date             0\n",
              "End Date               0\n",
              "Group                  0\n",
              "State                  0\n",
              "Condition              0\n",
              "Condition Group        0\n",
              "Age Group              0\n",
              "COVID-19 Deaths    69460\n",
              "dtype: int64"
            ]
          },
          "metadata": {
            "tags": []
          },
          "execution_count": 77
        }
      ]
    },
    {
      "cell_type": "code",
      "metadata": {
        "colab": {
          "base_uri": "https://localhost:8080/"
        },
        "id": "yQPbE5NvQPRj",
        "outputId": "c700a05e-f09f-46b5-a030-5ce6266962fa"
      },
      "source": [
        "# Determine the number of unique values in each column\n",
        "# Step 6\n",
        "new_Conditions_Contributing_COVID_Deaths_by_State_and_Age_df.nunique()"
      ],
      "execution_count": null,
      "outputs": [
        {
          "output_type": "execute_result",
          "data": {
            "text/plain": [
              "Data As Of            1\n",
              "Start Date           19\n",
              "End Date             19\n",
              "Group                 3\n",
              "State                54\n",
              "Condition            23\n",
              "Condition Group      12\n",
              "Age Group            10\n",
              "COVID-19 Deaths    3426\n",
              "dtype: int64"
            ]
          },
          "metadata": {
            "tags": []
          },
          "execution_count": 78
        }
      ]
    },
    {
      "cell_type": "code",
      "metadata": {
        "colab": {
          "base_uri": "https://localhost:8080/"
        },
        "id": "o8gpiPs7QQNW",
        "outputId": "97376036-f1ae-48cf-b8cb-f5891b7590bd"
      },
      "source": [
        "# Step 7\n",
        "df_Covid_Contributing_Deaths=new_Conditions_Contributing_COVID_Deaths_by_State_and_Age_df.rename(columns={'Data As Of': 'AsOfDate','Start Date':'StartDate','End Date':'EndDate', 'Group': 'Grouping','Age Group': 'AgeGroup','Condition Group':'ConditionGroup','COVID-19 Deaths' : 'Deaths'}, inplace=False)\n",
        "df_Covid_Contributing_Deaths.head"
      ],
      "execution_count": null,
      "outputs": [
        {
          "output_type": "execute_result",
          "data": {
            "text/plain": [
              "<bound method NDFrame.head of           AsOfDate   StartDate  ...  AgeGroup   Deaths\n",
              "0       07/04/2021  01/01/2020  ...      0-24    435.0\n",
              "1       07/04/2021  01/01/2020  ...     25-34   1969.0\n",
              "2       07/04/2021  01/01/2020  ...     35-44   5213.0\n",
              "3       07/04/2021  01/01/2020  ...     45-54  15393.0\n",
              "4       07/04/2021  01/01/2020  ...     55-64  38824.0\n",
              "...            ...         ...  ...       ...      ...\n",
              "273235  07/04/2021  03/01/2021  ...  All Ages     69.0\n",
              "273236  07/04/2021  04/01/2021  ...  All Ages    196.0\n",
              "273237  07/04/2021  05/01/2021  ...  All Ages    177.0\n",
              "273238  07/04/2021  06/01/2021  ...  All Ages     22.0\n",
              "273239  07/04/2021  07/01/2021  ...  All Ages      0.0\n",
              "\n",
              "[273240 rows x 9 columns]>"
            ]
          },
          "metadata": {
            "tags": []
          },
          "execution_count": 82
        }
      ]
    },
    {
      "cell_type": "code",
      "metadata": {
        "id": "VjnlG61ySvIa",
        "colab": {
          "base_uri": "https://localhost:8080/"
        },
        "outputId": "4867ae29-d4f7-42c7-b7d5-ae0097d9f93d"
      },
      "source": [
        "# Step 8\n",
        "df_Covid_Contributing_Deaths.nunique()"
      ],
      "execution_count": null,
      "outputs": [
        {
          "output_type": "execute_result",
          "data": {
            "text/plain": [
              "AsOfDate             1\n",
              "StartDate           19\n",
              "EndDate             19\n",
              "Grouping             3\n",
              "State               54\n",
              "Condition           23\n",
              "ConditionGroup      12\n",
              "AgeGroup            10\n",
              "Deaths            3426\n",
              "dtype: int64"
            ]
          },
          "metadata": {
            "tags": []
          },
          "execution_count": 83
        }
      ]
    },
    {
      "cell_type": "code",
      "metadata": {
        "id": "E5OTwKMdQiTW"
      },
      "source": [
        "# Save and export your results to an csv file - Conditions_Contributing_to_COVID-19_Deaths__by_State_and_Age\n",
        "# File 3\n",
        "# Step 9\n",
        "df_Covid_Contributing_Deaths.to_csv(\"COVID_Conditions_Contributing_Deaths.csv\")"
      ],
      "execution_count": null,
      "outputs": []
    },
    {
      "cell_type": "code",
      "metadata": {
        "colab": {
          "base_uri": "https://localhost:8080/",
          "height": 324
        },
        "id": "FOnApBpcvrxF",
        "outputId": "bd7276a3-7aa0-47d5-c560-2c037a50f977"
      },
      "source": [
        "# Extract from file 4\n",
        "# Step 1\n",
        "df_app = pd.read_csv(\"cdc_database_cleaned.csv\")\n",
        "df_app.head()"
      ],
      "execution_count": null,
      "outputs": [
        {
          "output_type": "execute_result",
          "data": {
            "text/html": [
              "<div>\n",
              "<style scoped>\n",
              "    .dataframe tbody tr th:only-of-type {\n",
              "        vertical-align: middle;\n",
              "    }\n",
              "\n",
              "    .dataframe tbody tr th {\n",
              "        vertical-align: top;\n",
              "    }\n",
              "\n",
              "    .dataframe thead th {\n",
              "        text-align: right;\n",
              "    }\n",
              "</style>\n",
              "<table border=\"1\" class=\"dataframe\">\n",
              "  <thead>\n",
              "    <tr style=\"text-align: right;\">\n",
              "      <th></th>\n",
              "      <th>Unnamed: 0</th>\n",
              "      <th>case_month</th>\n",
              "      <th>res_state</th>\n",
              "      <th>state_fips_code</th>\n",
              "      <th>res_county</th>\n",
              "      <th>county_fips_code</th>\n",
              "      <th>age_group</th>\n",
              "      <th>sex</th>\n",
              "      <th>race</th>\n",
              "      <th>ethnicity</th>\n",
              "      <th>exposure_yn</th>\n",
              "      <th>current_status</th>\n",
              "      <th>symptom_status</th>\n",
              "      <th>hosp_yn</th>\n",
              "      <th>icu_yn</th>\n",
              "      <th>death_yn</th>\n",
              "      <th>underlying_conditions_yn</th>\n",
              "    </tr>\n",
              "  </thead>\n",
              "  <tbody>\n",
              "    <tr>\n",
              "      <th>0</th>\n",
              "      <td>0</td>\n",
              "      <td>2020-04</td>\n",
              "      <td>PA</td>\n",
              "      <td>42</td>\n",
              "      <td>LEHIGH</td>\n",
              "      <td>42077.0</td>\n",
              "      <td>18 to 49 years</td>\n",
              "      <td>Female</td>\n",
              "      <td>Black</td>\n",
              "      <td>Hispanic/Latino</td>\n",
              "      <td>Yes</td>\n",
              "      <td>Laboratory-confirmed case</td>\n",
              "      <td>Symptomatic</td>\n",
              "      <td>No</td>\n",
              "      <td>No</td>\n",
              "      <td>No</td>\n",
              "      <td>Yes</td>\n",
              "    </tr>\n",
              "    <tr>\n",
              "      <th>1</th>\n",
              "      <td>1</td>\n",
              "      <td>2020-11</td>\n",
              "      <td>PA</td>\n",
              "      <td>42</td>\n",
              "      <td>LUZERNE</td>\n",
              "      <td>42079.0</td>\n",
              "      <td>18 to 49 years</td>\n",
              "      <td>Female</td>\n",
              "      <td>White</td>\n",
              "      <td>Hispanic/Latino</td>\n",
              "      <td>Yes</td>\n",
              "      <td>Laboratory-confirmed case</td>\n",
              "      <td>Symptomatic</td>\n",
              "      <td>No</td>\n",
              "      <td>No</td>\n",
              "      <td>No</td>\n",
              "      <td>Yes</td>\n",
              "    </tr>\n",
              "    <tr>\n",
              "      <th>2</th>\n",
              "      <td>2</td>\n",
              "      <td>2020-06</td>\n",
              "      <td>KS</td>\n",
              "      <td>20</td>\n",
              "      <td>SHAWNEE</td>\n",
              "      <td>20177.0</td>\n",
              "      <td>18 to 49 years</td>\n",
              "      <td>Female</td>\n",
              "      <td>White</td>\n",
              "      <td>Hispanic/Latino</td>\n",
              "      <td>Yes</td>\n",
              "      <td>Laboratory-confirmed case</td>\n",
              "      <td>Symptomatic</td>\n",
              "      <td>No</td>\n",
              "      <td>No</td>\n",
              "      <td>No</td>\n",
              "      <td>No</td>\n",
              "    </tr>\n",
              "    <tr>\n",
              "      <th>3</th>\n",
              "      <td>3</td>\n",
              "      <td>2020-12</td>\n",
              "      <td>NV</td>\n",
              "      <td>32</td>\n",
              "      <td>CLARK</td>\n",
              "      <td>32003.0</td>\n",
              "      <td>18 to 49 years</td>\n",
              "      <td>Male</td>\n",
              "      <td>Asian</td>\n",
              "      <td>Hispanic/Latino</td>\n",
              "      <td>Yes</td>\n",
              "      <td>Laboratory-confirmed case</td>\n",
              "      <td>Symptomatic</td>\n",
              "      <td>No</td>\n",
              "      <td>No</td>\n",
              "      <td>No</td>\n",
              "      <td>Yes</td>\n",
              "    </tr>\n",
              "    <tr>\n",
              "      <th>4</th>\n",
              "      <td>4</td>\n",
              "      <td>2020-06</td>\n",
              "      <td>KS</td>\n",
              "      <td>20</td>\n",
              "      <td>SHAWNEE</td>\n",
              "      <td>20177.0</td>\n",
              "      <td>18 to 49 years</td>\n",
              "      <td>Female</td>\n",
              "      <td>White</td>\n",
              "      <td>Hispanic/Latino</td>\n",
              "      <td>Yes</td>\n",
              "      <td>Laboratory-confirmed case</td>\n",
              "      <td>Symptomatic</td>\n",
              "      <td>No</td>\n",
              "      <td>No</td>\n",
              "      <td>No</td>\n",
              "      <td>Yes</td>\n",
              "    </tr>\n",
              "  </tbody>\n",
              "</table>\n",
              "</div>"
            ],
            "text/plain": [
              "   Unnamed: 0 case_month res_state  ...  icu_yn death_yn  underlying_conditions_yn\n",
              "0           0    2020-04        PA  ...      No       No                       Yes\n",
              "1           1    2020-11        PA  ...      No       No                       Yes\n",
              "2           2    2020-06        KS  ...      No       No                        No\n",
              "3           3    2020-12        NV  ...      No       No                       Yes\n",
              "4           4    2020-06        KS  ...      No       No                       Yes\n",
              "\n",
              "[5 rows x 17 columns]"
            ]
          },
          "metadata": {
            "tags": []
          },
          "execution_count": 4
        }
      ]
    },
    {
      "cell_type": "code",
      "metadata": {
        "colab": {
          "base_uri": "https://localhost:8080/"
        },
        "id": "LjkmLzXLvxbv",
        "outputId": "1fad2555-3ac1-45ad-ca0c-7ca02baa6027"
      },
      "source": [
        "# Determine the number of unique values in each column\n",
        "# Step 2\n",
        "df_app.nunique()"
      ],
      "execution_count": null,
      "outputs": [
        {
          "output_type": "execute_result",
          "data": {
            "text/plain": [
              "Unnamed: 0                  141944\n",
              "case_month                      10\n",
              "res_state                       41\n",
              "state_fips_code                 30\n",
              "res_county                     393\n",
              "county_fips_code               497\n",
              "age_group                        4\n",
              "sex                              3\n",
              "race                             6\n",
              "ethnicity                        2\n",
              "exposure_yn                      1\n",
              "current_status                   2\n",
              "symptom_status                   3\n",
              "hosp_yn                          2\n",
              "icu_yn                           2\n",
              "death_yn                         2\n",
              "underlying_conditions_yn         2\n",
              "dtype: int64"
            ]
          },
          "metadata": {
            "tags": []
          },
          "execution_count": 5
        }
      ]
    },
    {
      "cell_type": "code",
      "metadata": {
        "colab": {
          "base_uri": "https://localhost:8080/"
        },
        "id": "OI0fQKBvvyQ_",
        "outputId": "180bcd08-cd35-4a33-b660-1b38ae76a289"
      },
      "source": [
        "# Step 3\n",
        "df_app.shape"
      ],
      "execution_count": null,
      "outputs": [
        {
          "output_type": "execute_result",
          "data": {
            "text/plain": [
              "(141944, 17)"
            ]
          },
          "metadata": {
            "tags": []
          },
          "execution_count": 6
        }
      ]
    },
    {
      "cell_type": "code",
      "metadata": {
        "colab": {
          "base_uri": "https://localhost:8080/",
          "height": 354
        },
        "id": "ppUoJH9rvy6k",
        "outputId": "5711519b-0e32-48e2-fa30-9c550583e19e"
      },
      "source": [
        "# Step 4\n",
        "new_cdc_database_df=df_app.drop(columns=[\"unnamed\",\"state_fips_code\",\"res_county\",\"county_fips_code\"], axis=1)"
      ],
      "execution_count": null,
      "outputs": [
        {
          "output_type": "error",
          "ename": "KeyError",
          "evalue": "ignored",
          "traceback": [
            "\u001b[0;31m---------------------------------------------------------------------------\u001b[0m",
            "\u001b[0;31mKeyError\u001b[0m                                  Traceback (most recent call last)",
            "\u001b[0;32m<ipython-input-16-d6290e451411>\u001b[0m in \u001b[0;36m<module>\u001b[0;34m()\u001b[0m\n\u001b[1;32m      1\u001b[0m \u001b[0;31m# Step 4\u001b[0m\u001b[0;34m\u001b[0m\u001b[0;34m\u001b[0m\u001b[0;34m\u001b[0m\u001b[0m\n\u001b[0;32m----> 2\u001b[0;31m \u001b[0mnew_cdc_database_df\u001b[0m\u001b[0;34m=\u001b[0m\u001b[0mdf_app\u001b[0m\u001b[0;34m.\u001b[0m\u001b[0mdrop\u001b[0m\u001b[0;34m(\u001b[0m\u001b[0mcolumns\u001b[0m\u001b[0;34m=\u001b[0m\u001b[0;34m[\u001b[0m\u001b[0;34m\"unnamed\"\u001b[0m\u001b[0;34m,\u001b[0m\u001b[0;34m\"state_fips_code\"\u001b[0m\u001b[0;34m,\u001b[0m\u001b[0;34m\"res_county\"\u001b[0m\u001b[0;34m,\u001b[0m\u001b[0;34m\"county_fips_code\"\u001b[0m\u001b[0;34m]\u001b[0m\u001b[0;34m,\u001b[0m \u001b[0maxis\u001b[0m\u001b[0;34m=\u001b[0m\u001b[0;36m1\u001b[0m\u001b[0;34m)\u001b[0m\u001b[0;34m\u001b[0m\u001b[0;34m\u001b[0m\u001b[0m\n\u001b[0m",
            "\u001b[0;32m/usr/local/lib/python3.7/dist-packages/pandas/core/frame.py\u001b[0m in \u001b[0;36mdrop\u001b[0;34m(self, labels, axis, index, columns, level, inplace, errors)\u001b[0m\n\u001b[1;32m   4172\u001b[0m             \u001b[0mlevel\u001b[0m\u001b[0;34m=\u001b[0m\u001b[0mlevel\u001b[0m\u001b[0;34m,\u001b[0m\u001b[0;34m\u001b[0m\u001b[0;34m\u001b[0m\u001b[0m\n\u001b[1;32m   4173\u001b[0m             \u001b[0minplace\u001b[0m\u001b[0;34m=\u001b[0m\u001b[0minplace\u001b[0m\u001b[0;34m,\u001b[0m\u001b[0;34m\u001b[0m\u001b[0;34m\u001b[0m\u001b[0m\n\u001b[0;32m-> 4174\u001b[0;31m             \u001b[0merrors\u001b[0m\u001b[0;34m=\u001b[0m\u001b[0merrors\u001b[0m\u001b[0;34m,\u001b[0m\u001b[0;34m\u001b[0m\u001b[0;34m\u001b[0m\u001b[0m\n\u001b[0m\u001b[1;32m   4175\u001b[0m         )\n\u001b[1;32m   4176\u001b[0m \u001b[0;34m\u001b[0m\u001b[0m\n",
            "\u001b[0;32m/usr/local/lib/python3.7/dist-packages/pandas/core/generic.py\u001b[0m in \u001b[0;36mdrop\u001b[0;34m(self, labels, axis, index, columns, level, inplace, errors)\u001b[0m\n\u001b[1;32m   3887\u001b[0m         \u001b[0;32mfor\u001b[0m \u001b[0maxis\u001b[0m\u001b[0;34m,\u001b[0m \u001b[0mlabels\u001b[0m \u001b[0;32min\u001b[0m \u001b[0maxes\u001b[0m\u001b[0;34m.\u001b[0m\u001b[0mitems\u001b[0m\u001b[0;34m(\u001b[0m\u001b[0;34m)\u001b[0m\u001b[0;34m:\u001b[0m\u001b[0;34m\u001b[0m\u001b[0;34m\u001b[0m\u001b[0m\n\u001b[1;32m   3888\u001b[0m             \u001b[0;32mif\u001b[0m \u001b[0mlabels\u001b[0m \u001b[0;32mis\u001b[0m \u001b[0;32mnot\u001b[0m \u001b[0;32mNone\u001b[0m\u001b[0;34m:\u001b[0m\u001b[0;34m\u001b[0m\u001b[0;34m\u001b[0m\u001b[0m\n\u001b[0;32m-> 3889\u001b[0;31m                 \u001b[0mobj\u001b[0m \u001b[0;34m=\u001b[0m \u001b[0mobj\u001b[0m\u001b[0;34m.\u001b[0m\u001b[0m_drop_axis\u001b[0m\u001b[0;34m(\u001b[0m\u001b[0mlabels\u001b[0m\u001b[0;34m,\u001b[0m \u001b[0maxis\u001b[0m\u001b[0;34m,\u001b[0m \u001b[0mlevel\u001b[0m\u001b[0;34m=\u001b[0m\u001b[0mlevel\u001b[0m\u001b[0;34m,\u001b[0m \u001b[0merrors\u001b[0m\u001b[0;34m=\u001b[0m\u001b[0merrors\u001b[0m\u001b[0;34m)\u001b[0m\u001b[0;34m\u001b[0m\u001b[0;34m\u001b[0m\u001b[0m\n\u001b[0m\u001b[1;32m   3890\u001b[0m \u001b[0;34m\u001b[0m\u001b[0m\n\u001b[1;32m   3891\u001b[0m         \u001b[0;32mif\u001b[0m \u001b[0minplace\u001b[0m\u001b[0;34m:\u001b[0m\u001b[0;34m\u001b[0m\u001b[0;34m\u001b[0m\u001b[0m\n",
            "\u001b[0;32m/usr/local/lib/python3.7/dist-packages/pandas/core/generic.py\u001b[0m in \u001b[0;36m_drop_axis\u001b[0;34m(self, labels, axis, level, errors)\u001b[0m\n\u001b[1;32m   3921\u001b[0m                 \u001b[0mnew_axis\u001b[0m \u001b[0;34m=\u001b[0m \u001b[0maxis\u001b[0m\u001b[0;34m.\u001b[0m\u001b[0mdrop\u001b[0m\u001b[0;34m(\u001b[0m\u001b[0mlabels\u001b[0m\u001b[0;34m,\u001b[0m \u001b[0mlevel\u001b[0m\u001b[0;34m=\u001b[0m\u001b[0mlevel\u001b[0m\u001b[0;34m,\u001b[0m \u001b[0merrors\u001b[0m\u001b[0;34m=\u001b[0m\u001b[0merrors\u001b[0m\u001b[0;34m)\u001b[0m\u001b[0;34m\u001b[0m\u001b[0;34m\u001b[0m\u001b[0m\n\u001b[1;32m   3922\u001b[0m             \u001b[0;32melse\u001b[0m\u001b[0;34m:\u001b[0m\u001b[0;34m\u001b[0m\u001b[0;34m\u001b[0m\u001b[0m\n\u001b[0;32m-> 3923\u001b[0;31m                 \u001b[0mnew_axis\u001b[0m \u001b[0;34m=\u001b[0m \u001b[0maxis\u001b[0m\u001b[0;34m.\u001b[0m\u001b[0mdrop\u001b[0m\u001b[0;34m(\u001b[0m\u001b[0mlabels\u001b[0m\u001b[0;34m,\u001b[0m \u001b[0merrors\u001b[0m\u001b[0;34m=\u001b[0m\u001b[0merrors\u001b[0m\u001b[0;34m)\u001b[0m\u001b[0;34m\u001b[0m\u001b[0;34m\u001b[0m\u001b[0m\n\u001b[0m\u001b[1;32m   3924\u001b[0m             \u001b[0mresult\u001b[0m \u001b[0;34m=\u001b[0m \u001b[0mself\u001b[0m\u001b[0;34m.\u001b[0m\u001b[0mreindex\u001b[0m\u001b[0;34m(\u001b[0m\u001b[0;34m**\u001b[0m\u001b[0;34m{\u001b[0m\u001b[0maxis_name\u001b[0m\u001b[0;34m:\u001b[0m \u001b[0mnew_axis\u001b[0m\u001b[0;34m}\u001b[0m\u001b[0;34m)\u001b[0m\u001b[0;34m\u001b[0m\u001b[0;34m\u001b[0m\u001b[0m\n\u001b[1;32m   3925\u001b[0m \u001b[0;34m\u001b[0m\u001b[0m\n",
            "\u001b[0;32m/usr/local/lib/python3.7/dist-packages/pandas/core/indexes/base.py\u001b[0m in \u001b[0;36mdrop\u001b[0;34m(self, labels, errors)\u001b[0m\n\u001b[1;32m   5285\u001b[0m         \u001b[0;32mif\u001b[0m \u001b[0mmask\u001b[0m\u001b[0;34m.\u001b[0m\u001b[0many\u001b[0m\u001b[0;34m(\u001b[0m\u001b[0;34m)\u001b[0m\u001b[0;34m:\u001b[0m\u001b[0;34m\u001b[0m\u001b[0;34m\u001b[0m\u001b[0m\n\u001b[1;32m   5286\u001b[0m             \u001b[0;32mif\u001b[0m \u001b[0merrors\u001b[0m \u001b[0;34m!=\u001b[0m \u001b[0;34m\"ignore\"\u001b[0m\u001b[0;34m:\u001b[0m\u001b[0;34m\u001b[0m\u001b[0;34m\u001b[0m\u001b[0m\n\u001b[0;32m-> 5287\u001b[0;31m                 \u001b[0;32mraise\u001b[0m \u001b[0mKeyError\u001b[0m\u001b[0;34m(\u001b[0m\u001b[0;34mf\"{labels[mask]} not found in axis\"\u001b[0m\u001b[0;34m)\u001b[0m\u001b[0;34m\u001b[0m\u001b[0;34m\u001b[0m\u001b[0m\n\u001b[0m\u001b[1;32m   5288\u001b[0m             \u001b[0mindexer\u001b[0m \u001b[0;34m=\u001b[0m \u001b[0mindexer\u001b[0m\u001b[0;34m[\u001b[0m\u001b[0;34m~\u001b[0m\u001b[0mmask\u001b[0m\u001b[0;34m]\u001b[0m\u001b[0;34m\u001b[0m\u001b[0;34m\u001b[0m\u001b[0m\n\u001b[1;32m   5289\u001b[0m         \u001b[0;32mreturn\u001b[0m \u001b[0mself\u001b[0m\u001b[0;34m.\u001b[0m\u001b[0mdelete\u001b[0m\u001b[0;34m(\u001b[0m\u001b[0mindexer\u001b[0m\u001b[0;34m)\u001b[0m\u001b[0;34m\u001b[0m\u001b[0;34m\u001b[0m\u001b[0m\n",
            "\u001b[0;31mKeyError\u001b[0m: \"['unnamed'] not found in axis\""
          ]
        }
      ]
    },
    {
      "cell_type": "code",
      "metadata": {
        "colab": {
          "base_uri": "https://localhost:8080/"
        },
        "id": "RIyeNQp4vz0L",
        "outputId": "3e731325-253f-47bf-fafd-b4d76a2f2b47"
      },
      "source": [
        "# Step 5\n",
        "new_cdc_database_df.isnull().sum()"
      ],
      "execution_count": null,
      "outputs": [
        {
          "output_type": "execute_result",
          "data": {
            "text/plain": [
              "Unnamed: 0                  0\n",
              "case_month                  0\n",
              "res_state                   0\n",
              "age_group                   0\n",
              "sex                         0\n",
              "race                        0\n",
              "ethnicity                   0\n",
              "exposure_yn                 0\n",
              "current_status              0\n",
              "symptom_status              0\n",
              "hosp_yn                     0\n",
              "icu_yn                      0\n",
              "death_yn                    0\n",
              "underlying_conditions_yn    0\n",
              "dtype: int64"
            ]
          },
          "metadata": {
            "tags": []
          },
          "execution_count": 11
        }
      ]
    },
    {
      "cell_type": "code",
      "metadata": {
        "colab": {
          "base_uri": "https://localhost:8080/"
        },
        "id": "wV-MOp5hv0eR",
        "outputId": "4857127d-c7a7-487f-8226-cc229397bb77"
      },
      "source": [
        "# Determine the number of unique values in each column\n",
        "# Step 6\n",
        "new_cdc_database_df.nunique()"
      ],
      "execution_count": null,
      "outputs": [
        {
          "output_type": "execute_result",
          "data": {
            "text/plain": [
              "Unnamed: 0                  141944\n",
              "case_month                      10\n",
              "res_state                       41\n",
              "age_group                        4\n",
              "sex                              3\n",
              "race                             6\n",
              "ethnicity                        2\n",
              "exposure_yn                      1\n",
              "current_status                   2\n",
              "symptom_status                   3\n",
              "hosp_yn                          2\n",
              "icu_yn                           2\n",
              "death_yn                         2\n",
              "underlying_conditions_yn         2\n",
              "dtype: int64"
            ]
          },
          "metadata": {
            "tags": []
          },
          "execution_count": 12
        }
      ]
    },
    {
      "cell_type": "code",
      "metadata": {
        "colab": {
          "base_uri": "https://localhost:8080/"
        },
        "id": "CnU3HCwpv1Ew",
        "outputId": "a33c9244-efc1-46d1-93f4-3ca9acfe98a5"
      },
      "source": [
        "# Step 7\n",
        "df_COVID_cdc_db=new_cdc_database_df.rename(columns={'Data As Of': 'AsOfDate','Start Date':'StartDate','End Date':'EndDate', 'Group': 'Grouping','Age Group': 'AgeGroup','Condition Group':'ConditionGroup','COVID-19 Deaths' : 'Deaths'}, inplace=False)\n",
        "df_COVID_cdc_db.head"
      ],
      "execution_count": null,
      "outputs": [
        {
          "output_type": "execute_result",
          "data": {
            "text/plain": [
              "<bound method NDFrame.head of         Unnamed: 0 case_month  ... death_yn underlying_conditions_yn\n",
              "0                0    2020-04  ...       No                      Yes\n",
              "1                1    2020-11  ...       No                      Yes\n",
              "2                2    2020-06  ...       No                       No\n",
              "3                3    2020-12  ...       No                      Yes\n",
              "4                4    2020-06  ...       No                      Yes\n",
              "...            ...        ...  ...      ...                      ...\n",
              "141939      141939    2020-12  ...      Yes                      Yes\n",
              "141940      141940    2020-11  ...       No                      Yes\n",
              "141941      141941    2020-08  ...       No                       No\n",
              "141942      141942    2020-11  ...       No                       No\n",
              "141943      141943    2020-11  ...       No                       No\n",
              "\n",
              "[141944 rows x 14 columns]>"
            ]
          },
          "metadata": {
            "tags": []
          },
          "execution_count": 13
        }
      ]
    },
    {
      "cell_type": "code",
      "metadata": {
        "colab": {
          "base_uri": "https://localhost:8080/"
        },
        "id": "3MF8W-Ylv12P",
        "outputId": "f3f417f1-60bd-4524-d22e-8d8093baf3c2"
      },
      "source": [
        "# Step 8\n",
        "df_COVID_cdc_db.nunique()"
      ],
      "execution_count": null,
      "outputs": [
        {
          "output_type": "execute_result",
          "data": {
            "text/plain": [
              "Unnamed: 0                  141944\n",
              "case_month                      10\n",
              "res_state                       41\n",
              "age_group                        4\n",
              "sex                              3\n",
              "race                             6\n",
              "ethnicity                        2\n",
              "exposure_yn                      1\n",
              "current_status                   2\n",
              "symptom_status                   3\n",
              "hosp_yn                          2\n",
              "icu_yn                           2\n",
              "death_yn                         2\n",
              "underlying_conditions_yn         2\n",
              "dtype: int64"
            ]
          },
          "metadata": {
            "tags": []
          },
          "execution_count": 14
        }
      ]
    },
    {
      "cell_type": "code",
      "metadata": {
        "id": "ko2kPIdbv6Yh"
      },
      "source": [
        "# Save and export your results to an csv file - Conditions_Contributing_to_COVID-19_Deaths__by_State_and_Age\n",
        "# File 4\n",
        "# Step 9\n",
        "df_COVID_cdc_db.to_csv(\"COVID_CDC_DATA.csv\")"
      ],
      "execution_count": null,
      "outputs": []
    }
  ]
}
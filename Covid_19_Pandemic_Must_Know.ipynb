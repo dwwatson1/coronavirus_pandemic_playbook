{
  "nbformat": 4,
  "nbformat_minor": 0,
  "metadata": {
    "kernelspec": {
      "display_name": "Python 3",
      "language": "python",
      "name": "python3"
    },
    "language_info": {
      "codemirror_mode": {
        "name": "ipython",
        "version": 3
      },
      "file_extension": ".py",
      "mimetype": "text/x-python",
      "name": "python",
      "nbconvert_exporter": "python",
      "pygments_lexer": "ipython3",
      "version": "3.8.5"
    },
    "colab": {
      "name": "Covid_19_Pandemic_Must_Know.ipynb",
      "provenance": [],
      "include_colab_link": true
    }
  },
  "cells": [
    {
      "cell_type": "markdown",
      "metadata": {
        "id": "view-in-github",
        "colab_type": "text"
      },
      "source": [
        "<a href=\"https://colab.research.google.com/github/dwwatson1/coronavirus_pandemic_playbook/blob/Dinah_work/Covid_19_Pandemic_Must_Know.ipynb\" target=\"_parent\"><img src=\"https://colab.research.google.com/assets/colab-badge.svg\" alt=\"Open In Colab\"/></a>"
      ]
    },
    {
      "cell_type": "markdown",
      "metadata": {
        "id": "rKQf7yvaHNKn"
      },
      "source": [
        "### Deliverable 1"
      ]
    },
    {
      "cell_type": "code",
      "metadata": {
        "colab": {
          "base_uri": "https://localhost:8080/",
          "height": 307
        },
        "id": "Vdcyz3aTHNKo",
        "outputId": "2f73be54-2b94-43ed-f9ea-aad1f29ba27f"
      },
      "source": [
        "# Import our dependencies\n",
        "from sklearn.model_selection import train_test_split\n",
        "from sklearn.preprocessing import StandardScaler,OneHotEncoder\n",
        "import pandas as pd\n",
        "import tensorflow as tf\n",
        "\n",
        "#  Import and read the charity_data.csv.\n",
        "import pandas as pd \n",
        "application_df = pd.read_csv(\"all_states_history.csv\")\n",
        "application_df.head()"
      ],
      "execution_count": 28,
      "outputs": [
        {
          "output_type": "execute_result",
          "data": {
            "text/html": [
              "<div>\n",
              "<style scoped>\n",
              "    .dataframe tbody tr th:only-of-type {\n",
              "        vertical-align: middle;\n",
              "    }\n",
              "\n",
              "    .dataframe tbody tr th {\n",
              "        vertical-align: top;\n",
              "    }\n",
              "\n",
              "    .dataframe thead th {\n",
              "        text-align: right;\n",
              "    }\n",
              "</style>\n",
              "<table border=\"1\" class=\"dataframe\">\n",
              "  <thead>\n",
              "    <tr style=\"text-align: right;\">\n",
              "      <th></th>\n",
              "      <th>date</th>\n",
              "      <th>state</th>\n",
              "      <th>death</th>\n",
              "      <th>deathConfirmed</th>\n",
              "      <th>deathIncrease</th>\n",
              "      <th>deathProbable</th>\n",
              "      <th>hospitalized</th>\n",
              "      <th>hospitalizedCumulative</th>\n",
              "      <th>hospitalizedCurrently</th>\n",
              "      <th>hospitalizedIncrease</th>\n",
              "      <th>inIcuCumulative</th>\n",
              "      <th>inIcuCurrently</th>\n",
              "      <th>negative</th>\n",
              "      <th>negativeIncrease</th>\n",
              "      <th>negativeTestsAntibody</th>\n",
              "      <th>negativeTestsPeopleAntibody</th>\n",
              "      <th>negativeTestsViral</th>\n",
              "      <th>onVentilatorCumulative</th>\n",
              "      <th>onVentilatorCurrently</th>\n",
              "      <th>positive</th>\n",
              "      <th>positiveCasesViral</th>\n",
              "      <th>positiveIncrease</th>\n",
              "      <th>positiveScore</th>\n",
              "      <th>positiveTestsAntibody</th>\n",
              "      <th>positiveTestsAntigen</th>\n",
              "      <th>positiveTestsPeopleAntibody</th>\n",
              "      <th>positiveTestsPeopleAntigen</th>\n",
              "      <th>positiveTestsViral</th>\n",
              "      <th>recovered</th>\n",
              "      <th>totalTestEncountersViral</th>\n",
              "      <th>totalTestEncountersViralIncrease</th>\n",
              "      <th>totalTestResults</th>\n",
              "      <th>totalTestResultsIncrease</th>\n",
              "      <th>totalTestsAntibody</th>\n",
              "      <th>totalTestsAntigen</th>\n",
              "      <th>totalTestsPeopleAntibody</th>\n",
              "      <th>totalTestsPeopleAntigen</th>\n",
              "      <th>totalTestsPeopleViral</th>\n",
              "      <th>totalTestsPeopleViralIncrease</th>\n",
              "      <th>totalTestsViral</th>\n",
              "      <th>totalTestsViralIncrease</th>\n",
              "    </tr>\n",
              "  </thead>\n",
              "  <tbody>\n",
              "    <tr>\n",
              "      <th>0</th>\n",
              "      <td>2021-03-07</td>\n",
              "      <td>AK</td>\n",
              "      <td>305.0</td>\n",
              "      <td>NaN</td>\n",
              "      <td>0</td>\n",
              "      <td>NaN</td>\n",
              "      <td>1293.0</td>\n",
              "      <td>1293.0</td>\n",
              "      <td>33.0</td>\n",
              "      <td>0</td>\n",
              "      <td>NaN</td>\n",
              "      <td>NaN</td>\n",
              "      <td>NaN</td>\n",
              "      <td>0</td>\n",
              "      <td>NaN</td>\n",
              "      <td>NaN</td>\n",
              "      <td>1660758.0</td>\n",
              "      <td>NaN</td>\n",
              "      <td>2.0</td>\n",
              "      <td>56886.0</td>\n",
              "      <td>NaN</td>\n",
              "      <td>0</td>\n",
              "      <td>0</td>\n",
              "      <td>NaN</td>\n",
              "      <td>NaN</td>\n",
              "      <td>NaN</td>\n",
              "      <td>NaN</td>\n",
              "      <td>68693.0</td>\n",
              "      <td>NaN</td>\n",
              "      <td>NaN</td>\n",
              "      <td>0</td>\n",
              "      <td>1731628.0</td>\n",
              "      <td>0</td>\n",
              "      <td>NaN</td>\n",
              "      <td>NaN</td>\n",
              "      <td>NaN</td>\n",
              "      <td>NaN</td>\n",
              "      <td>NaN</td>\n",
              "      <td>0</td>\n",
              "      <td>1731628.0</td>\n",
              "      <td>0</td>\n",
              "    </tr>\n",
              "    <tr>\n",
              "      <th>1</th>\n",
              "      <td>2021-03-07</td>\n",
              "      <td>AL</td>\n",
              "      <td>10148.0</td>\n",
              "      <td>7963.0</td>\n",
              "      <td>-1</td>\n",
              "      <td>2185.0</td>\n",
              "      <td>45976.0</td>\n",
              "      <td>45976.0</td>\n",
              "      <td>494.0</td>\n",
              "      <td>0</td>\n",
              "      <td>2676.0</td>\n",
              "      <td>NaN</td>\n",
              "      <td>1931711.0</td>\n",
              "      <td>2087</td>\n",
              "      <td>NaN</td>\n",
              "      <td>NaN</td>\n",
              "      <td>NaN</td>\n",
              "      <td>1515.0</td>\n",
              "      <td>NaN</td>\n",
              "      <td>499819.0</td>\n",
              "      <td>392077.0</td>\n",
              "      <td>408</td>\n",
              "      <td>0</td>\n",
              "      <td>NaN</td>\n",
              "      <td>NaN</td>\n",
              "      <td>NaN</td>\n",
              "      <td>NaN</td>\n",
              "      <td>NaN</td>\n",
              "      <td>295690.0</td>\n",
              "      <td>NaN</td>\n",
              "      <td>0</td>\n",
              "      <td>2323788.0</td>\n",
              "      <td>2347</td>\n",
              "      <td>NaN</td>\n",
              "      <td>NaN</td>\n",
              "      <td>119757.0</td>\n",
              "      <td>NaN</td>\n",
              "      <td>2323788.0</td>\n",
              "      <td>2347</td>\n",
              "      <td>NaN</td>\n",
              "      <td>0</td>\n",
              "    </tr>\n",
              "    <tr>\n",
              "      <th>2</th>\n",
              "      <td>2021-03-07</td>\n",
              "      <td>AR</td>\n",
              "      <td>5319.0</td>\n",
              "      <td>4308.0</td>\n",
              "      <td>22</td>\n",
              "      <td>1011.0</td>\n",
              "      <td>14926.0</td>\n",
              "      <td>14926.0</td>\n",
              "      <td>335.0</td>\n",
              "      <td>11</td>\n",
              "      <td>NaN</td>\n",
              "      <td>141.0</td>\n",
              "      <td>2480716.0</td>\n",
              "      <td>3267</td>\n",
              "      <td>NaN</td>\n",
              "      <td>NaN</td>\n",
              "      <td>2480716.0</td>\n",
              "      <td>1533.0</td>\n",
              "      <td>65.0</td>\n",
              "      <td>324818.0</td>\n",
              "      <td>255726.0</td>\n",
              "      <td>165</td>\n",
              "      <td>0</td>\n",
              "      <td>NaN</td>\n",
              "      <td>NaN</td>\n",
              "      <td>NaN</td>\n",
              "      <td>81803.0</td>\n",
              "      <td>NaN</td>\n",
              "      <td>315517.0</td>\n",
              "      <td>NaN</td>\n",
              "      <td>0</td>\n",
              "      <td>2736442.0</td>\n",
              "      <td>3380</td>\n",
              "      <td>NaN</td>\n",
              "      <td>NaN</td>\n",
              "      <td>NaN</td>\n",
              "      <td>481311.0</td>\n",
              "      <td>NaN</td>\n",
              "      <td>0</td>\n",
              "      <td>2736442.0</td>\n",
              "      <td>3380</td>\n",
              "    </tr>\n",
              "    <tr>\n",
              "      <th>3</th>\n",
              "      <td>2021-03-07</td>\n",
              "      <td>AS</td>\n",
              "      <td>0.0</td>\n",
              "      <td>NaN</td>\n",
              "      <td>0</td>\n",
              "      <td>NaN</td>\n",
              "      <td>NaN</td>\n",
              "      <td>NaN</td>\n",
              "      <td>NaN</td>\n",
              "      <td>0</td>\n",
              "      <td>NaN</td>\n",
              "      <td>NaN</td>\n",
              "      <td>2140.0</td>\n",
              "      <td>0</td>\n",
              "      <td>NaN</td>\n",
              "      <td>NaN</td>\n",
              "      <td>NaN</td>\n",
              "      <td>NaN</td>\n",
              "      <td>NaN</td>\n",
              "      <td>0.0</td>\n",
              "      <td>0.0</td>\n",
              "      <td>0</td>\n",
              "      <td>0</td>\n",
              "      <td>NaN</td>\n",
              "      <td>NaN</td>\n",
              "      <td>NaN</td>\n",
              "      <td>NaN</td>\n",
              "      <td>NaN</td>\n",
              "      <td>NaN</td>\n",
              "      <td>NaN</td>\n",
              "      <td>0</td>\n",
              "      <td>2140.0</td>\n",
              "      <td>0</td>\n",
              "      <td>NaN</td>\n",
              "      <td>NaN</td>\n",
              "      <td>NaN</td>\n",
              "      <td>NaN</td>\n",
              "      <td>NaN</td>\n",
              "      <td>0</td>\n",
              "      <td>2140.0</td>\n",
              "      <td>0</td>\n",
              "    </tr>\n",
              "    <tr>\n",
              "      <th>4</th>\n",
              "      <td>2021-03-07</td>\n",
              "      <td>AZ</td>\n",
              "      <td>16328.0</td>\n",
              "      <td>14403.0</td>\n",
              "      <td>5</td>\n",
              "      <td>1925.0</td>\n",
              "      <td>57907.0</td>\n",
              "      <td>57907.0</td>\n",
              "      <td>963.0</td>\n",
              "      <td>44</td>\n",
              "      <td>NaN</td>\n",
              "      <td>273.0</td>\n",
              "      <td>3073010.0</td>\n",
              "      <td>13678</td>\n",
              "      <td>NaN</td>\n",
              "      <td>NaN</td>\n",
              "      <td>NaN</td>\n",
              "      <td>NaN</td>\n",
              "      <td>143.0</td>\n",
              "      <td>826454.0</td>\n",
              "      <td>769935.0</td>\n",
              "      <td>1335</td>\n",
              "      <td>0</td>\n",
              "      <td>NaN</td>\n",
              "      <td>NaN</td>\n",
              "      <td>NaN</td>\n",
              "      <td>NaN</td>\n",
              "      <td>NaN</td>\n",
              "      <td>NaN</td>\n",
              "      <td>NaN</td>\n",
              "      <td>0</td>\n",
              "      <td>7908105.0</td>\n",
              "      <td>45110</td>\n",
              "      <td>580569.0</td>\n",
              "      <td>NaN</td>\n",
              "      <td>444089.0</td>\n",
              "      <td>NaN</td>\n",
              "      <td>3842945.0</td>\n",
              "      <td>14856</td>\n",
              "      <td>7908105.0</td>\n",
              "      <td>45110</td>\n",
              "    </tr>\n",
              "  </tbody>\n",
              "</table>\n",
              "</div>"
            ],
            "text/plain": [
              "         date state  ...  totalTestsViral  totalTestsViralIncrease\n",
              "0  2021-03-07    AK  ...        1731628.0                        0\n",
              "1  2021-03-07    AL  ...              NaN                        0\n",
              "2  2021-03-07    AR  ...        2736442.0                     3380\n",
              "3  2021-03-07    AS  ...           2140.0                        0\n",
              "4  2021-03-07    AZ  ...        7908105.0                    45110\n",
              "\n",
              "[5 rows x 41 columns]"
            ]
          },
          "metadata": {
            "tags": []
          },
          "execution_count": 28
        }
      ]
    },
    {
      "cell_type": "code",
      "metadata": {
        "id": "NJZRxBjVHNKp",
        "colab": {
          "base_uri": "https://localhost:8080/",
          "height": 307
        },
        "outputId": "fd0f4090-baa8-4f87-d000-2a70e62a9661"
      },
      "source": [
        "# Drop the non-beneficial ID columns.\n",
        "application_df = application_df.drop(columns=[\"deathConfirmed\", \"deathIncrease\",\"deathProbable\", \"hospitalizedCumulative\", \"hospitalizedIncrease\", \"inIcuCumulative\", \"negative\",\n",
        "  \"negativeIncrease\", \"negativeTestsAntibody\", \"negativeTestsPeopleAntibody\", \"negativeTestsViral\", \"onVentilatorCumulative\", \"positive\",\"positiveCasesViral\",\"positiveScore\",\n",
        "  \"positiveTestsAntibody\",\"positiveTestsAntigen\",\"positiveTestsPeopleAntibody\",\"positiveTestsPeopleAntigen\",\"positiveTestsViral\",\"totalTestEncountersViral\",\"totalTestEncountersViralIncrease\"], axis=1)\n",
        "application_df.head()"
      ],
      "execution_count": 29,
      "outputs": [
        {
          "output_type": "execute_result",
          "data": {
            "text/html": [
              "<div>\n",
              "<style scoped>\n",
              "    .dataframe tbody tr th:only-of-type {\n",
              "        vertical-align: middle;\n",
              "    }\n",
              "\n",
              "    .dataframe tbody tr th {\n",
              "        vertical-align: top;\n",
              "    }\n",
              "\n",
              "    .dataframe thead th {\n",
              "        text-align: right;\n",
              "    }\n",
              "</style>\n",
              "<table border=\"1\" class=\"dataframe\">\n",
              "  <thead>\n",
              "    <tr style=\"text-align: right;\">\n",
              "      <th></th>\n",
              "      <th>date</th>\n",
              "      <th>state</th>\n",
              "      <th>death</th>\n",
              "      <th>hospitalized</th>\n",
              "      <th>hospitalizedCurrently</th>\n",
              "      <th>inIcuCurrently</th>\n",
              "      <th>onVentilatorCurrently</th>\n",
              "      <th>positiveIncrease</th>\n",
              "      <th>recovered</th>\n",
              "      <th>totalTestResults</th>\n",
              "      <th>totalTestResultsIncrease</th>\n",
              "      <th>totalTestsAntibody</th>\n",
              "      <th>totalTestsAntigen</th>\n",
              "      <th>totalTestsPeopleAntibody</th>\n",
              "      <th>totalTestsPeopleAntigen</th>\n",
              "      <th>totalTestsPeopleViral</th>\n",
              "      <th>totalTestsPeopleViralIncrease</th>\n",
              "      <th>totalTestsViral</th>\n",
              "      <th>totalTestsViralIncrease</th>\n",
              "    </tr>\n",
              "  </thead>\n",
              "  <tbody>\n",
              "    <tr>\n",
              "      <th>0</th>\n",
              "      <td>2021-03-07</td>\n",
              "      <td>AK</td>\n",
              "      <td>305.0</td>\n",
              "      <td>1293.0</td>\n",
              "      <td>33.0</td>\n",
              "      <td>NaN</td>\n",
              "      <td>2.0</td>\n",
              "      <td>0</td>\n",
              "      <td>NaN</td>\n",
              "      <td>1731628.0</td>\n",
              "      <td>0</td>\n",
              "      <td>NaN</td>\n",
              "      <td>NaN</td>\n",
              "      <td>NaN</td>\n",
              "      <td>NaN</td>\n",
              "      <td>NaN</td>\n",
              "      <td>0</td>\n",
              "      <td>1731628.0</td>\n",
              "      <td>0</td>\n",
              "    </tr>\n",
              "    <tr>\n",
              "      <th>1</th>\n",
              "      <td>2021-03-07</td>\n",
              "      <td>AL</td>\n",
              "      <td>10148.0</td>\n",
              "      <td>45976.0</td>\n",
              "      <td>494.0</td>\n",
              "      <td>NaN</td>\n",
              "      <td>NaN</td>\n",
              "      <td>408</td>\n",
              "      <td>295690.0</td>\n",
              "      <td>2323788.0</td>\n",
              "      <td>2347</td>\n",
              "      <td>NaN</td>\n",
              "      <td>NaN</td>\n",
              "      <td>119757.0</td>\n",
              "      <td>NaN</td>\n",
              "      <td>2323788.0</td>\n",
              "      <td>2347</td>\n",
              "      <td>NaN</td>\n",
              "      <td>0</td>\n",
              "    </tr>\n",
              "    <tr>\n",
              "      <th>2</th>\n",
              "      <td>2021-03-07</td>\n",
              "      <td>AR</td>\n",
              "      <td>5319.0</td>\n",
              "      <td>14926.0</td>\n",
              "      <td>335.0</td>\n",
              "      <td>141.0</td>\n",
              "      <td>65.0</td>\n",
              "      <td>165</td>\n",
              "      <td>315517.0</td>\n",
              "      <td>2736442.0</td>\n",
              "      <td>3380</td>\n",
              "      <td>NaN</td>\n",
              "      <td>NaN</td>\n",
              "      <td>NaN</td>\n",
              "      <td>481311.0</td>\n",
              "      <td>NaN</td>\n",
              "      <td>0</td>\n",
              "      <td>2736442.0</td>\n",
              "      <td>3380</td>\n",
              "    </tr>\n",
              "    <tr>\n",
              "      <th>3</th>\n",
              "      <td>2021-03-07</td>\n",
              "      <td>AS</td>\n",
              "      <td>0.0</td>\n",
              "      <td>NaN</td>\n",
              "      <td>NaN</td>\n",
              "      <td>NaN</td>\n",
              "      <td>NaN</td>\n",
              "      <td>0</td>\n",
              "      <td>NaN</td>\n",
              "      <td>2140.0</td>\n",
              "      <td>0</td>\n",
              "      <td>NaN</td>\n",
              "      <td>NaN</td>\n",
              "      <td>NaN</td>\n",
              "      <td>NaN</td>\n",
              "      <td>NaN</td>\n",
              "      <td>0</td>\n",
              "      <td>2140.0</td>\n",
              "      <td>0</td>\n",
              "    </tr>\n",
              "    <tr>\n",
              "      <th>4</th>\n",
              "      <td>2021-03-07</td>\n",
              "      <td>AZ</td>\n",
              "      <td>16328.0</td>\n",
              "      <td>57907.0</td>\n",
              "      <td>963.0</td>\n",
              "      <td>273.0</td>\n",
              "      <td>143.0</td>\n",
              "      <td>1335</td>\n",
              "      <td>NaN</td>\n",
              "      <td>7908105.0</td>\n",
              "      <td>45110</td>\n",
              "      <td>580569.0</td>\n",
              "      <td>NaN</td>\n",
              "      <td>444089.0</td>\n",
              "      <td>NaN</td>\n",
              "      <td>3842945.0</td>\n",
              "      <td>14856</td>\n",
              "      <td>7908105.0</td>\n",
              "      <td>45110</td>\n",
              "    </tr>\n",
              "  </tbody>\n",
              "</table>\n",
              "</div>"
            ],
            "text/plain": [
              "         date state  ...  totalTestsViral  totalTestsViralIncrease\n",
              "0  2021-03-07    AK  ...        1731628.0                        0\n",
              "1  2021-03-07    AL  ...              NaN                        0\n",
              "2  2021-03-07    AR  ...        2736442.0                     3380\n",
              "3  2021-03-07    AS  ...           2140.0                        0\n",
              "4  2021-03-07    AZ  ...        7908105.0                    45110\n",
              "\n",
              "[5 rows x 19 columns]"
            ]
          },
          "metadata": {
            "tags": []
          },
          "execution_count": 29
        }
      ]
    },
    {
      "cell_type": "code",
      "metadata": {
        "colab": {
          "base_uri": "https://localhost:8080/",
          "height": 203
        },
        "id": "7Zl48dSF-11h",
        "outputId": "60ba829b-6df8-47d0-9b73-887baf8db8d7"
      },
      "source": [
        "# Drop the non-beneficial ID columns.\n",
        "application_df = application_df.drop(columns=[\"totalTestResults\", \"totalTestResultsIncrease\",\"totalTestsAntibody\", \"totalTestsAntigen\", \"totalTestsPeopleAntibody\", \"totalTestsPeopleAntigen\", \"totalTestsPeopleViral\",\n",
        "  \"totalTestsPeopleViralIncrease\", \"totalTestsViralIncrease\"], axis=1)\n",
        "application_df.head()"
      ],
      "execution_count": 30,
      "outputs": [
        {
          "output_type": "execute_result",
          "data": {
            "text/html": [
              "<div>\n",
              "<style scoped>\n",
              "    .dataframe tbody tr th:only-of-type {\n",
              "        vertical-align: middle;\n",
              "    }\n",
              "\n",
              "    .dataframe tbody tr th {\n",
              "        vertical-align: top;\n",
              "    }\n",
              "\n",
              "    .dataframe thead th {\n",
              "        text-align: right;\n",
              "    }\n",
              "</style>\n",
              "<table border=\"1\" class=\"dataframe\">\n",
              "  <thead>\n",
              "    <tr style=\"text-align: right;\">\n",
              "      <th></th>\n",
              "      <th>date</th>\n",
              "      <th>state</th>\n",
              "      <th>death</th>\n",
              "      <th>hospitalized</th>\n",
              "      <th>hospitalizedCurrently</th>\n",
              "      <th>inIcuCurrently</th>\n",
              "      <th>onVentilatorCurrently</th>\n",
              "      <th>positiveIncrease</th>\n",
              "      <th>recovered</th>\n",
              "      <th>totalTestsViral</th>\n",
              "    </tr>\n",
              "  </thead>\n",
              "  <tbody>\n",
              "    <tr>\n",
              "      <th>0</th>\n",
              "      <td>2021-03-07</td>\n",
              "      <td>AK</td>\n",
              "      <td>305.0</td>\n",
              "      <td>1293.0</td>\n",
              "      <td>33.0</td>\n",
              "      <td>NaN</td>\n",
              "      <td>2.0</td>\n",
              "      <td>0</td>\n",
              "      <td>NaN</td>\n",
              "      <td>1731628.0</td>\n",
              "    </tr>\n",
              "    <tr>\n",
              "      <th>1</th>\n",
              "      <td>2021-03-07</td>\n",
              "      <td>AL</td>\n",
              "      <td>10148.0</td>\n",
              "      <td>45976.0</td>\n",
              "      <td>494.0</td>\n",
              "      <td>NaN</td>\n",
              "      <td>NaN</td>\n",
              "      <td>408</td>\n",
              "      <td>295690.0</td>\n",
              "      <td>NaN</td>\n",
              "    </tr>\n",
              "    <tr>\n",
              "      <th>2</th>\n",
              "      <td>2021-03-07</td>\n",
              "      <td>AR</td>\n",
              "      <td>5319.0</td>\n",
              "      <td>14926.0</td>\n",
              "      <td>335.0</td>\n",
              "      <td>141.0</td>\n",
              "      <td>65.0</td>\n",
              "      <td>165</td>\n",
              "      <td>315517.0</td>\n",
              "      <td>2736442.0</td>\n",
              "    </tr>\n",
              "    <tr>\n",
              "      <th>3</th>\n",
              "      <td>2021-03-07</td>\n",
              "      <td>AS</td>\n",
              "      <td>0.0</td>\n",
              "      <td>NaN</td>\n",
              "      <td>NaN</td>\n",
              "      <td>NaN</td>\n",
              "      <td>NaN</td>\n",
              "      <td>0</td>\n",
              "      <td>NaN</td>\n",
              "      <td>2140.0</td>\n",
              "    </tr>\n",
              "    <tr>\n",
              "      <th>4</th>\n",
              "      <td>2021-03-07</td>\n",
              "      <td>AZ</td>\n",
              "      <td>16328.0</td>\n",
              "      <td>57907.0</td>\n",
              "      <td>963.0</td>\n",
              "      <td>273.0</td>\n",
              "      <td>143.0</td>\n",
              "      <td>1335</td>\n",
              "      <td>NaN</td>\n",
              "      <td>7908105.0</td>\n",
              "    </tr>\n",
              "  </tbody>\n",
              "</table>\n",
              "</div>"
            ],
            "text/plain": [
              "         date state    death  ...  positiveIncrease  recovered  totalTestsViral\n",
              "0  2021-03-07    AK    305.0  ...                 0        NaN        1731628.0\n",
              "1  2021-03-07    AL  10148.0  ...               408   295690.0              NaN\n",
              "2  2021-03-07    AR   5319.0  ...               165   315517.0        2736442.0\n",
              "3  2021-03-07    AS      0.0  ...                 0        NaN           2140.0\n",
              "4  2021-03-07    AZ  16328.0  ...              1335        NaN        7908105.0\n",
              "\n",
              "[5 rows x 10 columns]"
            ]
          },
          "metadata": {
            "tags": []
          },
          "execution_count": 30
        }
      ]
    },
    {
      "cell_type": "code",
      "metadata": {
        "id": "53gnssqyHNKq",
        "colab": {
          "base_uri": "https://localhost:8080/"
        },
        "outputId": "ae7b4444-9e67-4fff-945a-1868fe763ab9"
      },
      "source": [
        "# Determine the number of unique values in each column.\n",
        "application_df.nunique()"
      ],
      "execution_count": 31,
      "outputs": [
        {
          "output_type": "execute_result",
          "data": {
            "text/plain": [
              "date                       420\n",
              "state                       56\n",
              "death                     7476\n",
              "hospitalized              7571\n",
              "hospitalizedCurrently     3885\n",
              "inIcuCurrently            1642\n",
              "onVentilatorCurrently      836\n",
              "positiveIncrease          4779\n",
              "recovered                 8295\n",
              "totalTestsViral          12519\n",
              "dtype: int64"
            ]
          },
          "metadata": {
            "tags": []
          },
          "execution_count": 31
        }
      ]
    },
    {
      "cell_type": "code",
      "metadata": {
        "colab": {
          "base_uri": "https://localhost:8080/"
        },
        "id": "1Hbs07mnBzQG",
        "outputId": "efb1773e-6223-4018-e0cf-5e5339da4c35"
      },
      "source": [
        "application_df.isnull().sum()"
      ],
      "execution_count": 32,
      "outputs": [
        {
          "output_type": "execute_result",
          "data": {
            "text/plain": [
              "date                         0\n",
              "state                        0\n",
              "death                      850\n",
              "hospitalized              8398\n",
              "hospitalizedCurrently     3441\n",
              "inIcuCurrently            9144\n",
              "onVentilatorCurrently    11654\n",
              "positiveIncrease             0\n",
              "recovered                 8777\n",
              "totalTestsViral           6264\n",
              "dtype: int64"
            ]
          },
          "metadata": {
            "tags": []
          },
          "execution_count": 32
        }
      ]
    },
    {
      "cell_type": "code",
      "metadata": {
        "colab": {
          "base_uri": "https://localhost:8080/"
        },
        "id": "f1RziONpCeZC",
        "outputId": "65da2f3b-b8dd-43cf-ab89-5cdc5df2844d"
      },
      "source": [
        "application_df.shape"
      ],
      "execution_count": 33,
      "outputs": [
        {
          "output_type": "execute_result",
          "data": {
            "text/plain": [
              "(20780, 10)"
            ]
          },
          "metadata": {
            "tags": []
          },
          "execution_count": 33
        }
      ]
    },
    {
      "cell_type": "code",
      "metadata": {
        "id": "Ei_yKjGFDn2v"
      },
      "source": [
        "new_df=application_df[[\"date\",\"state\",\"positiveIncrease\"]]"
      ],
      "execution_count": 34,
      "outputs": []
    },
    {
      "cell_type": "code",
      "metadata": {
        "colab": {
          "base_uri": "https://localhost:8080/"
        },
        "id": "RFqaDX44PhII",
        "outputId": "b5b0e874-0761-4ae4-8abf-6f423062aa13"
      },
      "source": [
        "new_df.isnull().sum()"
      ],
      "execution_count": 35,
      "outputs": [
        {
          "output_type": "execute_result",
          "data": {
            "text/plain": [
              "date                0\n",
              "state               0\n",
              "positiveIncrease    0\n",
              "dtype: int64"
            ]
          },
          "metadata": {
            "tags": []
          },
          "execution_count": 35
        }
      ]
    },
    {
      "cell_type": "code",
      "metadata": {
        "id": "4LlDaEcpHNKv"
      },
      "source": [
        "# Save and export your results to an csv file\n",
        "application_df.to_csv(\"cleaned_states_history.csv\")\n"
      ],
      "execution_count": 36,
      "outputs": []
    },
    {
      "cell_type": "code",
      "metadata": {
        "id": "nqSRBku_PJpn"
      },
      "source": [
        "# Save and export your results to an csv file\n",
        "application_df.to_csv(\"new_cleaned_states,csv\")"
      ],
      "execution_count": 37,
      "outputs": []
    }
  ]
}
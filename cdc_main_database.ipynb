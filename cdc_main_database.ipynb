{
  "nbformat": 4,
  "nbformat_minor": 0,
  "metadata": {
    "colab": {
      "name": "cdc_main_database.ipynb",
      "provenance": [],
      "authorship_tag": "ABX9TyMy0Tdtx62EQsmefsI4IEQF",
      "include_colab_link": true
    },
    "kernelspec": {
      "name": "python3",
      "display_name": "Python 3"
    },
    "language_info": {
      "name": "python"
    }
  },
  "cells": [
    {
      "cell_type": "markdown",
      "metadata": {
        "id": "view-in-github",
        "colab_type": "text"
      },
      "source": [
        "<a href=\"https://colab.research.google.com/github/dwwatson1/coronavirus_pandemic_playbook/blob/michael_work/cdc_main_database.ipynb\" target=\"_parent\"><img src=\"https://colab.research.google.com/assets/colab-badge.svg\" alt=\"Open In Colab\"/></a>"
      ]
    },
    {
      "cell_type": "code",
      "metadata": {
        "colab": {
          "base_uri": "https://localhost:8080/"
        },
        "id": "VxK3Iwq82_mN",
        "outputId": "1617bf56-1f82-49dd-ed2b-d226fa5f9013"
      },
      "source": [
        "import os\n",
        "# Find the latest version of spark 3.0  from http://www-us.apache.org/dist/spark/ and enter as the spark version\n",
        "# For example:\n",
        "# spark_version = 'spark-3.1.2'\n",
        "spark_version = 'spark-3.1.2'\n",
        "os.environ['SPARK_VERSION']=spark_version\n",
        "\n",
        "# Install Spark and Java\n",
        "!apt-get update\n",
        "!apt-get install openjdk-11-jdk-headless -qq > /dev/null\n",
        "!wget -q http://www-us.apache.org/dist/spark/$SPARK_VERSION/$SPARK_VERSION-bin-hadoop2.7.tgz\n",
        "!tar xf $SPARK_VERSION-bin-hadoop2.7.tgz\n",
        "!pip install -q findspark\n",
        "\n",
        "# Set Environment Variables\n",
        "import os\n",
        "os.environ[\"JAVA_HOME\"] = \"/usr/lib/jvm/java-11-openjdk-amd64\"\n",
        "os.environ[\"SPARK_HOME\"] = f\"/content/{spark_version}-bin-hadoop2.7\"\n",
        "\n",
        "# Start a SparkSession\n",
        "import findspark\n",
        "findspark.init()"
      ],
      "execution_count": 28,
      "outputs": [
        {
          "output_type": "stream",
          "text": [
            "Hit:1 https://cloud.r-project.org/bin/linux/ubuntu bionic-cran40/ InRelease\n",
            "Ign:2 https://developer.download.nvidia.com/compute/cuda/repos/ubuntu1804/x86_64  InRelease\n",
            "Get:3 http://security.ubuntu.com/ubuntu bionic-security InRelease [88.7 kB]\n",
            "Ign:4 https://developer.download.nvidia.com/compute/machine-learning/repos/ubuntu1804/x86_64  InRelease\n",
            "Hit:5 http://ppa.launchpad.net/c2d4u.team/c2d4u4.0+/ubuntu bionic InRelease\n",
            "Hit:6 http://archive.ubuntu.com/ubuntu bionic InRelease\n",
            "Hit:7 https://developer.download.nvidia.com/compute/cuda/repos/ubuntu1804/x86_64  Release\n",
            "Hit:8 https://developer.download.nvidia.com/compute/machine-learning/repos/ubuntu1804/x86_64  Release\n",
            "Get:9 http://archive.ubuntu.com/ubuntu bionic-updates InRelease [88.7 kB]\n",
            "Hit:10 http://ppa.launchpad.net/cran/libgit2/ubuntu bionic InRelease\n",
            "Hit:13 http://ppa.launchpad.net/deadsnakes/ppa/ubuntu bionic InRelease\n",
            "Get:14 http://archive.ubuntu.com/ubuntu bionic-backports InRelease [74.6 kB]\n",
            "Hit:15 http://ppa.launchpad.net/graphics-drivers/ppa/ubuntu bionic InRelease\n",
            "Fetched 252 kB in 2s (102 kB/s)\n",
            "Reading package lists... Done\n"
          ],
          "name": "stdout"
        }
      ]
    },
    {
      "cell_type": "code",
      "metadata": {
        "id": "77_027JC4mVd"
      },
      "source": [
        "# Start Spark session\n",
        "from pyspark.sql import SparkSession\n",
        "spark = SparkSession.builder.appName(\"DataFrameBasics\").getOrCreate()"
      ],
      "execution_count": 29,
      "outputs": []
    },
    {
      "cell_type": "code",
      "metadata": {
        "id": "pBcg0TAI4so8"
      },
      "source": [
        "# Read in data from S3 Buckets\n",
        "from pyspark import SparkFiles\n",
        "url = \"https://cdc-main-database.s3.amazonaws.com/COVID-19_Case_Surveillance_Public_Use_Data_with_Geography.csv\"\n",
        "spark.sparkContext.addFile(url)\n",
        "df = spark.read.csv(SparkFiles.get(\"COVID-19_Case_Surveillance_Public_Use_Data_with_Geography.csv\"), header=True)"
      ],
      "execution_count": 30,
      "outputs": []
    },
    {
      "cell_type": "code",
      "metadata": {
        "colab": {
          "base_uri": "https://localhost:8080/"
        },
        "id": "XvPfRLW-R_hp",
        "outputId": "559ff114-1cb5-4666-b15f-9e058262a19b"
      },
      "source": [
        "df.show()"
      ],
      "execution_count": 31,
      "outputs": [
        {
          "output_type": "stream",
          "text": [
            "+----------+---------+---------------+----------+----------------+--------------+------+-------+---------+-------------------------------+-------------------+--------------------+-----------+--------------------+--------------+-------+-------+--------+------------------------+\n",
            "|case_month|res_state|state_fips_code|res_county|county_fips_code|     age_group|   sex|   race|ethnicity|case_positive_specimen_interval|case_onset_interval|             process|exposure_yn|      current_status|symptom_status|hosp_yn| icu_yn|death_yn|underlying_conditions_yn|\n",
            "+----------+---------+---------------+----------+----------------+--------------+------+-------+---------+-------------------------------+-------------------+--------------------+-----------+--------------------+--------------+-------+-------+--------+------------------------+\n",
            "|   2020-08|       KY|             21|   GRAYSON|           21085|  0 - 17 years|    NA|     NA|       NA|                           null|                  0|             Missing|    Missing|Laboratory-confir...|   Symptomatic|     No|Missing|      No|                    null|\n",
            "|   2021-01|       NC|             37|    MARTIN|           37117|  0 - 17 years|    NA|     NA|       NA|                              0|               null|             Missing|    Unknown|Laboratory-confir...|  Asymptomatic|     No|Unknown|      No|                    null|\n",
            "|   2021-03|       VT|             50|  FRANKLIN|           50011|18 to 49 years|    NA|     NA|       NA|                              0|                  0|             Missing|        Yes|Laboratory-confir...|   Symptomatic|     No|Missing|      No|                     Yes|\n",
            "|   2020-09|       GA|             13|   CATOOSA|           13047|  0 - 17 years|Female|Unknown|  Missing|                           null|               null|             Missing|    Missing|Laboratory-confir...|       Missing|Missing|Missing| Missing|                    null|\n",
            "|   2021-04|       PA|             42|   CLINTON|           42035|  0 - 17 years|Female|     NA|       NA|                              0|                  0|             Missing|        Yes|Laboratory-confir...|   Symptomatic|     No|     No|      NA|                    null|\n",
            "|   2020-10|       PA|             42|  CRAWFORD|           42039|  0 - 17 years|Female|     NA|       NA|                              0|                  0|             Missing|        Yes|Laboratory-confir...|   Symptomatic|     No|     No|      NA|                    null|\n",
            "|   2021-04|       OR|             41|     CROOK|           41013|  0 - 17 years|Female|     NA|       NA|                           null|                  0|             Missing|    Missing|Laboratory-confir...|   Symptomatic|     No|Missing|      No|                    null|\n",
            "|   2020-08|       AR|             05|    LONOKE|           05085|  0 - 17 years|Female|     NA|       NA|                              0|               null|             Missing|    Missing|Laboratory-confir...|   Symptomatic|     No|Missing|      NA|                     Yes|\n",
            "|   2021-03|       OH|             39|    MEDINA|           39103|  0 - 17 years|Female|     NA|       NA|                           null|                  0|Contact tracing o...|        Yes|       Probable Case|   Symptomatic|Missing|Missing|      NA|                    null|\n",
            "|   2020-07|       OK|             40|  MUSKOGEE|           40101|  0 - 17 years|Female|     NA|       NA|                           null|               null|             Missing|    Missing|Laboratory-confir...|       Unknown|     No|Missing|      No|                    null|\n",
            "|   2020-12|       ME|             23|    OXFORD|           23017|  0 - 17 years|Female|     NA|       NA|                           null|               null|             Missing|    Missing|Laboratory-confir...|       Missing|Missing|Missing|      No|                    null|\n",
            "|   2020-12|       OR|             41|      POLK|           41053|  0 - 17 years|Female|     NA|       NA|                           null|                  0|             Missing|    Missing|       Probable Case|   Symptomatic|     No|Missing|      No|                    null|\n",
            "|   2020-08|       NC|             37|  RICHMOND|           37153|  0 - 17 years|Female|     NA|       NA|                              0|               null|             Missing|    Unknown|Laboratory-confir...|       Unknown|     No|Unknown|      No|                    null|\n",
            "|   2020-12|       WI|             55| ST. CROIX|           55109|  0 - 17 years|Female|     NA|       NA|                           null|                  0|             Missing|    Missing|Laboratory-confir...|   Symptomatic|Unknown|Missing| Unknown|                    null|\n",
            "|   2020-12|       NC|             37|    WILKES|           37193|  0 - 17 years|Female|     NA|       NA|                              0|                  0|             Missing|    Unknown|Laboratory-confir...|   Symptomatic|Unknown|Unknown|      No|                    null|\n",
            "|   2020-07|       SC|             45| ABBEVILLE|           45001|18 to 49 years|Female|     NA|       NA|                           null|               null|             Missing|    Missing|Laboratory-confir...|       Missing|Missing|Missing| Missing|                    null|\n",
            "|   2020-11|       OK|             40|   BECKHAM|           40009|18 to 49 years|Female|     NA|       NA|                           null|               null|             Missing|    Missing|Laboratory-confir...|       Unknown|     No|Missing|      No|                    null|\n",
            "|   2020-04|       NC|             37|    BLADEN|           37017|18 to 49 years|Female|     NA|       NA|                              1|                  0|             Missing|    Unknown|Laboratory-confir...|   Symptomatic|Unknown|Unknown|      No|                    null|\n",
            "|   2020-11|       TN|             47|   CARROLL|           47017|18 to 49 years|Female|Missing|  Missing|                              0|               null|             Missing|    Missing|Laboratory-confir...|       Missing|Missing|Missing| Missing|                    null|\n",
            "|   2021-05|       PA|             42|    GREENE|           42059|18 to 49 years|Female|     NA|       NA|                              0|               null|             Missing|    Missing|Laboratory-confir...|       Unknown|Unknown|Unknown| Unknown|                    null|\n",
            "+----------+---------+---------------+----------+----------------+--------------+------+-------+---------+-------------------------------+-------------------+--------------------+-----------+--------------------+--------------+-------+-------+--------+------------------------+\n",
            "only showing top 20 rows\n",
            "\n"
          ],
          "name": "stdout"
        }
      ]
    },
    {
      "cell_type": "code",
      "metadata": {
        "id": "LFzA_DNAfGU_"
      },
      "source": [
        "# Filter dates between March 2020 and December 2020\n",
        "df = df.filter((df.case_month >= '2020-03') & (df.case_month <= '2020-12'))"
      ],
      "execution_count": 32,
      "outputs": []
    },
    {
      "cell_type": "code",
      "metadata": {
        "colab": {
          "base_uri": "https://localhost:8080/"
        },
        "id": "tZLAJP3efTCY",
        "outputId": "764b879a-6f39-4af3-9a43-c32b71b30493"
      },
      "source": [
        "df.show()"
      ],
      "execution_count": 33,
      "outputs": [
        {
          "output_type": "stream",
          "text": [
            "+----------+---------+---------------+----------+----------------+--------------+------+-------+---------+-------------------------------+-------------------+-------------------+-----------+--------------------+--------------+-------+-------+--------+------------------------+\n",
            "|case_month|res_state|state_fips_code|res_county|county_fips_code|     age_group|   sex|   race|ethnicity|case_positive_specimen_interval|case_onset_interval|            process|exposure_yn|      current_status|symptom_status|hosp_yn| icu_yn|death_yn|underlying_conditions_yn|\n",
            "+----------+---------+---------------+----------+----------------+--------------+------+-------+---------+-------------------------------+-------------------+-------------------+-----------+--------------------+--------------+-------+-------+--------+------------------------+\n",
            "|   2020-08|       KY|             21|   GRAYSON|           21085|  0 - 17 years|    NA|     NA|       NA|                           null|                  0|            Missing|    Missing|Laboratory-confir...|   Symptomatic|     No|Missing|      No|                    null|\n",
            "|   2020-09|       GA|             13|   CATOOSA|           13047|  0 - 17 years|Female|Unknown|  Missing|                           null|               null|            Missing|    Missing|Laboratory-confir...|       Missing|Missing|Missing| Missing|                    null|\n",
            "|   2020-10|       PA|             42|  CRAWFORD|           42039|  0 - 17 years|Female|     NA|       NA|                              0|                  0|            Missing|        Yes|Laboratory-confir...|   Symptomatic|     No|     No|      NA|                    null|\n",
            "|   2020-08|       AR|             05|    LONOKE|           05085|  0 - 17 years|Female|     NA|       NA|                              0|               null|            Missing|    Missing|Laboratory-confir...|   Symptomatic|     No|Missing|      NA|                     Yes|\n",
            "|   2020-07|       OK|             40|  MUSKOGEE|           40101|  0 - 17 years|Female|     NA|       NA|                           null|               null|            Missing|    Missing|Laboratory-confir...|       Unknown|     No|Missing|      No|                    null|\n",
            "|   2020-12|       ME|             23|    OXFORD|           23017|  0 - 17 years|Female|     NA|       NA|                           null|               null|            Missing|    Missing|Laboratory-confir...|       Missing|Missing|Missing|      No|                    null|\n",
            "|   2020-12|       OR|             41|      POLK|           41053|  0 - 17 years|Female|     NA|       NA|                           null|                  0|            Missing|    Missing|       Probable Case|   Symptomatic|     No|Missing|      No|                    null|\n",
            "|   2020-08|       NC|             37|  RICHMOND|           37153|  0 - 17 years|Female|     NA|       NA|                              0|               null|            Missing|    Unknown|Laboratory-confir...|       Unknown|     No|Unknown|      No|                    null|\n",
            "|   2020-12|       WI|             55| ST. CROIX|           55109|  0 - 17 years|Female|     NA|       NA|                           null|                  0|            Missing|    Missing|Laboratory-confir...|   Symptomatic|Unknown|Missing| Unknown|                    null|\n",
            "|   2020-12|       NC|             37|    WILKES|           37193|  0 - 17 years|Female|     NA|       NA|                              0|                  0|            Missing|    Unknown|Laboratory-confir...|   Symptomatic|Unknown|Unknown|      No|                    null|\n",
            "|   2020-07|       SC|             45| ABBEVILLE|           45001|18 to 49 years|Female|     NA|       NA|                           null|               null|            Missing|    Missing|Laboratory-confir...|       Missing|Missing|Missing| Missing|                    null|\n",
            "|   2020-11|       OK|             40|   BECKHAM|           40009|18 to 49 years|Female|     NA|       NA|                           null|               null|            Missing|    Missing|Laboratory-confir...|       Unknown|     No|Missing|      No|                    null|\n",
            "|   2020-04|       NC|             37|    BLADEN|           37017|18 to 49 years|Female|     NA|       NA|                              1|                  0|            Missing|    Unknown|Laboratory-confir...|   Symptomatic|Unknown|Unknown|      No|                    null|\n",
            "|   2020-11|       TN|             47|   CARROLL|           47017|18 to 49 years|Female|Missing|  Missing|                              0|               null|            Missing|    Missing|Laboratory-confir...|       Missing|Missing|Missing| Missing|                    null|\n",
            "|   2020-12|       PA|             42|   INDIANA|           42063|18 to 49 years|Female|     NA|       NA|                              0|                  0|            Missing|        Yes|Laboratory-confir...|   Symptomatic|     No|Unknown|      No|                    null|\n",
            "|   2020-03|       MS|             28|   MADISON|           28089|18 to 49 years|Female|     NA|       NA|                              0|                  0|Clinical evaluation|    Missing|Laboratory-confir...|   Symptomatic|     No|     No|      No|                     Yes|\n",
            "|   2020-12|       PA|             42|   VENANGO|           42121|18 to 49 years|Female|     NA|       NA|                              0|               null|            Missing|    Missing|Laboratory-confir...|       Unknown|Unknown|Unknown| Unknown|                    null|\n",
            "|   2020-11|       GA|             13|WASHINGTON|           13303|18 to 49 years|Female|Unknown|  Missing|                           null|               null|            Missing|    Missing|Laboratory-confir...|       Missing|Missing|Missing| Missing|                    null|\n",
            "|   2020-12|       TN|             47|WASHINGTON|           47179|18 to 49 years|Female|Missing|  Missing|                              0|               null|            Missing|    Missing|Laboratory-confir...|       Missing|Missing|Missing| Missing|                    null|\n",
            "|   2020-06|       IA|             19|     BOONE|           19015|50 to 64 years|Female|     NA|       NA|                           null|                 47|            Missing|    Missing|Laboratory-confir...|   Symptomatic|Missing|Missing|      NA|                    null|\n",
            "+----------+---------+---------------+----------+----------------+--------------+------+-------+---------+-------------------------------+-------------------+-------------------+-----------+--------------------+--------------+-------+-------+--------+------------------------+\n",
            "only showing top 20 rows\n",
            "\n"
          ],
          "name": "stdout"
        }
      ]
    },
    {
      "cell_type": "code",
      "metadata": {
        "id": "kuqmDwqQfWQ_"
      },
      "source": [
        "# Drop unnecessary columns\n",
        "df = df.drop('case_month', 'state_fips_code', 'res_county', 'county_fips_code', 'case_positive_specimen_interval', 'case_onset_interval')"
      ],
      "execution_count": 34,
      "outputs": []
    },
    {
      "cell_type": "code",
      "metadata": {
        "colab": {
          "base_uri": "https://localhost:8080/"
        },
        "id": "hrNLNUcJf2TP",
        "outputId": "1e495126-3455-4a84-c786-4ed99af8b51e"
      },
      "source": [
        "df.show()"
      ],
      "execution_count": 35,
      "outputs": [
        {
          "output_type": "stream",
          "text": [
            "+---------+--------------+------+-------+---------+-------------------+-----------+--------------------+--------------+-------+-------+--------+------------------------+\n",
            "|res_state|     age_group|   sex|   race|ethnicity|            process|exposure_yn|      current_status|symptom_status|hosp_yn| icu_yn|death_yn|underlying_conditions_yn|\n",
            "+---------+--------------+------+-------+---------+-------------------+-----------+--------------------+--------------+-------+-------+--------+------------------------+\n",
            "|       KY|  0 - 17 years|    NA|     NA|       NA|            Missing|    Missing|Laboratory-confir...|   Symptomatic|     No|Missing|      No|                    null|\n",
            "|       GA|  0 - 17 years|Female|Unknown|  Missing|            Missing|    Missing|Laboratory-confir...|       Missing|Missing|Missing| Missing|                    null|\n",
            "|       PA|  0 - 17 years|Female|     NA|       NA|            Missing|        Yes|Laboratory-confir...|   Symptomatic|     No|     No|      NA|                    null|\n",
            "|       AR|  0 - 17 years|Female|     NA|       NA|            Missing|    Missing|Laboratory-confir...|   Symptomatic|     No|Missing|      NA|                     Yes|\n",
            "|       OK|  0 - 17 years|Female|     NA|       NA|            Missing|    Missing|Laboratory-confir...|       Unknown|     No|Missing|      No|                    null|\n",
            "|       ME|  0 - 17 years|Female|     NA|       NA|            Missing|    Missing|Laboratory-confir...|       Missing|Missing|Missing|      No|                    null|\n",
            "|       OR|  0 - 17 years|Female|     NA|       NA|            Missing|    Missing|       Probable Case|   Symptomatic|     No|Missing|      No|                    null|\n",
            "|       NC|  0 - 17 years|Female|     NA|       NA|            Missing|    Unknown|Laboratory-confir...|       Unknown|     No|Unknown|      No|                    null|\n",
            "|       WI|  0 - 17 years|Female|     NA|       NA|            Missing|    Missing|Laboratory-confir...|   Symptomatic|Unknown|Missing| Unknown|                    null|\n",
            "|       NC|  0 - 17 years|Female|     NA|       NA|            Missing|    Unknown|Laboratory-confir...|   Symptomatic|Unknown|Unknown|      No|                    null|\n",
            "|       SC|18 to 49 years|Female|     NA|       NA|            Missing|    Missing|Laboratory-confir...|       Missing|Missing|Missing| Missing|                    null|\n",
            "|       OK|18 to 49 years|Female|     NA|       NA|            Missing|    Missing|Laboratory-confir...|       Unknown|     No|Missing|      No|                    null|\n",
            "|       NC|18 to 49 years|Female|     NA|       NA|            Missing|    Unknown|Laboratory-confir...|   Symptomatic|Unknown|Unknown|      No|                    null|\n",
            "|       TN|18 to 49 years|Female|Missing|  Missing|            Missing|    Missing|Laboratory-confir...|       Missing|Missing|Missing| Missing|                    null|\n",
            "|       PA|18 to 49 years|Female|     NA|       NA|            Missing|        Yes|Laboratory-confir...|   Symptomatic|     No|Unknown|      No|                    null|\n",
            "|       MS|18 to 49 years|Female|     NA|       NA|Clinical evaluation|    Missing|Laboratory-confir...|   Symptomatic|     No|     No|      No|                     Yes|\n",
            "|       PA|18 to 49 years|Female|     NA|       NA|            Missing|    Missing|Laboratory-confir...|       Unknown|Unknown|Unknown| Unknown|                    null|\n",
            "|       GA|18 to 49 years|Female|Unknown|  Missing|            Missing|    Missing|Laboratory-confir...|       Missing|Missing|Missing| Missing|                    null|\n",
            "|       TN|18 to 49 years|Female|Missing|  Missing|            Missing|    Missing|Laboratory-confir...|       Missing|Missing|Missing| Missing|                    null|\n",
            "|       IA|50 to 64 years|Female|     NA|       NA|            Missing|    Missing|Laboratory-confir...|   Symptomatic|Missing|Missing|      NA|                    null|\n",
            "+---------+--------------+------+-------+---------+-------------------+-----------+--------------------+--------------+-------+-------+--------+------------------------+\n",
            "only showing top 20 rows\n",
            "\n"
          ],
          "name": "stdout"
        }
      ]
    },
    {
      "cell_type": "code",
      "metadata": {
        "colab": {
          "base_uri": "https://localhost:8080/"
        },
        "id": "E1z60_fGcECV",
        "outputId": "bf7538d0-15d5-4506-df32-97e8d48e7658"
      },
      "source": [
        "df.groupby('res_state').count().orderBy('count', ascending=False).show()"
      ],
      "execution_count": 36,
      "outputs": [
        {
          "output_type": "stream",
          "text": [
            "+---------+-------+\n",
            "|res_state|  count|\n",
            "+---------+-------+\n",
            "|       CA|2517956|\n",
            "|       NY|1242822|\n",
            "|       IL|1030427|\n",
            "|       FL| 858632|\n",
            "|       OH| 714699|\n",
            "|       PA| 666585|\n",
            "|       TN| 596611|\n",
            "|       NC| 589914|\n",
            "|       AZ| 579023|\n",
            "|       NJ| 552458|\n",
            "|       GA| 516835|\n",
            "|       IN| 515233|\n",
            "|       WI| 440126|\n",
            "|       MN| 429299|\n",
            "|       MA| 386352|\n",
            "|       VA| 369707|\n",
            "|       AL| 355128|\n",
            "|       SC| 331485|\n",
            "|       IA| 327246|\n",
            "|       MI| 326148|\n",
            "+---------+-------+\n",
            "only showing top 20 rows\n",
            "\n"
          ],
          "name": "stdout"
        }
      ]
    },
    {
      "cell_type": "code",
      "metadata": {
        "colab": {
          "base_uri": "https://localhost:8080/"
        },
        "id": "EYzL2T13gKf2",
        "outputId": "a8ab1fe9-bbc6-4fdf-f09a-b4ff374e93a9"
      },
      "source": [
        "df.groupby('age_group').count().orderBy('count', ascending=False).show()"
      ],
      "execution_count": 37,
      "outputs": [
        {
          "output_type": "stream",
          "text": [
            "+--------------+-------+\n",
            "|     age_group|  count|\n",
            "+--------------+-------+\n",
            "|18 to 49 years|9066479|\n",
            "|50 to 64 years|3422181|\n",
            "|     65+ years|2401830|\n",
            "|  0 - 17 years|1754297|\n",
            "|            NA| 188666|\n",
            "|       Missing|  96772|\n",
            "+--------------+-------+\n",
            "\n"
          ],
          "name": "stdout"
        }
      ]
    },
    {
      "cell_type": "code",
      "metadata": {
        "colab": {
          "base_uri": "https://localhost:8080/"
        },
        "id": "OvP1aZldgPcF",
        "outputId": "31ece4e5-ca6f-48c5-954a-6a96fa5ec7a1"
      },
      "source": [
        "df.groupby('sex').count().orderBy('count', ascending=False).show()"
      ],
      "execution_count": 38,
      "outputs": [
        {
          "output_type": "stream",
          "text": [
            "+-------+-------+\n",
            "|    sex|  count|\n",
            "+-------+-------+\n",
            "| Female|8550138|\n",
            "|   Male|7734161|\n",
            "|     NA| 514000|\n",
            "|Unknown| 112611|\n",
            "|Missing|  19315|\n",
            "+-------+-------+\n",
            "\n"
          ],
          "name": "stdout"
        }
      ]
    },
    {
      "cell_type": "code",
      "metadata": {
        "colab": {
          "base_uri": "https://localhost:8080/"
        },
        "id": "UeKB3A4XgSo1",
        "outputId": "6c6c68cf-a89a-4d1b-a9c3-0ee9afb7f212"
      },
      "source": [
        "df.groupby('race').count().orderBy('count', ascending=False).show()"
      ],
      "execution_count": 39,
      "outputs": [
        {
          "output_type": "stream",
          "text": [
            "+--------------------+-------+\n",
            "|                race|  count|\n",
            "+--------------------+-------+\n",
            "|               White|7250574|\n",
            "|                  NA|2886927|\n",
            "|             Unknown|2772223|\n",
            "|             Missing|1509396|\n",
            "|               Black|1252891|\n",
            "|      Multiple/Other| 806242|\n",
            "|               Asian| 303508|\n",
            "|American Indian/A...| 124836|\n",
            "|Native Hawaiian/O...|  23628|\n",
            "+--------------------+-------+\n",
            "\n"
          ],
          "name": "stdout"
        }
      ]
    },
    {
      "cell_type": "code",
      "metadata": {
        "colab": {
          "base_uri": "https://localhost:8080/"
        },
        "id": "VFVMWY6UgVBf",
        "outputId": "432a1690-35b0-48ac-c742-2927c90e0b52"
      },
      "source": [
        "df.groupby('ethnicity').count().orderBy('count', ascending=False).show()"
      ],
      "execution_count": 40,
      "outputs": [
        {
          "output_type": "stream",
          "text": [
            "+-------------------+-------+\n",
            "|          ethnicity|  count|\n",
            "+-------------------+-------+\n",
            "|Non-Hispanic/Latino|6922096|\n",
            "|            Unknown|3751967|\n",
            "|                 NA|3471207|\n",
            "|    Hispanic/Latino|1574833|\n",
            "|            Missing|1210122|\n",
            "+-------------------+-------+\n",
            "\n"
          ],
          "name": "stdout"
        }
      ]
    },
    {
      "cell_type": "code",
      "metadata": {
        "colab": {
          "base_uri": "https://localhost:8080/"
        },
        "id": "Gj5n-8E0gYj2",
        "outputId": "b66a4620-fe23-4a5a-ef5a-25225485c209"
      },
      "source": [
        "df.groupby('process').count().orderBy('count', ascending=False).show()"
      ],
      "execution_count": 41,
      "outputs": [
        {
          "output_type": "stream",
          "text": [
            "+--------------------+--------+\n",
            "|             process|   count|\n",
            "+--------------------+--------+\n",
            "|             Missing|15901328|\n",
            "| Clinical evaluation|  513880|\n",
            "|Routine surveillance|  189659|\n",
            "|            Multiple|  128827|\n",
            "| Laboratory reported|   82065|\n",
            "|Contact tracing o...|   70802|\n",
            "|             Unknown|   24163|\n",
            "|               Other|    8776|\n",
            "|Other detection m...|    8674|\n",
            "|   Provider reported|    1892|\n",
            "|Routine physical ...|     152|\n",
            "|             Autopsy|       7|\n",
            "+--------------------+--------+\n",
            "\n"
          ],
          "name": "stdout"
        }
      ]
    },
    {
      "cell_type": "code",
      "metadata": {
        "colab": {
          "base_uri": "https://localhost:8080/"
        },
        "id": "2FuZr2Eqgg7Y",
        "outputId": "ebfa4b72-d97c-41ba-e365-f2a05734331d"
      },
      "source": [
        "df.groupby('exposure_yn').count().orderBy('count', ascending=False).show()"
      ],
      "execution_count": 42,
      "outputs": [
        {
          "output_type": "stream",
          "text": [
            "+-----------+--------+\n",
            "|exposure_yn|   count|\n",
            "+-----------+--------+\n",
            "|    Missing|15034468|\n",
            "|        Yes| 1438353|\n",
            "|    Unknown|  457404|\n",
            "+-----------+--------+\n",
            "\n"
          ],
          "name": "stdout"
        }
      ]
    },
    {
      "cell_type": "code",
      "metadata": {
        "colab": {
          "base_uri": "https://localhost:8080/"
        },
        "id": "lmweUhW9gk8Z",
        "outputId": "bd8f851c-0b85-4c26-ff92-d43cc436d31a"
      },
      "source": [
        "df.groupby('current_status').count().orderBy('count', ascending=False).show()"
      ],
      "execution_count": 43,
      "outputs": [
        {
          "output_type": "stream",
          "text": [
            "+--------------------+--------+\n",
            "|      current_status|   count|\n",
            "+--------------------+--------+\n",
            "|Laboratory-confir...|15699194|\n",
            "|       Probable Case| 1231031|\n",
            "+--------------------+--------+\n",
            "\n"
          ],
          "name": "stdout"
        }
      ]
    },
    {
      "cell_type": "code",
      "metadata": {
        "colab": {
          "base_uri": "https://localhost:8080/"
        },
        "id": "xKL-8Wzpgnkw",
        "outputId": "6786bd82-d6e5-40df-fdfc-bc21f626087b"
      },
      "source": [
        "df.groupby('symptom_status').count().orderBy('count', ascending=False).show()"
      ],
      "execution_count": 44,
      "outputs": [
        {
          "output_type": "stream",
          "text": [
            "+--------------+-------+\n",
            "|symptom_status|  count|\n",
            "+--------------+-------+\n",
            "|   Symptomatic|7519108|\n",
            "|       Missing|6319041|\n",
            "|       Unknown|2763959|\n",
            "|  Asymptomatic| 328117|\n",
            "+--------------+-------+\n",
            "\n"
          ],
          "name": "stdout"
        }
      ]
    },
    {
      "cell_type": "code",
      "metadata": {
        "colab": {
          "base_uri": "https://localhost:8080/"
        },
        "id": "LFKVntHbgsH2",
        "outputId": "58dcbe17-3754-4187-afed-d243b266b4df"
      },
      "source": [
        "df.groupby('hosp_yn').count().orderBy('count', ascending=False).show()"
      ],
      "execution_count": 45,
      "outputs": [
        {
          "output_type": "stream",
          "text": [
            "+-------+-------+\n",
            "|hosp_yn|  count|\n",
            "+-------+-------+\n",
            "|Missing|7044878|\n",
            "|     No|6341619|\n",
            "|Unknown|2622532|\n",
            "|    Yes| 921196|\n",
            "+-------+-------+\n",
            "\n"
          ],
          "name": "stdout"
        }
      ]
    },
    {
      "cell_type": "code",
      "metadata": {
        "colab": {
          "base_uri": "https://localhost:8080/"
        },
        "id": "gUyvLkPRgxrJ",
        "outputId": "46434da6-85c3-49d4-8d0d-c520d4c29fb5"
      },
      "source": [
        "df.groupby('icu_yn').count().orderBy('count', ascending=False).show()"
      ],
      "execution_count": 46,
      "outputs": [
        {
          "output_type": "stream",
          "text": [
            "+-------+--------+\n",
            "| icu_yn|   count|\n",
            "+-------+--------+\n",
            "|Missing|13606834|\n",
            "|Unknown| 2076167|\n",
            "|     No| 1154405|\n",
            "|    Yes|   92819|\n",
            "+-------+--------+\n",
            "\n"
          ],
          "name": "stdout"
        }
      ]
    },
    {
      "cell_type": "code",
      "metadata": {
        "colab": {
          "base_uri": "https://localhost:8080/"
        },
        "id": "dL-DRO9-g0pt",
        "outputId": "5bbc8024-a2c8-486b-ad5d-aa1f4015ba02"
      },
      "source": [
        "df.groupby('death_yn').count().orderBy('count', ascending=False).show()"
      ],
      "execution_count": 47,
      "outputs": [
        {
          "output_type": "stream",
          "text": [
            "+--------+-------+\n",
            "|death_yn|  count|\n",
            "+--------+-------+\n",
            "|      No|8345229|\n",
            "| Missing|5609568|\n",
            "| Unknown|1879180|\n",
            "|      NA| 865827|\n",
            "|     Yes| 230421|\n",
            "+--------+-------+\n",
            "\n"
          ],
          "name": "stdout"
        }
      ]
    },
    {
      "cell_type": "code",
      "metadata": {
        "colab": {
          "base_uri": "https://localhost:8080/"
        },
        "id": "Z4HM6Gq1g4d9",
        "outputId": "fac52643-f32e-47f5-a1b6-9804e55fd801"
      },
      "source": [
        "df.groupby('underlying_conditions_yn').count().orderBy('count', ascending=False).show()"
      ],
      "execution_count": 48,
      "outputs": [
        {
          "output_type": "stream",
          "text": [
            "+------------------------+--------+\n",
            "|underlying_conditions_yn|   count|\n",
            "+------------------------+--------+\n",
            "|                    null|15642277|\n",
            "|                     Yes| 1266461|\n",
            "|                      No|   21487|\n",
            "+------------------------+--------+\n",
            "\n"
          ],
          "name": "stdout"
        }
      ]
    },
    {
      "cell_type": "code",
      "metadata": {
        "id": "-e6jDlgNkDeB"
      },
      "source": [
        "# Drop unnecessary columns based on number of values missing\n",
        "df = df.drop('ethnicity', 'process', 'exposure_yn', 'current_status', 'symptom_status', 'hosp_yn', 'icu_yn', 'death_yn', 'underlying_conditions_yn')"
      ],
      "execution_count": 49,
      "outputs": []
    },
    {
      "cell_type": "code",
      "metadata": {
        "colab": {
          "base_uri": "https://localhost:8080/"
        },
        "id": "74jrliLekgQa",
        "outputId": "30cb7932-7c18-4df8-854a-f2c0fdbe35e3"
      },
      "source": [
        "df.show()"
      ],
      "execution_count": 50,
      "outputs": [
        {
          "output_type": "stream",
          "text": [
            "+---------+--------------+------+-------+\n",
            "|res_state|     age_group|   sex|   race|\n",
            "+---------+--------------+------+-------+\n",
            "|       KY|  0 - 17 years|    NA|     NA|\n",
            "|       GA|  0 - 17 years|Female|Unknown|\n",
            "|       PA|  0 - 17 years|Female|     NA|\n",
            "|       AR|  0 - 17 years|Female|     NA|\n",
            "|       OK|  0 - 17 years|Female|     NA|\n",
            "|       ME|  0 - 17 years|Female|     NA|\n",
            "|       OR|  0 - 17 years|Female|     NA|\n",
            "|       NC|  0 - 17 years|Female|     NA|\n",
            "|       WI|  0 - 17 years|Female|     NA|\n",
            "|       NC|  0 - 17 years|Female|     NA|\n",
            "|       SC|18 to 49 years|Female|     NA|\n",
            "|       OK|18 to 49 years|Female|     NA|\n",
            "|       NC|18 to 49 years|Female|     NA|\n",
            "|       TN|18 to 49 years|Female|Missing|\n",
            "|       PA|18 to 49 years|Female|     NA|\n",
            "|       MS|18 to 49 years|Female|     NA|\n",
            "|       PA|18 to 49 years|Female|     NA|\n",
            "|       GA|18 to 49 years|Female|Unknown|\n",
            "|       TN|18 to 49 years|Female|Missing|\n",
            "|       IA|50 to 64 years|Female|     NA|\n",
            "+---------+--------------+------+-------+\n",
            "only showing top 20 rows\n",
            "\n"
          ],
          "name": "stdout"
        }
      ]
    },
    {
      "cell_type": "code",
      "metadata": {
        "id": "itzeZcdHYgq9"
      },
      "source": [
        "# Replace \"Missing\" and \"Unknown\" with \"NA\"\n",
        "df = df.replace(['Missing', 'Unknown'], 'NA')"
      ],
      "execution_count": 51,
      "outputs": []
    },
    {
      "cell_type": "code",
      "metadata": {
        "colab": {
          "base_uri": "https://localhost:8080/"
        },
        "id": "FrXVjjYnaAri",
        "outputId": "a11da314-1ebf-4200-8891-534389633dee"
      },
      "source": [
        "df.show()"
      ],
      "execution_count": 52,
      "outputs": [
        {
          "output_type": "stream",
          "text": [
            "+---------+--------------+------+----+\n",
            "|res_state|     age_group|   sex|race|\n",
            "+---------+--------------+------+----+\n",
            "|       KY|  0 - 17 years|    NA|  NA|\n",
            "|       GA|  0 - 17 years|Female|  NA|\n",
            "|       PA|  0 - 17 years|Female|  NA|\n",
            "|       AR|  0 - 17 years|Female|  NA|\n",
            "|       OK|  0 - 17 years|Female|  NA|\n",
            "|       ME|  0 - 17 years|Female|  NA|\n",
            "|       OR|  0 - 17 years|Female|  NA|\n",
            "|       NC|  0 - 17 years|Female|  NA|\n",
            "|       WI|  0 - 17 years|Female|  NA|\n",
            "|       NC|  0 - 17 years|Female|  NA|\n",
            "|       SC|18 to 49 years|Female|  NA|\n",
            "|       OK|18 to 49 years|Female|  NA|\n",
            "|       NC|18 to 49 years|Female|  NA|\n",
            "|       TN|18 to 49 years|Female|  NA|\n",
            "|       PA|18 to 49 years|Female|  NA|\n",
            "|       MS|18 to 49 years|Female|  NA|\n",
            "|       PA|18 to 49 years|Female|  NA|\n",
            "|       GA|18 to 49 years|Female|  NA|\n",
            "|       TN|18 to 49 years|Female|  NA|\n",
            "|       IA|50 to 64 years|Female|  NA|\n",
            "+---------+--------------+------+----+\n",
            "only showing top 20 rows\n",
            "\n"
          ],
          "name": "stdout"
        }
      ]
    },
    {
      "cell_type": "code",
      "metadata": {
        "id": "Q_uzPhbmnmJx"
      },
      "source": [
        "# Filter for 'AL', 'AK', 'AZ', 'AR', 'CA', 'CO', 'CT', 'DE', 'DC', 'FL', 'GA', 'HI', 'ID', 'IL', 'IN', 'IA', 'KS', 'KY', 'LA', 'ME', 'MD', 'MA', 'MI', 'MN', 'MS', 'MO'\n",
        "df_part1 = df.filter((df.res_state == ('AL' or 'AK' or 'AZ' or 'AR' or 'CA' or 'CO' or 'CT' or 'DE' or 'DC' or 'FL' or 'GA' or 'HI' or 'ID' or 'IL' or 'IN' or 'IA' or 'KS' or 'KY' or 'LA' or 'ME' or 'MD' or 'MA' or 'MI' or 'MN' or 'MS' or 'MO')))"
      ],
      "execution_count": 53,
      "outputs": []
    },
    {
      "cell_type": "code",
      "metadata": {
        "id": "7lDmC_MdVXKJ"
      },
      "source": [
        "# Filter for 'MT', 'NE', 'NV', 'NH', 'NJ', 'NM', 'NY', 'NC', 'ND', 'OH', 'OK', 'OR', 'PA', 'RI', 'SC', 'SD', 'TN', 'TX', 'UT', 'VT', 'VA', 'WA', 'WV', 'WI', 'WY'\n",
        "df_part2 = df.filter((df.res_state == ('MT' or 'NE' or 'NV' or 'NH' or 'NJ' or 'NM' or 'NY' or 'NC' or 'ND' or 'OH' or 'OK' or 'OR' or 'PA' or 'RI' or 'SC' or 'SD' or 'TN' or 'TX' or 'UT' or 'VT' or 'VA' or 'WA' or 'WV' or 'WI' or 'WY')))"
      ],
      "execution_count": 54,
      "outputs": []
    },
    {
      "cell_type": "code",
      "metadata": {
        "id": "N49qDc9PiMGN"
      },
      "source": [
        "df_part1.toPandas().to_csv('cdc_db_cleaned_part1.csv')"
      ],
      "execution_count": 55,
      "outputs": []
    },
    {
      "cell_type": "code",
      "metadata": {
        "id": "JAGhR62SVzNT"
      },
      "source": [
        "df_part2.toPandas().to_csv('cdc_db_cleaned_part2.csv')"
      ],
      "execution_count": 56,
      "outputs": []
    }
  ]
}
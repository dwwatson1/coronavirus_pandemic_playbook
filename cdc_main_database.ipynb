{
  "nbformat": 4,
  "nbformat_minor": 0,
  "metadata": {
    "colab": {
      "name": "cdc_main_database.ipynb",
      "provenance": [],
      "authorship_tag": "ABX9TyPDtF3b9VRmTwGuvU4l/kz4",
      "include_colab_link": true
    },
    "kernelspec": {
      "name": "python3",
      "display_name": "Python 3"
    },
    "language_info": {
      "name": "python"
    }
  },
  "cells": [
    {
      "cell_type": "markdown",
      "metadata": {
        "id": "view-in-github",
        "colab_type": "text"
      },
      "source": [
        "<a href=\"https://colab.research.google.com/github/dwwatson1/coronavirus_pandemic_playbook/blob/michael_work/cdc_main_database.ipynb\" target=\"_parent\"><img src=\"https://colab.research.google.com/assets/colab-badge.svg\" alt=\"Open In Colab\"/></a>"
      ]
    },
    {
      "cell_type": "code",
      "metadata": {
        "colab": {
          "base_uri": "https://localhost:8080/"
        },
        "id": "VxK3Iwq82_mN",
        "outputId": "1f60a4a7-2929-4fe1-e49f-ac5aab052c1f"
      },
      "source": [
        "import os\n",
        "# Find the latest version of spark 3.0  from http://www-us.apache.org/dist/spark/ and enter as the spark version\n",
        "# For example:\n",
        "# spark_version = 'spark-3.1.2'\n",
        "spark_version = 'spark-3.1.2'\n",
        "os.environ['SPARK_VERSION']=spark_version\n",
        "\n",
        "# Install Spark and Java\n",
        "!apt-get update\n",
        "!apt-get install openjdk-11-jdk-headless -qq > /dev/null\n",
        "!wget -q http://www-us.apache.org/dist/spark/$SPARK_VERSION/$SPARK_VERSION-bin-hadoop2.7.tgz\n",
        "!tar xf $SPARK_VERSION-bin-hadoop2.7.tgz\n",
        "!pip install -q findspark\n",
        "\n",
        "# Set Environment Variables\n",
        "import os\n",
        "os.environ[\"JAVA_HOME\"] = \"/usr/lib/jvm/java-11-openjdk-amd64\"\n",
        "os.environ[\"SPARK_HOME\"] = f\"/content/{spark_version}-bin-hadoop2.7\"\n",
        "\n",
        "# Start a SparkSession\n",
        "import findspark\n",
        "findspark.init()"
      ],
      "execution_count": 48,
      "outputs": [
        {
          "output_type": "stream",
          "text": [
            "Hit:1 https://cloud.r-project.org/bin/linux/ubuntu bionic-cran40/ InRelease\n",
            "Ign:2 https://developer.download.nvidia.com/compute/cuda/repos/ubuntu1804/x86_64  InRelease\n",
            "Hit:3 http://security.ubuntu.com/ubuntu bionic-security InRelease\n",
            "Ign:4 https://developer.download.nvidia.com/compute/machine-learning/repos/ubuntu1804/x86_64  InRelease\n",
            "Hit:5 https://developer.download.nvidia.com/compute/cuda/repos/ubuntu1804/x86_64  Release\n",
            "Hit:6 http://ppa.launchpad.net/c2d4u.team/c2d4u4.0+/ubuntu bionic InRelease\n",
            "Hit:7 https://developer.download.nvidia.com/compute/machine-learning/repos/ubuntu1804/x86_64  Release\n",
            "Hit:8 http://archive.ubuntu.com/ubuntu bionic InRelease\n",
            "Hit:10 http://ppa.launchpad.net/cran/libgit2/ubuntu bionic InRelease\n",
            "Hit:11 http://archive.ubuntu.com/ubuntu bionic-updates InRelease\n",
            "Hit:12 http://archive.ubuntu.com/ubuntu bionic-backports InRelease\n",
            "Hit:14 http://ppa.launchpad.net/deadsnakes/ppa/ubuntu bionic InRelease\n",
            "Hit:15 http://ppa.launchpad.net/graphics-drivers/ppa/ubuntu bionic InRelease\n",
            "Reading package lists... Done\n"
          ],
          "name": "stdout"
        }
      ]
    },
    {
      "cell_type": "code",
      "metadata": {
        "id": "77_027JC4mVd"
      },
      "source": [
        "# Start Spark session\n",
        "from pyspark.sql import SparkSession\n",
        "spark = SparkSession.builder.appName(\"DataFrameBasics\").getOrCreate()"
      ],
      "execution_count": 49,
      "outputs": []
    },
    {
      "cell_type": "code",
      "metadata": {
        "id": "pBcg0TAI4so8"
      },
      "source": [
        "# Read in data from S3 Buckets\n",
        "from pyspark import SparkFiles\n",
        "url = \"https://cdc-main-database.s3.amazonaws.com/COVID-19_Case_Surveillance_Public_Use_Data_with_Geography.csv\"\n",
        "spark.sparkContext.addFile(url)\n",
        "df = spark.read.csv(SparkFiles.get(\"COVID-19_Case_Surveillance_Public_Use_Data_with_Geography.csv\"), header=True)"
      ],
      "execution_count": 53,
      "outputs": []
    },
    {
      "cell_type": "code",
      "metadata": {
        "colab": {
          "base_uri": "https://localhost:8080/"
        },
        "id": "XvPfRLW-R_hp",
        "outputId": "3085a963-e2bb-437f-d421-267c83d81ee3"
      },
      "source": [
        "df.show()"
      ],
      "execution_count": 54,
      "outputs": [
        {
          "output_type": "stream",
          "text": [
            "+----------+---------+---------------+----------+----------------+--------------+------+-------+---------+-------------------------------+-------------------+--------------------+-----------+--------------------+--------------+-------+-------+--------+------------------------+\n",
            "|case_month|res_state|state_fips_code|res_county|county_fips_code|     age_group|   sex|   race|ethnicity|case_positive_specimen_interval|case_onset_interval|             process|exposure_yn|      current_status|symptom_status|hosp_yn| icu_yn|death_yn|underlying_conditions_yn|\n",
            "+----------+---------+---------------+----------+----------------+--------------+------+-------+---------+-------------------------------+-------------------+--------------------+-----------+--------------------+--------------+-------+-------+--------+------------------------+\n",
            "|   2020-08|       KY|             21|   GRAYSON|           21085|  0 - 17 years|    NA|     NA|       NA|                           null|                  0|             Missing|    Missing|Laboratory-confir...|   Symptomatic|     No|Missing|      No|                    null|\n",
            "|   2021-01|       NC|             37|    MARTIN|           37117|  0 - 17 years|    NA|     NA|       NA|                              0|               null|             Missing|    Unknown|Laboratory-confir...|  Asymptomatic|     No|Unknown|      No|                    null|\n",
            "|   2021-03|       VT|             50|  FRANKLIN|           50011|18 to 49 years|    NA|     NA|       NA|                              0|                  0|             Missing|        Yes|Laboratory-confir...|   Symptomatic|     No|Missing|      No|                     Yes|\n",
            "|   2020-09|       GA|             13|   CATOOSA|           13047|  0 - 17 years|Female|Unknown|  Missing|                           null|               null|             Missing|    Missing|Laboratory-confir...|       Missing|Missing|Missing| Missing|                    null|\n",
            "|   2021-04|       PA|             42|   CLINTON|           42035|  0 - 17 years|Female|     NA|       NA|                              0|                  0|             Missing|        Yes|Laboratory-confir...|   Symptomatic|     No|     No|      NA|                    null|\n",
            "|   2020-10|       PA|             42|  CRAWFORD|           42039|  0 - 17 years|Female|     NA|       NA|                              0|                  0|             Missing|        Yes|Laboratory-confir...|   Symptomatic|     No|     No|      NA|                    null|\n",
            "|   2021-04|       OR|             41|     CROOK|           41013|  0 - 17 years|Female|     NA|       NA|                           null|                  0|             Missing|    Missing|Laboratory-confir...|   Symptomatic|     No|Missing|      No|                    null|\n",
            "|   2020-08|       AR|             05|    LONOKE|           05085|  0 - 17 years|Female|     NA|       NA|                              0|               null|             Missing|    Missing|Laboratory-confir...|   Symptomatic|     No|Missing|      NA|                     Yes|\n",
            "|   2021-03|       OH|             39|    MEDINA|           39103|  0 - 17 years|Female|     NA|       NA|                           null|                  0|Contact tracing o...|        Yes|       Probable Case|   Symptomatic|Missing|Missing|      NA|                    null|\n",
            "|   2020-07|       OK|             40|  MUSKOGEE|           40101|  0 - 17 years|Female|     NA|       NA|                           null|               null|             Missing|    Missing|Laboratory-confir...|       Unknown|     No|Missing|      No|                    null|\n",
            "|   2020-12|       ME|             23|    OXFORD|           23017|  0 - 17 years|Female|     NA|       NA|                           null|               null|             Missing|    Missing|Laboratory-confir...|       Missing|Missing|Missing|      No|                    null|\n",
            "|   2020-12|       OR|             41|      POLK|           41053|  0 - 17 years|Female|     NA|       NA|                           null|                  0|             Missing|    Missing|       Probable Case|   Symptomatic|     No|Missing|      No|                    null|\n",
            "|   2020-08|       NC|             37|  RICHMOND|           37153|  0 - 17 years|Female|     NA|       NA|                              0|               null|             Missing|    Unknown|Laboratory-confir...|       Unknown|     No|Unknown|      No|                    null|\n",
            "|   2020-12|       WI|             55| ST. CROIX|           55109|  0 - 17 years|Female|     NA|       NA|                           null|                  0|             Missing|    Missing|Laboratory-confir...|   Symptomatic|Unknown|Missing| Unknown|                    null|\n",
            "|   2020-12|       NC|             37|    WILKES|           37193|  0 - 17 years|Female|     NA|       NA|                              0|                  0|             Missing|    Unknown|Laboratory-confir...|   Symptomatic|Unknown|Unknown|      No|                    null|\n",
            "|   2020-07|       SC|             45| ABBEVILLE|           45001|18 to 49 years|Female|     NA|       NA|                           null|               null|             Missing|    Missing|Laboratory-confir...|       Missing|Missing|Missing| Missing|                    null|\n",
            "|   2020-11|       OK|             40|   BECKHAM|           40009|18 to 49 years|Female|     NA|       NA|                           null|               null|             Missing|    Missing|Laboratory-confir...|       Unknown|     No|Missing|      No|                    null|\n",
            "|   2020-04|       NC|             37|    BLADEN|           37017|18 to 49 years|Female|     NA|       NA|                              1|                  0|             Missing|    Unknown|Laboratory-confir...|   Symptomatic|Unknown|Unknown|      No|                    null|\n",
            "|   2020-11|       TN|             47|   CARROLL|           47017|18 to 49 years|Female|Missing|  Missing|                              0|               null|             Missing|    Missing|Laboratory-confir...|       Missing|Missing|Missing| Missing|                    null|\n",
            "|   2021-05|       PA|             42|    GREENE|           42059|18 to 49 years|Female|     NA|       NA|                              0|               null|             Missing|    Missing|Laboratory-confir...|       Unknown|Unknown|Unknown| Unknown|                    null|\n",
            "+----------+---------+---------------+----------+----------------+--------------+------+-------+---------+-------------------------------+-------------------+--------------------+-----------+--------------------+--------------+-------+-------+--------+------------------------+\n",
            "only showing top 20 rows\n",
            "\n"
          ],
          "name": "stdout"
        }
      ]
    },
    {
      "cell_type": "code",
      "metadata": {
        "id": "aWZCRellS6GO"
      },
      "source": [
        "# Drop unnecessary columns\n",
        "df = df.drop(\"case_positive_specimen_interval\", \"case_onset_interval\")"
      ],
      "execution_count": 59,
      "outputs": []
    },
    {
      "cell_type": "code",
      "metadata": {
        "colab": {
          "base_uri": "https://localhost:8080/"
        },
        "id": "PGEHkRqSTqMe",
        "outputId": "f642eae9-c977-473e-e476-a7586176b983"
      },
      "source": [
        "df.show()"
      ],
      "execution_count": 60,
      "outputs": [
        {
          "output_type": "stream",
          "text": [
            "+----------+---------+---------------+----------+----------------+--------------+------+-------+---------+--------------------+-----------+--------------------+--------------+-------+-------+--------+------------------------+\n",
            "|case_month|res_state|state_fips_code|res_county|county_fips_code|     age_group|   sex|   race|ethnicity|             process|exposure_yn|      current_status|symptom_status|hosp_yn| icu_yn|death_yn|underlying_conditions_yn|\n",
            "+----------+---------+---------------+----------+----------------+--------------+------+-------+---------+--------------------+-----------+--------------------+--------------+-------+-------+--------+------------------------+\n",
            "|   2020-08|       KY|             21|   GRAYSON|           21085|  0 - 17 years|    NA|     NA|       NA|             Missing|    Missing|Laboratory-confir...|   Symptomatic|     No|Missing|      No|                    null|\n",
            "|   2021-01|       NC|             37|    MARTIN|           37117|  0 - 17 years|    NA|     NA|       NA|             Missing|    Unknown|Laboratory-confir...|  Asymptomatic|     No|Unknown|      No|                    null|\n",
            "|   2021-03|       VT|             50|  FRANKLIN|           50011|18 to 49 years|    NA|     NA|       NA|             Missing|        Yes|Laboratory-confir...|   Symptomatic|     No|Missing|      No|                     Yes|\n",
            "|   2020-09|       GA|             13|   CATOOSA|           13047|  0 - 17 years|Female|Unknown|  Missing|             Missing|    Missing|Laboratory-confir...|       Missing|Missing|Missing| Missing|                    null|\n",
            "|   2021-04|       PA|             42|   CLINTON|           42035|  0 - 17 years|Female|     NA|       NA|             Missing|        Yes|Laboratory-confir...|   Symptomatic|     No|     No|      NA|                    null|\n",
            "|   2020-10|       PA|             42|  CRAWFORD|           42039|  0 - 17 years|Female|     NA|       NA|             Missing|        Yes|Laboratory-confir...|   Symptomatic|     No|     No|      NA|                    null|\n",
            "|   2021-04|       OR|             41|     CROOK|           41013|  0 - 17 years|Female|     NA|       NA|             Missing|    Missing|Laboratory-confir...|   Symptomatic|     No|Missing|      No|                    null|\n",
            "|   2020-08|       AR|             05|    LONOKE|           05085|  0 - 17 years|Female|     NA|       NA|             Missing|    Missing|Laboratory-confir...|   Symptomatic|     No|Missing|      NA|                     Yes|\n",
            "|   2021-03|       OH|             39|    MEDINA|           39103|  0 - 17 years|Female|     NA|       NA|Contact tracing o...|        Yes|       Probable Case|   Symptomatic|Missing|Missing|      NA|                    null|\n",
            "|   2020-07|       OK|             40|  MUSKOGEE|           40101|  0 - 17 years|Female|     NA|       NA|             Missing|    Missing|Laboratory-confir...|       Unknown|     No|Missing|      No|                    null|\n",
            "|   2020-12|       ME|             23|    OXFORD|           23017|  0 - 17 years|Female|     NA|       NA|             Missing|    Missing|Laboratory-confir...|       Missing|Missing|Missing|      No|                    null|\n",
            "|   2020-12|       OR|             41|      POLK|           41053|  0 - 17 years|Female|     NA|       NA|             Missing|    Missing|       Probable Case|   Symptomatic|     No|Missing|      No|                    null|\n",
            "|   2020-08|       NC|             37|  RICHMOND|           37153|  0 - 17 years|Female|     NA|       NA|             Missing|    Unknown|Laboratory-confir...|       Unknown|     No|Unknown|      No|                    null|\n",
            "|   2020-12|       WI|             55| ST. CROIX|           55109|  0 - 17 years|Female|     NA|       NA|             Missing|    Missing|Laboratory-confir...|   Symptomatic|Unknown|Missing| Unknown|                    null|\n",
            "|   2020-12|       NC|             37|    WILKES|           37193|  0 - 17 years|Female|     NA|       NA|             Missing|    Unknown|Laboratory-confir...|   Symptomatic|Unknown|Unknown|      No|                    null|\n",
            "|   2020-07|       SC|             45| ABBEVILLE|           45001|18 to 49 years|Female|     NA|       NA|             Missing|    Missing|Laboratory-confir...|       Missing|Missing|Missing| Missing|                    null|\n",
            "|   2020-11|       OK|             40|   BECKHAM|           40009|18 to 49 years|Female|     NA|       NA|             Missing|    Missing|Laboratory-confir...|       Unknown|     No|Missing|      No|                    null|\n",
            "|   2020-04|       NC|             37|    BLADEN|           37017|18 to 49 years|Female|     NA|       NA|             Missing|    Unknown|Laboratory-confir...|   Symptomatic|Unknown|Unknown|      No|                    null|\n",
            "|   2020-11|       TN|             47|   CARROLL|           47017|18 to 49 years|Female|Missing|  Missing|             Missing|    Missing|Laboratory-confir...|       Missing|Missing|Missing| Missing|                    null|\n",
            "|   2021-05|       PA|             42|    GREENE|           42059|18 to 49 years|Female|     NA|       NA|             Missing|    Missing|Laboratory-confir...|       Unknown|Unknown|Unknown| Unknown|                    null|\n",
            "+----------+---------+---------------+----------+----------------+--------------+------+-------+---------+--------------------+-----------+--------------------+--------------+-------+-------+--------+------------------------+\n",
            "only showing top 20 rows\n",
            "\n"
          ],
          "name": "stdout"
        }
      ]
    },
    {
      "cell_type": "code",
      "metadata": {
        "id": "NKhHJIcNUChM"
      },
      "source": [
        "# Drop all null values\n",
        "df = df.na.drop(how=\"any\")"
      ],
      "execution_count": 61,
      "outputs": []
    },
    {
      "cell_type": "code",
      "metadata": {
        "colab": {
          "base_uri": "https://localhost:8080/"
        },
        "id": "2RPVRAm1VCNy",
        "outputId": "1f5482fc-dbd2-43f9-f92f-b192690566d8"
      },
      "source": [
        "df.show()"
      ],
      "execution_count": 62,
      "outputs": [
        {
          "output_type": "stream",
          "text": [
            "+----------+---------+---------------+----------+----------------+--------------+------+-------+-------------------+--------------------+-----------+--------------------+--------------+-------+-------+--------+------------------------+\n",
            "|case_month|res_state|state_fips_code|res_county|county_fips_code|     age_group|   sex|   race|          ethnicity|             process|exposure_yn|      current_status|symptom_status|hosp_yn| icu_yn|death_yn|underlying_conditions_yn|\n",
            "+----------+---------+---------------+----------+----------------+--------------+------+-------+-------------------+--------------------+-----------+--------------------+--------------+-------+-------+--------+------------------------+\n",
            "|   2021-03|       VT|             50|  FRANKLIN|           50011|18 to 49 years|    NA|     NA|                 NA|             Missing|        Yes|Laboratory-confir...|   Symptomatic|     No|Missing|      No|                     Yes|\n",
            "|   2020-08|       AR|             05|    LONOKE|           05085|  0 - 17 years|Female|     NA|                 NA|             Missing|    Missing|Laboratory-confir...|   Symptomatic|     No|Missing|      NA|                     Yes|\n",
            "|   2020-03|       MS|             28|   MADISON|           28089|18 to 49 years|Female|     NA|                 NA| Clinical evaluation|    Missing|Laboratory-confir...|   Symptomatic|     No|     No|      No|                     Yes|\n",
            "|   2020-11|       WA|             53| SNOHOMISH|           53061|18 to 49 years|Female|Missing|    Hispanic/Latino|             Missing|    Missing|Laboratory-confir...|   Symptomatic|     No|Missing| Missing|                     Yes|\n",
            "|   2020-07|       MD|             24|DORCHESTER|           24019|18 to 49 years|Female|  White|    Hispanic/Latino|             Missing|    Missing|Laboratory-confir...|   Symptomatic|    Yes|Missing|      No|                     Yes|\n",
            "|   2020-10|       TN|             47|      KNOX|           18083|     65+ years|  Male|  White|Non-Hispanic/Latino|             Missing|    Missing|Laboratory-confir...|   Symptomatic|    Yes|Missing| Missing|                     Yes|\n",
            "|   2020-06|       OH|             39|     BROWN|           39015|18 to 49 years|    NA|     NA|                 NA|             Missing|    Missing|Laboratory-confir...|   Symptomatic|     No|Missing|      NA|                     Yes|\n",
            "|   2020-04|       NJ|             34|     SALEM|           34033|18 to 49 years|  Male|Unknown|    Hispanic/Latino|             Missing|    Missing|Laboratory-confir...|   Symptomatic|     No|Unknown|      No|                     Yes|\n",
            "|   2020-05|       PA|             42|  FRANKLIN|           42055|18 to 49 years|Female|  White|    Hispanic/Latino|             Missing|        Yes|Laboratory-confir...|   Symptomatic|    Yes|    Yes|      NA|                     Yes|\n",
            "|   2020-12|       NH|             33|  CHESHIRE|           33005|     65+ years|Female|     NA|                 NA|             Missing|    Missing|Laboratory-confir...|   Symptomatic|     No|Unknown|      No|                     Yes|\n",
            "|   2020-05|       IA|             19|      POLK|           19153|18 to 49 years|Female|Missing|    Hispanic/Latino|             Missing|        Yes|Laboratory-confir...|   Symptomatic|     No|     No|      No|                     Yes|\n",
            "|   2020-04|       PA|             42|    LEHIGH|           42077|18 to 49 years|Female|  Black|    Hispanic/Latino|             Missing|        Yes|Laboratory-confir...|   Symptomatic|     No|     No|      No|                     Yes|\n",
            "|   2021-01|       ID|             16|    CANYON|           16027|  0 - 17 years|Female|  White|    Hispanic/Latino|             Missing|        Yes|Laboratory-confir...|   Symptomatic|     No|Missing|      NA|                     Yes|\n",
            "|   2021-01|       AR|             05|   JOHNSON|           05071|  0 - 17 years|Female|  White|    Hispanic/Latino|             Missing|    Missing|Laboratory-confir...|   Symptomatic|     No|Missing|      NA|                     Yes|\n",
            "|   2020-11|       ID|             16|BONNEVILLE|           16019|18 to 49 years|Female|  White|    Hispanic/Latino|Routine surveillance|    Missing|Laboratory-confir...|   Symptomatic|     No|Missing| Unknown|                     Yes|\n",
            "|   2020-10|       NC|             37|   CATAWBA|           37035|18 to 49 years|Female|  White|    Hispanic/Latino|             Missing|    Missing|Laboratory-confir...|   Symptomatic|     No|Unknown|      No|                     Yes|\n",
            "|   2020-07|       NC|             37|      NASH|           37127|18 to 49 years|Female|  White|    Hispanic/Latino|             Missing|    Unknown|Laboratory-confir...|   Symptomatic|     No|Unknown|      No|                     Yes|\n",
            "|   2020-07|       AR|             05|   GARLAND|           05051|18 to 49 years|  Male|  White|    Hispanic/Latino|             Missing|    Missing|Laboratory-confir...|   Symptomatic|     No|Missing|      NA|                     Yes|\n",
            "|   2020-07|       ID|             16|    JEROME|           16053|18 to 49 years|Female|     NA|                 NA| Clinical evaluation|        Yes|Laboratory-confir...|   Symptomatic|     No|Missing|      No|                     Yes|\n",
            "|   2020-10|       AR|             05|     WHITE|           05145|18 to 49 years|Female|Missing|                 NA|             Missing|    Missing|Laboratory-confir...|   Symptomatic|     No|Missing|      NA|                     Yes|\n",
            "+----------+---------+---------------+----------+----------------+--------------+------+-------+-------------------+--------------------+-----------+--------------------+--------------+-------+-------+--------+------------------------+\n",
            "only showing top 20 rows\n",
            "\n"
          ],
          "name": "stdout"
        }
      ]
    },
    {
      "cell_type": "code",
      "metadata": {
        "id": "Jos6SMh6VVmJ"
      },
      "source": [
        "# Drop rows with NA\n",
        "df = df.filter((df.sex != 'NA') & (df.race != 'NA') & (df.ethnicity != 'NA') & (df.death_yn != 'NA'))"
      ],
      "execution_count": 67,
      "outputs": []
    },
    {
      "cell_type": "code",
      "metadata": {
        "colab": {
          "base_uri": "https://localhost:8080/"
        },
        "id": "nU3vtmw5Wp_g",
        "outputId": "195c2bbb-ef09-492c-9c3b-fa1a4204048e"
      },
      "source": [
        "df.show()"
      ],
      "execution_count": 68,
      "outputs": [
        {
          "output_type": "stream",
          "text": [
            "+----------+---------+---------------+------------+----------------+--------------+------+-------+-------------------+--------------------+-----------+--------------------+--------------+-------+-------+--------+------------------------+\n",
            "|case_month|res_state|state_fips_code|  res_county|county_fips_code|     age_group|   sex|   race|          ethnicity|             process|exposure_yn|      current_status|symptom_status|hosp_yn| icu_yn|death_yn|underlying_conditions_yn|\n",
            "+----------+---------+---------------+------------+----------------+--------------+------+-------+-------------------+--------------------+-----------+--------------------+--------------+-------+-------+--------+------------------------+\n",
            "|   2020-11|       WA|             53|   SNOHOMISH|           53061|18 to 49 years|Female|Missing|    Hispanic/Latino|             Missing|    Missing|Laboratory-confir...|   Symptomatic|     No|Missing| Missing|                     Yes|\n",
            "|   2020-07|       MD|             24|  DORCHESTER|           24019|18 to 49 years|Female|  White|    Hispanic/Latino|             Missing|    Missing|Laboratory-confir...|   Symptomatic|    Yes|Missing|      No|                     Yes|\n",
            "|   2020-10|       TN|             47|        KNOX|           18083|     65+ years|  Male|  White|Non-Hispanic/Latino|             Missing|    Missing|Laboratory-confir...|   Symptomatic|    Yes|Missing| Missing|                     Yes|\n",
            "|   2020-04|       NJ|             34|       SALEM|           34033|18 to 49 years|  Male|Unknown|    Hispanic/Latino|             Missing|    Missing|Laboratory-confir...|   Symptomatic|     No|Unknown|      No|                     Yes|\n",
            "|   2020-05|       IA|             19|        POLK|           19153|18 to 49 years|Female|Missing|    Hispanic/Latino|             Missing|        Yes|Laboratory-confir...|   Symptomatic|     No|     No|      No|                     Yes|\n",
            "|   2020-04|       PA|             42|      LEHIGH|           42077|18 to 49 years|Female|  Black|    Hispanic/Latino|             Missing|        Yes|Laboratory-confir...|   Symptomatic|     No|     No|      No|                     Yes|\n",
            "|   2020-11|       ID|             16|  BONNEVILLE|           16019|18 to 49 years|Female|  White|    Hispanic/Latino|Routine surveillance|    Missing|Laboratory-confir...|   Symptomatic|     No|Missing| Unknown|                     Yes|\n",
            "|   2020-10|       NC|             37|     CATAWBA|           37035|18 to 49 years|Female|  White|    Hispanic/Latino|             Missing|    Missing|Laboratory-confir...|   Symptomatic|     No|Unknown|      No|                     Yes|\n",
            "|   2020-07|       NC|             37|        NASH|           37127|18 to 49 years|Female|  White|    Hispanic/Latino|             Missing|    Unknown|Laboratory-confir...|   Symptomatic|     No|Unknown|      No|                     Yes|\n",
            "|   2020-04|       NJ|             34|   HUNTERDON|           34019|18 to 49 years|Female|  White|    Hispanic/Latino|             Missing|    Missing|Laboratory-confir...|   Symptomatic|     No|Unknown|      No|                     Yes|\n",
            "|   2020-08|       NH|             33|HILLSBOROUGH|           33011|18 to 49 years|Female|Unknown|    Hispanic/Latino|             Missing|    Missing|Laboratory-confir...|   Symptomatic|     No|Unknown|      No|                     Yes|\n",
            "|   2020-04|       NJ|             34|      MORRIS|           34027|50 to 64 years|Female|Unknown|    Hispanic/Latino|             Missing|    Missing|Laboratory-confir...|   Symptomatic|     No|Unknown|      No|                     Yes|\n",
            "|   2020-12|       WA|             53|       LEWIS|           53041|18 to 49 years|  Male|Missing|    Hispanic/Latino|             Missing|    Missing|Laboratory-confir...|   Symptomatic|     No|Missing| Missing|                     Yes|\n",
            "|   2020-12|       AR|             05|     CARROLL|           05015|18 to 49 years|Female|  White|    Hispanic/Latino|             Missing|    Missing|Laboratory-confir...|   Symptomatic|     No|Missing|      No|                     Yes|\n",
            "|   2020-11|       PA|             42|     LUZERNE|           42079|18 to 49 years|Female|  White|    Hispanic/Latino|             Missing|        Yes|Laboratory-confir...|   Symptomatic|     No|     No|      No|                     Yes|\n",
            "|   2020-06|       KS|             20|     SHAWNEE|           20177|18 to 49 years|Female|  White|    Hispanic/Latino| Clinical evaluation|        Yes|Laboratory-confir...|   Symptomatic|     No|     No|      No|                      No|\n",
            "|   2020-12|       MN|             27|      BENTON|           27009|  0 - 17 years|Female|  White|            Missing|             Missing|        Yes|Laboratory-confir...|   Symptomatic|Missing|Missing|      No|                     Yes|\n",
            "|   2020-07|       NC|             37|        WAKE|           37183|18 to 49 years|Female|Unknown|    Hispanic/Latino|             Missing|    Unknown|Laboratory-confir...|   Symptomatic|     No|Unknown|      No|                     Yes|\n",
            "|   2020-07|       AR|             05|   SEBASTIAN|           05131|  0 - 17 years|Female|  White|    Hispanic/Latino|             Missing|    Missing|Laboratory-confir...|   Symptomatic|     No|Missing| Missing|                     Yes|\n",
            "|   2020-07|       AR|             05|INDEPENDENCE|           05063|18 to 49 years|  Male|  White|    Hispanic/Latino|             Missing|    Missing|Laboratory-confir...|   Symptomatic|     No|Missing| Missing|                     Yes|\n",
            "+----------+---------+---------------+------------+----------------+--------------+------+-------+-------------------+--------------------+-----------+--------------------+--------------+-------+-------+--------+------------------------+\n",
            "only showing top 20 rows\n",
            "\n"
          ],
          "name": "stdout"
        }
      ]
    },
    {
      "cell_type": "code",
      "metadata": {
        "id": "JzFYfCjRZA-K"
      },
      "source": [
        "# Drop unnecessary columns\n",
        "df = df.drop(\"process\")"
      ],
      "execution_count": 70,
      "outputs": []
    },
    {
      "cell_type": "code",
      "metadata": {
        "colab": {
          "base_uri": "https://localhost:8080/"
        },
        "id": "v72_9PqyZQLo",
        "outputId": "c17adf67-d664-4534-cd50-3547d5503f97"
      },
      "source": [
        "df.show()"
      ],
      "execution_count": 71,
      "outputs": [
        {
          "output_type": "stream",
          "text": [
            "+----------+---------+---------------+------------+----------------+--------------+------+-------+-------------------+-----------+--------------------+--------------+-------+-------+--------+------------------------+\n",
            "|case_month|res_state|state_fips_code|  res_county|county_fips_code|     age_group|   sex|   race|          ethnicity|exposure_yn|      current_status|symptom_status|hosp_yn| icu_yn|death_yn|underlying_conditions_yn|\n",
            "+----------+---------+---------------+------------+----------------+--------------+------+-------+-------------------+-----------+--------------------+--------------+-------+-------+--------+------------------------+\n",
            "|   2020-11|       WA|             53|   SNOHOMISH|           53061|18 to 49 years|Female|Missing|    Hispanic/Latino|    Missing|Laboratory-confir...|   Symptomatic|     No|Missing| Missing|                     Yes|\n",
            "|   2020-07|       MD|             24|  DORCHESTER|           24019|18 to 49 years|Female|  White|    Hispanic/Latino|    Missing|Laboratory-confir...|   Symptomatic|    Yes|Missing|      No|                     Yes|\n",
            "|   2020-10|       TN|             47|        KNOX|           18083|     65+ years|  Male|  White|Non-Hispanic/Latino|    Missing|Laboratory-confir...|   Symptomatic|    Yes|Missing| Missing|                     Yes|\n",
            "|   2020-04|       NJ|             34|       SALEM|           34033|18 to 49 years|  Male|Unknown|    Hispanic/Latino|    Missing|Laboratory-confir...|   Symptomatic|     No|Unknown|      No|                     Yes|\n",
            "|   2020-05|       IA|             19|        POLK|           19153|18 to 49 years|Female|Missing|    Hispanic/Latino|        Yes|Laboratory-confir...|   Symptomatic|     No|     No|      No|                     Yes|\n",
            "|   2020-04|       PA|             42|      LEHIGH|           42077|18 to 49 years|Female|  Black|    Hispanic/Latino|        Yes|Laboratory-confir...|   Symptomatic|     No|     No|      No|                     Yes|\n",
            "|   2020-11|       ID|             16|  BONNEVILLE|           16019|18 to 49 years|Female|  White|    Hispanic/Latino|    Missing|Laboratory-confir...|   Symptomatic|     No|Missing| Unknown|                     Yes|\n",
            "|   2020-10|       NC|             37|     CATAWBA|           37035|18 to 49 years|Female|  White|    Hispanic/Latino|    Missing|Laboratory-confir...|   Symptomatic|     No|Unknown|      No|                     Yes|\n",
            "|   2020-07|       NC|             37|        NASH|           37127|18 to 49 years|Female|  White|    Hispanic/Latino|    Unknown|Laboratory-confir...|   Symptomatic|     No|Unknown|      No|                     Yes|\n",
            "|   2020-04|       NJ|             34|   HUNTERDON|           34019|18 to 49 years|Female|  White|    Hispanic/Latino|    Missing|Laboratory-confir...|   Symptomatic|     No|Unknown|      No|                     Yes|\n",
            "|   2020-08|       NH|             33|HILLSBOROUGH|           33011|18 to 49 years|Female|Unknown|    Hispanic/Latino|    Missing|Laboratory-confir...|   Symptomatic|     No|Unknown|      No|                     Yes|\n",
            "|   2020-04|       NJ|             34|      MORRIS|           34027|50 to 64 years|Female|Unknown|    Hispanic/Latino|    Missing|Laboratory-confir...|   Symptomatic|     No|Unknown|      No|                     Yes|\n",
            "|   2020-12|       WA|             53|       LEWIS|           53041|18 to 49 years|  Male|Missing|    Hispanic/Latino|    Missing|Laboratory-confir...|   Symptomatic|     No|Missing| Missing|                     Yes|\n",
            "|   2020-12|       AR|             05|     CARROLL|           05015|18 to 49 years|Female|  White|    Hispanic/Latino|    Missing|Laboratory-confir...|   Symptomatic|     No|Missing|      No|                     Yes|\n",
            "|   2020-11|       PA|             42|     LUZERNE|           42079|18 to 49 years|Female|  White|    Hispanic/Latino|        Yes|Laboratory-confir...|   Symptomatic|     No|     No|      No|                     Yes|\n",
            "|   2020-06|       KS|             20|     SHAWNEE|           20177|18 to 49 years|Female|  White|    Hispanic/Latino|        Yes|Laboratory-confir...|   Symptomatic|     No|     No|      No|                      No|\n",
            "|   2020-12|       MN|             27|      BENTON|           27009|  0 - 17 years|Female|  White|            Missing|        Yes|Laboratory-confir...|   Symptomatic|Missing|Missing|      No|                     Yes|\n",
            "|   2020-07|       NC|             37|        WAKE|           37183|18 to 49 years|Female|Unknown|    Hispanic/Latino|    Unknown|Laboratory-confir...|   Symptomatic|     No|Unknown|      No|                     Yes|\n",
            "|   2020-07|       AR|             05|   SEBASTIAN|           05131|  0 - 17 years|Female|  White|    Hispanic/Latino|    Missing|Laboratory-confir...|   Symptomatic|     No|Missing| Missing|                     Yes|\n",
            "|   2020-07|       AR|             05|INDEPENDENCE|           05063|18 to 49 years|  Male|  White|    Hispanic/Latino|    Missing|Laboratory-confir...|   Symptomatic|     No|Missing| Missing|                     Yes|\n",
            "+----------+---------+---------------+------------+----------------+--------------+------+-------+-------------------+-----------+--------------------+--------------+-------+-------+--------+------------------------+\n",
            "only showing top 20 rows\n",
            "\n"
          ],
          "name": "stdout"
        }
      ]
    },
    {
      "cell_type": "code",
      "metadata": {
        "id": "1VozdYMmXmAl"
      },
      "source": [
        "# Drop rows with Missing\n",
        "df = df.filter((df.race != 'Missing') & (df.ethnicity != 'Missing') & (df.exposure_yn != 'Missing') & (df.hosp_yn != 'Missing') & (df.icu_yn != 'Missing') & (df.death_yn != 'Missing'))"
      ],
      "execution_count": 73,
      "outputs": []
    },
    {
      "cell_type": "code",
      "metadata": {
        "colab": {
          "base_uri": "https://localhost:8080/"
        },
        "id": "XtFBImWCaW9B",
        "outputId": "5430de1e-091e-4a31-eec4-f3e8a8b6fce0"
      },
      "source": [
        "df.show()"
      ],
      "execution_count": 74,
      "outputs": [
        {
          "output_type": "stream",
          "text": [
            "+----------+---------+---------------+----------+----------------+--------------+------+--------------+---------------+-----------+--------------------+--------------+-------+-------+--------+------------------------+\n",
            "|case_month|res_state|state_fips_code|res_county|county_fips_code|     age_group|   sex|          race|      ethnicity|exposure_yn|      current_status|symptom_status|hosp_yn| icu_yn|death_yn|underlying_conditions_yn|\n",
            "+----------+---------+---------------+----------+----------------+--------------+------+--------------+---------------+-----------+--------------------+--------------+-------+-------+--------+------------------------+\n",
            "|   2020-04|       PA|             42|    LEHIGH|           42077|18 to 49 years|Female|         Black|Hispanic/Latino|        Yes|Laboratory-confir...|   Symptomatic|     No|     No|      No|                     Yes|\n",
            "|   2020-07|       NC|             37|      NASH|           37127|18 to 49 years|Female|         White|Hispanic/Latino|    Unknown|Laboratory-confir...|   Symptomatic|     No|Unknown|      No|                     Yes|\n",
            "|   2020-11|       PA|             42|   LUZERNE|           42079|18 to 49 years|Female|         White|Hispanic/Latino|        Yes|Laboratory-confir...|   Symptomatic|     No|     No|      No|                     Yes|\n",
            "|   2020-06|       KS|             20|   SHAWNEE|           20177|18 to 49 years|Female|         White|Hispanic/Latino|        Yes|Laboratory-confir...|   Symptomatic|     No|     No|      No|                      No|\n",
            "|   2020-07|       NC|             37|      WAKE|           37183|18 to 49 years|Female|       Unknown|Hispanic/Latino|    Unknown|Laboratory-confir...|   Symptomatic|     No|Unknown|      No|                     Yes|\n",
            "|   2020-06|       KS|             20|  CRAWFORD|           20037|18 to 49 years|  Male|       Unknown|Hispanic/Latino|        Yes|Laboratory-confir...|  Asymptomatic|     No|     No|      No|                      No|\n",
            "|   2020-12|       NV|             32|     CLARK|           32003|18 to 49 years|  Male|         Asian|Hispanic/Latino|        Yes|Laboratory-confir...|   Symptomatic|     No|     No|      No|                     Yes|\n",
            "|   2020-04|       NC|             37|  RANDOLPH|           37151|  0 - 17 years|Female|         White|Hispanic/Latino|    Unknown|Laboratory-confir...|   Symptomatic|     No|Unknown|      No|                     Yes|\n",
            "|   2020-04|       KS|             20|      FORD|           20057|50 to 64 years|  Male|       Unknown|Hispanic/Latino|        Yes|Laboratory-confir...|   Symptomatic|     No|Unknown|      No|                     Yes|\n",
            "|   2021-04|       OH|             39|MONTGOMERY|           39113|18 to 49 years|Female|         White|Hispanic/Latino|        Yes|Laboratory-confir...|   Symptomatic|     No|     No|      No|                     Yes|\n",
            "|   2020-06|       IA|             19|   JOHNSON|           19103|18 to 49 years|  Male|         White|Hispanic/Latino|    Unknown|Laboratory-confir...|   Symptomatic|     No|     No|      No|                     Yes|\n",
            "|   2020-11|       NC|             37|     VANCE|           37181|18 to 49 years|Female|         White|Hispanic/Latino|    Unknown|Laboratory-confir...|   Symptomatic|     No|Unknown|      No|                     Yes|\n",
            "|   2020-12|       OH|             39|  DEFIANCE|           39039|18 to 49 years|  Male|         White|Hispanic/Latino|    Unknown|Laboratory-confir...|   Symptomatic|     No|     No|      No|                     Yes|\n",
            "|   2020-12|       KS|             20|  SEDGWICK|           20173|18 to 49 years|Female|Multiple/Other|Hispanic/Latino|    Unknown|Laboratory-confir...|   Symptomatic|     No|     No|      No|                     Yes|\n",
            "|   2020-11|       NC|             37| BRUNSWICK|           37019|18 to 49 years|  Male|         White|Hispanic/Latino|        Yes|       Probable Case|   Symptomatic|     No|Unknown|      No|                     Yes|\n",
            "|   2020-06|       KS|             20|   SHAWNEE|           20177|18 to 49 years|Female|         White|Hispanic/Latino|        Yes|Laboratory-confir...|   Symptomatic|     No|     No|      No|                     Yes|\n",
            "|   2020-09|       NC|             37|       LEE|           37105|18 to 49 years|  Male|       Unknown|Hispanic/Latino|    Unknown|Laboratory-confir...|  Asymptomatic|     No|Unknown|      No|                     Yes|\n",
            "|   2020-05|       NC|             37|     SURRY|           37171|  0 - 17 years|Female|         White|Hispanic/Latino|    Unknown|Laboratory-confir...|  Asymptomatic|     No|Unknown|      No|                     Yes|\n",
            "|   2020-06|       NC|             37|  JOHNSTON|           37101|  0 - 17 years|Female|         White|Hispanic/Latino|        Yes|Laboratory-confir...|   Symptomatic|     No|Unknown|      No|                     Yes|\n",
            "|   2020-04|       KS|             20|      LYON|           20111|18 to 49 years|Female|         White|Hispanic/Latino|        Yes|Laboratory-confir...|   Symptomatic|     No|     No|      No|                     Yes|\n",
            "+----------+---------+---------------+----------+----------------+--------------+------+--------------+---------------+-----------+--------------------+--------------+-------+-------+--------+------------------------+\n",
            "only showing top 20 rows\n",
            "\n"
          ],
          "name": "stdout"
        }
      ]
    },
    {
      "cell_type": "code",
      "metadata": {
        "id": "UWR-SOfDabwO"
      },
      "source": [
        "# Drop rows with Unknown\n",
        "df = df.filter((df.race != 'Unknown') & (df.ethnicity != 'Unknown') & (df.exposure_yn != 'Unknown') & (df.symptom_status != 'Unknown') & (df.hosp_yn != 'Unknown') & (df.icu_yn != 'Unknown') & (df.death_yn != 'Unknown'))"
      ],
      "execution_count": 78,
      "outputs": []
    },
    {
      "cell_type": "code",
      "metadata": {
        "colab": {
          "base_uri": "https://localhost:8080/"
        },
        "id": "t_dFNs5pc9ML",
        "outputId": "cb7adf2a-dc0e-41ab-8afb-0b02ac876c13"
      },
      "source": [
        "df.show()"
      ],
      "execution_count": 79,
      "outputs": [
        {
          "output_type": "stream",
          "text": [
            "+----------+---------+---------------+----------+----------------+--------------+------+--------------+---------------+-----------+--------------------+--------------+-------+------+--------+------------------------+\n",
            "|case_month|res_state|state_fips_code|res_county|county_fips_code|     age_group|   sex|          race|      ethnicity|exposure_yn|      current_status|symptom_status|hosp_yn|icu_yn|death_yn|underlying_conditions_yn|\n",
            "+----------+---------+---------------+----------+----------------+--------------+------+--------------+---------------+-----------+--------------------+--------------+-------+------+--------+------------------------+\n",
            "|   2020-04|       PA|             42|    LEHIGH|           42077|18 to 49 years|Female|         Black|Hispanic/Latino|        Yes|Laboratory-confir...|   Symptomatic|     No|    No|      No|                     Yes|\n",
            "|   2020-11|       PA|             42|   LUZERNE|           42079|18 to 49 years|Female|         White|Hispanic/Latino|        Yes|Laboratory-confir...|   Symptomatic|     No|    No|      No|                     Yes|\n",
            "|   2020-06|       KS|             20|   SHAWNEE|           20177|18 to 49 years|Female|         White|Hispanic/Latino|        Yes|Laboratory-confir...|   Symptomatic|     No|    No|      No|                      No|\n",
            "|   2020-12|       NV|             32|     CLARK|           32003|18 to 49 years|  Male|         Asian|Hispanic/Latino|        Yes|Laboratory-confir...|   Symptomatic|     No|    No|      No|                     Yes|\n",
            "|   2021-04|       OH|             39|MONTGOMERY|           39113|18 to 49 years|Female|         White|Hispanic/Latino|        Yes|Laboratory-confir...|   Symptomatic|     No|    No|      No|                     Yes|\n",
            "|   2020-06|       KS|             20|   SHAWNEE|           20177|18 to 49 years|Female|         White|Hispanic/Latino|        Yes|Laboratory-confir...|   Symptomatic|     No|    No|      No|                     Yes|\n",
            "|   2020-04|       KS|             20|      LYON|           20111|18 to 49 years|Female|         White|Hispanic/Latino|        Yes|Laboratory-confir...|   Symptomatic|     No|    No|      No|                     Yes|\n",
            "|   2020-05|       KS|             20|    SEWARD|           20175|  0 - 17 years|Female|         White|Hispanic/Latino|        Yes|Laboratory-confir...|   Symptomatic|     No|    No|      No|                      No|\n",
            "|   2020-06|       TN|             47|    SUMNER|           47165|18 to 49 years|  Male|         White|Hispanic/Latino|        Yes|Laboratory-confir...|   Symptomatic|     No|    No|      No|                     Yes|\n",
            "|   2020-05|       PA|             42|  FRANKLIN|           42055|18 to 49 years|Female|         White|Hispanic/Latino|        Yes|Laboratory-confir...|   Symptomatic|     No|    No|      No|                     Yes|\n",
            "|   2020-10|       KS|             20|    HARVEY|           20079|18 to 49 years|  Male|         White|Hispanic/Latino|        Yes|Laboratory-confir...|   Symptomatic|     No|    No|      No|                     Yes|\n",
            "|   2020-04|       KS|             20|      LYON|           20111|18 to 49 years|Female|         White|Hispanic/Latino|        Yes|Laboratory-confir...|   Symptomatic|     No|    No|      No|                     Yes|\n",
            "|   2020-05|       KS|             20|    SEWARD|           20175|  0 - 17 years|Female|         White|Hispanic/Latino|        Yes|Laboratory-confir...|   Symptomatic|     No|    No|      No|                     Yes|\n",
            "|   2020-05|       IA|             19|     SIOUX|           19167|18 to 49 years|Female|         White|Hispanic/Latino|        Yes|Laboratory-confir...|   Symptomatic|     No|    No|      No|                     Yes|\n",
            "|   2020-04|       PA|             42|    LEHIGH|           42077|18 to 49 years|Female|         Black|Hispanic/Latino|        Yes|Laboratory-confir...|   Symptomatic|     No|    No|      No|                     Yes|\n",
            "|   2020-11|       PA|             42|   LUZERNE|           42079|18 to 49 years|Female|         White|Hispanic/Latino|        Yes|Laboratory-confir...|   Symptomatic|     No|    No|      No|                     Yes|\n",
            "|   2020-06|       KS|             20|   SHAWNEE|           20177|18 to 49 years|Female|         White|Hispanic/Latino|        Yes|Laboratory-confir...|   Symptomatic|     No|    No|      No|                     Yes|\n",
            "|   2020-12|       NV|             32|     CLARK|           32003|18 to 49 years|  Male|         Asian|Hispanic/Latino|        Yes|Laboratory-confir...|   Symptomatic|     No|    No|      No|                     Yes|\n",
            "|   2020-12|       OH|             39|  MAHONING|           39099|18 to 49 years|Female|Multiple/Other|Hispanic/Latino|        Yes|Laboratory-confir...|   Symptomatic|     No|    No|      No|                     Yes|\n",
            "|   2020-04|       KS|             20|      LYON|           20111|18 to 49 years|Female|         White|Hispanic/Latino|        Yes|Laboratory-confir...|   Symptomatic|     No|    No|      No|                     Yes|\n",
            "+----------+---------+---------------+----------+----------------+--------------+------+--------------+---------------+-----------+--------------------+--------------+-------+------+--------+------------------------+\n",
            "only showing top 20 rows\n",
            "\n"
          ],
          "name": "stdout"
        }
      ]
    },
    {
      "cell_type": "code",
      "metadata": {
        "id": "wuMc58emdIAP"
      },
      "source": [
        "# Filter dates between March 2020 and December 2020\n",
        "df2 = df.filter((df.case_month >= '2020-03') & (df.case_month <= '2020-12'))"
      ],
      "execution_count": 82,
      "outputs": []
    },
    {
      "cell_type": "code",
      "metadata": {
        "colab": {
          "base_uri": "https://localhost:8080/"
        },
        "id": "-XZst2_Idz1e",
        "outputId": "849fa354-533c-4355-927a-5d562266d1b0"
      },
      "source": [
        "df2.show()"
      ],
      "execution_count": 83,
      "outputs": [
        {
          "output_type": "stream",
          "text": [
            "+----------+---------+---------------+----------+----------------+--------------+------+--------------+---------------+-----------+--------------------+--------------+-------+------+--------+------------------------+\n",
            "|case_month|res_state|state_fips_code|res_county|county_fips_code|     age_group|   sex|          race|      ethnicity|exposure_yn|      current_status|symptom_status|hosp_yn|icu_yn|death_yn|underlying_conditions_yn|\n",
            "+----------+---------+---------------+----------+----------------+--------------+------+--------------+---------------+-----------+--------------------+--------------+-------+------+--------+------------------------+\n",
            "|   2020-04|       PA|             42|    LEHIGH|           42077|18 to 49 years|Female|         Black|Hispanic/Latino|        Yes|Laboratory-confir...|   Symptomatic|     No|    No|      No|                     Yes|\n",
            "|   2020-11|       PA|             42|   LUZERNE|           42079|18 to 49 years|Female|         White|Hispanic/Latino|        Yes|Laboratory-confir...|   Symptomatic|     No|    No|      No|                     Yes|\n",
            "|   2020-06|       KS|             20|   SHAWNEE|           20177|18 to 49 years|Female|         White|Hispanic/Latino|        Yes|Laboratory-confir...|   Symptomatic|     No|    No|      No|                      No|\n",
            "|   2020-12|       NV|             32|     CLARK|           32003|18 to 49 years|  Male|         Asian|Hispanic/Latino|        Yes|Laboratory-confir...|   Symptomatic|     No|    No|      No|                     Yes|\n",
            "|   2020-06|       KS|             20|   SHAWNEE|           20177|18 to 49 years|Female|         White|Hispanic/Latino|        Yes|Laboratory-confir...|   Symptomatic|     No|    No|      No|                     Yes|\n",
            "|   2020-04|       KS|             20|      LYON|           20111|18 to 49 years|Female|         White|Hispanic/Latino|        Yes|Laboratory-confir...|   Symptomatic|     No|    No|      No|                     Yes|\n",
            "|   2020-05|       KS|             20|    SEWARD|           20175|  0 - 17 years|Female|         White|Hispanic/Latino|        Yes|Laboratory-confir...|   Symptomatic|     No|    No|      No|                      No|\n",
            "|   2020-06|       TN|             47|    SUMNER|           47165|18 to 49 years|  Male|         White|Hispanic/Latino|        Yes|Laboratory-confir...|   Symptomatic|     No|    No|      No|                     Yes|\n",
            "|   2020-05|       PA|             42|  FRANKLIN|           42055|18 to 49 years|Female|         White|Hispanic/Latino|        Yes|Laboratory-confir...|   Symptomatic|     No|    No|      No|                     Yes|\n",
            "|   2020-10|       KS|             20|    HARVEY|           20079|18 to 49 years|  Male|         White|Hispanic/Latino|        Yes|Laboratory-confir...|   Symptomatic|     No|    No|      No|                     Yes|\n",
            "|   2020-04|       KS|             20|      LYON|           20111|18 to 49 years|Female|         White|Hispanic/Latino|        Yes|Laboratory-confir...|   Symptomatic|     No|    No|      No|                     Yes|\n",
            "|   2020-05|       KS|             20|    SEWARD|           20175|  0 - 17 years|Female|         White|Hispanic/Latino|        Yes|Laboratory-confir...|   Symptomatic|     No|    No|      No|                     Yes|\n",
            "|   2020-05|       IA|             19|     SIOUX|           19167|18 to 49 years|Female|         White|Hispanic/Latino|        Yes|Laboratory-confir...|   Symptomatic|     No|    No|      No|                     Yes|\n",
            "|   2020-04|       PA|             42|    LEHIGH|           42077|18 to 49 years|Female|         Black|Hispanic/Latino|        Yes|Laboratory-confir...|   Symptomatic|     No|    No|      No|                     Yes|\n",
            "|   2020-11|       PA|             42|   LUZERNE|           42079|18 to 49 years|Female|         White|Hispanic/Latino|        Yes|Laboratory-confir...|   Symptomatic|     No|    No|      No|                     Yes|\n",
            "|   2020-06|       KS|             20|   SHAWNEE|           20177|18 to 49 years|Female|         White|Hispanic/Latino|        Yes|Laboratory-confir...|   Symptomatic|     No|    No|      No|                     Yes|\n",
            "|   2020-12|       NV|             32|     CLARK|           32003|18 to 49 years|  Male|         Asian|Hispanic/Latino|        Yes|Laboratory-confir...|   Symptomatic|     No|    No|      No|                     Yes|\n",
            "|   2020-12|       OH|             39|  MAHONING|           39099|18 to 49 years|Female|Multiple/Other|Hispanic/Latino|        Yes|Laboratory-confir...|   Symptomatic|     No|    No|      No|                     Yes|\n",
            "|   2020-04|       KS|             20|      LYON|           20111|18 to 49 years|Female|         White|Hispanic/Latino|        Yes|Laboratory-confir...|   Symptomatic|     No|    No|      No|                     Yes|\n",
            "|   2020-05|       IA|             19|     SIOUX|           19167|18 to 49 years|Female|         White|Hispanic/Latino|        Yes|Laboratory-confir...|   Symptomatic|     No|    No|      No|                     Yes|\n",
            "+----------+---------+---------------+----------+----------------+--------------+------+--------------+---------------+-----------+--------------------+--------------+-------+------+--------+------------------------+\n",
            "only showing top 20 rows\n",
            "\n"
          ],
          "name": "stdout"
        }
      ]
    },
    {
      "cell_type": "code",
      "metadata": {
        "colab": {
          "base_uri": "https://localhost:8080/"
        },
        "id": "BaMKmD4wd_g2",
        "outputId": "278dbf00-5c0d-4394-fda1-f015a1bc9509"
      },
      "source": [
        "df2.count()"
      ],
      "execution_count": 84,
      "outputs": [
        {
          "output_type": "execute_result",
          "data": {
            "text/plain": [
              "141944"
            ]
          },
          "metadata": {
            "tags": []
          },
          "execution_count": 84
        }
      ]
    },
    {
      "cell_type": "code",
      "metadata": {
        "id": "teY99oBofeK5"
      },
      "source": [
        "df2.toPandas().to_csv('cdc_database_cleaned.csv')"
      ],
      "execution_count": 109,
      "outputs": []
    },
    {
      "cell_type": "code",
      "metadata": {
        "id": "N49qDc9PiMGN"
      },
      "source": [
        ""
      ],
      "execution_count": null,
      "outputs": []
    }
  ]
}
{
  "nbformat": 4,
  "nbformat_minor": 0,
  "metadata": {
    "colab": {
      "name": "maryland_data.ipynb",
      "provenance": [],
      "authorship_tag": "ABX9TyN5ZDPWoFPfhGKERituPsva",
      "include_colab_link": true
    },
    "kernelspec": {
      "name": "python3",
      "display_name": "Python 3"
    },
    "language_info": {
      "name": "python"
    }
  },
  "cells": [
    {
      "cell_type": "markdown",
      "metadata": {
        "id": "view-in-github",
        "colab_type": "text"
      },
      "source": [
        "<a href=\"https://colab.research.google.com/github/dwwatson1/coronavirus_pandemic_playbook/blob/michael_work/maryland_data.ipynb\" target=\"_parent\"><img src=\"https://colab.research.google.com/assets/colab-badge.svg\" alt=\"Open In Colab\"/></a>"
      ]
    },
    {
      "cell_type": "code",
      "metadata": {
        "colab": {
          "base_uri": "https://localhost:8080/"
        },
        "id": "7ktynJln_BpX",
        "outputId": "951ffe63-9db4-4064-adb9-e5b719dd40a5"
      },
      "source": [
        "import os\n",
        "# Find the latest version of spark 3.0  from http://www-us.apache.org/dist/spark/ and enter as the spark version\n",
        "# For example:\n",
        "# spark_version = 'spark-3.1.2'\n",
        "spark_version = 'spark-3.1.2'\n",
        "os.environ['SPARK_VERSION']=spark_version\n",
        "\n",
        "# Install Spark and Java\n",
        "!apt-get update\n",
        "!apt-get install openjdk-11-jdk-headless -qq > /dev/null\n",
        "!wget -q http://www-us.apache.org/dist/spark/$SPARK_VERSION/$SPARK_VERSION-bin-hadoop2.7.tgz\n",
        "!tar xf $SPARK_VERSION-bin-hadoop2.7.tgz\n",
        "!pip install -q findspark\n",
        "\n",
        "# Set Environment Variables\n",
        "import os\n",
        "os.environ[\"JAVA_HOME\"] = \"/usr/lib/jvm/java-11-openjdk-amd64\"\n",
        "os.environ[\"SPARK_HOME\"] = f\"/content/{spark_version}-bin-hadoop2.7\"\n",
        "\n",
        "# Start a SparkSession\n",
        "import findspark\n",
        "findspark.init()"
      ],
      "execution_count": 1,
      "outputs": [
        {
          "output_type": "stream",
          "text": [
            "\r0% [Working]\r            \rIgn:1 https://developer.download.nvidia.com/compute/cuda/repos/ubuntu1804/x86_64  InRelease\n",
            "\r0% [Connecting to archive.ubuntu.com] [Connecting to security.ubuntu.com] [Conn\r                                                                               \rIgn:2 https://developer.download.nvidia.com/compute/machine-learning/repos/ubuntu1804/x86_64  InRelease\n",
            "Get:3 https://developer.download.nvidia.com/compute/cuda/repos/ubuntu1804/x86_64  Release [697 B]\n",
            "Hit:4 https://developer.download.nvidia.com/compute/machine-learning/repos/ubuntu1804/x86_64  Release\n",
            "Get:5 https://cloud.r-project.org/bin/linux/ubuntu bionic-cran40/ InRelease [3,626 B]\n",
            "Get:6 https://developer.download.nvidia.com/compute/cuda/repos/ubuntu1804/x86_64  Release.gpg [836 B]\n",
            "Get:7 http://security.ubuntu.com/ubuntu bionic-security InRelease [88.7 kB]\n",
            "Get:8 http://ppa.launchpad.net/c2d4u.team/c2d4u4.0+/ubuntu bionic InRelease [15.9 kB]\n",
            "Hit:10 http://archive.ubuntu.com/ubuntu bionic InRelease\n",
            "Get:11 http://archive.ubuntu.com/ubuntu bionic-updates InRelease [88.7 kB]\n",
            "Get:12 https://cloud.r-project.org/bin/linux/ubuntu bionic-cran40/ Packages [62.2 kB]\n",
            "Hit:13 http://ppa.launchpad.net/cran/libgit2/ubuntu bionic InRelease\n",
            "Ign:14 https://developer.download.nvidia.com/compute/cuda/repos/ubuntu1804/x86_64  Packages\n",
            "Get:14 https://developer.download.nvidia.com/compute/cuda/repos/ubuntu1804/x86_64  Packages [637 kB]\n",
            "Get:15 http://ppa.launchpad.net/deadsnakes/ppa/ubuntu bionic InRelease [15.9 kB]\n",
            "Get:16 http://archive.ubuntu.com/ubuntu bionic-backports InRelease [74.6 kB]\n",
            "Get:17 http://security.ubuntu.com/ubuntu bionic-security/main amd64 Packages [2,221 kB]\n",
            "Hit:18 http://ppa.launchpad.net/graphics-drivers/ppa/ubuntu bionic InRelease\n",
            "Get:19 http://ppa.launchpad.net/c2d4u.team/c2d4u4.0+/ubuntu bionic/main Sources [1,780 kB]\n",
            "Get:20 http://security.ubuntu.com/ubuntu bionic-security/universe amd64 Packages [1,418 kB]\n",
            "Get:21 http://archive.ubuntu.com/ubuntu bionic-updates/universe amd64 Packages [2,188 kB]\n",
            "Get:22 http://archive.ubuntu.com/ubuntu bionic-updates/main amd64 Packages [2,658 kB]\n",
            "Get:23 http://ppa.launchpad.net/c2d4u.team/c2d4u4.0+/ubuntu bionic/main amd64 Packages [910 kB]\n",
            "Get:24 http://ppa.launchpad.net/deadsnakes/ppa/ubuntu bionic/main amd64 Packages [40.8 kB]\n",
            "Fetched 12.2 MB in 4s (2,886 kB/s)\n",
            "Reading package lists... Done\n"
          ],
          "name": "stdout"
        }
      ]
    },
    {
      "cell_type": "code",
      "metadata": {
        "id": "6emkTVSq_LUF"
      },
      "source": [
        "# Start Spark session\n",
        "from pyspark.sql import SparkSession\n",
        "spark = SparkSession.builder.appName(\"DataFrameBasics\").getOrCreate()"
      ],
      "execution_count": 2,
      "outputs": []
    },
    {
      "cell_type": "code",
      "metadata": {
        "id": "k2KVY41S_Ojr"
      },
      "source": [
        "# Read in data from S3 Buckets\n",
        "from pyspark import SparkFiles\n",
        "url = \"https://cdc-main-database.s3.amazonaws.com/COVID-19_Case_Surveillance_Public_Use_Data_with_Geography.csv\"\n",
        "spark.sparkContext.addFile(url)\n",
        "df = spark.read.csv(SparkFiles.get(\"COVID-19_Case_Surveillance_Public_Use_Data_with_Geography.csv\"), header=True)"
      ],
      "execution_count": 3,
      "outputs": []
    },
    {
      "cell_type": "code",
      "metadata": {
        "colab": {
          "base_uri": "https://localhost:8080/"
        },
        "id": "IdOuaE5p_RfM",
        "outputId": "3f0f5fe4-273f-4fe2-9cba-0dc78e4f00a5"
      },
      "source": [
        "df.show()"
      ],
      "execution_count": 4,
      "outputs": [
        {
          "output_type": "stream",
          "text": [
            "+----------+---------+---------------+----------+----------------+--------------+------+-------+---------+-------------------------------+-------------------+--------------------+-----------+--------------------+--------------+-------+-------+--------+------------------------+\n",
            "|case_month|res_state|state_fips_code|res_county|county_fips_code|     age_group|   sex|   race|ethnicity|case_positive_specimen_interval|case_onset_interval|             process|exposure_yn|      current_status|symptom_status|hosp_yn| icu_yn|death_yn|underlying_conditions_yn|\n",
            "+----------+---------+---------------+----------+----------------+--------------+------+-------+---------+-------------------------------+-------------------+--------------------+-----------+--------------------+--------------+-------+-------+--------+------------------------+\n",
            "|   2020-08|       KY|             21|   GRAYSON|           21085|  0 - 17 years|    NA|     NA|       NA|                           null|                  0|             Missing|    Missing|Laboratory-confir...|   Symptomatic|     No|Missing|      No|                    null|\n",
            "|   2021-01|       NC|             37|    MARTIN|           37117|  0 - 17 years|    NA|     NA|       NA|                              0|               null|             Missing|    Unknown|Laboratory-confir...|  Asymptomatic|     No|Unknown|      No|                    null|\n",
            "|   2021-03|       VT|             50|  FRANKLIN|           50011|18 to 49 years|    NA|     NA|       NA|                              0|                  0|             Missing|        Yes|Laboratory-confir...|   Symptomatic|     No|Missing|      No|                     Yes|\n",
            "|   2020-09|       GA|             13|   CATOOSA|           13047|  0 - 17 years|Female|Unknown|  Missing|                           null|               null|             Missing|    Missing|Laboratory-confir...|       Missing|Missing|Missing| Missing|                    null|\n",
            "|   2021-04|       PA|             42|   CLINTON|           42035|  0 - 17 years|Female|     NA|       NA|                              0|                  0|             Missing|        Yes|Laboratory-confir...|   Symptomatic|     No|     No|      NA|                    null|\n",
            "|   2020-10|       PA|             42|  CRAWFORD|           42039|  0 - 17 years|Female|     NA|       NA|                              0|                  0|             Missing|        Yes|Laboratory-confir...|   Symptomatic|     No|     No|      NA|                    null|\n",
            "|   2021-04|       OR|             41|     CROOK|           41013|  0 - 17 years|Female|     NA|       NA|                           null|                  0|             Missing|    Missing|Laboratory-confir...|   Symptomatic|     No|Missing|      No|                    null|\n",
            "|   2020-08|       AR|             05|    LONOKE|           05085|  0 - 17 years|Female|     NA|       NA|                              0|               null|             Missing|    Missing|Laboratory-confir...|   Symptomatic|     No|Missing|      NA|                     Yes|\n",
            "|   2021-03|       OH|             39|    MEDINA|           39103|  0 - 17 years|Female|     NA|       NA|                           null|                  0|Contact tracing o...|        Yes|       Probable Case|   Symptomatic|Missing|Missing|      NA|                    null|\n",
            "|   2020-07|       OK|             40|  MUSKOGEE|           40101|  0 - 17 years|Female|     NA|       NA|                           null|               null|             Missing|    Missing|Laboratory-confir...|       Unknown|     No|Missing|      No|                    null|\n",
            "|   2020-12|       ME|             23|    OXFORD|           23017|  0 - 17 years|Female|     NA|       NA|                           null|               null|             Missing|    Missing|Laboratory-confir...|       Missing|Missing|Missing|      No|                    null|\n",
            "|   2020-12|       OR|             41|      POLK|           41053|  0 - 17 years|Female|     NA|       NA|                           null|                  0|             Missing|    Missing|       Probable Case|   Symptomatic|     No|Missing|      No|                    null|\n",
            "|   2020-08|       NC|             37|  RICHMOND|           37153|  0 - 17 years|Female|     NA|       NA|                              0|               null|             Missing|    Unknown|Laboratory-confir...|       Unknown|     No|Unknown|      No|                    null|\n",
            "|   2020-12|       WI|             55| ST. CROIX|           55109|  0 - 17 years|Female|     NA|       NA|                           null|                  0|             Missing|    Missing|Laboratory-confir...|   Symptomatic|Unknown|Missing| Unknown|                    null|\n",
            "|   2020-12|       NC|             37|    WILKES|           37193|  0 - 17 years|Female|     NA|       NA|                              0|                  0|             Missing|    Unknown|Laboratory-confir...|   Symptomatic|Unknown|Unknown|      No|                    null|\n",
            "|   2020-07|       SC|             45| ABBEVILLE|           45001|18 to 49 years|Female|     NA|       NA|                           null|               null|             Missing|    Missing|Laboratory-confir...|       Missing|Missing|Missing| Missing|                    null|\n",
            "|   2020-11|       OK|             40|   BECKHAM|           40009|18 to 49 years|Female|     NA|       NA|                           null|               null|             Missing|    Missing|Laboratory-confir...|       Unknown|     No|Missing|      No|                    null|\n",
            "|   2020-04|       NC|             37|    BLADEN|           37017|18 to 49 years|Female|     NA|       NA|                              1|                  0|             Missing|    Unknown|Laboratory-confir...|   Symptomatic|Unknown|Unknown|      No|                    null|\n",
            "|   2020-11|       TN|             47|   CARROLL|           47017|18 to 49 years|Female|Missing|  Missing|                              0|               null|             Missing|    Missing|Laboratory-confir...|       Missing|Missing|Missing| Missing|                    null|\n",
            "|   2021-05|       PA|             42|    GREENE|           42059|18 to 49 years|Female|     NA|       NA|                              0|               null|             Missing|    Missing|Laboratory-confir...|       Unknown|Unknown|Unknown| Unknown|                    null|\n",
            "+----------+---------+---------------+----------+----------------+--------------+------+-------+---------+-------------------------------+-------------------+--------------------+-----------+--------------------+--------------+-------+-------+--------+------------------------+\n",
            "only showing top 20 rows\n",
            "\n"
          ],
          "name": "stdout"
        }
      ]
    },
    {
      "cell_type": "code",
      "metadata": {
        "id": "GVlwJ14FAeva"
      },
      "source": [
        "# Drop unnecessary columns\n",
        "df = df.drop(\"case_positive_specimen_interval\", \"case_onset_interval\", \"process\")"
      ],
      "execution_count": 5,
      "outputs": []
    },
    {
      "cell_type": "code",
      "metadata": {
        "colab": {
          "base_uri": "https://localhost:8080/"
        },
        "id": "7MepFVthAmSY",
        "outputId": "4a086ef5-ac6a-4990-e2af-e6ee5ca76896"
      },
      "source": [
        "df.show()"
      ],
      "execution_count": 6,
      "outputs": [
        {
          "output_type": "stream",
          "text": [
            "+----------+---------+---------------+----------+----------------+--------------+------+-------+---------+-----------+--------------------+--------------+-------+-------+--------+------------------------+\n",
            "|case_month|res_state|state_fips_code|res_county|county_fips_code|     age_group|   sex|   race|ethnicity|exposure_yn|      current_status|symptom_status|hosp_yn| icu_yn|death_yn|underlying_conditions_yn|\n",
            "+----------+---------+---------------+----------+----------------+--------------+------+-------+---------+-----------+--------------------+--------------+-------+-------+--------+------------------------+\n",
            "|   2020-08|       KY|             21|   GRAYSON|           21085|  0 - 17 years|    NA|     NA|       NA|    Missing|Laboratory-confir...|   Symptomatic|     No|Missing|      No|                    null|\n",
            "|   2021-01|       NC|             37|    MARTIN|           37117|  0 - 17 years|    NA|     NA|       NA|    Unknown|Laboratory-confir...|  Asymptomatic|     No|Unknown|      No|                    null|\n",
            "|   2021-03|       VT|             50|  FRANKLIN|           50011|18 to 49 years|    NA|     NA|       NA|        Yes|Laboratory-confir...|   Symptomatic|     No|Missing|      No|                     Yes|\n",
            "|   2020-09|       GA|             13|   CATOOSA|           13047|  0 - 17 years|Female|Unknown|  Missing|    Missing|Laboratory-confir...|       Missing|Missing|Missing| Missing|                    null|\n",
            "|   2021-04|       PA|             42|   CLINTON|           42035|  0 - 17 years|Female|     NA|       NA|        Yes|Laboratory-confir...|   Symptomatic|     No|     No|      NA|                    null|\n",
            "|   2020-10|       PA|             42|  CRAWFORD|           42039|  0 - 17 years|Female|     NA|       NA|        Yes|Laboratory-confir...|   Symptomatic|     No|     No|      NA|                    null|\n",
            "|   2021-04|       OR|             41|     CROOK|           41013|  0 - 17 years|Female|     NA|       NA|    Missing|Laboratory-confir...|   Symptomatic|     No|Missing|      No|                    null|\n",
            "|   2020-08|       AR|             05|    LONOKE|           05085|  0 - 17 years|Female|     NA|       NA|    Missing|Laboratory-confir...|   Symptomatic|     No|Missing|      NA|                     Yes|\n",
            "|   2021-03|       OH|             39|    MEDINA|           39103|  0 - 17 years|Female|     NA|       NA|        Yes|       Probable Case|   Symptomatic|Missing|Missing|      NA|                    null|\n",
            "|   2020-07|       OK|             40|  MUSKOGEE|           40101|  0 - 17 years|Female|     NA|       NA|    Missing|Laboratory-confir...|       Unknown|     No|Missing|      No|                    null|\n",
            "|   2020-12|       ME|             23|    OXFORD|           23017|  0 - 17 years|Female|     NA|       NA|    Missing|Laboratory-confir...|       Missing|Missing|Missing|      No|                    null|\n",
            "|   2020-12|       OR|             41|      POLK|           41053|  0 - 17 years|Female|     NA|       NA|    Missing|       Probable Case|   Symptomatic|     No|Missing|      No|                    null|\n",
            "|   2020-08|       NC|             37|  RICHMOND|           37153|  0 - 17 years|Female|     NA|       NA|    Unknown|Laboratory-confir...|       Unknown|     No|Unknown|      No|                    null|\n",
            "|   2020-12|       WI|             55| ST. CROIX|           55109|  0 - 17 years|Female|     NA|       NA|    Missing|Laboratory-confir...|   Symptomatic|Unknown|Missing| Unknown|                    null|\n",
            "|   2020-12|       NC|             37|    WILKES|           37193|  0 - 17 years|Female|     NA|       NA|    Unknown|Laboratory-confir...|   Symptomatic|Unknown|Unknown|      No|                    null|\n",
            "|   2020-07|       SC|             45| ABBEVILLE|           45001|18 to 49 years|Female|     NA|       NA|    Missing|Laboratory-confir...|       Missing|Missing|Missing| Missing|                    null|\n",
            "|   2020-11|       OK|             40|   BECKHAM|           40009|18 to 49 years|Female|     NA|       NA|    Missing|Laboratory-confir...|       Unknown|     No|Missing|      No|                    null|\n",
            "|   2020-04|       NC|             37|    BLADEN|           37017|18 to 49 years|Female|     NA|       NA|    Unknown|Laboratory-confir...|   Symptomatic|Unknown|Unknown|      No|                    null|\n",
            "|   2020-11|       TN|             47|   CARROLL|           47017|18 to 49 years|Female|Missing|  Missing|    Missing|Laboratory-confir...|       Missing|Missing|Missing| Missing|                    null|\n",
            "|   2021-05|       PA|             42|    GREENE|           42059|18 to 49 years|Female|     NA|       NA|    Missing|Laboratory-confir...|       Unknown|Unknown|Unknown| Unknown|                    null|\n",
            "+----------+---------+---------------+----------+----------------+--------------+------+-------+---------+-----------+--------------------+--------------+-------+-------+--------+------------------------+\n",
            "only showing top 20 rows\n",
            "\n"
          ],
          "name": "stdout"
        }
      ]
    },
    {
      "cell_type": "code",
      "metadata": {
        "id": "2SLm--8qAoJo"
      },
      "source": [
        "# Filter dates between March 2020 and December 2020\n",
        "df = df.filter((df.case_month >= '2020-03') & (df.case_month <= '2020-12'))"
      ],
      "execution_count": 8,
      "outputs": []
    },
    {
      "cell_type": "code",
      "metadata": {
        "colab": {
          "base_uri": "https://localhost:8080/"
        },
        "id": "x8d9i1rRAq3o",
        "outputId": "8b37176f-c8ad-4ad6-a45d-8cdffb989712"
      },
      "source": [
        "df.show()"
      ],
      "execution_count": 9,
      "outputs": [
        {
          "output_type": "stream",
          "text": [
            "+----------+---------+---------------+----------+----------------+--------------+------+-------+---------+-----------+--------------------+--------------+-------+-------+--------+------------------------+\n",
            "|case_month|res_state|state_fips_code|res_county|county_fips_code|     age_group|   sex|   race|ethnicity|exposure_yn|      current_status|symptom_status|hosp_yn| icu_yn|death_yn|underlying_conditions_yn|\n",
            "+----------+---------+---------------+----------+----------------+--------------+------+-------+---------+-----------+--------------------+--------------+-------+-------+--------+------------------------+\n",
            "|   2020-08|       KY|             21|   GRAYSON|           21085|  0 - 17 years|    NA|     NA|       NA|    Missing|Laboratory-confir...|   Symptomatic|     No|Missing|      No|                    null|\n",
            "|   2020-09|       GA|             13|   CATOOSA|           13047|  0 - 17 years|Female|Unknown|  Missing|    Missing|Laboratory-confir...|       Missing|Missing|Missing| Missing|                    null|\n",
            "|   2020-10|       PA|             42|  CRAWFORD|           42039|  0 - 17 years|Female|     NA|       NA|        Yes|Laboratory-confir...|   Symptomatic|     No|     No|      NA|                    null|\n",
            "|   2020-08|       AR|             05|    LONOKE|           05085|  0 - 17 years|Female|     NA|       NA|    Missing|Laboratory-confir...|   Symptomatic|     No|Missing|      NA|                     Yes|\n",
            "|   2020-07|       OK|             40|  MUSKOGEE|           40101|  0 - 17 years|Female|     NA|       NA|    Missing|Laboratory-confir...|       Unknown|     No|Missing|      No|                    null|\n",
            "|   2020-12|       ME|             23|    OXFORD|           23017|  0 - 17 years|Female|     NA|       NA|    Missing|Laboratory-confir...|       Missing|Missing|Missing|      No|                    null|\n",
            "|   2020-12|       OR|             41|      POLK|           41053|  0 - 17 years|Female|     NA|       NA|    Missing|       Probable Case|   Symptomatic|     No|Missing|      No|                    null|\n",
            "|   2020-08|       NC|             37|  RICHMOND|           37153|  0 - 17 years|Female|     NA|       NA|    Unknown|Laboratory-confir...|       Unknown|     No|Unknown|      No|                    null|\n",
            "|   2020-12|       WI|             55| ST. CROIX|           55109|  0 - 17 years|Female|     NA|       NA|    Missing|Laboratory-confir...|   Symptomatic|Unknown|Missing| Unknown|                    null|\n",
            "|   2020-12|       NC|             37|    WILKES|           37193|  0 - 17 years|Female|     NA|       NA|    Unknown|Laboratory-confir...|   Symptomatic|Unknown|Unknown|      No|                    null|\n",
            "|   2020-07|       SC|             45| ABBEVILLE|           45001|18 to 49 years|Female|     NA|       NA|    Missing|Laboratory-confir...|       Missing|Missing|Missing| Missing|                    null|\n",
            "|   2020-11|       OK|             40|   BECKHAM|           40009|18 to 49 years|Female|     NA|       NA|    Missing|Laboratory-confir...|       Unknown|     No|Missing|      No|                    null|\n",
            "|   2020-04|       NC|             37|    BLADEN|           37017|18 to 49 years|Female|     NA|       NA|    Unknown|Laboratory-confir...|   Symptomatic|Unknown|Unknown|      No|                    null|\n",
            "|   2020-11|       TN|             47|   CARROLL|           47017|18 to 49 years|Female|Missing|  Missing|    Missing|Laboratory-confir...|       Missing|Missing|Missing| Missing|                    null|\n",
            "|   2020-12|       PA|             42|   INDIANA|           42063|18 to 49 years|Female|     NA|       NA|        Yes|Laboratory-confir...|   Symptomatic|     No|Unknown|      No|                    null|\n",
            "|   2020-03|       MS|             28|   MADISON|           28089|18 to 49 years|Female|     NA|       NA|    Missing|Laboratory-confir...|   Symptomatic|     No|     No|      No|                     Yes|\n",
            "|   2020-12|       PA|             42|   VENANGO|           42121|18 to 49 years|Female|     NA|       NA|    Missing|Laboratory-confir...|       Unknown|Unknown|Unknown| Unknown|                    null|\n",
            "|   2020-11|       GA|             13|WASHINGTON|           13303|18 to 49 years|Female|Unknown|  Missing|    Missing|Laboratory-confir...|       Missing|Missing|Missing| Missing|                    null|\n",
            "|   2020-12|       TN|             47|WASHINGTON|           47179|18 to 49 years|Female|Missing|  Missing|    Missing|Laboratory-confir...|       Missing|Missing|Missing| Missing|                    null|\n",
            "|   2020-06|       IA|             19|     BOONE|           19015|50 to 64 years|Female|     NA|       NA|    Missing|Laboratory-confir...|   Symptomatic|Missing|Missing|      NA|                    null|\n",
            "+----------+---------+---------------+----------+----------------+--------------+------+-------+---------+-----------+--------------------+--------------+-------+-------+--------+------------------------+\n",
            "only showing top 20 rows\n",
            "\n"
          ],
          "name": "stdout"
        }
      ]
    },
    {
      "cell_type": "code",
      "metadata": {
        "id": "aX9A65S3Auug"
      },
      "source": [
        "# Filter for Maryland\n",
        "df = df.filter((df.res_state == 'MD'))"
      ],
      "execution_count": 10,
      "outputs": []
    },
    {
      "cell_type": "code",
      "metadata": {
        "colab": {
          "base_uri": "https://localhost:8080/"
        },
        "id": "qAsmW26qA5xP",
        "outputId": "3ec9fb9e-ad9e-480d-bcc2-f055c00c4de5"
      },
      "source": [
        "df.show()"
      ],
      "execution_count": 11,
      "outputs": [
        {
          "output_type": "stream",
          "text": [
            "+----------+---------+---------------+--------------+----------------+--------------+------+--------------+-------------------+-----------+--------------------+--------------+-------+-------+--------+------------------------+\n",
            "|case_month|res_state|state_fips_code|    res_county|county_fips_code|     age_group|   sex|          race|          ethnicity|exposure_yn|      current_status|symptom_status|hosp_yn| icu_yn|death_yn|underlying_conditions_yn|\n",
            "+----------+---------+---------------+--------------+----------------+--------------+------+--------------+-------------------+-----------+--------------------+--------------+-------+-------+--------+------------------------+\n",
            "|   2020-07|       MD|             24|    DORCHESTER|           24019|18 to 49 years|Female|         White|    Hispanic/Latino|    Missing|Laboratory-confir...|   Symptomatic|    Yes|Missing|      No|                     Yes|\n",
            "|   2020-09|       MD|             24|  QUEEN ANNE'S|           24035|18 to 49 years|Female|            NA|                 NA|    Missing|Laboratory-confir...|   Symptomatic|     No|Missing|      No|                    null|\n",
            "|   2020-05|       MD|             24|      WICOMICO|           24045|18 to 49 years|Female|         Black|            Missing|    Missing|Laboratory-confir...|       Missing|     No|Missing|      NA|                    null|\n",
            "|   2020-11|       MD|             24|       GARRETT|           24023|  0 - 17 years|    NA|            NA|                 NA|    Missing|Laboratory-confir...|       Missing|Missing|Missing|      NA|                    null|\n",
            "|   2020-12|       MD|             24|BALTIMORE CITY|           24510|18 to 49 years|  Male|       Missing|    Hispanic/Latino|    Missing|Laboratory-confir...|       Missing|Missing|Missing| Missing|                    null|\n",
            "|   2020-05|       MD|             24|  ANNE ARUNDEL|           24003|18 to 49 years|  Male|       Missing|    Hispanic/Latino|    Missing|Laboratory-confir...|       Missing|Missing|Missing| Missing|                    null|\n",
            "|   2020-11|       MD|             24|       HARFORD|           24025|50 to 64 years|Female|       Missing|            Missing|    Missing|Laboratory-confir...|       Missing|Missing|Missing| Missing|                    null|\n",
            "|   2020-12|       MD|             24|    WASHINGTON|           24043|18 to 49 years|Female|         White|            Missing|    Missing|Laboratory-confir...|       Missing|Missing|Missing| Missing|                    null|\n",
            "|   2020-05|       MD|             24|      CAROLINE|           24011|18 to 49 years|  Male|         White|    Hispanic/Latino|    Missing|Laboratory-confir...|   Symptomatic|     No|Missing|      No|                    null|\n",
            "|   2020-12|       MD|             24|         CECIL|           24015|18 to 49 years|Female|       Unknown|            Missing|    Missing|Laboratory-confir...|       Missing|Missing|Missing| Missing|                    null|\n",
            "|   2020-05|       MD|             24|      SOMERSET|           24039|18 to 49 years|Female|            NA|                 NA|    Missing|Laboratory-confir...|   Symptomatic|     No|Missing|      NA|                    null|\n",
            "|   2020-11|       MD|             24|      ALLEGANY|           24001|18 to 49 years|  Male|       Missing|            Missing|    Missing|       Probable Case|       Missing|     No|Missing|      No|                    null|\n",
            "|   2020-05|       MD|             24|        HOWARD|           24027|18 to 49 years|  Male|       Missing|    Hispanic/Latino|    Missing|Laboratory-confir...|   Symptomatic|Missing|Missing|      NA|                    null|\n",
            "|   2020-04|       MD|             24|     BALTIMORE|           24005|18 to 49 years|Female|       Missing|    Hispanic/Latino|    Missing|Laboratory-confir...|   Symptomatic|     No|Missing|      No|                    null|\n",
            "|   2020-05|       MD|             24|       CARROLL|           24013|18 to 49 years|  Male|         White|    Hispanic/Latino|    Missing|Laboratory-confir...|       Missing|Unknown|Missing|      NA|                    null|\n",
            "|   2020-11|       MD|             24|    WASHINGTON|           51191|     65+ years|Female|Multiple/Other|Non-Hispanic/Latino|    Missing|Laboratory-confir...|       Missing|Missing|Missing| Missing|                    null|\n",
            "|   2020-12|       MD|             18|    MONTGOMERY|           18107|18 to 49 years|Female|         White|Non-Hispanic/Latino|    Missing|Laboratory-confir...|       Missing|Missing|Missing| Missing|                    null|\n",
            "|   2020-07|       MD|             24|     WORCESTER|           24047|  0 - 17 years|Female|            NA|                 NA|    Missing|Laboratory-confir...|       Missing|     No|Missing|      No|                    null|\n",
            "|   2020-04|       MD|             24|     BALTIMORE|           24005|18 to 49 years|Female|       Missing|    Hispanic/Latino|    Missing|Laboratory-confir...|       Missing|Missing|Missing| Missing|                    null|\n",
            "|   2020-07|       MD|             24|    DORCHESTER|           24019|18 to 49 years|Female|         White|    Hispanic/Latino|    Missing|Laboratory-confir...|   Symptomatic|     No|Missing|      No|                    null|\n",
            "+----------+---------+---------------+--------------+----------------+--------------+------+--------------+-------------------+-----------+--------------------+--------------+-------+-------+--------+------------------------+\n",
            "only showing top 20 rows\n",
            "\n"
          ],
          "name": "stdout"
        }
      ]
    },
    {
      "cell_type": "code",
      "metadata": {
        "id": "_RPZpiZFBCnn"
      },
      "source": [
        "df.toPandas().to_csv('maryland_data.csv')"
      ],
      "execution_count": 12,
      "outputs": []
    }
  ]
}
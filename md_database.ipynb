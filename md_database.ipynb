{
  "nbformat": 4,
  "nbformat_minor": 0,
  "metadata": {
    "colab": {
      "name": "md_database.ipynb",
      "provenance": [],
      "authorship_tag": "ABX9TyNrfwuo79datjqWNuxgybqD",
      "include_colab_link": true
    },
    "kernelspec": {
      "name": "python3",
      "display_name": "Python 3"
    },
    "language_info": {
      "name": "python"
    }
  },
  "cells": [
    {
      "cell_type": "markdown",
      "metadata": {
        "id": "view-in-github",
        "colab_type": "text"
      },
      "source": [
        "<a href=\"https://colab.research.google.com/github/dwwatson1/coronavirus_pandemic_playbook/blob/michael_work/md_database.ipynb\" target=\"_parent\"><img src=\"https://colab.research.google.com/assets/colab-badge.svg\" alt=\"Open In Colab\"/></a>"
      ]
    },
    {
      "cell_type": "code",
      "metadata": {
        "colab": {
          "base_uri": "https://localhost:8080/"
        },
        "id": "VxK3Iwq82_mN",
        "outputId": "4c4b90ab-433e-4ca4-c1c2-f4f160462b89"
      },
      "source": [
        "import os\n",
        "# Find the latest version of spark 3.0  from http://www-us.apache.org/dist/spark/ and enter as the spark version\n",
        "# For example:\n",
        "# spark_version = 'spark-3.1.2'\n",
        "spark_version = 'spark-3.1.2'\n",
        "os.environ['SPARK_VERSION']=spark_version\n",
        "\n",
        "# Install Spark and Java\n",
        "!apt-get update\n",
        "!apt-get install openjdk-11-jdk-headless -qq > /dev/null\n",
        "!wget -q http://www-us.apache.org/dist/spark/$SPARK_VERSION/$SPARK_VERSION-bin-hadoop2.7.tgz\n",
        "!tar xf $SPARK_VERSION-bin-hadoop2.7.tgz\n",
        "!pip install -q findspark\n",
        "\n",
        "# Set Environment Variables\n",
        "import os\n",
        "os.environ[\"JAVA_HOME\"] = \"/usr/lib/jvm/java-11-openjdk-amd64\"\n",
        "os.environ[\"SPARK_HOME\"] = f\"/content/{spark_version}-bin-hadoop2.7\"\n",
        "\n",
        "# Start a SparkSession\n",
        "import findspark\n",
        "findspark.init()"
      ],
      "execution_count": 1,
      "outputs": [
        {
          "output_type": "stream",
          "text": [
            "\r0% [Working]\r            \rGet:1 http://ppa.launchpad.net/c2d4u.team/c2d4u4.0+/ubuntu bionic InRelease [15.9 kB]\n",
            "\r0% [Connecting to archive.ubuntu.com (91.189.88.152)] [Connecting to security.u\r0% [Waiting for headers] [Connecting to security.ubuntu.com (91.189.91.38)] [Co\r                                                                               \rHit:2 http://archive.ubuntu.com/ubuntu bionic InRelease\n",
            "\r0% [Waiting for headers] [Connecting to security.ubuntu.com (91.189.91.38)] [Co\r0% [1 InRelease gpgv 15.9 kB] [Waiting for headers] [Connecting to security.ubu\r                                                                               \rGet:3 http://archive.ubuntu.com/ubuntu bionic-updates InRelease [88.7 kB]\n",
            "\r0% [1 InRelease gpgv 15.9 kB] [3 InRelease 14.2 kB/88.7 kB 16%] [Connecting to \r                                                                               \rHit:4 http://ppa.launchpad.net/cran/libgit2/ubuntu bionic InRelease\n",
            "\r0% [1 InRelease gpgv 15.9 kB] [3 InRelease 15.6 kB/88.7 kB 18%] [Connecting to \r                                                                               \rGet:5 https://cloud.r-project.org/bin/linux/ubuntu bionic-cran40/ InRelease [3,626 B]\n",
            "\r0% [1 InRelease gpgv 15.9 kB] [3 InRelease 15.6 kB/88.7 kB 18%] [Connecting to \r0% [1 InRelease gpgv 15.9 kB] [3 InRelease 15.6 kB/88.7 kB 18%] [Connecting to \r0% [1 InRelease gpgv 15.9 kB] [Waiting for headers] [Connecting to security.ubu\r                                                                               \rHit:6 http://ppa.launchpad.net/deadsnakes/ppa/ubuntu bionic InRelease\n",
            "\r0% [1 InRelease gpgv 15.9 kB] [Waiting for headers] [Connecting to security.ubu\r                                                                               \rGet:7 http://archive.ubuntu.com/ubuntu bionic-backports InRelease [74.6 kB]\n",
            "Hit:8 http://ppa.launchpad.net/graphics-drivers/ppa/ubuntu bionic InRelease\n",
            "Get:9 http://security.ubuntu.com/ubuntu bionic-security InRelease [88.7 kB]\n",
            "Ign:10 https://developer.download.nvidia.com/compute/cuda/repos/ubuntu1804/x86_64  InRelease\n",
            "Get:11 http://ppa.launchpad.net/c2d4u.team/c2d4u4.0+/ubuntu bionic/main Sources [1,780 kB]\n",
            "Ign:12 https://developer.download.nvidia.com/compute/machine-learning/repos/ubuntu1804/x86_64  InRelease\n",
            "Hit:13 https://developer.download.nvidia.com/compute/cuda/repos/ubuntu1804/x86_64  Release\n",
            "Hit:14 https://developer.download.nvidia.com/compute/machine-learning/repos/ubuntu1804/x86_64  Release\n",
            "Get:15 http://ppa.launchpad.net/c2d4u.team/c2d4u4.0+/ubuntu bionic/main amd64 Packages [911 kB]\n",
            "Get:16 http://archive.ubuntu.com/ubuntu bionic-updates/main amd64 Packages [2,658 kB]\n",
            "Get:17 http://archive.ubuntu.com/ubuntu bionic-updates/universe amd64 Packages [2,188 kB]\n",
            "Get:20 http://security.ubuntu.com/ubuntu bionic-security/main amd64 Packages [2,221 kB]\n",
            "Get:21 http://security.ubuntu.com/ubuntu bionic-security/universe amd64 Packages [1,418 kB]\n",
            "Fetched 11.4 MB in 3s (4,147 kB/s)\n",
            "Reading package lists... Done\n"
          ],
          "name": "stdout"
        }
      ]
    },
    {
      "cell_type": "code",
      "metadata": {
        "id": "77_027JC4mVd"
      },
      "source": [
        "# Start Spark session\n",
        "from pyspark.sql import SparkSession\n",
        "spark = SparkSession.builder.appName(\"DataFrameBasics\").getOrCreate()"
      ],
      "execution_count": 2,
      "outputs": []
    },
    {
      "cell_type": "code",
      "metadata": {
        "id": "pBcg0TAI4so8"
      },
      "source": [
        "# Read in data from S3 Buckets\n",
        "from pyspark import SparkFiles\n",
        "url = \"https://cdc-main-database.s3.amazonaws.com/COVID-19_Case_Surveillance_Public_Use_Data_with_Geography.csv\"\n",
        "spark.sparkContext.addFile(url)\n",
        "df = spark.read.csv(SparkFiles.get(\"COVID-19_Case_Surveillance_Public_Use_Data_with_Geography.csv\"), header=True)"
      ],
      "execution_count": 3,
      "outputs": []
    },
    {
      "cell_type": "code",
      "metadata": {
        "colab": {
          "base_uri": "https://localhost:8080/"
        },
        "id": "XvPfRLW-R_hp",
        "outputId": "bfe60d2c-5401-4ea4-ae78-530854084b81"
      },
      "source": [
        "df.show()"
      ],
      "execution_count": 4,
      "outputs": [
        {
          "output_type": "stream",
          "text": [
            "+----------+---------+---------------+----------+----------------+--------------+------+-------+---------+-------------------------------+-------------------+--------------------+-----------+--------------------+--------------+-------+-------+--------+------------------------+\n",
            "|case_month|res_state|state_fips_code|res_county|county_fips_code|     age_group|   sex|   race|ethnicity|case_positive_specimen_interval|case_onset_interval|             process|exposure_yn|      current_status|symptom_status|hosp_yn| icu_yn|death_yn|underlying_conditions_yn|\n",
            "+----------+---------+---------------+----------+----------------+--------------+------+-------+---------+-------------------------------+-------------------+--------------------+-----------+--------------------+--------------+-------+-------+--------+------------------------+\n",
            "|   2020-08|       KY|             21|   GRAYSON|           21085|  0 - 17 years|    NA|     NA|       NA|                           null|                  0|             Missing|    Missing|Laboratory-confir...|   Symptomatic|     No|Missing|      No|                    null|\n",
            "|   2021-01|       NC|             37|    MARTIN|           37117|  0 - 17 years|    NA|     NA|       NA|                              0|               null|             Missing|    Unknown|Laboratory-confir...|  Asymptomatic|     No|Unknown|      No|                    null|\n",
            "|   2021-03|       VT|             50|  FRANKLIN|           50011|18 to 49 years|    NA|     NA|       NA|                              0|                  0|             Missing|        Yes|Laboratory-confir...|   Symptomatic|     No|Missing|      No|                     Yes|\n",
            "|   2020-09|       GA|             13|   CATOOSA|           13047|  0 - 17 years|Female|Unknown|  Missing|                           null|               null|             Missing|    Missing|Laboratory-confir...|       Missing|Missing|Missing| Missing|                    null|\n",
            "|   2021-04|       PA|             42|   CLINTON|           42035|  0 - 17 years|Female|     NA|       NA|                              0|                  0|             Missing|        Yes|Laboratory-confir...|   Symptomatic|     No|     No|      NA|                    null|\n",
            "|   2020-10|       PA|             42|  CRAWFORD|           42039|  0 - 17 years|Female|     NA|       NA|                              0|                  0|             Missing|        Yes|Laboratory-confir...|   Symptomatic|     No|     No|      NA|                    null|\n",
            "|   2021-04|       OR|             41|     CROOK|           41013|  0 - 17 years|Female|     NA|       NA|                           null|                  0|             Missing|    Missing|Laboratory-confir...|   Symptomatic|     No|Missing|      No|                    null|\n",
            "|   2020-08|       AR|             05|    LONOKE|           05085|  0 - 17 years|Female|     NA|       NA|                              0|               null|             Missing|    Missing|Laboratory-confir...|   Symptomatic|     No|Missing|      NA|                     Yes|\n",
            "|   2021-03|       OH|             39|    MEDINA|           39103|  0 - 17 years|Female|     NA|       NA|                           null|                  0|Contact tracing o...|        Yes|       Probable Case|   Symptomatic|Missing|Missing|      NA|                    null|\n",
            "|   2020-07|       OK|             40|  MUSKOGEE|           40101|  0 - 17 years|Female|     NA|       NA|                           null|               null|             Missing|    Missing|Laboratory-confir...|       Unknown|     No|Missing|      No|                    null|\n",
            "|   2020-12|       ME|             23|    OXFORD|           23017|  0 - 17 years|Female|     NA|       NA|                           null|               null|             Missing|    Missing|Laboratory-confir...|       Missing|Missing|Missing|      No|                    null|\n",
            "|   2020-12|       OR|             41|      POLK|           41053|  0 - 17 years|Female|     NA|       NA|                           null|                  0|             Missing|    Missing|       Probable Case|   Symptomatic|     No|Missing|      No|                    null|\n",
            "|   2020-08|       NC|             37|  RICHMOND|           37153|  0 - 17 years|Female|     NA|       NA|                              0|               null|             Missing|    Unknown|Laboratory-confir...|       Unknown|     No|Unknown|      No|                    null|\n",
            "|   2020-12|       WI|             55| ST. CROIX|           55109|  0 - 17 years|Female|     NA|       NA|                           null|                  0|             Missing|    Missing|Laboratory-confir...|   Symptomatic|Unknown|Missing| Unknown|                    null|\n",
            "|   2020-12|       NC|             37|    WILKES|           37193|  0 - 17 years|Female|     NA|       NA|                              0|                  0|             Missing|    Unknown|Laboratory-confir...|   Symptomatic|Unknown|Unknown|      No|                    null|\n",
            "|   2020-07|       SC|             45| ABBEVILLE|           45001|18 to 49 years|Female|     NA|       NA|                           null|               null|             Missing|    Missing|Laboratory-confir...|       Missing|Missing|Missing| Missing|                    null|\n",
            "|   2020-11|       OK|             40|   BECKHAM|           40009|18 to 49 years|Female|     NA|       NA|                           null|               null|             Missing|    Missing|Laboratory-confir...|       Unknown|     No|Missing|      No|                    null|\n",
            "|   2020-04|       NC|             37|    BLADEN|           37017|18 to 49 years|Female|     NA|       NA|                              1|                  0|             Missing|    Unknown|Laboratory-confir...|   Symptomatic|Unknown|Unknown|      No|                    null|\n",
            "|   2020-11|       TN|             47|   CARROLL|           47017|18 to 49 years|Female|Missing|  Missing|                              0|               null|             Missing|    Missing|Laboratory-confir...|       Missing|Missing|Missing| Missing|                    null|\n",
            "|   2021-05|       PA|             42|    GREENE|           42059|18 to 49 years|Female|     NA|       NA|                              0|               null|             Missing|    Missing|Laboratory-confir...|       Unknown|Unknown|Unknown| Unknown|                    null|\n",
            "+----------+---------+---------------+----------+----------------+--------------+------+-------+---------+-------------------------------+-------------------+--------------------+-----------+--------------------+--------------+-------+-------+--------+------------------------+\n",
            "only showing top 20 rows\n",
            "\n"
          ],
          "name": "stdout"
        }
      ]
    },
    {
      "cell_type": "code",
      "metadata": {
        "id": "LFzA_DNAfGU_"
      },
      "source": [
        "# Filter dates between March 2020 and December 2020\n",
        "df = df.filter((df.case_month >= '2020-03') & (df.case_month <= '2020-12'))"
      ],
      "execution_count": 5,
      "outputs": []
    },
    {
      "cell_type": "code",
      "metadata": {
        "colab": {
          "base_uri": "https://localhost:8080/"
        },
        "id": "tZLAJP3efTCY",
        "outputId": "140c52ac-3338-4301-9db7-ab3ce7fc96b4"
      },
      "source": [
        "df.show()"
      ],
      "execution_count": 6,
      "outputs": [
        {
          "output_type": "stream",
          "text": [
            "+----------+---------+---------------+----------+----------------+--------------+------+-------+---------+-------------------------------+-------------------+-------------------+-----------+--------------------+--------------+-------+-------+--------+------------------------+\n",
            "|case_month|res_state|state_fips_code|res_county|county_fips_code|     age_group|   sex|   race|ethnicity|case_positive_specimen_interval|case_onset_interval|            process|exposure_yn|      current_status|symptom_status|hosp_yn| icu_yn|death_yn|underlying_conditions_yn|\n",
            "+----------+---------+---------------+----------+----------------+--------------+------+-------+---------+-------------------------------+-------------------+-------------------+-----------+--------------------+--------------+-------+-------+--------+------------------------+\n",
            "|   2020-08|       KY|             21|   GRAYSON|           21085|  0 - 17 years|    NA|     NA|       NA|                           null|                  0|            Missing|    Missing|Laboratory-confir...|   Symptomatic|     No|Missing|      No|                    null|\n",
            "|   2020-09|       GA|             13|   CATOOSA|           13047|  0 - 17 years|Female|Unknown|  Missing|                           null|               null|            Missing|    Missing|Laboratory-confir...|       Missing|Missing|Missing| Missing|                    null|\n",
            "|   2020-10|       PA|             42|  CRAWFORD|           42039|  0 - 17 years|Female|     NA|       NA|                              0|                  0|            Missing|        Yes|Laboratory-confir...|   Symptomatic|     No|     No|      NA|                    null|\n",
            "|   2020-08|       AR|             05|    LONOKE|           05085|  0 - 17 years|Female|     NA|       NA|                              0|               null|            Missing|    Missing|Laboratory-confir...|   Symptomatic|     No|Missing|      NA|                     Yes|\n",
            "|   2020-07|       OK|             40|  MUSKOGEE|           40101|  0 - 17 years|Female|     NA|       NA|                           null|               null|            Missing|    Missing|Laboratory-confir...|       Unknown|     No|Missing|      No|                    null|\n",
            "|   2020-12|       ME|             23|    OXFORD|           23017|  0 - 17 years|Female|     NA|       NA|                           null|               null|            Missing|    Missing|Laboratory-confir...|       Missing|Missing|Missing|      No|                    null|\n",
            "|   2020-12|       OR|             41|      POLK|           41053|  0 - 17 years|Female|     NA|       NA|                           null|                  0|            Missing|    Missing|       Probable Case|   Symptomatic|     No|Missing|      No|                    null|\n",
            "|   2020-08|       NC|             37|  RICHMOND|           37153|  0 - 17 years|Female|     NA|       NA|                              0|               null|            Missing|    Unknown|Laboratory-confir...|       Unknown|     No|Unknown|      No|                    null|\n",
            "|   2020-12|       WI|             55| ST. CROIX|           55109|  0 - 17 years|Female|     NA|       NA|                           null|                  0|            Missing|    Missing|Laboratory-confir...|   Symptomatic|Unknown|Missing| Unknown|                    null|\n",
            "|   2020-12|       NC|             37|    WILKES|           37193|  0 - 17 years|Female|     NA|       NA|                              0|                  0|            Missing|    Unknown|Laboratory-confir...|   Symptomatic|Unknown|Unknown|      No|                    null|\n",
            "|   2020-07|       SC|             45| ABBEVILLE|           45001|18 to 49 years|Female|     NA|       NA|                           null|               null|            Missing|    Missing|Laboratory-confir...|       Missing|Missing|Missing| Missing|                    null|\n",
            "|   2020-11|       OK|             40|   BECKHAM|           40009|18 to 49 years|Female|     NA|       NA|                           null|               null|            Missing|    Missing|Laboratory-confir...|       Unknown|     No|Missing|      No|                    null|\n",
            "|   2020-04|       NC|             37|    BLADEN|           37017|18 to 49 years|Female|     NA|       NA|                              1|                  0|            Missing|    Unknown|Laboratory-confir...|   Symptomatic|Unknown|Unknown|      No|                    null|\n",
            "|   2020-11|       TN|             47|   CARROLL|           47017|18 to 49 years|Female|Missing|  Missing|                              0|               null|            Missing|    Missing|Laboratory-confir...|       Missing|Missing|Missing| Missing|                    null|\n",
            "|   2020-12|       PA|             42|   INDIANA|           42063|18 to 49 years|Female|     NA|       NA|                              0|                  0|            Missing|        Yes|Laboratory-confir...|   Symptomatic|     No|Unknown|      No|                    null|\n",
            "|   2020-03|       MS|             28|   MADISON|           28089|18 to 49 years|Female|     NA|       NA|                              0|                  0|Clinical evaluation|    Missing|Laboratory-confir...|   Symptomatic|     No|     No|      No|                     Yes|\n",
            "|   2020-12|       PA|             42|   VENANGO|           42121|18 to 49 years|Female|     NA|       NA|                              0|               null|            Missing|    Missing|Laboratory-confir...|       Unknown|Unknown|Unknown| Unknown|                    null|\n",
            "|   2020-11|       GA|             13|WASHINGTON|           13303|18 to 49 years|Female|Unknown|  Missing|                           null|               null|            Missing|    Missing|Laboratory-confir...|       Missing|Missing|Missing| Missing|                    null|\n",
            "|   2020-12|       TN|             47|WASHINGTON|           47179|18 to 49 years|Female|Missing|  Missing|                              0|               null|            Missing|    Missing|Laboratory-confir...|       Missing|Missing|Missing| Missing|                    null|\n",
            "|   2020-06|       IA|             19|     BOONE|           19015|50 to 64 years|Female|     NA|       NA|                           null|                 47|            Missing|    Missing|Laboratory-confir...|   Symptomatic|Missing|Missing|      NA|                    null|\n",
            "+----------+---------+---------------+----------+----------------+--------------+------+-------+---------+-------------------------------+-------------------+-------------------+-----------+--------------------+--------------+-------+-------+--------+------------------------+\n",
            "only showing top 20 rows\n",
            "\n"
          ],
          "name": "stdout"
        }
      ]
    },
    {
      "cell_type": "code",
      "metadata": {
        "id": "IIDRdmNJDWQg"
      },
      "source": [
        "# Filter for Maryland\n",
        "df = df.filter((df.res_state == 'MD'))"
      ],
      "execution_count": 7,
      "outputs": []
    },
    {
      "cell_type": "code",
      "metadata": {
        "id": "kuqmDwqQfWQ_"
      },
      "source": [
        "# Drop unnecessary columns\n",
        "df = df.drop('case_month', 'state_fips_code', 'res_county', 'county_fips_code', 'case_positive_specimen_interval', 'case_onset_interval', 'ethnicity', 'process', 'exposure_yn', 'current_status', 'symptom_status', 'hosp_yn', 'icu_yn', 'death_yn', 'underlying_conditions_yn')"
      ],
      "execution_count": 8,
      "outputs": []
    },
    {
      "cell_type": "code",
      "metadata": {
        "id": "_OfgNvfrDr3f"
      },
      "source": [
        "# Replace \"Missing\" and \"Unknown\" with \"NA\"\n",
        "df = df.replace(['Missing', 'Unknown'], 'NA')"
      ],
      "execution_count": 9,
      "outputs": []
    },
    {
      "cell_type": "code",
      "metadata": {
        "colab": {
          "base_uri": "https://localhost:8080/"
        },
        "id": "hrNLNUcJf2TP",
        "outputId": "8688a02a-b73b-4292-8f3e-eccd7baf44ea"
      },
      "source": [
        "df.show()"
      ],
      "execution_count": 10,
      "outputs": [
        {
          "output_type": "stream",
          "text": [
            "+---------+--------------+------+--------------+\n",
            "|res_state|     age_group|   sex|          race|\n",
            "+---------+--------------+------+--------------+\n",
            "|       MD|18 to 49 years|Female|         White|\n",
            "|       MD|18 to 49 years|Female|            NA|\n",
            "|       MD|18 to 49 years|Female|         Black|\n",
            "|       MD|  0 - 17 years|    NA|            NA|\n",
            "|       MD|18 to 49 years|  Male|            NA|\n",
            "|       MD|18 to 49 years|  Male|            NA|\n",
            "|       MD|50 to 64 years|Female|            NA|\n",
            "|       MD|18 to 49 years|Female|         White|\n",
            "|       MD|18 to 49 years|  Male|         White|\n",
            "|       MD|18 to 49 years|Female|            NA|\n",
            "|       MD|18 to 49 years|Female|            NA|\n",
            "|       MD|18 to 49 years|  Male|            NA|\n",
            "|       MD|18 to 49 years|  Male|            NA|\n",
            "|       MD|18 to 49 years|Female|            NA|\n",
            "|       MD|18 to 49 years|  Male|         White|\n",
            "|       MD|     65+ years|Female|Multiple/Other|\n",
            "|       MD|18 to 49 years|Female|         White|\n",
            "|       MD|  0 - 17 years|Female|            NA|\n",
            "|       MD|18 to 49 years|Female|            NA|\n",
            "|       MD|18 to 49 years|Female|         White|\n",
            "+---------+--------------+------+--------------+\n",
            "only showing top 20 rows\n",
            "\n"
          ],
          "name": "stdout"
        }
      ]
    },
    {
      "cell_type": "code",
      "metadata": {
        "colab": {
          "base_uri": "https://localhost:8080/"
        },
        "id": "E1z60_fGcECV",
        "outputId": "2ca1f35c-951a-4789-ff99-a63be23b38ad"
      },
      "source": [
        "df.groupby('res_state').count().orderBy('count', ascending=False).show()"
      ],
      "execution_count": 11,
      "outputs": [
        {
          "output_type": "stream",
          "text": [
            "+---------+------+\n",
            "|res_state| count|\n",
            "+---------+------+\n",
            "|       MD|225814|\n",
            "+---------+------+\n",
            "\n"
          ],
          "name": "stdout"
        }
      ]
    },
    {
      "cell_type": "code",
      "metadata": {
        "colab": {
          "base_uri": "https://localhost:8080/"
        },
        "id": "EYzL2T13gKf2",
        "outputId": "dc2e7c6d-88a0-487a-e253-e8a847f6e080"
      },
      "source": [
        "df.groupby('age_group').count().orderBy('count', ascending=False).show()"
      ],
      "execution_count": 12,
      "outputs": [
        {
          "output_type": "stream",
          "text": [
            "+--------------+------+\n",
            "|     age_group| count|\n",
            "+--------------+------+\n",
            "|18 to 49 years|123417|\n",
            "|50 to 64 years| 46869|\n",
            "|     65+ years| 32024|\n",
            "|  0 - 17 years| 20670|\n",
            "|            NA|  2834|\n",
            "+--------------+------+\n",
            "\n"
          ],
          "name": "stdout"
        }
      ]
    },
    {
      "cell_type": "code",
      "metadata": {
        "colab": {
          "base_uri": "https://localhost:8080/"
        },
        "id": "OvP1aZldgPcF",
        "outputId": "16052b97-1aa8-4980-9579-e9882dafae67"
      },
      "source": [
        "df.groupby('sex').count().orderBy('count', ascending=False).show()"
      ],
      "execution_count": 13,
      "outputs": [
        {
          "output_type": "stream",
          "text": [
            "+------+------+\n",
            "|   sex| count|\n",
            "+------+------+\n",
            "|Female|114635|\n",
            "|  Male|104308|\n",
            "|    NA|  6871|\n",
            "+------+------+\n",
            "\n"
          ],
          "name": "stdout"
        }
      ]
    },
    {
      "cell_type": "code",
      "metadata": {
        "colab": {
          "base_uri": "https://localhost:8080/"
        },
        "id": "UeKB3A4XgSo1",
        "outputId": "9f49d85b-43ae-4d75-fe95-d7f1b1b0b235"
      },
      "source": [
        "df.groupby('race').count().orderBy('count', ascending=False).show()"
      ],
      "execution_count": 14,
      "outputs": [
        {
          "output_type": "stream",
          "text": [
            "+--------------------+------+\n",
            "|                race| count|\n",
            "+--------------------+------+\n",
            "|                  NA|136351|\n",
            "|               White| 43793|\n",
            "|               Black| 31577|\n",
            "|      Multiple/Other| 13245|\n",
            "|               Asian|   825|\n",
            "|American Indian/A...|    23|\n",
            "+--------------------+------+\n",
            "\n"
          ],
          "name": "stdout"
        }
      ]
    },
    {
      "cell_type": "code",
      "metadata": {
        "id": "sdj4Lq4vGCSP"
      },
      "source": [
        "df.toPandas().to_csv('maryland_data.csv', index=False)"
      ],
      "execution_count": 16,
      "outputs": []
    }
  ]
}
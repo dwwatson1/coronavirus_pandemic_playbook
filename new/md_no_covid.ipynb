{
  "nbformat": 4,
  "nbformat_minor": 0,
  "metadata": {
    "colab": {
      "name": "md_no_covid.ipynb",
      "provenance": [],
      "authorship_tag": "ABX9TyM7Y0axOTcUuGLN2wmL3kgZ",
      "include_colab_link": true
    },
    "kernelspec": {
      "name": "python3",
      "display_name": "Python 3"
    },
    "language_info": {
      "name": "python"
    }
  },
  "cells": [
    {
      "cell_type": "markdown",
      "metadata": {
        "id": "view-in-github",
        "colab_type": "text"
      },
      "source": [
        "<a href=\"https://colab.research.google.com/github/dwwatson1/coronavirus_pandemic_playbook/blob/michael_work/md_no_covid.ipynb\" target=\"_parent\"><img src=\"https://colab.research.google.com/assets/colab-badge.svg\" alt=\"Open In Colab\"/></a>"
      ]
    },
    {
      "cell_type": "code",
      "metadata": {
        "id": "VoaQkO1jWu5z"
      },
      "source": [
        "from IPython.core.debugger import set_trace"
      ],
      "execution_count": 3,
      "outputs": []
    },
    {
      "cell_type": "code",
      "metadata": {
        "id": "H3pfbRMTW3ns"
      },
      "source": [
        "import pandas as pd\n",
        "import numpy as np\n",
        "import os\n",
        "import random\n",
        "import matplotlib.pyplot as plt\n",
        "import pickle\n",
        "import time"
      ],
      "execution_count": 4,
      "outputs": []
    },
    {
      "cell_type": "code",
      "metadata": {
        "colab": {
          "base_uri": "https://localhost:8080/"
        },
        "id": "GDBk14Z_XBlw",
        "outputId": "0e7d6826-8db3-4622-d184-a28e686a9f42"
      },
      "source": [
        "!pip install faker"
      ],
      "execution_count": 5,
      "outputs": [
        {
          "output_type": "stream",
          "text": [
            "Collecting faker\n",
            "\u001b[?25l  Downloading https://files.pythonhosted.org/packages/c4/8f/dd3f3b78dba5849041454f63b2426b95cd7e6a840ceec83a7764be3d049e/Faker-8.10.1-py3-none-any.whl (1.2MB)\n",
            "\u001b[K     |████████████████████████████████| 1.2MB 2.9MB/s \n",
            "\u001b[?25hRequirement already satisfied: python-dateutil>=2.4 in /usr/local/lib/python3.7/dist-packages (from faker) (2.8.1)\n",
            "Requirement already satisfied: text-unidecode==1.3 in /usr/local/lib/python3.7/dist-packages (from faker) (1.3)\n",
            "Requirement already satisfied: six>=1.5 in /usr/local/lib/python3.7/dist-packages (from python-dateutil>=2.4->faker) (1.15.0)\n",
            "Installing collected packages: faker\n",
            "Successfully installed faker-8.10.1\n"
          ],
          "name": "stdout"
        }
      ]
    },
    {
      "cell_type": "code",
      "metadata": {
        "id": "ZLVU0uvsY7SO"
      },
      "source": [
        "from faker import Faker\n",
        "\n",
        "fake=Faker()"
      ],
      "execution_count": 6,
      "outputs": []
    },
    {
      "cell_type": "code",
      "metadata": {
        "id": "qO2gtpIiXDiQ"
      },
      "source": [
        "def faker_categorical(num=1, seed=None):\n",
        "  np.random.seed(seed)\n",
        "  fake.seed_instance(seed)\n",
        "\n",
        "  output = [\n",
        "    {\n",
        "        \"res_state\": \"MD\",\n",
        "        \"age_group\": np.random.choice([\"0 - 17 years\", \"18 to 49 years\", \"50 to 64 years\", \"65+ years\"], p=[0.22, 0.42, 0.20, 0.16]),\n",
        "        \"sex\": np.random.choice([\"Male\", \"Female\"], p=[0.48, 0.52]),\n",
        "        \"race\": np.random.choice([\"White\", \"Black\", \"Asian\", \"American Indian/Alaska Native\", \"Native Hawaiian/Other Pacific Islander\", \"Multiple/Other\"], p=(0.5453, 0.3027, 0.0639, 0.0032, 0.0004, 0.0845)),\n",
        "    }\n",
        "    for x in range(num)\n",
        "  ]\n",
        "  return output\n",
        "\n",
        "  # NOTES\n",
        "  # From US CENSUS Data: \n",
        "  # https://data.census.gov/cedsci/table?q=maryland%20age%20and%20sex&y=2019&tid=ACSST1Y2019.S0101&hidePreview=true&tp=true\n",
        "  # https://data.census.gov/cedsci/table?q=maryland%20race&y=2019&tid=ACSDT1Y2019.B02001&hidePreview=true&tp=false&moe=false \n",
        "\n",
        "  # Age Groups (Population with and without COVID)\n",
        "  # Total MD Population: 6,045,680\n",
        "  # Total 0-17 Years: 1,332,287 (22%)\n",
        "  # Total 18-49 Years: 2,521,766 (42%)\n",
        "  # Total 50-64 Years: 1,231,740 (20%)\n",
        "  # Total 65+ Years: 959,887 (16%)\n",
        "\n",
        "  # Sex (Populaiton with and without COVID)\n",
        "  # Total MD Population: 6,045,680\n",
        "  # Total Male: 2,928,013 (48%)\n",
        "  # Total Female: 3,117,667 (52%)\n",
        "\n",
        "  # Race (Population with and without COVID)\n",
        "  # Total MD Population: 6,045,680\n",
        "  # Total White: 3,296,909 (54.53%)\n",
        "  # Total Black: 1,830,059 (30.27%)\n",
        "  # Total Asian: 386,194 (6.39%)\n",
        "  # Total American Indian/Alaska Native: 19,164 (0.32%)\n",
        "  # Total Native Hawaiian/Other Pacific Islander: 2,453 (0.04%)\n",
        "  # Total Multiple/Other: 510,901 (8.45%)\n"
      ],
      "execution_count": 7,
      "outputs": []
    },
    {
      "cell_type": "code",
      "metadata": {
        "colab": {
          "base_uri": "https://localhost:8080/",
          "height": 204
        },
        "id": "JZFiiDwqYq9Y",
        "outputId": "2d8898c8-775c-4078-e52b-20a73d425aac"
      },
      "source": [
        "df = pd.DataFrame(faker_categorical(num=5819866, seed=0))\n",
        "df.head(5)\n",
        "\n",
        "#num = (MD Total Population) - (Total Number of COVID Cases)\n",
        "#num = 6,045,680 - 225,814"
      ],
      "execution_count": 8,
      "outputs": [
        {
          "output_type": "execute_result",
          "data": {
            "text/html": [
              "<div>\n",
              "<style scoped>\n",
              "    .dataframe tbody tr th:only-of-type {\n",
              "        vertical-align: middle;\n",
              "    }\n",
              "\n",
              "    .dataframe tbody tr th {\n",
              "        vertical-align: top;\n",
              "    }\n",
              "\n",
              "    .dataframe thead th {\n",
              "        text-align: right;\n",
              "    }\n",
              "</style>\n",
              "<table border=\"1\" class=\"dataframe\">\n",
              "  <thead>\n",
              "    <tr style=\"text-align: right;\">\n",
              "      <th></th>\n",
              "      <th>res_state</th>\n",
              "      <th>age_group</th>\n",
              "      <th>sex</th>\n",
              "      <th>race</th>\n",
              "    </tr>\n",
              "  </thead>\n",
              "  <tbody>\n",
              "    <tr>\n",
              "      <th>0</th>\n",
              "      <td>MD</td>\n",
              "      <td>18 to 49 years</td>\n",
              "      <td>Female</td>\n",
              "      <td>Black</td>\n",
              "    </tr>\n",
              "    <tr>\n",
              "      <th>1</th>\n",
              "      <td>MD</td>\n",
              "      <td>18 to 49 years</td>\n",
              "      <td>Male</td>\n",
              "      <td>Black</td>\n",
              "    </tr>\n",
              "    <tr>\n",
              "      <th>2</th>\n",
              "      <td>MD</td>\n",
              "      <td>18 to 49 years</td>\n",
              "      <td>Female</td>\n",
              "      <td>Multiple/Other</td>\n",
              "    </tr>\n",
              "    <tr>\n",
              "      <th>3</th>\n",
              "      <td>MD</td>\n",
              "      <td>18 to 49 years</td>\n",
              "      <td>Female</td>\n",
              "      <td>White</td>\n",
              "    </tr>\n",
              "    <tr>\n",
              "      <th>4</th>\n",
              "      <td>MD</td>\n",
              "      <td>18 to 49 years</td>\n",
              "      <td>Female</td>\n",
              "      <td>White</td>\n",
              "    </tr>\n",
              "  </tbody>\n",
              "</table>\n",
              "</div>"
            ],
            "text/plain": [
              "  res_state       age_group     sex            race\n",
              "0        MD  18 to 49 years  Female           Black\n",
              "1        MD  18 to 49 years    Male           Black\n",
              "2        MD  18 to 49 years  Female  Multiple/Other\n",
              "3        MD  18 to 49 years  Female           White\n",
              "4        MD  18 to 49 years  Female           White"
            ]
          },
          "metadata": {
            "tags": []
          },
          "execution_count": 8
        }
      ]
    },
    {
      "cell_type": "code",
      "metadata": {
        "id": "xM8yWdxubXBb"
      },
      "source": [
        "# Add column to identify all persons without COVID\n",
        "df.insert(4, \"has_covid\", \"No\")"
      ],
      "execution_count": 9,
      "outputs": []
    },
    {
      "cell_type": "code",
      "metadata": {
        "colab": {
          "base_uri": "https://localhost:8080/",
          "height": 204
        },
        "id": "Oh7L67G8bhZa",
        "outputId": "b8129137-bd2a-4d21-c207-c998bb7e356c"
      },
      "source": [
        "df.head(5)"
      ],
      "execution_count": 10,
      "outputs": [
        {
          "output_type": "execute_result",
          "data": {
            "text/html": [
              "<div>\n",
              "<style scoped>\n",
              "    .dataframe tbody tr th:only-of-type {\n",
              "        vertical-align: middle;\n",
              "    }\n",
              "\n",
              "    .dataframe tbody tr th {\n",
              "        vertical-align: top;\n",
              "    }\n",
              "\n",
              "    .dataframe thead th {\n",
              "        text-align: right;\n",
              "    }\n",
              "</style>\n",
              "<table border=\"1\" class=\"dataframe\">\n",
              "  <thead>\n",
              "    <tr style=\"text-align: right;\">\n",
              "      <th></th>\n",
              "      <th>res_state</th>\n",
              "      <th>age_group</th>\n",
              "      <th>sex</th>\n",
              "      <th>race</th>\n",
              "      <th>has_covid</th>\n",
              "    </tr>\n",
              "  </thead>\n",
              "  <tbody>\n",
              "    <tr>\n",
              "      <th>0</th>\n",
              "      <td>MD</td>\n",
              "      <td>18 to 49 years</td>\n",
              "      <td>Female</td>\n",
              "      <td>Black</td>\n",
              "      <td>No</td>\n",
              "    </tr>\n",
              "    <tr>\n",
              "      <th>1</th>\n",
              "      <td>MD</td>\n",
              "      <td>18 to 49 years</td>\n",
              "      <td>Male</td>\n",
              "      <td>Black</td>\n",
              "      <td>No</td>\n",
              "    </tr>\n",
              "    <tr>\n",
              "      <th>2</th>\n",
              "      <td>MD</td>\n",
              "      <td>18 to 49 years</td>\n",
              "      <td>Female</td>\n",
              "      <td>Multiple/Other</td>\n",
              "      <td>No</td>\n",
              "    </tr>\n",
              "    <tr>\n",
              "      <th>3</th>\n",
              "      <td>MD</td>\n",
              "      <td>18 to 49 years</td>\n",
              "      <td>Female</td>\n",
              "      <td>White</td>\n",
              "      <td>No</td>\n",
              "    </tr>\n",
              "    <tr>\n",
              "      <th>4</th>\n",
              "      <td>MD</td>\n",
              "      <td>18 to 49 years</td>\n",
              "      <td>Female</td>\n",
              "      <td>White</td>\n",
              "      <td>No</td>\n",
              "    </tr>\n",
              "  </tbody>\n",
              "</table>\n",
              "</div>"
            ],
            "text/plain": [
              "  res_state       age_group     sex            race has_covid\n",
              "0        MD  18 to 49 years  Female           Black        No\n",
              "1        MD  18 to 49 years    Male           Black        No\n",
              "2        MD  18 to 49 years  Female  Multiple/Other        No\n",
              "3        MD  18 to 49 years  Female           White        No\n",
              "4        MD  18 to 49 years  Female           White        No"
            ]
          },
          "metadata": {
            "tags": []
          },
          "execution_count": 10
        }
      ]
    },
    {
      "cell_type": "code",
      "metadata": {
        "id": "ZPHg5CyXaH3W"
      },
      "source": [
        "df.to_csv('md_no_covid.csv', index=False)"
      ],
      "execution_count": 11,
      "outputs": []
    }
  ]
}

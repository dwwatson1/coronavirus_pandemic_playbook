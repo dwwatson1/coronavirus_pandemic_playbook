{
  "nbformat": 4,
  "nbformat_minor": 0,
  "metadata": {
    "colab": {
      "name": "covid_cases_ml.ipynb",
      "provenance": [],
      "machine_shape": "hm",
      "authorship_tag": "ABX9TyOqTFNTpMySOZw53uiGGpvm",
      "include_colab_link": true
    },
    "kernelspec": {
      "name": "python3",
      "display_name": "Python 3"
    },
    "language_info": {
      "name": "python"
    }
  },
  "cells": [
    {
      "cell_type": "markdown",
      "metadata": {
        "id": "view-in-github",
        "colab_type": "text"
      },
      "source": [
        "<a href=\"https://colab.research.google.com/github/dwwatson1/coronavirus_pandemic_playbook/blob/main/script/covid_cases_ml.ipynb\" target=\"_parent\"><img src=\"https://colab.research.google.com/assets/colab-badge.svg\" alt=\"Open In Colab\"/></a>"
      ]
    },
    {
      "cell_type": "code",
      "metadata": {
        "id": "lyP38xbdTZCd"
      },
      "source": [
        "import pandas as pd\n",
        "import io"
      ],
      "execution_count": null,
      "outputs": []
    },
    {
      "cell_type": "code",
      "metadata": {
        "id": "fb60VEVwCO4v"
      },
      "source": [
        "# Code to read csv file into Colaboratory:\n",
        "!pip install -U -q PyDrive\n",
        "from pydrive.auth import GoogleAuth\n",
        "from pydrive.drive import GoogleDrive\n",
        "from google.colab import auth\n",
        "from oauth2client.client import GoogleCredentials\n",
        "# Authenticate and create the PyDrive client.\n",
        "auth.authenticate_user()\n",
        "gauth = GoogleAuth()\n",
        "gauth.credentials = GoogleCredentials.get_application_default()\n",
        "drive = GoogleDrive(gauth)"
      ],
      "execution_count": null,
      "outputs": []
    },
    {
      "cell_type": "code",
      "metadata": {
        "id": "2lPtV_xTCYWF"
      },
      "source": [
        "link = 'https://drive.google.com/file/d/1MqByhO2M424pdBSLD8mYBoJBr7hg0pNe/view?usp=sharing' # The shareable link"
      ],
      "execution_count": null,
      "outputs": []
    },
    {
      "cell_type": "code",
      "metadata": {
        "colab": {
          "base_uri": "https://localhost:8080/"
        },
        "id": "rZMTHFf6GgJG",
        "outputId": "1405d370-683f-45d1-8ae9-a70aaaad53c4"
      },
      "source": [
        "id = '1MqByhO2M424pdBSLD8mYBoJBr7hg0pNe'\n",
        "print (id)"
      ],
      "execution_count": null,
      "outputs": [
        {
          "output_type": "stream",
          "text": [
            "1MqByhO2M424pdBSLD8mYBoJBr7hg0pNe\n"
          ],
          "name": "stdout"
        }
      ]
    },
    {
      "cell_type": "code",
      "metadata": {
        "id": "oidBl3j2Ghc0"
      },
      "source": [
        "downloaded = drive.CreateFile({'id':id}) \n",
        "downloaded.GetContentFile('covid_cases.csv')  \n",
        "covid_df = pd.read_csv('covid_cases.csv')"
      ],
      "execution_count": null,
      "outputs": []
    },
    {
      "cell_type": "code",
      "metadata": {
        "id": "6US0R6IEGvDe"
      },
      "source": [
        "chunk_data = [chunk for chunk in data_chunk]\n",
        "covid_df = pd.concat(chunk_data)"
      ],
      "execution_count": null,
      "outputs": []
    },
    {
      "cell_type": "code",
      "metadata": {
        "id": "o7hFPxNjJQj3"
      },
      "source": [
        "covid_df = pd.read_csv('covid_cases.csv')"
      ],
      "execution_count": null,
      "outputs": []
    },
    {
      "cell_type": "code",
      "metadata": {
        "id": "mf9cQ7Z1fGUb"
      },
      "source": [
        "covid_df = covid_df[(covid_df['res_state'] == 'OK') | (covid_df['res_state'] == 'TN') | (covid_df['res_state'] == 'WI') | (covid_df['res_state'] == 'UT') | (covid_df['res_state'] == 'CT')]"
      ],
      "execution_count": null,
      "outputs": []
    },
    {
      "cell_type": "code",
      "metadata": {
        "id": "KgOEf6SNLacD",
        "colab": {
          "base_uri": "https://localhost:8080/",
          "height": 419
        },
        "outputId": "b3205f87-1067-4e47-c320-18be18372b57"
      },
      "source": [
        "covid_df"
      ],
      "execution_count": null,
      "outputs": [
        {
          "output_type": "execute_result",
          "data": {
            "text/html": [
              "<div>\n",
              "<style scoped>\n",
              "    .dataframe tbody tr th:only-of-type {\n",
              "        vertical-align: middle;\n",
              "    }\n",
              "\n",
              "    .dataframe tbody tr th {\n",
              "        vertical-align: top;\n",
              "    }\n",
              "\n",
              "    .dataframe thead th {\n",
              "        text-align: right;\n",
              "    }\n",
              "</style>\n",
              "<table border=\"1\" class=\"dataframe\">\n",
              "  <thead>\n",
              "    <tr style=\"text-align: right;\">\n",
              "      <th></th>\n",
              "      <th>age_group</th>\n",
              "      <th>sex</th>\n",
              "      <th>region</th>\n",
              "      <th>pop_density</th>\n",
              "      <th>median_income</th>\n",
              "      <th>airport_area</th>\n",
              "      <th>policy_prevention</th>\n",
              "      <th>has_covid</th>\n",
              "    </tr>\n",
              "  </thead>\n",
              "  <tbody>\n",
              "    <tr>\n",
              "      <th>535</th>\n",
              "      <td>0</td>\n",
              "      <td>1</td>\n",
              "      <td>2</td>\n",
              "      <td>242</td>\n",
              "      <td>67355</td>\n",
              "      <td>0.03</td>\n",
              "      <td>79</td>\n",
              "      <td>1</td>\n",
              "    </tr>\n",
              "    <tr>\n",
              "      <th>536</th>\n",
              "      <td>0</td>\n",
              "      <td>0</td>\n",
              "      <td>2</td>\n",
              "      <td>242</td>\n",
              "      <td>67355</td>\n",
              "      <td>0.03</td>\n",
              "      <td>79</td>\n",
              "      <td>1</td>\n",
              "    </tr>\n",
              "    <tr>\n",
              "      <th>537</th>\n",
              "      <td>2</td>\n",
              "      <td>1</td>\n",
              "      <td>2</td>\n",
              "      <td>242</td>\n",
              "      <td>67355</td>\n",
              "      <td>0.03</td>\n",
              "      <td>79</td>\n",
              "      <td>1</td>\n",
              "    </tr>\n",
              "    <tr>\n",
              "      <th>538</th>\n",
              "      <td>2</td>\n",
              "      <td>0</td>\n",
              "      <td>2</td>\n",
              "      <td>242</td>\n",
              "      <td>67355</td>\n",
              "      <td>0.03</td>\n",
              "      <td>79</td>\n",
              "      <td>1</td>\n",
              "    </tr>\n",
              "    <tr>\n",
              "      <th>539</th>\n",
              "      <td>0</td>\n",
              "      <td>1</td>\n",
              "      <td>2</td>\n",
              "      <td>242</td>\n",
              "      <td>67355</td>\n",
              "      <td>0.03</td>\n",
              "      <td>79</td>\n",
              "      <td>1</td>\n",
              "    </tr>\n",
              "    <tr>\n",
              "      <th>...</th>\n",
              "      <td>...</td>\n",
              "      <td>...</td>\n",
              "      <td>...</td>\n",
              "      <td>...</td>\n",
              "      <td>...</td>\n",
              "      <td>...</td>\n",
              "      <td>...</td>\n",
              "      <td>...</td>\n",
              "    </tr>\n",
              "    <tr>\n",
              "      <th>158681197</th>\n",
              "      <td>2</td>\n",
              "      <td>1</td>\n",
              "      <td>2</td>\n",
              "      <td>242</td>\n",
              "      <td>67355</td>\n",
              "      <td>0.03</td>\n",
              "      <td>79</td>\n",
              "      <td>1</td>\n",
              "    </tr>\n",
              "    <tr>\n",
              "      <th>158681198</th>\n",
              "      <td>1</td>\n",
              "      <td>1</td>\n",
              "      <td>2</td>\n",
              "      <td>242</td>\n",
              "      <td>67355</td>\n",
              "      <td>0.03</td>\n",
              "      <td>79</td>\n",
              "      <td>1</td>\n",
              "    </tr>\n",
              "    <tr>\n",
              "      <th>158681199</th>\n",
              "      <td>3</td>\n",
              "      <td>1</td>\n",
              "      <td>2</td>\n",
              "      <td>242</td>\n",
              "      <td>67355</td>\n",
              "      <td>0.03</td>\n",
              "      <td>79</td>\n",
              "      <td>1</td>\n",
              "    </tr>\n",
              "    <tr>\n",
              "      <th>158681200</th>\n",
              "      <td>3</td>\n",
              "      <td>0</td>\n",
              "      <td>2</td>\n",
              "      <td>242</td>\n",
              "      <td>67355</td>\n",
              "      <td>0.03</td>\n",
              "      <td>79</td>\n",
              "      <td>1</td>\n",
              "    </tr>\n",
              "    <tr>\n",
              "      <th>158681201</th>\n",
              "      <td>0</td>\n",
              "      <td>0</td>\n",
              "      <td>2</td>\n",
              "      <td>242</td>\n",
              "      <td>67355</td>\n",
              "      <td>0.03</td>\n",
              "      <td>79</td>\n",
              "      <td>1</td>\n",
              "    </tr>\n",
              "  </tbody>\n",
              "</table>\n",
              "<p>28847633 rows × 8 columns</p>\n",
              "</div>"
            ],
            "text/plain": [
              "           age_group  sex  region  ...  airport_area  policy_prevention  has_covid\n",
              "535                0    1       2  ...          0.03                 79          1\n",
              "536                0    0       2  ...          0.03                 79          1\n",
              "537                2    1       2  ...          0.03                 79          1\n",
              "538                2    0       2  ...          0.03                 79          1\n",
              "539                0    1       2  ...          0.03                 79          1\n",
              "...              ...  ...     ...  ...           ...                ...        ...\n",
              "158681197          2    1       2  ...          0.03                 79          1\n",
              "158681198          1    1       2  ...          0.03                 79          1\n",
              "158681199          3    1       2  ...          0.03                 79          1\n",
              "158681200          3    0       2  ...          0.03                 79          1\n",
              "158681201          0    0       2  ...          0.03                 79          1\n",
              "\n",
              "[28847633 rows x 8 columns]"
            ]
          },
          "metadata": {
            "tags": []
          },
          "execution_count": 15
        }
      ]
    },
    {
      "cell_type": "code",
      "metadata": {
        "id": "wbkowsywLmp5"
      },
      "source": [
        "covid_df = covid_df.drop(columns=['res_state', 'race'])"
      ],
      "execution_count": null,
      "outputs": []
    },
    {
      "cell_type": "code",
      "metadata": {
        "id": "zHwkhvDeTt0L"
      },
      "source": [
        "from sklearn.ensemble import RandomForestClassifier\n",
        "from sklearn.preprocessing import StandardScaler\n",
        "from sklearn.model_selection import train_test_split\n",
        "from sklearn.metrics import confusion_matrix, accuracy_score, classification_report"
      ],
      "execution_count": null,
      "outputs": []
    },
    {
      "cell_type": "code",
      "metadata": {
        "id": "7SCIQ8K4UVCK"
      },
      "source": [
        "covid_cat = covid_df.dtypes[covid_df.dtypes == \"object\"].index.tolist()\n",
        "\n",
        "from sklearn.preprocessing import OneHotEncoder\n",
        "enc = OneHotEncoder(sparse=False)\n",
        "encode_df = pd.DataFrame(enc.fit_transform(covid_df[covid_cat]))\n",
        "\n",
        "encode_df.columns = enc.get_feature_names(covid_cat)"
      ],
      "execution_count": null,
      "outputs": []
    },
    {
      "cell_type": "code",
      "metadata": {
        "id": "gVGV5E9XVC8Q"
      },
      "source": [
        "covid_df_encode = covid_df.merge(encode_df, left_index=True, right_index=True)\n",
        "covid_df_encode = covid_df.drop(covid_cat,1)"
      ],
      "execution_count": null,
      "outputs": []
    },
    {
      "cell_type": "code",
      "metadata": {
        "id": "mJ6mvYluVP_Q"
      },
      "source": [
        "y = covid_df[\"has_covid\"]\n",
        "X = covid_df.drop(columns=\"has_covid\")"
      ],
      "execution_count": null,
      "outputs": []
    },
    {
      "cell_type": "code",
      "metadata": {
        "id": "tbNTOXPEWL8v"
      },
      "source": [
        "X_train, X_test, y_train, y_test = train_test_split(X, y, random_state=1)\n",
        "\n",
        "scaler = StandardScaler()\n",
        "\n",
        "X_scaler = scaler.fit(X_train)\n",
        "\n",
        "X_train_scaled = X_scaler.transform(X_train)\n",
        "X_test_scaled = X_scaler.transform(X_test)"
      ],
      "execution_count": null,
      "outputs": []
    },
    {
      "cell_type": "code",
      "metadata": {
        "id": "7Q5EePdRWg2V"
      },
      "source": [
        "rf_model = RandomForestClassifier(n_estimators=128, random_state=1)\n",
        "\n",
        "rf_model = rf_model.fit(X_train_scaled, y_train)"
      ],
      "execution_count": null,
      "outputs": []
    },
    {
      "cell_type": "code",
      "metadata": {
        "id": "2DrpZrfWW0mW"
      },
      "source": [
        "predictions = rf_model.predict(X_test_scaled)"
      ],
      "execution_count": null,
      "outputs": []
    },
    {
      "cell_type": "code",
      "metadata": {
        "id": "rWfiFYlCW4_y"
      },
      "source": [
        "cm = confusion_matrix(y_test, predictions)\n",
        "\n",
        "cm_df = pd.DataFrame(\n",
        "    cm, index=[\"Actual 0\", \"Actual 1\"], columns = [\"Predicted 0\", \"Predicted 1\"])\n",
        "\n",
        "acc_score = accuracy_score(y_test, predictions)"
      ],
      "execution_count": null,
      "outputs": []
    },
    {
      "cell_type": "code",
      "metadata": {
        "id": "FTsuJJnFXU_E",
        "colab": {
          "base_uri": "https://localhost:8080/",
          "height": 349
        },
        "outputId": "304613bf-01cc-42fc-c276-6084bde5a8f7"
      },
      "source": [
        "print(\"Confusion Matrix\")\n",
        "display(cm_df)\n",
        "print(f\"Accuracy Score: {acc_score}\")\n",
        "print(\"Classification Report\")\n",
        "print(classification_report(y_test, predictions))"
      ],
      "execution_count": null,
      "outputs": [
        {
          "output_type": "stream",
          "text": [
            "Confusion Matrix\n"
          ],
          "name": "stdout"
        },
        {
          "output_type": "display_data",
          "data": {
            "text/html": [
              "<div>\n",
              "<style scoped>\n",
              "    .dataframe tbody tr th:only-of-type {\n",
              "        vertical-align: middle;\n",
              "    }\n",
              "\n",
              "    .dataframe tbody tr th {\n",
              "        vertical-align: top;\n",
              "    }\n",
              "\n",
              "    .dataframe thead th {\n",
              "        text-align: right;\n",
              "    }\n",
              "</style>\n",
              "<table border=\"1\" class=\"dataframe\">\n",
              "  <thead>\n",
              "    <tr style=\"text-align: right;\">\n",
              "      <th></th>\n",
              "      <th>Predicted 0</th>\n",
              "      <th>Predicted 1</th>\n",
              "    </tr>\n",
              "  </thead>\n",
              "  <tbody>\n",
              "    <tr>\n",
              "      <th>Actual 0</th>\n",
              "      <td>0</td>\n",
              "      <td>454133</td>\n",
              "    </tr>\n",
              "    <tr>\n",
              "      <th>Actual 1</th>\n",
              "      <td>0</td>\n",
              "      <td>6757776</td>\n",
              "    </tr>\n",
              "  </tbody>\n",
              "</table>\n",
              "</div>"
            ],
            "text/plain": [
              "          Predicted 0  Predicted 1\n",
              "Actual 0            0       454133\n",
              "Actual 1            0      6757776"
            ]
          },
          "metadata": {
            "tags": []
          }
        },
        {
          "output_type": "stream",
          "text": [
            "Accuracy Score: 0.9370301261427453\n",
            "Classification Report\n"
          ],
          "name": "stdout"
        },
        {
          "output_type": "stream",
          "text": [
            "/usr/local/lib/python3.7/dist-packages/sklearn/metrics/_classification.py:1272: UndefinedMetricWarning: Precision and F-score are ill-defined and being set to 0.0 in labels with no predicted samples. Use `zero_division` parameter to control this behavior.\n",
            "  _warn_prf(average, modifier, msg_start, len(result))\n"
          ],
          "name": "stderr"
        },
        {
          "output_type": "stream",
          "text": [
            "              precision    recall  f1-score   support\n",
            "\n",
            "           0       0.00      0.00      0.00    454133\n",
            "           1       0.94      1.00      0.97   6757776\n",
            "\n",
            "    accuracy                           0.94   7211909\n",
            "   macro avg       0.47      0.50      0.48   7211909\n",
            "weighted avg       0.88      0.94      0.91   7211909\n",
            "\n"
          ],
          "name": "stdout"
        }
      ]
    },
    {
      "cell_type": "code",
      "metadata": {
        "id": "glsEiunZXkmT",
        "colab": {
          "base_uri": "https://localhost:8080/"
        },
        "outputId": "29a74d4a-5361-41c6-cfd6-de475d09dbbc"
      },
      "source": [
        "sorted(zip(rf_model.feature_importances_, X.columns), reverse=True)"
      ],
      "execution_count": null,
      "outputs": [
        {
          "output_type": "execute_result",
          "data": {
            "text/plain": [
              "[(0.4454270888902362, 'age_group'),\n",
              " (0.1578296255050766, 'airport_area'),\n",
              " (0.15569557431751424, 'policy_prevention'),\n",
              " (0.13141942612920784, 'pop_density'),\n",
              " (0.06267726502633213, 'median_income'),\n",
              " (0.027735106350305783, 'region'),\n",
              " (0.019215913781327202, 'sex')]"
            ]
          },
          "metadata": {
            "tags": []
          },
          "execution_count": 14
        }
      ]
    }
  ]
}
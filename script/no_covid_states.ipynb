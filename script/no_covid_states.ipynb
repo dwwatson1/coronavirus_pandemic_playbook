{
  "nbformat": 4,
  "nbformat_minor": 0,
  "metadata": {
    "colab": {
      "name": "no_covid_states.ipynb",
      "provenance": [],
      "machine_shape": "hm",
      "authorship_tag": "ABX9TyMAD4g7rjer7meuLRYbRK1i",
      "include_colab_link": true
    },
    "kernelspec": {
      "name": "python3",
      "display_name": "Python 3"
    },
    "language_info": {
      "name": "python"
    }
  },
  "cells": [
    {
      "cell_type": "markdown",
      "metadata": {
        "id": "view-in-github",
        "colab_type": "text"
      },
      "source": [
        "<a href=\"https://colab.research.google.com/github/dwwatson1/coronavirus_pandemic_playbook/blob/main/script/no_covid_states.ipynb\" target=\"_parent\"><img src=\"https://colab.research.google.com/assets/colab-badge.svg\" alt=\"Open In Colab\"/></a>"
      ]
    },
    {
      "cell_type": "code",
      "metadata": {
        "id": "mC1dXO_oQj_Q"
      },
      "source": [
        "from IPython.core.debugger import set_trace"
      ],
      "execution_count": null,
      "outputs": []
    },
    {
      "cell_type": "code",
      "metadata": {
        "id": "XLeQWO5S6KYk"
      },
      "source": [
        "import pandas as pd\n",
        "import numpy as np\n",
        "import os\n",
        "import random\n",
        "import matplotlib.pyplot as plt\n",
        "import pickle\n",
        "import time"
      ],
      "execution_count": null,
      "outputs": []
    },
    {
      "cell_type": "code",
      "metadata": {
        "id": "fTgYknt86Lmy",
        "colab": {
          "base_uri": "https://localhost:8080/"
        },
        "outputId": "db89fe38-0613-483d-dd84-4cc4ea719c51"
      },
      "source": [
        "!pip install faker"
      ],
      "execution_count": null,
      "outputs": [
        {
          "output_type": "stream",
          "text": [
            "Requirement already satisfied: faker in /usr/local/lib/python3.7/dist-packages (8.10.3)\n",
            "Requirement already satisfied: python-dateutil>=2.4 in /usr/local/lib/python3.7/dist-packages (from faker) (2.8.1)\n",
            "Requirement already satisfied: text-unidecode==1.3 in /usr/local/lib/python3.7/dist-packages (from faker) (1.3)\n",
            "Requirement already satisfied: six>=1.5 in /usr/local/lib/python3.7/dist-packages (from python-dateutil>=2.4->faker) (1.15.0)\n"
          ],
          "name": "stdout"
        }
      ]
    },
    {
      "cell_type": "code",
      "metadata": {
        "id": "-uyY8p5c6OgS"
      },
      "source": [
        "from faker import Faker\n",
        "\n",
        "fake=Faker()"
      ],
      "execution_count": null,
      "outputs": []
    },
    {
      "cell_type": "markdown",
      "metadata": {
        "id": "Fxdv0DQM6Sab"
      },
      "source": [
        "Northeast"
      ]
    },
    {
      "cell_type": "code",
      "metadata": {
        "id": "w_xhtq4m6ZYk"
      },
      "source": [
        "# New York\n",
        "def faker_categorical(num=1, seed=None):\n",
        "  np.random.seed(seed)\n",
        "  fake.seed_instance(seed)\n",
        "\n",
        "  output = [\n",
        "    {\n",
        "        \"res_state\": \"NY\",\n",
        "        # age_group: 0: 0-17 years, 1: 18-49 years, 2: 50-64 years, 3: 65+ years\n",
        "        \"age_group\": np.random.choice([\"0\", \"1\", \"2\", \"3\"], p=[0.21, 0.42, 0.20, 0.17]),\n",
        "        # sex: 0-Male, 1-Female\n",
        "        \"sex\": np.random.choice([\"0\", \"1\"], p=[0.48, 0.52]),\n",
        "        # race: 0-White, 1-Black, 2-Asian, 3-American Indian/Alaska Native, 4-Native Hawaiian/Other Pacific Islander, 5-Multiple/Other\n",
        "        \"race\": np.random.choice([\"0\", \"1\", \"2\", \"3\", \"4\", \"5\"], p=(0.6320, 0.1585, 0.0864, 0.0038, 0.0004, 0.1189)),\n",
        "    }\n",
        "    for x in range(num)\n",
        "  ]\n",
        "  return output"
      ],
      "execution_count": null,
      "outputs": []
    },
    {
      "cell_type": "code",
      "metadata": {
        "id": "FLyNUIMo6hOT",
        "colab": {
          "base_uri": "https://localhost:8080/",
          "height": 204
        },
        "outputId": "712389b1-93fb-4a2a-e229-d1396145ed00"
      },
      "source": [
        "ny_df = pd.DataFrame(faker_categorical(num=18235043, seed=0))\n",
        "ny_df.head(5)"
      ],
      "execution_count": null,
      "outputs": [
        {
          "output_type": "execute_result",
          "data": {
            "text/html": [
              "<div>\n",
              "<style scoped>\n",
              "    .dataframe tbody tr th:only-of-type {\n",
              "        vertical-align: middle;\n",
              "    }\n",
              "\n",
              "    .dataframe tbody tr th {\n",
              "        vertical-align: top;\n",
              "    }\n",
              "\n",
              "    .dataframe thead th {\n",
              "        text-align: right;\n",
              "    }\n",
              "</style>\n",
              "<table border=\"1\" class=\"dataframe\">\n",
              "  <thead>\n",
              "    <tr style=\"text-align: right;\">\n",
              "      <th></th>\n",
              "      <th>res_state</th>\n",
              "      <th>age_group</th>\n",
              "      <th>sex</th>\n",
              "      <th>race</th>\n",
              "    </tr>\n",
              "  </thead>\n",
              "  <tbody>\n",
              "    <tr>\n",
              "      <th>0</th>\n",
              "      <td>NY</td>\n",
              "      <td>1</td>\n",
              "      <td>1</td>\n",
              "      <td>0</td>\n",
              "    </tr>\n",
              "    <tr>\n",
              "      <th>1</th>\n",
              "      <td>NY</td>\n",
              "      <td>1</td>\n",
              "      <td>0</td>\n",
              "      <td>1</td>\n",
              "    </tr>\n",
              "    <tr>\n",
              "      <th>2</th>\n",
              "      <td>NY</td>\n",
              "      <td>1</td>\n",
              "      <td>1</td>\n",
              "      <td>5</td>\n",
              "    </tr>\n",
              "    <tr>\n",
              "      <th>3</th>\n",
              "      <td>NY</td>\n",
              "      <td>1</td>\n",
              "      <td>1</td>\n",
              "      <td>0</td>\n",
              "    </tr>\n",
              "    <tr>\n",
              "      <th>4</th>\n",
              "      <td>NY</td>\n",
              "      <td>1</td>\n",
              "      <td>1</td>\n",
              "      <td>0</td>\n",
              "    </tr>\n",
              "  </tbody>\n",
              "</table>\n",
              "</div>"
            ],
            "text/plain": [
              "  res_state age_group sex race\n",
              "0        NY         1   1    0\n",
              "1        NY         1   0    1\n",
              "2        NY         1   1    5\n",
              "3        NY         1   1    0\n",
              "4        NY         1   1    0"
            ]
          },
          "metadata": {
            "tags": []
          },
          "execution_count": 7
        }
      ]
    },
    {
      "cell_type": "code",
      "metadata": {
        "id": "bWhI0BhF6zTr"
      },
      "source": [
        "# Region: 0-Northeast, 1-Southeast, 2-Midwest, 3-Southwest, 4-West\n",
        "ny_df.insert(4, \"region\", \"0\")\n",
        "\n",
        "# Population density\n",
        "ny_df.insert(5, \"pop_density\", \"282\")\n",
        "\n",
        "# Median income\n",
        "ny_df.insert(6, \"median_income\", \"71855\")\n",
        "\n",
        "# Airport Per Square Mile\n",
        "ny_df.insert(7, \"airport_area\", \"0.02\")\n",
        "\n",
        "# State Policy Prevention Mandate Score\n",
        "ny_df.insert(8, \"policy_prevention\", \"31\")"
      ],
      "execution_count": null,
      "outputs": []
    },
    {
      "cell_type": "code",
      "metadata": {
        "id": "8Pcmo3Bi6huS"
      },
      "source": [
        "# Add column to identify all persons without COVID\n",
        "# has_covid: O-Yes, 1-No\n",
        "ny_df.insert(9, \"has_covid\", \"1\")"
      ],
      "execution_count": null,
      "outputs": []
    },
    {
      "cell_type": "code",
      "metadata": {
        "id": "6H0dKh4q6jmy",
        "colab": {
          "base_uri": "https://localhost:8080/",
          "height": 204
        },
        "outputId": "676aecf6-d26c-4cc1-a32e-44c2ad0a07d8"
      },
      "source": [
        "ny_df.head(5)"
      ],
      "execution_count": null,
      "outputs": [
        {
          "output_type": "execute_result",
          "data": {
            "text/html": [
              "<div>\n",
              "<style scoped>\n",
              "    .dataframe tbody tr th:only-of-type {\n",
              "        vertical-align: middle;\n",
              "    }\n",
              "\n",
              "    .dataframe tbody tr th {\n",
              "        vertical-align: top;\n",
              "    }\n",
              "\n",
              "    .dataframe thead th {\n",
              "        text-align: right;\n",
              "    }\n",
              "</style>\n",
              "<table border=\"1\" class=\"dataframe\">\n",
              "  <thead>\n",
              "    <tr style=\"text-align: right;\">\n",
              "      <th></th>\n",
              "      <th>res_state</th>\n",
              "      <th>age_group</th>\n",
              "      <th>sex</th>\n",
              "      <th>race</th>\n",
              "      <th>region</th>\n",
              "      <th>pop_density</th>\n",
              "      <th>median_income</th>\n",
              "      <th>airport_area</th>\n",
              "      <th>policy_prevention</th>\n",
              "      <th>has_covid</th>\n",
              "    </tr>\n",
              "  </thead>\n",
              "  <tbody>\n",
              "    <tr>\n",
              "      <th>0</th>\n",
              "      <td>NY</td>\n",
              "      <td>1</td>\n",
              "      <td>1</td>\n",
              "      <td>0</td>\n",
              "      <td>0</td>\n",
              "      <td>282</td>\n",
              "      <td>71855</td>\n",
              "      <td>0.02</td>\n",
              "      <td>31</td>\n",
              "      <td>1</td>\n",
              "    </tr>\n",
              "    <tr>\n",
              "      <th>1</th>\n",
              "      <td>NY</td>\n",
              "      <td>1</td>\n",
              "      <td>0</td>\n",
              "      <td>1</td>\n",
              "      <td>0</td>\n",
              "      <td>282</td>\n",
              "      <td>71855</td>\n",
              "      <td>0.02</td>\n",
              "      <td>31</td>\n",
              "      <td>1</td>\n",
              "    </tr>\n",
              "    <tr>\n",
              "      <th>2</th>\n",
              "      <td>NY</td>\n",
              "      <td>1</td>\n",
              "      <td>1</td>\n",
              "      <td>5</td>\n",
              "      <td>0</td>\n",
              "      <td>282</td>\n",
              "      <td>71855</td>\n",
              "      <td>0.02</td>\n",
              "      <td>31</td>\n",
              "      <td>1</td>\n",
              "    </tr>\n",
              "    <tr>\n",
              "      <th>3</th>\n",
              "      <td>NY</td>\n",
              "      <td>1</td>\n",
              "      <td>1</td>\n",
              "      <td>0</td>\n",
              "      <td>0</td>\n",
              "      <td>282</td>\n",
              "      <td>71855</td>\n",
              "      <td>0.02</td>\n",
              "      <td>31</td>\n",
              "      <td>1</td>\n",
              "    </tr>\n",
              "    <tr>\n",
              "      <th>4</th>\n",
              "      <td>NY</td>\n",
              "      <td>1</td>\n",
              "      <td>1</td>\n",
              "      <td>0</td>\n",
              "      <td>0</td>\n",
              "      <td>282</td>\n",
              "      <td>71855</td>\n",
              "      <td>0.02</td>\n",
              "      <td>31</td>\n",
              "      <td>1</td>\n",
              "    </tr>\n",
              "  </tbody>\n",
              "</table>\n",
              "</div>"
            ],
            "text/plain": [
              "  res_state age_group sex  ... airport_area policy_prevention has_covid\n",
              "0        NY         1   1  ...         0.02                31         1\n",
              "1        NY         1   0  ...         0.02                31         1\n",
              "2        NY         1   1  ...         0.02                31         1\n",
              "3        NY         1   1  ...         0.02                31         1\n",
              "4        NY         1   1  ...         0.02                31         1\n",
              "\n",
              "[5 rows x 10 columns]"
            ]
          },
          "metadata": {
            "tags": []
          },
          "execution_count": 10
        }
      ]
    },
    {
      "cell_type": "code",
      "metadata": {
        "id": "QAPI0cT76oRD"
      },
      "source": [
        "ny_df.to_csv('ny_no_covid.csv', index=False)"
      ],
      "execution_count": null,
      "outputs": []
    },
    {
      "cell_type": "code",
      "metadata": {
        "id": "OZAxhoAH_TGb"
      },
      "source": [
        "# Connecticut\n",
        "def faker_categorical(num=1, seed=None):\n",
        "  np.random.seed(seed)\n",
        "  fake.seed_instance(seed)\n",
        "\n",
        "  output = [\n",
        "    {\n",
        "        \"res_state\": \"CT\",\n",
        "        # age_group: 0: 0-17 years, 1: 18-49 years, 2: 50-64 years, 3: 65+ years\n",
        "        \"age_group\": np.random.choice([\"0\", \"1\", \"2\", \"3\"], p=[0.21, 0.40, 0.21, 0.18]),\n",
        "        # sex: 0-Male, 1-Female\n",
        "        \"sex\": np.random.choice([\"0\", \"1\"], p=[0.49, 0.51]),\n",
        "        # race: 0-White, 1-Black, 2-Asian, 3-American Indian/Alaska Native, 4-Native Hawaiian/Other Pacific Islander, 5-Multiple/Other\n",
        "        \"race\": np.random.choice([\"0\", \"1\", \"2\", \"3\", \"4\", \"5\"], p=(0.7461, 0.1113, 0.0467, 0.0025, 0.0004, 0.0930)),\n",
        "    }\n",
        "    for x in range(num)\n",
        "  ]\n",
        "  return output"
      ],
      "execution_count": null,
      "outputs": []
    },
    {
      "cell_type": "code",
      "metadata": {
        "id": "MEuou7Va_mOJ",
        "colab": {
          "base_uri": "https://localhost:8080/",
          "height": 204
        },
        "outputId": "d3dba06f-7d7c-4a05-d45f-727d966e4f4d"
      },
      "source": [
        "ct_df = pd.DataFrame(faker_categorical(num=3394611, seed=0))\n",
        "ct_df.head(5)"
      ],
      "execution_count": null,
      "outputs": [
        {
          "output_type": "execute_result",
          "data": {
            "text/html": [
              "<div>\n",
              "<style scoped>\n",
              "    .dataframe tbody tr th:only-of-type {\n",
              "        vertical-align: middle;\n",
              "    }\n",
              "\n",
              "    .dataframe tbody tr th {\n",
              "        vertical-align: top;\n",
              "    }\n",
              "\n",
              "    .dataframe thead th {\n",
              "        text-align: right;\n",
              "    }\n",
              "</style>\n",
              "<table border=\"1\" class=\"dataframe\">\n",
              "  <thead>\n",
              "    <tr style=\"text-align: right;\">\n",
              "      <th></th>\n",
              "      <th>res_state</th>\n",
              "      <th>age_group</th>\n",
              "      <th>sex</th>\n",
              "      <th>race</th>\n",
              "    </tr>\n",
              "  </thead>\n",
              "  <tbody>\n",
              "    <tr>\n",
              "      <th>0</th>\n",
              "      <td>CT</td>\n",
              "      <td>1</td>\n",
              "      <td>1</td>\n",
              "      <td>0</td>\n",
              "    </tr>\n",
              "    <tr>\n",
              "      <th>1</th>\n",
              "      <td>CT</td>\n",
              "      <td>1</td>\n",
              "      <td>0</td>\n",
              "      <td>0</td>\n",
              "    </tr>\n",
              "    <tr>\n",
              "      <th>2</th>\n",
              "      <td>CT</td>\n",
              "      <td>1</td>\n",
              "      <td>1</td>\n",
              "      <td>5</td>\n",
              "    </tr>\n",
              "    <tr>\n",
              "      <th>3</th>\n",
              "      <td>CT</td>\n",
              "      <td>1</td>\n",
              "      <td>1</td>\n",
              "      <td>0</td>\n",
              "    </tr>\n",
              "    <tr>\n",
              "      <th>4</th>\n",
              "      <td>CT</td>\n",
              "      <td>1</td>\n",
              "      <td>1</td>\n",
              "      <td>0</td>\n",
              "    </tr>\n",
              "  </tbody>\n",
              "</table>\n",
              "</div>"
            ],
            "text/plain": [
              "  res_state age_group sex race\n",
              "0        CT         1   1    0\n",
              "1        CT         1   0    0\n",
              "2        CT         1   1    5\n",
              "3        CT         1   1    0\n",
              "4        CT         1   1    0"
            ]
          },
          "metadata": {
            "tags": []
          },
          "execution_count": 8
        }
      ]
    },
    {
      "cell_type": "code",
      "metadata": {
        "id": "skckevw0_w3B"
      },
      "source": [
        "# Region: 0-Northeast, 1-Southeast, 2-Midwest, 3-Southwest, 4-West\n",
        "ct_df.insert(4, \"region\", \"0\")\n",
        "\n",
        "# Population density\n",
        "ct_df.insert(5, \"pop_density\", \"736\")\n",
        "\n",
        "# Median income\n",
        "ct_df.insert(6, \"median_income\", \"87291\")\n",
        "\n",
        "# Airport Per Square Mile\n",
        "ct_df.insert(7, \"airport_area\", \"0.02\")\n",
        "\n",
        "# State Policy Prevention Mandate Score\n",
        "ct_df.insert(8, \"policy_prevention\", \"32\")"
      ],
      "execution_count": null,
      "outputs": []
    },
    {
      "cell_type": "code",
      "metadata": {
        "id": "RmkNwDva_msi"
      },
      "source": [
        "# Add column to identify all persons without COVID\n",
        "# has_covid: O-Yes, 1-No\n",
        "ct_df.insert(9, \"has_covid\", \"1\")"
      ],
      "execution_count": null,
      "outputs": []
    },
    {
      "cell_type": "code",
      "metadata": {
        "id": "ypLMRkrF_oLh",
        "colab": {
          "base_uri": "https://localhost:8080/",
          "height": 204
        },
        "outputId": "8216269d-aafa-4312-a2c8-424ac2e073da"
      },
      "source": [
        "ct_df.head(5)"
      ],
      "execution_count": null,
      "outputs": [
        {
          "output_type": "execute_result",
          "data": {
            "text/html": [
              "<div>\n",
              "<style scoped>\n",
              "    .dataframe tbody tr th:only-of-type {\n",
              "        vertical-align: middle;\n",
              "    }\n",
              "\n",
              "    .dataframe tbody tr th {\n",
              "        vertical-align: top;\n",
              "    }\n",
              "\n",
              "    .dataframe thead th {\n",
              "        text-align: right;\n",
              "    }\n",
              "</style>\n",
              "<table border=\"1\" class=\"dataframe\">\n",
              "  <thead>\n",
              "    <tr style=\"text-align: right;\">\n",
              "      <th></th>\n",
              "      <th>res_state</th>\n",
              "      <th>age_group</th>\n",
              "      <th>sex</th>\n",
              "      <th>race</th>\n",
              "      <th>region</th>\n",
              "      <th>pop_density</th>\n",
              "      <th>median_income</th>\n",
              "      <th>airport_area</th>\n",
              "      <th>policy_prevention</th>\n",
              "      <th>has_covid</th>\n",
              "    </tr>\n",
              "  </thead>\n",
              "  <tbody>\n",
              "    <tr>\n",
              "      <th>0</th>\n",
              "      <td>CT</td>\n",
              "      <td>1</td>\n",
              "      <td>1</td>\n",
              "      <td>0</td>\n",
              "      <td>0</td>\n",
              "      <td>736</td>\n",
              "      <td>87291</td>\n",
              "      <td>0.02</td>\n",
              "      <td>32</td>\n",
              "      <td>1</td>\n",
              "    </tr>\n",
              "    <tr>\n",
              "      <th>1</th>\n",
              "      <td>CT</td>\n",
              "      <td>1</td>\n",
              "      <td>0</td>\n",
              "      <td>0</td>\n",
              "      <td>0</td>\n",
              "      <td>736</td>\n",
              "      <td>87291</td>\n",
              "      <td>0.02</td>\n",
              "      <td>32</td>\n",
              "      <td>1</td>\n",
              "    </tr>\n",
              "    <tr>\n",
              "      <th>2</th>\n",
              "      <td>CT</td>\n",
              "      <td>1</td>\n",
              "      <td>1</td>\n",
              "      <td>5</td>\n",
              "      <td>0</td>\n",
              "      <td>736</td>\n",
              "      <td>87291</td>\n",
              "      <td>0.02</td>\n",
              "      <td>32</td>\n",
              "      <td>1</td>\n",
              "    </tr>\n",
              "    <tr>\n",
              "      <th>3</th>\n",
              "      <td>CT</td>\n",
              "      <td>1</td>\n",
              "      <td>1</td>\n",
              "      <td>0</td>\n",
              "      <td>0</td>\n",
              "      <td>736</td>\n",
              "      <td>87291</td>\n",
              "      <td>0.02</td>\n",
              "      <td>32</td>\n",
              "      <td>1</td>\n",
              "    </tr>\n",
              "    <tr>\n",
              "      <th>4</th>\n",
              "      <td>CT</td>\n",
              "      <td>1</td>\n",
              "      <td>1</td>\n",
              "      <td>0</td>\n",
              "      <td>0</td>\n",
              "      <td>736</td>\n",
              "      <td>87291</td>\n",
              "      <td>0.02</td>\n",
              "      <td>32</td>\n",
              "      <td>1</td>\n",
              "    </tr>\n",
              "  </tbody>\n",
              "</table>\n",
              "</div>"
            ],
            "text/plain": [
              "  res_state age_group sex  ... airport_area policy_prevention has_covid\n",
              "0        CT         1   1  ...         0.02                32         1\n",
              "1        CT         1   0  ...         0.02                32         1\n",
              "2        CT         1   1  ...         0.02                32         1\n",
              "3        CT         1   1  ...         0.02                32         1\n",
              "4        CT         1   1  ...         0.02                32         1\n",
              "\n",
              "[5 rows x 10 columns]"
            ]
          },
          "metadata": {
            "tags": []
          },
          "execution_count": 11
        }
      ]
    },
    {
      "cell_type": "code",
      "metadata": {
        "id": "Sa1djbuR_pnp"
      },
      "source": [
        "ct_df.to_csv('ct_no_covid.csv', index=False)"
      ],
      "execution_count": null,
      "outputs": []
    },
    {
      "cell_type": "code",
      "metadata": {
        "id": "JjoNJUOdBCiJ"
      },
      "source": [
        "# Pennsylvania\n",
        "def faker_categorical(num=1, seed=None):\n",
        "  np.random.seed(seed)\n",
        "  fake.seed_instance(seed)\n",
        "\n",
        "  output = [\n",
        "    {\n",
        "        \"res_state\": \"PA\",\n",
        "        # age_group: 0: 0-17 years, 1: 18-49 years, 2: 50-64 years, 3: 65+ years\n",
        "        \"age_group\": np.random.choice([\"0\", \"1\", \"2\", \"3\"], p=[0.20, 0.40, 0.21, 0.19]),\n",
        "        # sex: 0-Male, 1-Female\n",
        "        \"sex\": np.random.choice([\"0\", \"1\"], p=[0.49, 0.51]),\n",
        "        # race: 0-White, 1-Black, 2-Asian, 3-American Indian/Alaska Native, 4-Native Hawaiian/Other Pacific Islander, 5-Multiple/Other\n",
        "        \"race\": np.random.choice([\"0\", \"1\", \"2\", \"3\", \"4\", \"5\"], p=(0.7963, 0.1136, 0.0354, 0.0021, 0.0004, 0.0522)),\n",
        "    }\n",
        "    for x in range(num)\n",
        "  ]\n",
        "  return output"
      ],
      "execution_count": null,
      "outputs": []
    },
    {
      "cell_type": "code",
      "metadata": {
        "id": "Jw0yDDBUBMzQ",
        "colab": {
          "base_uri": "https://localhost:8080/",
          "height": 204
        },
        "outputId": "2fbb9f31-6d3a-4dcc-aa8e-9dfb41718450"
      },
      "source": [
        "pa_df = pd.DataFrame(faker_categorical(num=12151943, seed=0))\n",
        "pa_df.head(5)"
      ],
      "execution_count": null,
      "outputs": [
        {
          "output_type": "execute_result",
          "data": {
            "text/html": [
              "<div>\n",
              "<style scoped>\n",
              "    .dataframe tbody tr th:only-of-type {\n",
              "        vertical-align: middle;\n",
              "    }\n",
              "\n",
              "    .dataframe tbody tr th {\n",
              "        vertical-align: top;\n",
              "    }\n",
              "\n",
              "    .dataframe thead th {\n",
              "        text-align: right;\n",
              "    }\n",
              "</style>\n",
              "<table border=\"1\" class=\"dataframe\">\n",
              "  <thead>\n",
              "    <tr style=\"text-align: right;\">\n",
              "      <th></th>\n",
              "      <th>res_state</th>\n",
              "      <th>age_group</th>\n",
              "      <th>sex</th>\n",
              "      <th>race</th>\n",
              "    </tr>\n",
              "  </thead>\n",
              "  <tbody>\n",
              "    <tr>\n",
              "      <th>0</th>\n",
              "      <td>PA</td>\n",
              "      <td>1</td>\n",
              "      <td>1</td>\n",
              "      <td>0</td>\n",
              "    </tr>\n",
              "    <tr>\n",
              "      <th>1</th>\n",
              "      <td>PA</td>\n",
              "      <td>1</td>\n",
              "      <td>0</td>\n",
              "      <td>0</td>\n",
              "    </tr>\n",
              "    <tr>\n",
              "      <th>2</th>\n",
              "      <td>PA</td>\n",
              "      <td>1</td>\n",
              "      <td>1</td>\n",
              "      <td>5</td>\n",
              "    </tr>\n",
              "    <tr>\n",
              "      <th>3</th>\n",
              "      <td>PA</td>\n",
              "      <td>1</td>\n",
              "      <td>1</td>\n",
              "      <td>0</td>\n",
              "    </tr>\n",
              "    <tr>\n",
              "      <th>4</th>\n",
              "      <td>PA</td>\n",
              "      <td>1</td>\n",
              "      <td>1</td>\n",
              "      <td>0</td>\n",
              "    </tr>\n",
              "  </tbody>\n",
              "</table>\n",
              "</div>"
            ],
            "text/plain": [
              "  res_state age_group sex race\n",
              "0        PA         1   1    0\n",
              "1        PA         1   0    0\n",
              "2        PA         1   1    5\n",
              "3        PA         1   1    0\n",
              "4        PA         1   1    0"
            ]
          },
          "metadata": {
            "tags": []
          },
          "execution_count": 14
        }
      ]
    },
    {
      "cell_type": "code",
      "metadata": {
        "id": "o6nR1hk_Bwew"
      },
      "source": [
        "# Region: 0-Northeast, 1-Southeast, 2-Midwest, 3-Southwest, 4-West\n",
        "pa_df.insert(4, \"region\", \"0\")\n",
        "\n",
        "# Population density\n",
        "pa_df.insert(5, \"pop_density\", \"286\")\n",
        "\n",
        "# Median income\n",
        "pa_df.insert(6, \"median_income\", \"70582\")\n",
        "\n",
        "# Airport Per Square Mile\n",
        "pa_df.insert(7, \"airport_area\", \"0.02\")\n",
        "\n",
        "# State Policy Prevention Mandate Score\n",
        "pa_df.insert(8, \"policy_prevention\", \"39\")"
      ],
      "execution_count": null,
      "outputs": []
    },
    {
      "cell_type": "code",
      "metadata": {
        "id": "f0N62HpDBOu2"
      },
      "source": [
        "# Add column to identify all persons without COVID\n",
        "# has_covid: O-Yes, 1-No\n",
        "pa_df.insert(9, \"has_covid\", \"1\")"
      ],
      "execution_count": null,
      "outputs": []
    },
    {
      "cell_type": "code",
      "metadata": {
        "id": "NZ5fE_DABQRn",
        "colab": {
          "base_uri": "https://localhost:8080/",
          "height": 204
        },
        "outputId": "0c0bc92d-da76-4272-9f90-bc9a6b741c44"
      },
      "source": [
        "pa_df.head(5)"
      ],
      "execution_count": null,
      "outputs": [
        {
          "output_type": "execute_result",
          "data": {
            "text/html": [
              "<div>\n",
              "<style scoped>\n",
              "    .dataframe tbody tr th:only-of-type {\n",
              "        vertical-align: middle;\n",
              "    }\n",
              "\n",
              "    .dataframe tbody tr th {\n",
              "        vertical-align: top;\n",
              "    }\n",
              "\n",
              "    .dataframe thead th {\n",
              "        text-align: right;\n",
              "    }\n",
              "</style>\n",
              "<table border=\"1\" class=\"dataframe\">\n",
              "  <thead>\n",
              "    <tr style=\"text-align: right;\">\n",
              "      <th></th>\n",
              "      <th>res_state</th>\n",
              "      <th>age_group</th>\n",
              "      <th>sex</th>\n",
              "      <th>race</th>\n",
              "      <th>region</th>\n",
              "      <th>pop_density</th>\n",
              "      <th>median_income</th>\n",
              "      <th>airport_area</th>\n",
              "      <th>policy_prevention</th>\n",
              "      <th>has_covid</th>\n",
              "    </tr>\n",
              "  </thead>\n",
              "  <tbody>\n",
              "    <tr>\n",
              "      <th>0</th>\n",
              "      <td>PA</td>\n",
              "      <td>1</td>\n",
              "      <td>1</td>\n",
              "      <td>0</td>\n",
              "      <td>0</td>\n",
              "      <td>286</td>\n",
              "      <td>70582</td>\n",
              "      <td>0.02</td>\n",
              "      <td>39</td>\n",
              "      <td>1</td>\n",
              "    </tr>\n",
              "    <tr>\n",
              "      <th>1</th>\n",
              "      <td>PA</td>\n",
              "      <td>1</td>\n",
              "      <td>0</td>\n",
              "      <td>0</td>\n",
              "      <td>0</td>\n",
              "      <td>286</td>\n",
              "      <td>70582</td>\n",
              "      <td>0.02</td>\n",
              "      <td>39</td>\n",
              "      <td>1</td>\n",
              "    </tr>\n",
              "    <tr>\n",
              "      <th>2</th>\n",
              "      <td>PA</td>\n",
              "      <td>1</td>\n",
              "      <td>1</td>\n",
              "      <td>5</td>\n",
              "      <td>0</td>\n",
              "      <td>286</td>\n",
              "      <td>70582</td>\n",
              "      <td>0.02</td>\n",
              "      <td>39</td>\n",
              "      <td>1</td>\n",
              "    </tr>\n",
              "    <tr>\n",
              "      <th>3</th>\n",
              "      <td>PA</td>\n",
              "      <td>1</td>\n",
              "      <td>1</td>\n",
              "      <td>0</td>\n",
              "      <td>0</td>\n",
              "      <td>286</td>\n",
              "      <td>70582</td>\n",
              "      <td>0.02</td>\n",
              "      <td>39</td>\n",
              "      <td>1</td>\n",
              "    </tr>\n",
              "    <tr>\n",
              "      <th>4</th>\n",
              "      <td>PA</td>\n",
              "      <td>1</td>\n",
              "      <td>1</td>\n",
              "      <td>0</td>\n",
              "      <td>0</td>\n",
              "      <td>286</td>\n",
              "      <td>70582</td>\n",
              "      <td>0.02</td>\n",
              "      <td>39</td>\n",
              "      <td>1</td>\n",
              "    </tr>\n",
              "  </tbody>\n",
              "</table>\n",
              "</div>"
            ],
            "text/plain": [
              "  res_state age_group sex  ... airport_area policy_prevention has_covid\n",
              "0        PA         1   1  ...         0.02                39         1\n",
              "1        PA         1   0  ...         0.02                39         1\n",
              "2        PA         1   1  ...         0.02                39         1\n",
              "3        PA         1   1  ...         0.02                39         1\n",
              "4        PA         1   1  ...         0.02                39         1\n",
              "\n",
              "[5 rows x 10 columns]"
            ]
          },
          "metadata": {
            "tags": []
          },
          "execution_count": 17
        }
      ]
    },
    {
      "cell_type": "code",
      "metadata": {
        "id": "SPoO2X6qBSAG"
      },
      "source": [
        "pa_df.to_csv('pa_no_covid.csv', index=False)"
      ],
      "execution_count": null,
      "outputs": []
    },
    {
      "cell_type": "markdown",
      "metadata": {
        "id": "DHWnhY2FCMF3"
      },
      "source": [
        "Southeast"
      ]
    },
    {
      "cell_type": "code",
      "metadata": {
        "id": "BoPBvo94CQpl"
      },
      "source": [
        "# Tennessee\n",
        "def faker_categorical(num=1, seed=None):\n",
        "  np.random.seed(seed)\n",
        "  fake.seed_instance(seed)\n",
        "\n",
        "  output = [\n",
        "    {\n",
        "        \"res_state\": \"TN\",\n",
        "        # age_group: 0: 0-17 years, 1: 18-49 years, 2: 50-64 years, 3: 65+ years\n",
        "        \"age_group\": np.random.choice([\"0\", \"1\", \"2\", \"3\"], p=[0.23, 0.41, 0.19, 0.17]),\n",
        "        # sex: 0-Male, 1-Female\n",
        "        \"sex\": np.random.choice([\"0\", \"1\"], p=[0.48, 0.52]),\n",
        "        # race: 0-White, 1-Black, 2-Asian, 3-American Indian/Alaska Native, 4-Native Hawaiian/Other Pacific Islander, 5-Multiple/Other\n",
        "        \"race\": np.random.choice([\"0\", \"1\", \"2\", \"3\", \"4\", \"5\"], p=(0.7721, 0.1671, 0.0184, 0.0030, 0.0005, 0.0389)),\n",
        "    }\n",
        "    for x in range(num)\n",
        "  ]\n",
        "  return output"
      ],
      "execution_count": null,
      "outputs": []
    },
    {
      "cell_type": "code",
      "metadata": {
        "id": "0-nMr-UGGj2B",
        "colab": {
          "base_uri": "https://localhost:8080/",
          "height": 204
        },
        "outputId": "b9bb3f1b-776b-46d6-e739-f02c5a927c7f"
      },
      "source": [
        "tn_df = pd.DataFrame(faker_categorical(num=6261724, seed=0))\n",
        "tn_df.head(5)"
      ],
      "execution_count": null,
      "outputs": [
        {
          "output_type": "execute_result",
          "data": {
            "text/html": [
              "<div>\n",
              "<style scoped>\n",
              "    .dataframe tbody tr th:only-of-type {\n",
              "        vertical-align: middle;\n",
              "    }\n",
              "\n",
              "    .dataframe tbody tr th {\n",
              "        vertical-align: top;\n",
              "    }\n",
              "\n",
              "    .dataframe thead th {\n",
              "        text-align: right;\n",
              "    }\n",
              "</style>\n",
              "<table border=\"1\" class=\"dataframe\">\n",
              "  <thead>\n",
              "    <tr style=\"text-align: right;\">\n",
              "      <th></th>\n",
              "      <th>res_state</th>\n",
              "      <th>age_group</th>\n",
              "      <th>sex</th>\n",
              "      <th>race</th>\n",
              "    </tr>\n",
              "  </thead>\n",
              "  <tbody>\n",
              "    <tr>\n",
              "      <th>0</th>\n",
              "      <td>TN</td>\n",
              "      <td>1</td>\n",
              "      <td>1</td>\n",
              "      <td>0</td>\n",
              "    </tr>\n",
              "    <tr>\n",
              "      <th>1</th>\n",
              "      <td>TN</td>\n",
              "      <td>1</td>\n",
              "      <td>0</td>\n",
              "      <td>0</td>\n",
              "    </tr>\n",
              "    <tr>\n",
              "      <th>2</th>\n",
              "      <td>TN</td>\n",
              "      <td>1</td>\n",
              "      <td>1</td>\n",
              "      <td>5</td>\n",
              "    </tr>\n",
              "    <tr>\n",
              "      <th>3</th>\n",
              "      <td>TN</td>\n",
              "      <td>1</td>\n",
              "      <td>1</td>\n",
              "      <td>0</td>\n",
              "    </tr>\n",
              "    <tr>\n",
              "      <th>4</th>\n",
              "      <td>TN</td>\n",
              "      <td>1</td>\n",
              "      <td>1</td>\n",
              "      <td>0</td>\n",
              "    </tr>\n",
              "  </tbody>\n",
              "</table>\n",
              "</div>"
            ],
            "text/plain": [
              "  res_state age_group sex race\n",
              "0        TN         1   1    0\n",
              "1        TN         1   0    0\n",
              "2        TN         1   1    5\n",
              "3        TN         1   1    0\n",
              "4        TN         1   1    0"
            ]
          },
          "metadata": {
            "tags": []
          },
          "execution_count": 6
        }
      ]
    },
    {
      "cell_type": "code",
      "metadata": {
        "id": "Iq7o5ieeG9eY"
      },
      "source": [
        "# Region: 0-Northeast, 1-Southeast, 2-Midwest, 3-Southwest, 4-West\n",
        "tn_df.insert(4, \"region\", \"1\")\n",
        "\n",
        "# Population density\n",
        "tn_df.insert(5, \"pop_density\", \"166\")\n",
        "\n",
        "# Median income\n",
        "tn_df.insert(6, \"median_income\", \"56627\")\n",
        "\n",
        "# Airport Per Square Mile\n",
        "tn_df.insert(7, \"airport_area\", \"0.01\")\n",
        "\n",
        "# State Policy Prevention Mandate Score\n",
        "tn_df.insert(8, \"policy_prevention\", \"81\")"
      ],
      "execution_count": null,
      "outputs": []
    },
    {
      "cell_type": "code",
      "metadata": {
        "id": "yuyij4ViGln9"
      },
      "source": [
        "# Add column to identify all persons without COVID\n",
        "# has_covid: O-Yes, 1-No\n",
        "tn_df.insert(9, \"has_covid\", \"1\")"
      ],
      "execution_count": null,
      "outputs": []
    },
    {
      "cell_type": "code",
      "metadata": {
        "id": "Ew8f5yirGnNm",
        "colab": {
          "base_uri": "https://localhost:8080/",
          "height": 204
        },
        "outputId": "5da21207-dcfc-4ff3-bef0-54b59f3f8bd9"
      },
      "source": [
        "tn_df.head(5)"
      ],
      "execution_count": null,
      "outputs": [
        {
          "output_type": "execute_result",
          "data": {
            "text/html": [
              "<div>\n",
              "<style scoped>\n",
              "    .dataframe tbody tr th:only-of-type {\n",
              "        vertical-align: middle;\n",
              "    }\n",
              "\n",
              "    .dataframe tbody tr th {\n",
              "        vertical-align: top;\n",
              "    }\n",
              "\n",
              "    .dataframe thead th {\n",
              "        text-align: right;\n",
              "    }\n",
              "</style>\n",
              "<table border=\"1\" class=\"dataframe\">\n",
              "  <thead>\n",
              "    <tr style=\"text-align: right;\">\n",
              "      <th></th>\n",
              "      <th>res_state</th>\n",
              "      <th>age_group</th>\n",
              "      <th>sex</th>\n",
              "      <th>race</th>\n",
              "      <th>region</th>\n",
              "      <th>pop_density</th>\n",
              "      <th>median_income</th>\n",
              "      <th>airport_area</th>\n",
              "      <th>policy_prevention</th>\n",
              "      <th>has_covid</th>\n",
              "    </tr>\n",
              "  </thead>\n",
              "  <tbody>\n",
              "    <tr>\n",
              "      <th>0</th>\n",
              "      <td>TN</td>\n",
              "      <td>1</td>\n",
              "      <td>1</td>\n",
              "      <td>0</td>\n",
              "      <td>1</td>\n",
              "      <td>166</td>\n",
              "      <td>56627</td>\n",
              "      <td>0.01</td>\n",
              "      <td>81</td>\n",
              "      <td>1</td>\n",
              "    </tr>\n",
              "    <tr>\n",
              "      <th>1</th>\n",
              "      <td>TN</td>\n",
              "      <td>1</td>\n",
              "      <td>0</td>\n",
              "      <td>0</td>\n",
              "      <td>1</td>\n",
              "      <td>166</td>\n",
              "      <td>56627</td>\n",
              "      <td>0.01</td>\n",
              "      <td>81</td>\n",
              "      <td>1</td>\n",
              "    </tr>\n",
              "    <tr>\n",
              "      <th>2</th>\n",
              "      <td>TN</td>\n",
              "      <td>1</td>\n",
              "      <td>1</td>\n",
              "      <td>5</td>\n",
              "      <td>1</td>\n",
              "      <td>166</td>\n",
              "      <td>56627</td>\n",
              "      <td>0.01</td>\n",
              "      <td>81</td>\n",
              "      <td>1</td>\n",
              "    </tr>\n",
              "    <tr>\n",
              "      <th>3</th>\n",
              "      <td>TN</td>\n",
              "      <td>1</td>\n",
              "      <td>1</td>\n",
              "      <td>0</td>\n",
              "      <td>1</td>\n",
              "      <td>166</td>\n",
              "      <td>56627</td>\n",
              "      <td>0.01</td>\n",
              "      <td>81</td>\n",
              "      <td>1</td>\n",
              "    </tr>\n",
              "    <tr>\n",
              "      <th>4</th>\n",
              "      <td>TN</td>\n",
              "      <td>1</td>\n",
              "      <td>1</td>\n",
              "      <td>0</td>\n",
              "      <td>1</td>\n",
              "      <td>166</td>\n",
              "      <td>56627</td>\n",
              "      <td>0.01</td>\n",
              "      <td>81</td>\n",
              "      <td>1</td>\n",
              "    </tr>\n",
              "  </tbody>\n",
              "</table>\n",
              "</div>"
            ],
            "text/plain": [
              "  res_state age_group sex  ... airport_area policy_prevention has_covid\n",
              "0        TN         1   1  ...         0.01                81         1\n",
              "1        TN         1   0  ...         0.01                81         1\n",
              "2        TN         1   1  ...         0.01                81         1\n",
              "3        TN         1   1  ...         0.01                81         1\n",
              "4        TN         1   1  ...         0.01                81         1\n",
              "\n",
              "[5 rows x 10 columns]"
            ]
          },
          "metadata": {
            "tags": []
          },
          "execution_count": 9
        }
      ]
    },
    {
      "cell_type": "code",
      "metadata": {
        "id": "XbNB33PkGo2t"
      },
      "source": [
        "tn_df.to_csv('tn_no_covid.csv', index=False)"
      ],
      "execution_count": null,
      "outputs": []
    },
    {
      "cell_type": "code",
      "metadata": {
        "id": "RICsCQmFHeBs"
      },
      "source": [
        "# Florida\n",
        "def faker_categorical(num=1, seed=None):\n",
        "  np.random.seed(seed)\n",
        "  fake.seed_instance(seed)\n",
        "\n",
        "  output = [\n",
        "    {\n",
        "        \"res_state\": \"FL\",\n",
        "        # age_group: 0: 0-17 years, 1: 18-49 years, 2: 50-64 years, 3: 65+ years\n",
        "        \"age_group\": np.random.choice([\"0\", \"1\", \"2\", \"3\"], p=[0.20, 0.39, 0.20, 0.21]),\n",
        "        # sex: 0-Male, 1-Female\n",
        "        \"sex\": np.random.choice([\"0\", \"1\"], p=[0.49, 0.51]),\n",
        "        # race: 0-White, 1-Black, 2-Asian, 3-American Indian/Alaska Native, 4-Native Hawaiian/Other Pacific Islander, 5-Multiple/Other\n",
        "        \"race\": np.random.choice([\"0\", \"1\", \"2\", \"3\", \"4\", \"5\"], p=(0.7454, 0.1602, 0.0279, 0.0028, 0.0008, 0.0629)),\n",
        "    }\n",
        "    for x in range(num)\n",
        "  ]\n",
        "  return output"
      ],
      "execution_count": null,
      "outputs": []
    },
    {
      "cell_type": "code",
      "metadata": {
        "id": "RSNYoKKrHtIG",
        "colab": {
          "base_uri": "https://localhost:8080/",
          "height": 204
        },
        "outputId": "7a11b50b-8d72-4b8c-df02-76177ecb9638"
      },
      "source": [
        "fl_df_part1 = pd.DataFrame(faker_categorical(num=10317928, seed=0))\n",
        "fl_df_part1.head(5)"
      ],
      "execution_count": null,
      "outputs": [
        {
          "output_type": "execute_result",
          "data": {
            "text/html": [
              "<div>\n",
              "<style scoped>\n",
              "    .dataframe tbody tr th:only-of-type {\n",
              "        vertical-align: middle;\n",
              "    }\n",
              "\n",
              "    .dataframe tbody tr th {\n",
              "        vertical-align: top;\n",
              "    }\n",
              "\n",
              "    .dataframe thead th {\n",
              "        text-align: right;\n",
              "    }\n",
              "</style>\n",
              "<table border=\"1\" class=\"dataframe\">\n",
              "  <thead>\n",
              "    <tr style=\"text-align: right;\">\n",
              "      <th></th>\n",
              "      <th>res_state</th>\n",
              "      <th>age_group</th>\n",
              "      <th>sex</th>\n",
              "      <th>race</th>\n",
              "    </tr>\n",
              "  </thead>\n",
              "  <tbody>\n",
              "    <tr>\n",
              "      <th>0</th>\n",
              "      <td>FL</td>\n",
              "      <td>1</td>\n",
              "      <td>1</td>\n",
              "      <td>0</td>\n",
              "    </tr>\n",
              "    <tr>\n",
              "      <th>1</th>\n",
              "      <td>FL</td>\n",
              "      <td>1</td>\n",
              "      <td>0</td>\n",
              "      <td>0</td>\n",
              "    </tr>\n",
              "    <tr>\n",
              "      <th>2</th>\n",
              "      <td>FL</td>\n",
              "      <td>1</td>\n",
              "      <td>1</td>\n",
              "      <td>5</td>\n",
              "    </tr>\n",
              "    <tr>\n",
              "      <th>3</th>\n",
              "      <td>FL</td>\n",
              "      <td>1</td>\n",
              "      <td>1</td>\n",
              "      <td>0</td>\n",
              "    </tr>\n",
              "    <tr>\n",
              "      <th>4</th>\n",
              "      <td>FL</td>\n",
              "      <td>1</td>\n",
              "      <td>1</td>\n",
              "      <td>0</td>\n",
              "    </tr>\n",
              "  </tbody>\n",
              "</table>\n",
              "</div>"
            ],
            "text/plain": [
              "  res_state age_group sex race\n",
              "0        FL         1   1    0\n",
              "1        FL         1   0    0\n",
              "2        FL         1   1    5\n",
              "3        FL         1   1    0\n",
              "4        FL         1   1    0"
            ]
          },
          "metadata": {
            "tags": []
          },
          "execution_count": 6
        }
      ]
    },
    {
      "cell_type": "code",
      "metadata": {
        "id": "ukRowPn8Hux8",
        "colab": {
          "base_uri": "https://localhost:8080/",
          "height": 204
        },
        "outputId": "15c5ade1-9e6a-4512-fa4b-708957fd4c75"
      },
      "source": [
        "fl_df_part2 = pd.DataFrame(faker_categorical(num=10317927, seed=0))\n",
        "fl_df_part2.head(5)"
      ],
      "execution_count": null,
      "outputs": [
        {
          "output_type": "execute_result",
          "data": {
            "text/html": [
              "<div>\n",
              "<style scoped>\n",
              "    .dataframe tbody tr th:only-of-type {\n",
              "        vertical-align: middle;\n",
              "    }\n",
              "\n",
              "    .dataframe tbody tr th {\n",
              "        vertical-align: top;\n",
              "    }\n",
              "\n",
              "    .dataframe thead th {\n",
              "        text-align: right;\n",
              "    }\n",
              "</style>\n",
              "<table border=\"1\" class=\"dataframe\">\n",
              "  <thead>\n",
              "    <tr style=\"text-align: right;\">\n",
              "      <th></th>\n",
              "      <th>res_state</th>\n",
              "      <th>age_group</th>\n",
              "      <th>sex</th>\n",
              "      <th>race</th>\n",
              "    </tr>\n",
              "  </thead>\n",
              "  <tbody>\n",
              "    <tr>\n",
              "      <th>0</th>\n",
              "      <td>FL</td>\n",
              "      <td>1</td>\n",
              "      <td>1</td>\n",
              "      <td>0</td>\n",
              "    </tr>\n",
              "    <tr>\n",
              "      <th>1</th>\n",
              "      <td>FL</td>\n",
              "      <td>1</td>\n",
              "      <td>0</td>\n",
              "      <td>0</td>\n",
              "    </tr>\n",
              "    <tr>\n",
              "      <th>2</th>\n",
              "      <td>FL</td>\n",
              "      <td>1</td>\n",
              "      <td>1</td>\n",
              "      <td>5</td>\n",
              "    </tr>\n",
              "    <tr>\n",
              "      <th>3</th>\n",
              "      <td>FL</td>\n",
              "      <td>1</td>\n",
              "      <td>1</td>\n",
              "      <td>0</td>\n",
              "    </tr>\n",
              "    <tr>\n",
              "      <th>4</th>\n",
              "      <td>FL</td>\n",
              "      <td>1</td>\n",
              "      <td>1</td>\n",
              "      <td>0</td>\n",
              "    </tr>\n",
              "  </tbody>\n",
              "</table>\n",
              "</div>"
            ],
            "text/plain": [
              "  res_state age_group sex race\n",
              "0        FL         1   1    0\n",
              "1        FL         1   0    0\n",
              "2        FL         1   1    5\n",
              "3        FL         1   1    0\n",
              "4        FL         1   1    0"
            ]
          },
          "metadata": {
            "tags": []
          },
          "execution_count": 6
        }
      ]
    },
    {
      "cell_type": "code",
      "metadata": {
        "id": "hn6pyhm9ISfl"
      },
      "source": [
        "# Region: 0-Northeast, 1-Southeast, 2-Midwest, 3-Southwest, 4-West\n",
        "fl_df_part1.insert(4, \"region\", \"1\")\n",
        "\n",
        "# Population density\n",
        "fl_df_part1.insert(5, \"pop_density\", \"401\")\n",
        "\n",
        "# Median income\n",
        "fl_df_part1.insert(6, \"median_income\", \"58368\")\n",
        "\n",
        "# Airport Per Square Mile\n",
        "fl_df_part1.insert(7, \"airport_area\", \"0.03\")\n",
        "\n",
        "# State Policy Prevention Mandate Score\n",
        "fl_df_part1.insert(8, \"policy_prevention\", \"91\")"
      ],
      "execution_count": null,
      "outputs": []
    },
    {
      "cell_type": "code",
      "metadata": {
        "id": "FBR4ztLWIXcb"
      },
      "source": [
        "# Region: 0-Northeast, 1-Southeast, 2-Midwest, 3-Southwest, 4-West\n",
        "fl_df_part2.insert(4, \"region\", \"1\")\n",
        "\n",
        "# Population density\n",
        "fl_df_part2.insert(5, \"pop_density\", \"401\")\n",
        "\n",
        "# Median income\n",
        "fl_df_part2.insert(6, \"median_income\", \"58368\")\n",
        "\n",
        "# Airport Per Square Mile\n",
        "fl_df_part2.insert(7, \"airport_area\", \"0.03\")\n",
        "\n",
        "# State Policy Prevention Mandate Score\n",
        "fl_df_part2.insert(8, \"policy_prevention\", \"91\")"
      ],
      "execution_count": null,
      "outputs": []
    },
    {
      "cell_type": "code",
      "metadata": {
        "id": "uw0nVflMHxoD"
      },
      "source": [
        "# Add column to identify all persons without COVID\n",
        "# has_covid: O-Yes, 1-No\n",
        "fl_df_part1.insert(9, \"has_covid\", \"1\")"
      ],
      "execution_count": null,
      "outputs": []
    },
    {
      "cell_type": "code",
      "metadata": {
        "id": "3lvthud5HyF0"
      },
      "source": [
        "# Add column to identify all persons without COVID\n",
        "# has_covid: O-Yes, 1-No\n",
        "fl_df_part2.insert(9, \"has_covid\", \"1\")"
      ],
      "execution_count": null,
      "outputs": []
    },
    {
      "cell_type": "code",
      "metadata": {
        "id": "x-cX-p-mHzcL",
        "colab": {
          "base_uri": "https://localhost:8080/",
          "height": 204
        },
        "outputId": "a73577a3-2eb2-45d2-b401-27e8c9221c48"
      },
      "source": [
        "fl_df_part1.head(5)"
      ],
      "execution_count": null,
      "outputs": [
        {
          "output_type": "execute_result",
          "data": {
            "text/html": [
              "<div>\n",
              "<style scoped>\n",
              "    .dataframe tbody tr th:only-of-type {\n",
              "        vertical-align: middle;\n",
              "    }\n",
              "\n",
              "    .dataframe tbody tr th {\n",
              "        vertical-align: top;\n",
              "    }\n",
              "\n",
              "    .dataframe thead th {\n",
              "        text-align: right;\n",
              "    }\n",
              "</style>\n",
              "<table border=\"1\" class=\"dataframe\">\n",
              "  <thead>\n",
              "    <tr style=\"text-align: right;\">\n",
              "      <th></th>\n",
              "      <th>res_state</th>\n",
              "      <th>age_group</th>\n",
              "      <th>sex</th>\n",
              "      <th>race</th>\n",
              "      <th>region</th>\n",
              "      <th>pop_density</th>\n",
              "      <th>median_income</th>\n",
              "      <th>airport_area</th>\n",
              "      <th>policy_prevention</th>\n",
              "      <th>has_covid</th>\n",
              "    </tr>\n",
              "  </thead>\n",
              "  <tbody>\n",
              "    <tr>\n",
              "      <th>0</th>\n",
              "      <td>FL</td>\n",
              "      <td>1</td>\n",
              "      <td>1</td>\n",
              "      <td>0</td>\n",
              "      <td>1</td>\n",
              "      <td>401</td>\n",
              "      <td>58368</td>\n",
              "      <td>0.03</td>\n",
              "      <td>91</td>\n",
              "      <td>1</td>\n",
              "    </tr>\n",
              "    <tr>\n",
              "      <th>1</th>\n",
              "      <td>FL</td>\n",
              "      <td>1</td>\n",
              "      <td>0</td>\n",
              "      <td>0</td>\n",
              "      <td>1</td>\n",
              "      <td>401</td>\n",
              "      <td>58368</td>\n",
              "      <td>0.03</td>\n",
              "      <td>91</td>\n",
              "      <td>1</td>\n",
              "    </tr>\n",
              "    <tr>\n",
              "      <th>2</th>\n",
              "      <td>FL</td>\n",
              "      <td>1</td>\n",
              "      <td>1</td>\n",
              "      <td>5</td>\n",
              "      <td>1</td>\n",
              "      <td>401</td>\n",
              "      <td>58368</td>\n",
              "      <td>0.03</td>\n",
              "      <td>91</td>\n",
              "      <td>1</td>\n",
              "    </tr>\n",
              "    <tr>\n",
              "      <th>3</th>\n",
              "      <td>FL</td>\n",
              "      <td>1</td>\n",
              "      <td>1</td>\n",
              "      <td>0</td>\n",
              "      <td>1</td>\n",
              "      <td>401</td>\n",
              "      <td>58368</td>\n",
              "      <td>0.03</td>\n",
              "      <td>91</td>\n",
              "      <td>1</td>\n",
              "    </tr>\n",
              "    <tr>\n",
              "      <th>4</th>\n",
              "      <td>FL</td>\n",
              "      <td>1</td>\n",
              "      <td>1</td>\n",
              "      <td>0</td>\n",
              "      <td>1</td>\n",
              "      <td>401</td>\n",
              "      <td>58368</td>\n",
              "      <td>0.03</td>\n",
              "      <td>91</td>\n",
              "      <td>1</td>\n",
              "    </tr>\n",
              "  </tbody>\n",
              "</table>\n",
              "</div>"
            ],
            "text/plain": [
              "  res_state age_group sex  ... airport_area policy_prevention has_covid\n",
              "0        FL         1   1  ...         0.03                91         1\n",
              "1        FL         1   0  ...         0.03                91         1\n",
              "2        FL         1   1  ...         0.03                91         1\n",
              "3        FL         1   1  ...         0.03                91         1\n",
              "4        FL         1   1  ...         0.03                91         1\n",
              "\n",
              "[5 rows x 10 columns]"
            ]
          },
          "metadata": {
            "tags": []
          },
          "execution_count": 9
        }
      ]
    },
    {
      "cell_type": "code",
      "metadata": {
        "id": "XC5biQ1MH1AM",
        "colab": {
          "base_uri": "https://localhost:8080/",
          "height": 204
        },
        "outputId": "caa134ad-b467-4c6a-aa4d-4a038df3ccd1"
      },
      "source": [
        "fl_df_part2.head(5)"
      ],
      "execution_count": null,
      "outputs": [
        {
          "output_type": "execute_result",
          "data": {
            "text/html": [
              "<div>\n",
              "<style scoped>\n",
              "    .dataframe tbody tr th:only-of-type {\n",
              "        vertical-align: middle;\n",
              "    }\n",
              "\n",
              "    .dataframe tbody tr th {\n",
              "        vertical-align: top;\n",
              "    }\n",
              "\n",
              "    .dataframe thead th {\n",
              "        text-align: right;\n",
              "    }\n",
              "</style>\n",
              "<table border=\"1\" class=\"dataframe\">\n",
              "  <thead>\n",
              "    <tr style=\"text-align: right;\">\n",
              "      <th></th>\n",
              "      <th>res_state</th>\n",
              "      <th>age_group</th>\n",
              "      <th>sex</th>\n",
              "      <th>race</th>\n",
              "      <th>region</th>\n",
              "      <th>pop_density</th>\n",
              "      <th>median_income</th>\n",
              "      <th>airport_area</th>\n",
              "      <th>policy_prevention</th>\n",
              "      <th>has_covid</th>\n",
              "    </tr>\n",
              "  </thead>\n",
              "  <tbody>\n",
              "    <tr>\n",
              "      <th>0</th>\n",
              "      <td>FL</td>\n",
              "      <td>1</td>\n",
              "      <td>1</td>\n",
              "      <td>0</td>\n",
              "      <td>1</td>\n",
              "      <td>401</td>\n",
              "      <td>58368</td>\n",
              "      <td>0.03</td>\n",
              "      <td>91</td>\n",
              "      <td>1</td>\n",
              "    </tr>\n",
              "    <tr>\n",
              "      <th>1</th>\n",
              "      <td>FL</td>\n",
              "      <td>1</td>\n",
              "      <td>0</td>\n",
              "      <td>0</td>\n",
              "      <td>1</td>\n",
              "      <td>401</td>\n",
              "      <td>58368</td>\n",
              "      <td>0.03</td>\n",
              "      <td>91</td>\n",
              "      <td>1</td>\n",
              "    </tr>\n",
              "    <tr>\n",
              "      <th>2</th>\n",
              "      <td>FL</td>\n",
              "      <td>1</td>\n",
              "      <td>1</td>\n",
              "      <td>5</td>\n",
              "      <td>1</td>\n",
              "      <td>401</td>\n",
              "      <td>58368</td>\n",
              "      <td>0.03</td>\n",
              "      <td>91</td>\n",
              "      <td>1</td>\n",
              "    </tr>\n",
              "    <tr>\n",
              "      <th>3</th>\n",
              "      <td>FL</td>\n",
              "      <td>1</td>\n",
              "      <td>1</td>\n",
              "      <td>0</td>\n",
              "      <td>1</td>\n",
              "      <td>401</td>\n",
              "      <td>58368</td>\n",
              "      <td>0.03</td>\n",
              "      <td>91</td>\n",
              "      <td>1</td>\n",
              "    </tr>\n",
              "    <tr>\n",
              "      <th>4</th>\n",
              "      <td>FL</td>\n",
              "      <td>1</td>\n",
              "      <td>1</td>\n",
              "      <td>0</td>\n",
              "      <td>1</td>\n",
              "      <td>401</td>\n",
              "      <td>58368</td>\n",
              "      <td>0.03</td>\n",
              "      <td>91</td>\n",
              "      <td>1</td>\n",
              "    </tr>\n",
              "  </tbody>\n",
              "</table>\n",
              "</div>"
            ],
            "text/plain": [
              "  res_state age_group sex  ... airport_area policy_prevention has_covid\n",
              "0        FL         1   1  ...         0.03                91         1\n",
              "1        FL         1   0  ...         0.03                91         1\n",
              "2        FL         1   1  ...         0.03                91         1\n",
              "3        FL         1   1  ...         0.03                91         1\n",
              "4        FL         1   1  ...         0.03                91         1\n",
              "\n",
              "[5 rows x 10 columns]"
            ]
          },
          "metadata": {
            "tags": []
          },
          "execution_count": 9
        }
      ]
    },
    {
      "cell_type": "code",
      "metadata": {
        "id": "9q6x3gqeH2lO"
      },
      "source": [
        "fl_df_part1.to_csv('fl_no_covid_part1.csv', index=False)"
      ],
      "execution_count": null,
      "outputs": []
    },
    {
      "cell_type": "code",
      "metadata": {
        "id": "FSunPMmJH4HL"
      },
      "source": [
        "fl_df_part2.to_csv('fl_no_covid_part2.csv', index=False)"
      ],
      "execution_count": null,
      "outputs": []
    },
    {
      "cell_type": "code",
      "metadata": {
        "id": "LXmdJ6yLIrt2"
      },
      "source": [
        "# Georgia\n",
        "def faker_categorical(num=1, seed=None):\n",
        "  np.random.seed(seed)\n",
        "  fake.seed_instance(seed)\n",
        "\n",
        "  output = [\n",
        "    {\n",
        "        \"res_state\": \"GA\",\n",
        "        # age_group: 0: 0-17 years, 1: 18-49 years, 2: 50-64 years, 3: 65+ years\n",
        "        \"age_group\": np.random.choice([\"0\", \"1\", \"2\", \"3\"], p=[0.24, 0.43, 0.19, 0.14]),\n",
        "        # sex: 0-Male, 1-Female\n",
        "        \"sex\": np.random.choice([\"0\", \"1\"], p=[0.48, 0.52]),\n",
        "        # race: 0-White, 1-Black, 2-Asian, 3-American Indian/Alaska Native, 4-Native Hawaiian/Other Pacific Islander, 5-Multiple/Other\n",
        "        \"race\": np.random.choice([\"0\", \"1\", \"2\", \"3\", \"4\", \"5\"], p=(0.5774, 0.3194, 0.0414, 0.0040, 0.0007, 0.0571)),\n",
        "    }\n",
        "    for x in range(num)\n",
        "  ]\n",
        "  return output"
      ],
      "execution_count": null,
      "outputs": []
    },
    {
      "cell_type": "code",
      "metadata": {
        "id": "Fl5_OFC3JZOy",
        "colab": {
          "base_uri": "https://localhost:8080/",
          "height": 204
        },
        "outputId": "7ff705de-6587-40f8-b0ff-2ef2de0e9b34"
      },
      "source": [
        "ga_df = pd.DataFrame(faker_categorical(num=10141507, seed=0))\n",
        "ga_df.head(5)"
      ],
      "execution_count": null,
      "outputs": [
        {
          "output_type": "execute_result",
          "data": {
            "text/html": [
              "<div>\n",
              "<style scoped>\n",
              "    .dataframe tbody tr th:only-of-type {\n",
              "        vertical-align: middle;\n",
              "    }\n",
              "\n",
              "    .dataframe tbody tr th {\n",
              "        vertical-align: top;\n",
              "    }\n",
              "\n",
              "    .dataframe thead th {\n",
              "        text-align: right;\n",
              "    }\n",
              "</style>\n",
              "<table border=\"1\" class=\"dataframe\">\n",
              "  <thead>\n",
              "    <tr style=\"text-align: right;\">\n",
              "      <th></th>\n",
              "      <th>res_state</th>\n",
              "      <th>age_group</th>\n",
              "      <th>sex</th>\n",
              "      <th>race</th>\n",
              "    </tr>\n",
              "  </thead>\n",
              "  <tbody>\n",
              "    <tr>\n",
              "      <th>0</th>\n",
              "      <td>GA</td>\n",
              "      <td>1</td>\n",
              "      <td>1</td>\n",
              "      <td>1</td>\n",
              "    </tr>\n",
              "    <tr>\n",
              "      <th>1</th>\n",
              "      <td>GA</td>\n",
              "      <td>1</td>\n",
              "      <td>0</td>\n",
              "      <td>1</td>\n",
              "    </tr>\n",
              "    <tr>\n",
              "      <th>2</th>\n",
              "      <td>GA</td>\n",
              "      <td>1</td>\n",
              "      <td>1</td>\n",
              "      <td>5</td>\n",
              "    </tr>\n",
              "    <tr>\n",
              "      <th>3</th>\n",
              "      <td>GA</td>\n",
              "      <td>1</td>\n",
              "      <td>1</td>\n",
              "      <td>0</td>\n",
              "    </tr>\n",
              "    <tr>\n",
              "      <th>4</th>\n",
              "      <td>GA</td>\n",
              "      <td>1</td>\n",
              "      <td>1</td>\n",
              "      <td>0</td>\n",
              "    </tr>\n",
              "  </tbody>\n",
              "</table>\n",
              "</div>"
            ],
            "text/plain": [
              "  res_state age_group sex race\n",
              "0        GA         1   1    1\n",
              "1        GA         1   0    1\n",
              "2        GA         1   1    5\n",
              "3        GA         1   1    0\n",
              "4        GA         1   1    0"
            ]
          },
          "metadata": {
            "tags": []
          },
          "execution_count": 6
        }
      ]
    },
    {
      "cell_type": "code",
      "metadata": {
        "id": "uxlw5_AvJzbC"
      },
      "source": [
        "# Region: 0-Northeast, 1-Southeast, 2-Midwest, 3-Southwest, 4-West\n",
        "ga_df.insert(4, \"region\", \"1\")\n",
        "\n",
        "# Population density\n",
        "ga_df.insert(5, \"pop_density\", \"185\")\n",
        "\n",
        "# Median income\n",
        "ga_df.insert(6, \"median_income\", \"56628\")\n",
        "\n",
        "# Airport Per Square Mile\n",
        "ga_df.insert(7, \"airport_area\", \"0.01\")\n",
        "\n",
        "# State Policy Prevention Mandate Score\n",
        "ga_df.insert(8, \"policy_prevention\", \"68\")"
      ],
      "execution_count": null,
      "outputs": []
    },
    {
      "cell_type": "code",
      "metadata": {
        "id": "Ps7l77FeJbXJ"
      },
      "source": [
        "# Add column to identify all persons without COVID\n",
        "# has_covid: O-Yes, 1-No\n",
        "ga_df.insert(9, \"has_covid\", \"1\")"
      ],
      "execution_count": null,
      "outputs": []
    },
    {
      "cell_type": "code",
      "metadata": {
        "id": "nQM9fTJBJc2B",
        "colab": {
          "base_uri": "https://localhost:8080/",
          "height": 204
        },
        "outputId": "e36b434f-8589-41d2-eaeb-50f835fc4802"
      },
      "source": [
        "ga_df.head(5)"
      ],
      "execution_count": null,
      "outputs": [
        {
          "output_type": "execute_result",
          "data": {
            "text/html": [
              "<div>\n",
              "<style scoped>\n",
              "    .dataframe tbody tr th:only-of-type {\n",
              "        vertical-align: middle;\n",
              "    }\n",
              "\n",
              "    .dataframe tbody tr th {\n",
              "        vertical-align: top;\n",
              "    }\n",
              "\n",
              "    .dataframe thead th {\n",
              "        text-align: right;\n",
              "    }\n",
              "</style>\n",
              "<table border=\"1\" class=\"dataframe\">\n",
              "  <thead>\n",
              "    <tr style=\"text-align: right;\">\n",
              "      <th></th>\n",
              "      <th>res_state</th>\n",
              "      <th>age_group</th>\n",
              "      <th>sex</th>\n",
              "      <th>race</th>\n",
              "      <th>region</th>\n",
              "      <th>pop_density</th>\n",
              "      <th>median_income</th>\n",
              "      <th>airport_area</th>\n",
              "      <th>policy_prevention</th>\n",
              "      <th>has_covid</th>\n",
              "    </tr>\n",
              "  </thead>\n",
              "  <tbody>\n",
              "    <tr>\n",
              "      <th>0</th>\n",
              "      <td>GA</td>\n",
              "      <td>1</td>\n",
              "      <td>1</td>\n",
              "      <td>1</td>\n",
              "      <td>1</td>\n",
              "      <td>185</td>\n",
              "      <td>56628</td>\n",
              "      <td>0.01</td>\n",
              "      <td>68</td>\n",
              "      <td>1</td>\n",
              "    </tr>\n",
              "    <tr>\n",
              "      <th>1</th>\n",
              "      <td>GA</td>\n",
              "      <td>1</td>\n",
              "      <td>0</td>\n",
              "      <td>1</td>\n",
              "      <td>1</td>\n",
              "      <td>185</td>\n",
              "      <td>56628</td>\n",
              "      <td>0.01</td>\n",
              "      <td>68</td>\n",
              "      <td>1</td>\n",
              "    </tr>\n",
              "    <tr>\n",
              "      <th>2</th>\n",
              "      <td>GA</td>\n",
              "      <td>1</td>\n",
              "      <td>1</td>\n",
              "      <td>5</td>\n",
              "      <td>1</td>\n",
              "      <td>185</td>\n",
              "      <td>56628</td>\n",
              "      <td>0.01</td>\n",
              "      <td>68</td>\n",
              "      <td>1</td>\n",
              "    </tr>\n",
              "    <tr>\n",
              "      <th>3</th>\n",
              "      <td>GA</td>\n",
              "      <td>1</td>\n",
              "      <td>1</td>\n",
              "      <td>0</td>\n",
              "      <td>1</td>\n",
              "      <td>185</td>\n",
              "      <td>56628</td>\n",
              "      <td>0.01</td>\n",
              "      <td>68</td>\n",
              "      <td>1</td>\n",
              "    </tr>\n",
              "    <tr>\n",
              "      <th>4</th>\n",
              "      <td>GA</td>\n",
              "      <td>1</td>\n",
              "      <td>1</td>\n",
              "      <td>0</td>\n",
              "      <td>1</td>\n",
              "      <td>185</td>\n",
              "      <td>56628</td>\n",
              "      <td>0.01</td>\n",
              "      <td>68</td>\n",
              "      <td>1</td>\n",
              "    </tr>\n",
              "  </tbody>\n",
              "</table>\n",
              "</div>"
            ],
            "text/plain": [
              "  res_state age_group sex  ... airport_area policy_prevention has_covid\n",
              "0        GA         1   1  ...         0.01                68         1\n",
              "1        GA         1   0  ...         0.01                68         1\n",
              "2        GA         1   1  ...         0.01                68         1\n",
              "3        GA         1   1  ...         0.01                68         1\n",
              "4        GA         1   1  ...         0.01                68         1\n",
              "\n",
              "[5 rows x 10 columns]"
            ]
          },
          "metadata": {
            "tags": []
          },
          "execution_count": 9
        }
      ]
    },
    {
      "cell_type": "code",
      "metadata": {
        "id": "G0UXIZ6VJeI8"
      },
      "source": [
        "ga_df.to_csv('ga_no_covid.csv', index=False)"
      ],
      "execution_count": null,
      "outputs": []
    },
    {
      "cell_type": "markdown",
      "metadata": {
        "id": "GMNr9egrKkNp"
      },
      "source": [
        "Midwest"
      ]
    },
    {
      "cell_type": "code",
      "metadata": {
        "id": "iHUtHlWRKmKL"
      },
      "source": [
        "# Ohio\n",
        "def faker_categorical(num=1, seed=None):\n",
        "  np.random.seed(seed)\n",
        "  fake.seed_instance(seed)\n",
        "\n",
        "  output = [\n",
        "    {\n",
        "        \"res_state\": \"OH\",\n",
        "        # age_group: 0: 0-17 years, 1: 18-49 years, 2: 50-64 years, 3: 65+ years\n",
        "        \"age_group\": np.random.choice([\"0\", \"1\", \"2\", \"3\"], p=[0.23, 0.40, 0.20, 0.17]),\n",
        "        # sex: 0-Male, 1-Female\n",
        "        \"sex\": np.random.choice([\"0\", \"1\"], p=[0.49, 0.51]),\n",
        "        # race: 0-White, 1-Black, 2-Asian, 3-American Indian/Alaska Native, 4-Native Hawaiian/Other Pacific Islander, 5-Multiple/Other\n",
        "        \"race\": np.random.choice([\"0\", \"1\", \"2\", \"3\", \"4\", \"5\"], p=(0.8087, 0.1255, 0.0235, 0.0020, 0.0005, 0.0398)),\n",
        "    }\n",
        "    for x in range(num)\n",
        "  ]\n",
        "  return output"
      ],
      "execution_count": null,
      "outputs": []
    },
    {
      "cell_type": "code",
      "metadata": {
        "id": "mHgXt4fVKzY3",
        "colab": {
          "base_uri": "https://localhost:8080/",
          "height": 204
        },
        "outputId": "5f2fc83f-82eb-4a82-c0df-a645a1fda59c"
      },
      "source": [
        "oh_df = pd.DataFrame(faker_categorical(num=11005799, seed=0))\n",
        "oh_df.head(5)"
      ],
      "execution_count": null,
      "outputs": [
        {
          "output_type": "execute_result",
          "data": {
            "text/html": [
              "<div>\n",
              "<style scoped>\n",
              "    .dataframe tbody tr th:only-of-type {\n",
              "        vertical-align: middle;\n",
              "    }\n",
              "\n",
              "    .dataframe tbody tr th {\n",
              "        vertical-align: top;\n",
              "    }\n",
              "\n",
              "    .dataframe thead th {\n",
              "        text-align: right;\n",
              "    }\n",
              "</style>\n",
              "<table border=\"1\" class=\"dataframe\">\n",
              "  <thead>\n",
              "    <tr style=\"text-align: right;\">\n",
              "      <th></th>\n",
              "      <th>res_state</th>\n",
              "      <th>age_group</th>\n",
              "      <th>sex</th>\n",
              "      <th>race</th>\n",
              "    </tr>\n",
              "  </thead>\n",
              "  <tbody>\n",
              "    <tr>\n",
              "      <th>0</th>\n",
              "      <td>OH</td>\n",
              "      <td>1</td>\n",
              "      <td>1</td>\n",
              "      <td>0</td>\n",
              "    </tr>\n",
              "    <tr>\n",
              "      <th>1</th>\n",
              "      <td>OH</td>\n",
              "      <td>1</td>\n",
              "      <td>0</td>\n",
              "      <td>0</td>\n",
              "    </tr>\n",
              "    <tr>\n",
              "      <th>2</th>\n",
              "      <td>OH</td>\n",
              "      <td>1</td>\n",
              "      <td>1</td>\n",
              "      <td>5</td>\n",
              "    </tr>\n",
              "    <tr>\n",
              "      <th>3</th>\n",
              "      <td>OH</td>\n",
              "      <td>1</td>\n",
              "      <td>1</td>\n",
              "      <td>0</td>\n",
              "    </tr>\n",
              "    <tr>\n",
              "      <th>4</th>\n",
              "      <td>OH</td>\n",
              "      <td>1</td>\n",
              "      <td>1</td>\n",
              "      <td>0</td>\n",
              "    </tr>\n",
              "  </tbody>\n",
              "</table>\n",
              "</div>"
            ],
            "text/plain": [
              "  res_state age_group sex race\n",
              "0        OH         1   1    0\n",
              "1        OH         1   0    0\n",
              "2        OH         1   1    5\n",
              "3        OH         1   1    0\n",
              "4        OH         1   1    0"
            ]
          },
          "metadata": {
            "tags": []
          },
          "execution_count": 6
        }
      ]
    },
    {
      "cell_type": "code",
      "metadata": {
        "id": "WiEJnFTCLVCw"
      },
      "source": [
        "# Region: 0-Northeast, 1-Southeast, 2-Midwest, 3-Southwest, 4-West\n",
        "oh_df.insert(4, \"region\", \"2\")\n",
        "\n",
        "# Population density\n",
        "oh_df.insert(5, \"pop_density\", \"286\")\n",
        "\n",
        "# Median income\n",
        "oh_df.insert(6, \"median_income\", \"64663\")\n",
        "\n",
        "# Airport Per Square Mile\n",
        "oh_df.insert(7, \"airport_area\", \"0.01\")\n",
        "\n",
        "# State Policy Prevention Mandate Score\n",
        "oh_df.insert(8, \"policy_prevention\", \"47\")"
      ],
      "execution_count": null,
      "outputs": []
    },
    {
      "cell_type": "code",
      "metadata": {
        "id": "HMmUZCkHK1B4"
      },
      "source": [
        "# Add column to identify all persons without COVID\n",
        "# has_covid: O-Yes, 1-No\n",
        "oh_df.insert(9, \"has_covid\", \"1\")"
      ],
      "execution_count": null,
      "outputs": []
    },
    {
      "cell_type": "code",
      "metadata": {
        "id": "mO2efkekK2pn",
        "colab": {
          "base_uri": "https://localhost:8080/",
          "height": 204
        },
        "outputId": "10153c55-58e9-48ab-abaf-d6e269ce76a1"
      },
      "source": [
        "oh_df.head(5)"
      ],
      "execution_count": null,
      "outputs": [
        {
          "output_type": "execute_result",
          "data": {
            "text/html": [
              "<div>\n",
              "<style scoped>\n",
              "    .dataframe tbody tr th:only-of-type {\n",
              "        vertical-align: middle;\n",
              "    }\n",
              "\n",
              "    .dataframe tbody tr th {\n",
              "        vertical-align: top;\n",
              "    }\n",
              "\n",
              "    .dataframe thead th {\n",
              "        text-align: right;\n",
              "    }\n",
              "</style>\n",
              "<table border=\"1\" class=\"dataframe\">\n",
              "  <thead>\n",
              "    <tr style=\"text-align: right;\">\n",
              "      <th></th>\n",
              "      <th>res_state</th>\n",
              "      <th>age_group</th>\n",
              "      <th>sex</th>\n",
              "      <th>race</th>\n",
              "      <th>region</th>\n",
              "      <th>pop_density</th>\n",
              "      <th>median_income</th>\n",
              "      <th>airport_area</th>\n",
              "      <th>policy_prevention</th>\n",
              "      <th>has_covid</th>\n",
              "    </tr>\n",
              "  </thead>\n",
              "  <tbody>\n",
              "    <tr>\n",
              "      <th>0</th>\n",
              "      <td>OH</td>\n",
              "      <td>1</td>\n",
              "      <td>1</td>\n",
              "      <td>0</td>\n",
              "      <td>2</td>\n",
              "      <td>286</td>\n",
              "      <td>64663</td>\n",
              "      <td>0.01</td>\n",
              "      <td>47</td>\n",
              "      <td>1</td>\n",
              "    </tr>\n",
              "    <tr>\n",
              "      <th>1</th>\n",
              "      <td>OH</td>\n",
              "      <td>1</td>\n",
              "      <td>0</td>\n",
              "      <td>0</td>\n",
              "      <td>2</td>\n",
              "      <td>286</td>\n",
              "      <td>64663</td>\n",
              "      <td>0.01</td>\n",
              "      <td>47</td>\n",
              "      <td>1</td>\n",
              "    </tr>\n",
              "    <tr>\n",
              "      <th>2</th>\n",
              "      <td>OH</td>\n",
              "      <td>1</td>\n",
              "      <td>1</td>\n",
              "      <td>5</td>\n",
              "      <td>2</td>\n",
              "      <td>286</td>\n",
              "      <td>64663</td>\n",
              "      <td>0.01</td>\n",
              "      <td>47</td>\n",
              "      <td>1</td>\n",
              "    </tr>\n",
              "    <tr>\n",
              "      <th>3</th>\n",
              "      <td>OH</td>\n",
              "      <td>1</td>\n",
              "      <td>1</td>\n",
              "      <td>0</td>\n",
              "      <td>2</td>\n",
              "      <td>286</td>\n",
              "      <td>64663</td>\n",
              "      <td>0.01</td>\n",
              "      <td>47</td>\n",
              "      <td>1</td>\n",
              "    </tr>\n",
              "    <tr>\n",
              "      <th>4</th>\n",
              "      <td>OH</td>\n",
              "      <td>1</td>\n",
              "      <td>1</td>\n",
              "      <td>0</td>\n",
              "      <td>2</td>\n",
              "      <td>286</td>\n",
              "      <td>64663</td>\n",
              "      <td>0.01</td>\n",
              "      <td>47</td>\n",
              "      <td>1</td>\n",
              "    </tr>\n",
              "  </tbody>\n",
              "</table>\n",
              "</div>"
            ],
            "text/plain": [
              "  res_state age_group sex  ... airport_area policy_prevention has_covid\n",
              "0        OH         1   1  ...         0.01                47         1\n",
              "1        OH         1   0  ...         0.01                47         1\n",
              "2        OH         1   1  ...         0.01                47         1\n",
              "3        OH         1   1  ...         0.01                47         1\n",
              "4        OH         1   1  ...         0.01                47         1\n",
              "\n",
              "[5 rows x 10 columns]"
            ]
          },
          "metadata": {
            "tags": []
          },
          "execution_count": 9
        }
      ]
    },
    {
      "cell_type": "code",
      "metadata": {
        "id": "XZ_2su73K39h"
      },
      "source": [
        "oh_df.to_csv('oh_no_covid.csv', index=False)"
      ],
      "execution_count": null,
      "outputs": []
    },
    {
      "cell_type": "code",
      "metadata": {
        "id": "CsMTELAmLqgf"
      },
      "source": [
        "# Wisconsin\n",
        "def faker_categorical(num=1, seed=None):\n",
        "  np.random.seed(seed)\n",
        "  fake.seed_instance(seed)\n",
        "\n",
        "  output = [\n",
        "    {\n",
        "        \"res_state\": \"WI\",\n",
        "        # age_group: 0: 0-17 years, 1: 18-49 years, 2: 50-64 years, 3: 65+ years\n",
        "        \"age_group\": np.random.choice([\"0\", \"1\", \"2\", \"3\"], p=[0.23, 0.39, 0.20, 0.18]),\n",
        "        # sex: 0-Male, 1-Female\n",
        "        \"sex\": np.random.choice([\"0\", \"1\"], p=[0.49, 0.51]),\n",
        "        # race: 0-White, 1-Black, 2-Asian, 3-American Indian/Alaska Native, 4-Native Hawaiian/Other Pacific Islander, 5-Multiple/Other\n",
        "        \"race\": np.random.choice([\"0\", \"1\", \"2\", \"3\", \"4\", \"5\"], p=(0.8524, 0.0644, 0.0288, 0.0094, 0.0007, 0.0443)),\n",
        "    }\n",
        "    for x in range(num)\n",
        "  ]\n",
        "  return output"
      ],
      "execution_count": null,
      "outputs": []
    },
    {
      "cell_type": "code",
      "metadata": {
        "id": "LZGLV7NjMP0c",
        "colab": {
          "base_uri": "https://localhost:8080/",
          "height": 204
        },
        "outputId": "5fc188c3-1e90-41a0-ce08-d96f6bc5a0df"
      },
      "source": [
        "wi_df = pd.DataFrame(faker_categorical(num=5401356, seed=0))\n",
        "wi_df.head(5)"
      ],
      "execution_count": null,
      "outputs": [
        {
          "output_type": "execute_result",
          "data": {
            "text/html": [
              "<div>\n",
              "<style scoped>\n",
              "    .dataframe tbody tr th:only-of-type {\n",
              "        vertical-align: middle;\n",
              "    }\n",
              "\n",
              "    .dataframe tbody tr th {\n",
              "        vertical-align: top;\n",
              "    }\n",
              "\n",
              "    .dataframe thead th {\n",
              "        text-align: right;\n",
              "    }\n",
              "</style>\n",
              "<table border=\"1\" class=\"dataframe\">\n",
              "  <thead>\n",
              "    <tr style=\"text-align: right;\">\n",
              "      <th></th>\n",
              "      <th>res_state</th>\n",
              "      <th>age_group</th>\n",
              "      <th>sex</th>\n",
              "      <th>race</th>\n",
              "    </tr>\n",
              "  </thead>\n",
              "  <tbody>\n",
              "    <tr>\n",
              "      <th>0</th>\n",
              "      <td>WI</td>\n",
              "      <td>1</td>\n",
              "      <td>1</td>\n",
              "      <td>0</td>\n",
              "    </tr>\n",
              "    <tr>\n",
              "      <th>1</th>\n",
              "      <td>WI</td>\n",
              "      <td>1</td>\n",
              "      <td>0</td>\n",
              "      <td>0</td>\n",
              "    </tr>\n",
              "    <tr>\n",
              "      <th>2</th>\n",
              "      <td>WI</td>\n",
              "      <td>1</td>\n",
              "      <td>1</td>\n",
              "      <td>5</td>\n",
              "    </tr>\n",
              "    <tr>\n",
              "      <th>3</th>\n",
              "      <td>WI</td>\n",
              "      <td>1</td>\n",
              "      <td>1</td>\n",
              "      <td>0</td>\n",
              "    </tr>\n",
              "    <tr>\n",
              "      <th>4</th>\n",
              "      <td>WI</td>\n",
              "      <td>1</td>\n",
              "      <td>1</td>\n",
              "      <td>0</td>\n",
              "    </tr>\n",
              "  </tbody>\n",
              "</table>\n",
              "</div>"
            ],
            "text/plain": [
              "  res_state age_group sex race\n",
              "0        WI         1   1    0\n",
              "1        WI         1   0    0\n",
              "2        WI         1   1    5\n",
              "3        WI         1   1    0\n",
              "4        WI         1   1    0"
            ]
          },
          "metadata": {
            "tags": []
          },
          "execution_count": 8
        }
      ]
    },
    {
      "cell_type": "code",
      "metadata": {
        "id": "2eCIbkvGMVop"
      },
      "source": [
        "# Region: 0-Northeast, 1-Southeast, 2-Midwest, 3-Southwest, 4-West\n",
        "wi_df.insert(4, \"region\", \"2\")\n",
        "\n",
        "# Population density\n",
        "wi_df.insert(5, \"pop_density\", \"242\")\n",
        "\n",
        "# Median income\n",
        "wi_df.insert(6, \"median_income\", \"67355\")\n",
        "\n",
        "# Airport Per Square Mile\n",
        "wi_df.insert(7, \"airport_area\", \"0.03\")\n",
        "\n",
        "# State Policy Prevention Mandate Score\n",
        "wi_df.insert(8, \"policy_prevention\", \"79\")"
      ],
      "execution_count": null,
      "outputs": []
    },
    {
      "cell_type": "code",
      "metadata": {
        "id": "x80fKOa-O-BE"
      },
      "source": [
        "# Add column to identify all persons without COVID\n",
        "# has_covid: O-Yes, 1-No\n",
        "wi_df.insert(9, \"has_covid\", \"1\")"
      ],
      "execution_count": null,
      "outputs": []
    },
    {
      "cell_type": "code",
      "metadata": {
        "id": "XnV4s8YxMRPl",
        "colab": {
          "base_uri": "https://localhost:8080/",
          "height": 204
        },
        "outputId": "aa1bce8b-d820-4cc0-b5fe-055a1cc4f209"
      },
      "source": [
        "wi_df.head(5)"
      ],
      "execution_count": null,
      "outputs": [
        {
          "output_type": "execute_result",
          "data": {
            "text/html": [
              "<div>\n",
              "<style scoped>\n",
              "    .dataframe tbody tr th:only-of-type {\n",
              "        vertical-align: middle;\n",
              "    }\n",
              "\n",
              "    .dataframe tbody tr th {\n",
              "        vertical-align: top;\n",
              "    }\n",
              "\n",
              "    .dataframe thead th {\n",
              "        text-align: right;\n",
              "    }\n",
              "</style>\n",
              "<table border=\"1\" class=\"dataframe\">\n",
              "  <thead>\n",
              "    <tr style=\"text-align: right;\">\n",
              "      <th></th>\n",
              "      <th>res_state</th>\n",
              "      <th>age_group</th>\n",
              "      <th>sex</th>\n",
              "      <th>race</th>\n",
              "      <th>region</th>\n",
              "      <th>pop_density</th>\n",
              "      <th>median_income</th>\n",
              "      <th>airport_area</th>\n",
              "      <th>policy_prevention</th>\n",
              "      <th>has_covid</th>\n",
              "    </tr>\n",
              "  </thead>\n",
              "  <tbody>\n",
              "    <tr>\n",
              "      <th>0</th>\n",
              "      <td>WI</td>\n",
              "      <td>1</td>\n",
              "      <td>1</td>\n",
              "      <td>0</td>\n",
              "      <td>2</td>\n",
              "      <td>242</td>\n",
              "      <td>67355</td>\n",
              "      <td>0.03</td>\n",
              "      <td>79</td>\n",
              "      <td>1</td>\n",
              "    </tr>\n",
              "    <tr>\n",
              "      <th>1</th>\n",
              "      <td>WI</td>\n",
              "      <td>1</td>\n",
              "      <td>0</td>\n",
              "      <td>0</td>\n",
              "      <td>2</td>\n",
              "      <td>242</td>\n",
              "      <td>67355</td>\n",
              "      <td>0.03</td>\n",
              "      <td>79</td>\n",
              "      <td>1</td>\n",
              "    </tr>\n",
              "    <tr>\n",
              "      <th>2</th>\n",
              "      <td>WI</td>\n",
              "      <td>1</td>\n",
              "      <td>1</td>\n",
              "      <td>5</td>\n",
              "      <td>2</td>\n",
              "      <td>242</td>\n",
              "      <td>67355</td>\n",
              "      <td>0.03</td>\n",
              "      <td>79</td>\n",
              "      <td>1</td>\n",
              "    </tr>\n",
              "    <tr>\n",
              "      <th>3</th>\n",
              "      <td>WI</td>\n",
              "      <td>1</td>\n",
              "      <td>1</td>\n",
              "      <td>0</td>\n",
              "      <td>2</td>\n",
              "      <td>242</td>\n",
              "      <td>67355</td>\n",
              "      <td>0.03</td>\n",
              "      <td>79</td>\n",
              "      <td>1</td>\n",
              "    </tr>\n",
              "    <tr>\n",
              "      <th>4</th>\n",
              "      <td>WI</td>\n",
              "      <td>1</td>\n",
              "      <td>1</td>\n",
              "      <td>0</td>\n",
              "      <td>2</td>\n",
              "      <td>242</td>\n",
              "      <td>67355</td>\n",
              "      <td>0.03</td>\n",
              "      <td>79</td>\n",
              "      <td>1</td>\n",
              "    </tr>\n",
              "  </tbody>\n",
              "</table>\n",
              "</div>"
            ],
            "text/plain": [
              "  res_state age_group sex  ... airport_area policy_prevention has_covid\n",
              "0        WI         1   1  ...         0.03                79         1\n",
              "1        WI         1   0  ...         0.03                79         1\n",
              "2        WI         1   1  ...         0.03                79         1\n",
              "3        WI         1   1  ...         0.03                79         1\n",
              "4        WI         1   1  ...         0.03                79         1\n",
              "\n",
              "[5 rows x 10 columns]"
            ]
          },
          "metadata": {
            "tags": []
          },
          "execution_count": 11
        }
      ]
    },
    {
      "cell_type": "code",
      "metadata": {
        "id": "PxenoFFZMSsP"
      },
      "source": [
        "wi_df.to_csv('wi_no_covid.csv', index=False)"
      ],
      "execution_count": null,
      "outputs": []
    },
    {
      "cell_type": "code",
      "metadata": {
        "id": "MZ0Tc2g6Oa7P"
      },
      "source": [
        "# Kansas\n",
        "def faker_categorical(num=1, seed=None):\n",
        "  np.random.seed(seed)\n",
        "  fake.seed_instance(seed)\n",
        "\n",
        "  output = [\n",
        "    {\n",
        "        \"res_state\": \"KS\",\n",
        "        # age_group: 0: 0-17 years, 1: 18-49 years, 2: 50-64 years, 3: 65+ years\n",
        "        \"age_group\": np.random.choice([\"0\", \"1\", \"2\", \"3\"], p=[0.25, 0.40, 0.18, 0.17]),\n",
        "        # sex: 0-Male, 1-Female\n",
        "        \"sex\": np.random.choice([\"0\", \"1\"], p=[0.49, 0.51]),\n",
        "        # race: 0-White, 1-Black, 2-Asian, 3-American Indian/Alaska Native, 4-Native Hawaiian/Other Pacific Islander, 5-Multiple/Other\n",
        "        \"race\": np.random.choice([\"0\", \"1\", \"2\", \"3\", \"4\", \"5\"], p=(0.8361, 0.0578, 0.0299, 0.0082, 0.0008, 0.0672)),\n",
        "    }\n",
        "    for x in range(num)\n",
        "  ]\n",
        "  return output"
      ],
      "execution_count": null,
      "outputs": []
    },
    {
      "cell_type": "code",
      "metadata": {
        "id": "OtFU1m09OqXh",
        "colab": {
          "base_uri": "https://localhost:8080/",
          "height": 204
        },
        "outputId": "100bbd7c-990a-493c-dcd9-520ebd37f88e"
      },
      "source": [
        "ks_df = pd.DataFrame(faker_categorical(num=2688359, seed=0))\n",
        "ks_df.head(5)"
      ],
      "execution_count": null,
      "outputs": [
        {
          "output_type": "execute_result",
          "data": {
            "text/html": [
              "<div>\n",
              "<style scoped>\n",
              "    .dataframe tbody tr th:only-of-type {\n",
              "        vertical-align: middle;\n",
              "    }\n",
              "\n",
              "    .dataframe tbody tr th {\n",
              "        vertical-align: top;\n",
              "    }\n",
              "\n",
              "    .dataframe thead th {\n",
              "        text-align: right;\n",
              "    }\n",
              "</style>\n",
              "<table border=\"1\" class=\"dataframe\">\n",
              "  <thead>\n",
              "    <tr style=\"text-align: right;\">\n",
              "      <th></th>\n",
              "      <th>res_state</th>\n",
              "      <th>age_group</th>\n",
              "      <th>sex</th>\n",
              "      <th>race</th>\n",
              "    </tr>\n",
              "  </thead>\n",
              "  <tbody>\n",
              "    <tr>\n",
              "      <th>0</th>\n",
              "      <td>KS</td>\n",
              "      <td>1</td>\n",
              "      <td>1</td>\n",
              "      <td>0</td>\n",
              "    </tr>\n",
              "    <tr>\n",
              "      <th>1</th>\n",
              "      <td>KS</td>\n",
              "      <td>1</td>\n",
              "      <td>0</td>\n",
              "      <td>0</td>\n",
              "    </tr>\n",
              "    <tr>\n",
              "      <th>2</th>\n",
              "      <td>KS</td>\n",
              "      <td>1</td>\n",
              "      <td>1</td>\n",
              "      <td>5</td>\n",
              "    </tr>\n",
              "    <tr>\n",
              "      <th>3</th>\n",
              "      <td>KS</td>\n",
              "      <td>1</td>\n",
              "      <td>1</td>\n",
              "      <td>0</td>\n",
              "    </tr>\n",
              "    <tr>\n",
              "      <th>4</th>\n",
              "      <td>KS</td>\n",
              "      <td>1</td>\n",
              "      <td>1</td>\n",
              "      <td>0</td>\n",
              "    </tr>\n",
              "  </tbody>\n",
              "</table>\n",
              "</div>"
            ],
            "text/plain": [
              "  res_state age_group sex race\n",
              "0        KS         1   1    0\n",
              "1        KS         1   0    0\n",
              "2        KS         1   1    5\n",
              "3        KS         1   1    0\n",
              "4        KS         1   1    0"
            ]
          },
          "metadata": {
            "tags": []
          },
          "execution_count": 14
        }
      ]
    },
    {
      "cell_type": "code",
      "metadata": {
        "id": "LUsW7MMTO3vb"
      },
      "source": [
        "# Region: 0-Northeast, 1-Southeast, 2-Midwest, 3-Southwest, 4-West\n",
        "ks_df.insert(4, \"region\", \"2\")\n",
        "\n",
        "# Population density\n",
        "ks_df.insert(5, \"pop_density\", \"36\")\n",
        "\n",
        "# Median income\n",
        "ks_df.insert(6, \"median_income\", \"73151\")\n",
        "\n",
        "# Airport Per Square Mile\n",
        "ks_df.insert(7, \"airport_area\", \"0.01\")\n",
        "\n",
        "# State Policy Prevention Mandate Score\n",
        "ks_df.insert(8, \"policy_prevention\", \"68\")"
      ],
      "execution_count": null,
      "outputs": []
    },
    {
      "cell_type": "code",
      "metadata": {
        "id": "UZCpeIKkOsZ8"
      },
      "source": [
        "# Add column to identify all persons without COVID\n",
        "# has_covid: O-Yes, 1-No\n",
        "ks_df.insert(9, \"has_covid\", \"1\")"
      ],
      "execution_count": null,
      "outputs": []
    },
    {
      "cell_type": "code",
      "metadata": {
        "id": "CPenXGhDOu5z",
        "colab": {
          "base_uri": "https://localhost:8080/",
          "height": 204
        },
        "outputId": "c1b2895d-b2b5-411e-df7a-6a92e31175e9"
      },
      "source": [
        "ks_df.head(5)"
      ],
      "execution_count": null,
      "outputs": [
        {
          "output_type": "execute_result",
          "data": {
            "text/html": [
              "<div>\n",
              "<style scoped>\n",
              "    .dataframe tbody tr th:only-of-type {\n",
              "        vertical-align: middle;\n",
              "    }\n",
              "\n",
              "    .dataframe tbody tr th {\n",
              "        vertical-align: top;\n",
              "    }\n",
              "\n",
              "    .dataframe thead th {\n",
              "        text-align: right;\n",
              "    }\n",
              "</style>\n",
              "<table border=\"1\" class=\"dataframe\">\n",
              "  <thead>\n",
              "    <tr style=\"text-align: right;\">\n",
              "      <th></th>\n",
              "      <th>res_state</th>\n",
              "      <th>age_group</th>\n",
              "      <th>sex</th>\n",
              "      <th>race</th>\n",
              "      <th>region</th>\n",
              "      <th>pop_density</th>\n",
              "      <th>median_income</th>\n",
              "      <th>airport_area</th>\n",
              "      <th>policy_prevention</th>\n",
              "      <th>has_covid</th>\n",
              "    </tr>\n",
              "  </thead>\n",
              "  <tbody>\n",
              "    <tr>\n",
              "      <th>0</th>\n",
              "      <td>KS</td>\n",
              "      <td>1</td>\n",
              "      <td>1</td>\n",
              "      <td>0</td>\n",
              "      <td>2</td>\n",
              "      <td>36</td>\n",
              "      <td>73151</td>\n",
              "      <td>0.01</td>\n",
              "      <td>68</td>\n",
              "      <td>1</td>\n",
              "    </tr>\n",
              "    <tr>\n",
              "      <th>1</th>\n",
              "      <td>KS</td>\n",
              "      <td>1</td>\n",
              "      <td>0</td>\n",
              "      <td>0</td>\n",
              "      <td>2</td>\n",
              "      <td>36</td>\n",
              "      <td>73151</td>\n",
              "      <td>0.01</td>\n",
              "      <td>68</td>\n",
              "      <td>1</td>\n",
              "    </tr>\n",
              "    <tr>\n",
              "      <th>2</th>\n",
              "      <td>KS</td>\n",
              "      <td>1</td>\n",
              "      <td>1</td>\n",
              "      <td>5</td>\n",
              "      <td>2</td>\n",
              "      <td>36</td>\n",
              "      <td>73151</td>\n",
              "      <td>0.01</td>\n",
              "      <td>68</td>\n",
              "      <td>1</td>\n",
              "    </tr>\n",
              "    <tr>\n",
              "      <th>3</th>\n",
              "      <td>KS</td>\n",
              "      <td>1</td>\n",
              "      <td>1</td>\n",
              "      <td>0</td>\n",
              "      <td>2</td>\n",
              "      <td>36</td>\n",
              "      <td>73151</td>\n",
              "      <td>0.01</td>\n",
              "      <td>68</td>\n",
              "      <td>1</td>\n",
              "    </tr>\n",
              "    <tr>\n",
              "      <th>4</th>\n",
              "      <td>KS</td>\n",
              "      <td>1</td>\n",
              "      <td>1</td>\n",
              "      <td>0</td>\n",
              "      <td>2</td>\n",
              "      <td>36</td>\n",
              "      <td>73151</td>\n",
              "      <td>0.01</td>\n",
              "      <td>68</td>\n",
              "      <td>1</td>\n",
              "    </tr>\n",
              "  </tbody>\n",
              "</table>\n",
              "</div>"
            ],
            "text/plain": [
              "  res_state age_group sex  ... airport_area policy_prevention has_covid\n",
              "0        KS         1   1  ...         0.01                68         1\n",
              "1        KS         1   0  ...         0.01                68         1\n",
              "2        KS         1   1  ...         0.01                68         1\n",
              "3        KS         1   1  ...         0.01                68         1\n",
              "4        KS         1   1  ...         0.01                68         1\n",
              "\n",
              "[5 rows x 10 columns]"
            ]
          },
          "metadata": {
            "tags": []
          },
          "execution_count": 17
        }
      ]
    },
    {
      "cell_type": "code",
      "metadata": {
        "id": "e4oDY_cMOwXk"
      },
      "source": [
        "ks_df.to_csv('ks_no_covid.csv', index=False)"
      ],
      "execution_count": null,
      "outputs": []
    },
    {
      "cell_type": "markdown",
      "metadata": {
        "id": "R41I1WtOPh96"
      },
      "source": [
        "Southwest"
      ]
    },
    {
      "cell_type": "code",
      "metadata": {
        "id": "b6ztR5w2Pjoq"
      },
      "source": [
        "# New Mexico\n",
        "def faker_categorical(num=1, seed=None):\n",
        "  np.random.seed(seed)\n",
        "  fake.seed_instance(seed)\n",
        "\n",
        "  output = [\n",
        "    {\n",
        "        \"res_state\": \"NM\",\n",
        "        # age_group: 0: 0-17 years, 1: 18-49 years, 2: 50-64 years, 3: 65+ years\n",
        "        \"age_group\": np.random.choice([\"0\", \"1\", \"2\", \"3\"], p=[0.23, 0.40, 0.19, 0.18]),\n",
        "        # sex: 0-Male, 1-Female\n",
        "        \"sex\": np.random.choice([\"0\", \"1\"], p=[0.49, 0.51]),\n",
        "        # race: 0-White, 1-Black, 2-Asian, 3-American Indian/Alaska Native, 4-Native Hawaiian/Other Pacific Islander, 5-Multiple/Other\n",
        "        \"race\": np.random.choice([\"0\", \"1\", \"2\", \"3\", \"4\", \"5\"], p=(0.7392, 0.0231, 0.0174, 0.0951, 0.0004, 0.1248)),\n",
        "    }\n",
        "    for x in range(num)\n",
        "  ]\n",
        "  return output"
      ],
      "execution_count": null,
      "outputs": []
    },
    {
      "cell_type": "code",
      "metadata": {
        "id": "4VBhicfUP6so",
        "colab": {
          "base_uri": "https://localhost:8080/",
          "height": 204
        },
        "outputId": "e6c47a6b-e7b2-4f0f-8d67-2f7aaeb67db6"
      },
      "source": [
        "nm_df = pd.DataFrame(faker_categorical(num=1961903, seed=0))\n",
        "nm_df.head(5)"
      ],
      "execution_count": null,
      "outputs": [
        {
          "output_type": "execute_result",
          "data": {
            "text/html": [
              "<div>\n",
              "<style scoped>\n",
              "    .dataframe tbody tr th:only-of-type {\n",
              "        vertical-align: middle;\n",
              "    }\n",
              "\n",
              "    .dataframe tbody tr th {\n",
              "        vertical-align: top;\n",
              "    }\n",
              "\n",
              "    .dataframe thead th {\n",
              "        text-align: right;\n",
              "    }\n",
              "</style>\n",
              "<table border=\"1\" class=\"dataframe\">\n",
              "  <thead>\n",
              "    <tr style=\"text-align: right;\">\n",
              "      <th></th>\n",
              "      <th>res_state</th>\n",
              "      <th>age_group</th>\n",
              "      <th>sex</th>\n",
              "      <th>race</th>\n",
              "    </tr>\n",
              "  </thead>\n",
              "  <tbody>\n",
              "    <tr>\n",
              "      <th>0</th>\n",
              "      <td>NM</td>\n",
              "      <td>1</td>\n",
              "      <td>1</td>\n",
              "      <td>0</td>\n",
              "    </tr>\n",
              "    <tr>\n",
              "      <th>1</th>\n",
              "      <td>NM</td>\n",
              "      <td>1</td>\n",
              "      <td>0</td>\n",
              "      <td>0</td>\n",
              "    </tr>\n",
              "    <tr>\n",
              "      <th>2</th>\n",
              "      <td>NM</td>\n",
              "      <td>1</td>\n",
              "      <td>1</td>\n",
              "      <td>5</td>\n",
              "    </tr>\n",
              "    <tr>\n",
              "      <th>3</th>\n",
              "      <td>NM</td>\n",
              "      <td>1</td>\n",
              "      <td>1</td>\n",
              "      <td>0</td>\n",
              "    </tr>\n",
              "    <tr>\n",
              "      <th>4</th>\n",
              "      <td>NM</td>\n",
              "      <td>1</td>\n",
              "      <td>1</td>\n",
              "      <td>0</td>\n",
              "    </tr>\n",
              "  </tbody>\n",
              "</table>\n",
              "</div>"
            ],
            "text/plain": [
              "  res_state age_group sex race\n",
              "0        NM         1   1    0\n",
              "1        NM         1   0    0\n",
              "2        NM         1   1    5\n",
              "3        NM         1   1    0\n",
              "4        NM         1   1    0"
            ]
          },
          "metadata": {
            "tags": []
          },
          "execution_count": 20
        }
      ]
    },
    {
      "cell_type": "code",
      "metadata": {
        "id": "k8ojHh-kQCCm"
      },
      "source": [
        "# Region: 0-Northeast, 1-Southeast, 2-Midwest, 3-Southwest, 4-West\n",
        "nm_df.insert(4, \"region\", \"3\")\n",
        "\n",
        "# Population density\n",
        "nm_df.insert(5, \"pop_density\", \"44\")\n",
        "\n",
        "# Median income\n",
        "nm_df.insert(6, \"median_income\", \"53113\")\n",
        "\n",
        "# Airport Per Square Mile\n",
        "nm_df.insert(7, \"airport_area\", \"0.01\")\n",
        "\n",
        "# State Policy Prevention Mandate Score\n",
        "nm_df.insert(8, \"policy_prevention\", \"41\")"
      ],
      "execution_count": null,
      "outputs": []
    },
    {
      "cell_type": "code",
      "metadata": {
        "id": "vzNKO8GqP7_a"
      },
      "source": [
        "# Add column to identify all persons without COVID\n",
        "# has_covid: O-Yes, 1-No\n",
        "nm_df.insert(9, \"has_covid\", \"1\")"
      ],
      "execution_count": null,
      "outputs": []
    },
    {
      "cell_type": "code",
      "metadata": {
        "id": "CBmRMQE-P-OX",
        "colab": {
          "base_uri": "https://localhost:8080/",
          "height": 204
        },
        "outputId": "9154298a-0f93-4885-d07a-4705bde109db"
      },
      "source": [
        "nm_df.head(5)"
      ],
      "execution_count": null,
      "outputs": [
        {
          "output_type": "execute_result",
          "data": {
            "text/html": [
              "<div>\n",
              "<style scoped>\n",
              "    .dataframe tbody tr th:only-of-type {\n",
              "        vertical-align: middle;\n",
              "    }\n",
              "\n",
              "    .dataframe tbody tr th {\n",
              "        vertical-align: top;\n",
              "    }\n",
              "\n",
              "    .dataframe thead th {\n",
              "        text-align: right;\n",
              "    }\n",
              "</style>\n",
              "<table border=\"1\" class=\"dataframe\">\n",
              "  <thead>\n",
              "    <tr style=\"text-align: right;\">\n",
              "      <th></th>\n",
              "      <th>res_state</th>\n",
              "      <th>age_group</th>\n",
              "      <th>sex</th>\n",
              "      <th>race</th>\n",
              "      <th>region</th>\n",
              "      <th>pop_density</th>\n",
              "      <th>median_income</th>\n",
              "      <th>airport_area</th>\n",
              "      <th>policy_prevention</th>\n",
              "      <th>has_covid</th>\n",
              "    </tr>\n",
              "  </thead>\n",
              "  <tbody>\n",
              "    <tr>\n",
              "      <th>0</th>\n",
              "      <td>NM</td>\n",
              "      <td>1</td>\n",
              "      <td>1</td>\n",
              "      <td>0</td>\n",
              "      <td>3</td>\n",
              "      <td>44</td>\n",
              "      <td>53113</td>\n",
              "      <td>0.01</td>\n",
              "      <td>41</td>\n",
              "      <td>1</td>\n",
              "    </tr>\n",
              "    <tr>\n",
              "      <th>1</th>\n",
              "      <td>NM</td>\n",
              "      <td>1</td>\n",
              "      <td>0</td>\n",
              "      <td>0</td>\n",
              "      <td>3</td>\n",
              "      <td>44</td>\n",
              "      <td>53113</td>\n",
              "      <td>0.01</td>\n",
              "      <td>41</td>\n",
              "      <td>1</td>\n",
              "    </tr>\n",
              "    <tr>\n",
              "      <th>2</th>\n",
              "      <td>NM</td>\n",
              "      <td>1</td>\n",
              "      <td>1</td>\n",
              "      <td>5</td>\n",
              "      <td>3</td>\n",
              "      <td>44</td>\n",
              "      <td>53113</td>\n",
              "      <td>0.01</td>\n",
              "      <td>41</td>\n",
              "      <td>1</td>\n",
              "    </tr>\n",
              "    <tr>\n",
              "      <th>3</th>\n",
              "      <td>NM</td>\n",
              "      <td>1</td>\n",
              "      <td>1</td>\n",
              "      <td>0</td>\n",
              "      <td>3</td>\n",
              "      <td>44</td>\n",
              "      <td>53113</td>\n",
              "      <td>0.01</td>\n",
              "      <td>41</td>\n",
              "      <td>1</td>\n",
              "    </tr>\n",
              "    <tr>\n",
              "      <th>4</th>\n",
              "      <td>NM</td>\n",
              "      <td>1</td>\n",
              "      <td>1</td>\n",
              "      <td>0</td>\n",
              "      <td>3</td>\n",
              "      <td>44</td>\n",
              "      <td>53113</td>\n",
              "      <td>0.01</td>\n",
              "      <td>41</td>\n",
              "      <td>1</td>\n",
              "    </tr>\n",
              "  </tbody>\n",
              "</table>\n",
              "</div>"
            ],
            "text/plain": [
              "  res_state age_group sex  ... airport_area policy_prevention has_covid\n",
              "0        NM         1   1  ...         0.01                41         1\n",
              "1        NM         1   0  ...         0.01                41         1\n",
              "2        NM         1   1  ...         0.01                41         1\n",
              "3        NM         1   1  ...         0.01                41         1\n",
              "4        NM         1   1  ...         0.01                41         1\n",
              "\n",
              "[5 rows x 10 columns]"
            ]
          },
          "metadata": {
            "tags": []
          },
          "execution_count": 23
        }
      ]
    },
    {
      "cell_type": "code",
      "metadata": {
        "id": "OUN1Ga8RP_jZ"
      },
      "source": [
        "nm_df.to_csv('nm_no_covid.csv', index=False)"
      ],
      "execution_count": null,
      "outputs": []
    },
    {
      "cell_type": "code",
      "metadata": {
        "id": "4jT8k66IQh-o"
      },
      "source": [
        "# Oklahoma\n",
        "def faker_categorical(num=1, seed=None):\n",
        "  np.random.seed(seed)\n",
        "  fake.seed_instance(seed)\n",
        "\n",
        "  output = [\n",
        "    {\n",
        "        \"res_state\": \"OK\",\n",
        "        # age_group: 0: 0-17 years, 1: 18-49 years, 2: 50-64 years, 3: 65+ years\n",
        "        \"age_group\": np.random.choice([\"0\", \"1\", \"2\", \"3\"], p=[0.25, 0.41, 0.18, 0.16]),\n",
        "        # sex: 0-Male, 1-Female\n",
        "        \"sex\": np.random.choice([\"0\", \"1\"], p=[0.49, 0.51]),\n",
        "        # race: 0-White, 1-Black, 2-Asian, 3-American Indian/Alaska Native, 4-Native Hawaiian/Other Pacific Islander, 5-Multiple/Other\n",
        "        \"race\": np.random.choice([\"0\", \"1\", \"2\", \"3\", \"4\", \"5\"], p=(0.7242, 0.0726, 0.0227, 0.0801, 0.0013, 0.0991)),\n",
        "    }\n",
        "    for x in range(num)\n",
        "  ]\n",
        "  return output"
      ],
      "execution_count": null,
      "outputs": []
    },
    {
      "cell_type": "code",
      "metadata": {
        "id": "bxNLLk4jQrf_",
        "colab": {
          "base_uri": "https://localhost:8080/",
          "height": 204
        },
        "outputId": "8a676552-3c21-4b61-92d5-5edd542bc0ac"
      },
      "source": [
        "ok_df = pd.DataFrame(faker_categorical(num=3656708, seed=0))\n",
        "ok_df.head(5)"
      ],
      "execution_count": null,
      "outputs": [
        {
          "output_type": "execute_result",
          "data": {
            "text/html": [
              "<div>\n",
              "<style scoped>\n",
              "    .dataframe tbody tr th:only-of-type {\n",
              "        vertical-align: middle;\n",
              "    }\n",
              "\n",
              "    .dataframe tbody tr th {\n",
              "        vertical-align: top;\n",
              "    }\n",
              "\n",
              "    .dataframe thead th {\n",
              "        text-align: right;\n",
              "    }\n",
              "</style>\n",
              "<table border=\"1\" class=\"dataframe\">\n",
              "  <thead>\n",
              "    <tr style=\"text-align: right;\">\n",
              "      <th></th>\n",
              "      <th>res_state</th>\n",
              "      <th>age_group</th>\n",
              "      <th>sex</th>\n",
              "      <th>race</th>\n",
              "    </tr>\n",
              "  </thead>\n",
              "  <tbody>\n",
              "    <tr>\n",
              "      <th>0</th>\n",
              "      <td>OK</td>\n",
              "      <td>1</td>\n",
              "      <td>1</td>\n",
              "      <td>0</td>\n",
              "    </tr>\n",
              "    <tr>\n",
              "      <th>1</th>\n",
              "      <td>OK</td>\n",
              "      <td>1</td>\n",
              "      <td>0</td>\n",
              "      <td>0</td>\n",
              "    </tr>\n",
              "    <tr>\n",
              "      <th>2</th>\n",
              "      <td>OK</td>\n",
              "      <td>1</td>\n",
              "      <td>1</td>\n",
              "      <td>5</td>\n",
              "    </tr>\n",
              "    <tr>\n",
              "      <th>3</th>\n",
              "      <td>OK</td>\n",
              "      <td>1</td>\n",
              "      <td>1</td>\n",
              "      <td>0</td>\n",
              "    </tr>\n",
              "    <tr>\n",
              "      <th>4</th>\n",
              "      <td>OK</td>\n",
              "      <td>1</td>\n",
              "      <td>1</td>\n",
              "      <td>0</td>\n",
              "    </tr>\n",
              "  </tbody>\n",
              "</table>\n",
              "</div>"
            ],
            "text/plain": [
              "  res_state age_group sex race\n",
              "0        OK         1   1    0\n",
              "1        OK         1   0    0\n",
              "2        OK         1   1    5\n",
              "3        OK         1   1    0\n",
              "4        OK         1   1    0"
            ]
          },
          "metadata": {
            "tags": []
          },
          "execution_count": 26
        }
      ]
    },
    {
      "cell_type": "code",
      "metadata": {
        "id": "UvxxQox_Qznw"
      },
      "source": [
        "# Region: 0-Northeast, 1-Southeast, 2-Midwest, 3-Southwest, 4-West\n",
        "ok_df.insert(4, \"region\", \"3\")\n",
        "\n",
        "# Population density\n",
        "ok_df.insert(5, \"pop_density\", \"58\")\n",
        "\n",
        "# Median income\n",
        "ok_df.insert(6, \"median_income\", \"59397\")\n",
        "\n",
        "# Airport Per Square Mile\n",
        "ok_df.insert(7, \"airport_area\", \"0.00\")\n",
        "\n",
        "# State Policy Prevention Mandate Score\n",
        "ok_df.insert(8, \"policy_prevention\", \"86\")"
      ],
      "execution_count": null,
      "outputs": []
    },
    {
      "cell_type": "code",
      "metadata": {
        "id": "NwqOd5k-Qs9W"
      },
      "source": [
        "# Add column to identify all persons without COVID\n",
        "# has_covid: O-Yes, 1-No\n",
        "ok_df.insert(9, \"has_covid\", \"1\")"
      ],
      "execution_count": null,
      "outputs": []
    },
    {
      "cell_type": "code",
      "metadata": {
        "id": "nsUI8DtCQuT6",
        "colab": {
          "base_uri": "https://localhost:8080/",
          "height": 204
        },
        "outputId": "6eef87cb-116d-4996-bf22-a6ccef785d5c"
      },
      "source": [
        "ok_df.head(5)"
      ],
      "execution_count": null,
      "outputs": [
        {
          "output_type": "execute_result",
          "data": {
            "text/html": [
              "<div>\n",
              "<style scoped>\n",
              "    .dataframe tbody tr th:only-of-type {\n",
              "        vertical-align: middle;\n",
              "    }\n",
              "\n",
              "    .dataframe tbody tr th {\n",
              "        vertical-align: top;\n",
              "    }\n",
              "\n",
              "    .dataframe thead th {\n",
              "        text-align: right;\n",
              "    }\n",
              "</style>\n",
              "<table border=\"1\" class=\"dataframe\">\n",
              "  <thead>\n",
              "    <tr style=\"text-align: right;\">\n",
              "      <th></th>\n",
              "      <th>res_state</th>\n",
              "      <th>age_group</th>\n",
              "      <th>sex</th>\n",
              "      <th>race</th>\n",
              "      <th>region</th>\n",
              "      <th>pop_density</th>\n",
              "      <th>median_income</th>\n",
              "      <th>airport_area</th>\n",
              "      <th>policy_prevention</th>\n",
              "      <th>has_covid</th>\n",
              "    </tr>\n",
              "  </thead>\n",
              "  <tbody>\n",
              "    <tr>\n",
              "      <th>0</th>\n",
              "      <td>OK</td>\n",
              "      <td>1</td>\n",
              "      <td>1</td>\n",
              "      <td>0</td>\n",
              "      <td>3</td>\n",
              "      <td>58</td>\n",
              "      <td>59397</td>\n",
              "      <td>0.00</td>\n",
              "      <td>86</td>\n",
              "      <td>1</td>\n",
              "    </tr>\n",
              "    <tr>\n",
              "      <th>1</th>\n",
              "      <td>OK</td>\n",
              "      <td>1</td>\n",
              "      <td>0</td>\n",
              "      <td>0</td>\n",
              "      <td>3</td>\n",
              "      <td>58</td>\n",
              "      <td>59397</td>\n",
              "      <td>0.00</td>\n",
              "      <td>86</td>\n",
              "      <td>1</td>\n",
              "    </tr>\n",
              "    <tr>\n",
              "      <th>2</th>\n",
              "      <td>OK</td>\n",
              "      <td>1</td>\n",
              "      <td>1</td>\n",
              "      <td>5</td>\n",
              "      <td>3</td>\n",
              "      <td>58</td>\n",
              "      <td>59397</td>\n",
              "      <td>0.00</td>\n",
              "      <td>86</td>\n",
              "      <td>1</td>\n",
              "    </tr>\n",
              "    <tr>\n",
              "      <th>3</th>\n",
              "      <td>OK</td>\n",
              "      <td>1</td>\n",
              "      <td>1</td>\n",
              "      <td>0</td>\n",
              "      <td>3</td>\n",
              "      <td>58</td>\n",
              "      <td>59397</td>\n",
              "      <td>0.00</td>\n",
              "      <td>86</td>\n",
              "      <td>1</td>\n",
              "    </tr>\n",
              "    <tr>\n",
              "      <th>4</th>\n",
              "      <td>OK</td>\n",
              "      <td>1</td>\n",
              "      <td>1</td>\n",
              "      <td>0</td>\n",
              "      <td>3</td>\n",
              "      <td>58</td>\n",
              "      <td>59397</td>\n",
              "      <td>0.00</td>\n",
              "      <td>86</td>\n",
              "      <td>1</td>\n",
              "    </tr>\n",
              "  </tbody>\n",
              "</table>\n",
              "</div>"
            ],
            "text/plain": [
              "  res_state age_group sex  ... airport_area policy_prevention has_covid\n",
              "0        OK         1   1  ...         0.00                86         1\n",
              "1        OK         1   0  ...         0.00                86         1\n",
              "2        OK         1   1  ...         0.00                86         1\n",
              "3        OK         1   1  ...         0.00                86         1\n",
              "4        OK         1   1  ...         0.00                86         1\n",
              "\n",
              "[5 rows x 10 columns]"
            ]
          },
          "metadata": {
            "tags": []
          },
          "execution_count": 29
        }
      ]
    },
    {
      "cell_type": "code",
      "metadata": {
        "id": "G0_LRuBtQwNK"
      },
      "source": [
        "ok_df.to_csv('ok_no_covid.csv', index=False)"
      ],
      "execution_count": null,
      "outputs": []
    },
    {
      "cell_type": "code",
      "metadata": {
        "id": "_fmHukXdRbw5"
      },
      "source": [
        "# Arizona\n",
        "def faker_categorical(num=1, seed=None):\n",
        "  np.random.seed(seed)\n",
        "  fake.seed_instance(seed)\n",
        "\n",
        "  output = [\n",
        "    {\n",
        "        \"res_state\": \"AZ\",\n",
        "        # age_group: 0: 0-17 years, 1: 18-49 years, 2: 50-64 years, 3: 65+ years\n",
        "        \"age_group\": np.random.choice([\"0\", \"1\", \"2\", \"3\"], p=[0.24, 0.40, 0.18, 0.18]),\n",
        "        # sex: 0-Male, 1-Female\n",
        "        \"sex\": np.random.choice([\"0\", \"1\"], p=[0.50, 0.50]),\n",
        "        # race: 0-White, 1-Black, 2-Asian, 3-American Indian/Alaska Native, 4-Native Hawaiian/Other Pacific Islander, 5-Multiple/Other\n",
        "        \"race\": np.random.choice([\"0\", \"1\", \"2\", \"3\", \"4\", \"5\"], p=(0.7834, 0.0472, 0.0332, 0.0456, 0.0020, 0.0886)),\n",
        "    }\n",
        "    for x in range(num)\n",
        "  ]\n",
        "  return output"
      ],
      "execution_count": null,
      "outputs": []
    },
    {
      "cell_type": "code",
      "metadata": {
        "id": "Wauia-YhRhHk",
        "colab": {
          "base_uri": "https://localhost:8080/",
          "height": 204
        },
        "outputId": "739753c4-f960-40a6-d049-91b4d6b05e93"
      },
      "source": [
        "az_df = pd.DataFrame(faker_categorical(num=6704895, seed=0))\n",
        "az_df.head(5)"
      ],
      "execution_count": null,
      "outputs": [
        {
          "output_type": "execute_result",
          "data": {
            "text/html": [
              "<div>\n",
              "<style scoped>\n",
              "    .dataframe tbody tr th:only-of-type {\n",
              "        vertical-align: middle;\n",
              "    }\n",
              "\n",
              "    .dataframe tbody tr th {\n",
              "        vertical-align: top;\n",
              "    }\n",
              "\n",
              "    .dataframe thead th {\n",
              "        text-align: right;\n",
              "    }\n",
              "</style>\n",
              "<table border=\"1\" class=\"dataframe\">\n",
              "  <thead>\n",
              "    <tr style=\"text-align: right;\">\n",
              "      <th></th>\n",
              "      <th>res_state</th>\n",
              "      <th>age_group</th>\n",
              "      <th>sex</th>\n",
              "      <th>race</th>\n",
              "    </tr>\n",
              "  </thead>\n",
              "  <tbody>\n",
              "    <tr>\n",
              "      <th>0</th>\n",
              "      <td>AZ</td>\n",
              "      <td>1</td>\n",
              "      <td>1</td>\n",
              "      <td>0</td>\n",
              "    </tr>\n",
              "    <tr>\n",
              "      <th>1</th>\n",
              "      <td>AZ</td>\n",
              "      <td>1</td>\n",
              "      <td>0</td>\n",
              "      <td>0</td>\n",
              "    </tr>\n",
              "    <tr>\n",
              "      <th>2</th>\n",
              "      <td>AZ</td>\n",
              "      <td>1</td>\n",
              "      <td>1</td>\n",
              "      <td>5</td>\n",
              "    </tr>\n",
              "    <tr>\n",
              "      <th>3</th>\n",
              "      <td>AZ</td>\n",
              "      <td>1</td>\n",
              "      <td>1</td>\n",
              "      <td>0</td>\n",
              "    </tr>\n",
              "    <tr>\n",
              "      <th>4</th>\n",
              "      <td>AZ</td>\n",
              "      <td>1</td>\n",
              "      <td>1</td>\n",
              "      <td>0</td>\n",
              "    </tr>\n",
              "  </tbody>\n",
              "</table>\n",
              "</div>"
            ],
            "text/plain": [
              "  res_state age_group sex race\n",
              "0        AZ         1   1    0\n",
              "1        AZ         1   0    0\n",
              "2        AZ         1   1    5\n",
              "3        AZ         1   1    0\n",
              "4        AZ         1   1    0"
            ]
          },
          "metadata": {
            "tags": []
          },
          "execution_count": 6
        }
      ]
    },
    {
      "cell_type": "code",
      "metadata": {
        "id": "WR9HYMSkSWNO"
      },
      "source": [
        "# Region: 0-Northeast, 1-Southeast, 2-Midwest, 3-Southwest, 4-West\n",
        "az_df.insert(4, \"region\", \"3\")\n",
        "\n",
        "# Population density\n",
        "az_df.insert(5, \"pop_density\", \"140\")\n",
        "\n",
        "# Median income\n",
        "az_df.insert(6, \"median_income\", \"70674\")\n",
        "\n",
        "# Airport Per Square Mile\n",
        "az_df.insert(7, \"airport_area\", \"0.01\")\n",
        "\n",
        "# State Policy Prevention Mandate Score\n",
        "az_df.insert(8, \"policy_prevention\", \"81\")"
      ],
      "execution_count": null,
      "outputs": []
    },
    {
      "cell_type": "code",
      "metadata": {
        "id": "v57CyYixRid0"
      },
      "source": [
        "# Add column to identify all persons without COVID\n",
        "# has_covid: O-Yes, 1-No\n",
        "az_df.insert(9, \"has_covid\", \"1\")"
      ],
      "execution_count": null,
      "outputs": []
    },
    {
      "cell_type": "code",
      "metadata": {
        "id": "M3CdLwomRkZh",
        "colab": {
          "base_uri": "https://localhost:8080/",
          "height": 204
        },
        "outputId": "d02bd66d-233f-4caa-995d-206e684cf7bd"
      },
      "source": [
        "az_df.head(5)"
      ],
      "execution_count": null,
      "outputs": [
        {
          "output_type": "execute_result",
          "data": {
            "text/html": [
              "<div>\n",
              "<style scoped>\n",
              "    .dataframe tbody tr th:only-of-type {\n",
              "        vertical-align: middle;\n",
              "    }\n",
              "\n",
              "    .dataframe tbody tr th {\n",
              "        vertical-align: top;\n",
              "    }\n",
              "\n",
              "    .dataframe thead th {\n",
              "        text-align: right;\n",
              "    }\n",
              "</style>\n",
              "<table border=\"1\" class=\"dataframe\">\n",
              "  <thead>\n",
              "    <tr style=\"text-align: right;\">\n",
              "      <th></th>\n",
              "      <th>res_state</th>\n",
              "      <th>age_group</th>\n",
              "      <th>sex</th>\n",
              "      <th>race</th>\n",
              "      <th>region</th>\n",
              "      <th>pop_density</th>\n",
              "      <th>median_income</th>\n",
              "      <th>airport_area</th>\n",
              "      <th>policy_prevention</th>\n",
              "      <th>has_covid</th>\n",
              "    </tr>\n",
              "  </thead>\n",
              "  <tbody>\n",
              "    <tr>\n",
              "      <th>0</th>\n",
              "      <td>AZ</td>\n",
              "      <td>1</td>\n",
              "      <td>1</td>\n",
              "      <td>0</td>\n",
              "      <td>3</td>\n",
              "      <td>140</td>\n",
              "      <td>70674</td>\n",
              "      <td>0.01</td>\n",
              "      <td>81</td>\n",
              "      <td>1</td>\n",
              "    </tr>\n",
              "    <tr>\n",
              "      <th>1</th>\n",
              "      <td>AZ</td>\n",
              "      <td>1</td>\n",
              "      <td>0</td>\n",
              "      <td>0</td>\n",
              "      <td>3</td>\n",
              "      <td>140</td>\n",
              "      <td>70674</td>\n",
              "      <td>0.01</td>\n",
              "      <td>81</td>\n",
              "      <td>1</td>\n",
              "    </tr>\n",
              "    <tr>\n",
              "      <th>2</th>\n",
              "      <td>AZ</td>\n",
              "      <td>1</td>\n",
              "      <td>1</td>\n",
              "      <td>5</td>\n",
              "      <td>3</td>\n",
              "      <td>140</td>\n",
              "      <td>70674</td>\n",
              "      <td>0.01</td>\n",
              "      <td>81</td>\n",
              "      <td>1</td>\n",
              "    </tr>\n",
              "    <tr>\n",
              "      <th>3</th>\n",
              "      <td>AZ</td>\n",
              "      <td>1</td>\n",
              "      <td>1</td>\n",
              "      <td>0</td>\n",
              "      <td>3</td>\n",
              "      <td>140</td>\n",
              "      <td>70674</td>\n",
              "      <td>0.01</td>\n",
              "      <td>81</td>\n",
              "      <td>1</td>\n",
              "    </tr>\n",
              "    <tr>\n",
              "      <th>4</th>\n",
              "      <td>AZ</td>\n",
              "      <td>1</td>\n",
              "      <td>1</td>\n",
              "      <td>0</td>\n",
              "      <td>3</td>\n",
              "      <td>140</td>\n",
              "      <td>70674</td>\n",
              "      <td>0.01</td>\n",
              "      <td>81</td>\n",
              "      <td>1</td>\n",
              "    </tr>\n",
              "  </tbody>\n",
              "</table>\n",
              "</div>"
            ],
            "text/plain": [
              "  res_state age_group sex  ... airport_area policy_prevention has_covid\n",
              "0        AZ         1   1  ...         0.01                81         1\n",
              "1        AZ         1   0  ...         0.01                81         1\n",
              "2        AZ         1   1  ...         0.01                81         1\n",
              "3        AZ         1   1  ...         0.01                81         1\n",
              "4        AZ         1   1  ...         0.01                81         1\n",
              "\n",
              "[5 rows x 10 columns]"
            ]
          },
          "metadata": {
            "tags": []
          },
          "execution_count": 9
        }
      ]
    },
    {
      "cell_type": "code",
      "metadata": {
        "id": "F3eLIXoiRnVQ"
      },
      "source": [
        "az_df.to_csv('az_no_covid.csv', index=False)"
      ],
      "execution_count": null,
      "outputs": []
    },
    {
      "cell_type": "markdown",
      "metadata": {
        "id": "NUIr65o-S82j"
      },
      "source": [
        "West"
      ]
    },
    {
      "cell_type": "code",
      "metadata": {
        "id": "g7RxDJiqS-py"
      },
      "source": [
        "# California\n",
        "def faker_categorical(num=1, seed=None):\n",
        "  np.random.seed(seed)\n",
        "  fake.seed_instance(seed)\n",
        "\n",
        "  output = [\n",
        "    {\n",
        "        \"res_state\": \"CA\",\n",
        "        # age_group: 0: 0-17 years, 1: 18-49 years, 2: 50-64 years, 3: 65+ years\n",
        "        \"age_group\": np.random.choice([\"0\", \"1\", \"2\", \"3\"], p=[0.23, 0.44, 0.18, 0.15]),\n",
        "        # sex: 0-Male, 1-Female\n",
        "        \"sex\": np.random.choice([\"0\", \"1\"], p=[0.50, 0.50]),\n",
        "        # race: 0-White, 1-Black, 2-Asian, 3-American Indian/Alaska Native, 4-Native Hawaiian/Other Pacific Islander, 5-Multiple/Other\n",
        "        \"race\": np.random.choice([\"0\", \"1\", \"2\", \"3\", \"4\", \"5\"], p=(0.5944, 0.0578, 0.1484, 0.0081, 0.0039, 0.1874)),\n",
        "    }\n",
        "    for x in range(num)\n",
        "  ]\n",
        "  return output"
      ],
      "execution_count": null,
      "outputs": []
    },
    {
      "cell_type": "code",
      "metadata": {
        "id": "Qiz1D_e0TqbT",
        "colab": {
          "base_uri": "https://localhost:8080/",
          "height": 204
        },
        "outputId": "118f8123-896e-45fe-d977-bf35a65b7bdf"
      },
      "source": [
        "ca_df_part1 = pd.DataFrame(faker_categorical(num=18516743, seed=0))\n",
        "ca_df_part1.head(5)"
      ],
      "execution_count": null,
      "outputs": [
        {
          "output_type": "execute_result",
          "data": {
            "text/html": [
              "<div>\n",
              "<style scoped>\n",
              "    .dataframe tbody tr th:only-of-type {\n",
              "        vertical-align: middle;\n",
              "    }\n",
              "\n",
              "    .dataframe tbody tr th {\n",
              "        vertical-align: top;\n",
              "    }\n",
              "\n",
              "    .dataframe thead th {\n",
              "        text-align: right;\n",
              "    }\n",
              "</style>\n",
              "<table border=\"1\" class=\"dataframe\">\n",
              "  <thead>\n",
              "    <tr style=\"text-align: right;\">\n",
              "      <th></th>\n",
              "      <th>res_state</th>\n",
              "      <th>age_group</th>\n",
              "      <th>sex</th>\n",
              "      <th>race</th>\n",
              "    </tr>\n",
              "  </thead>\n",
              "  <tbody>\n",
              "    <tr>\n",
              "      <th>0</th>\n",
              "      <td>CA</td>\n",
              "      <td>1</td>\n",
              "      <td>1</td>\n",
              "      <td>1</td>\n",
              "    </tr>\n",
              "    <tr>\n",
              "      <th>1</th>\n",
              "      <td>CA</td>\n",
              "      <td>1</td>\n",
              "      <td>0</td>\n",
              "      <td>1</td>\n",
              "    </tr>\n",
              "    <tr>\n",
              "      <th>2</th>\n",
              "      <td>CA</td>\n",
              "      <td>1</td>\n",
              "      <td>1</td>\n",
              "      <td>5</td>\n",
              "    </tr>\n",
              "    <tr>\n",
              "      <th>3</th>\n",
              "      <td>CA</td>\n",
              "      <td>1</td>\n",
              "      <td>1</td>\n",
              "      <td>0</td>\n",
              "    </tr>\n",
              "    <tr>\n",
              "      <th>4</th>\n",
              "      <td>CA</td>\n",
              "      <td>1</td>\n",
              "      <td>1</td>\n",
              "      <td>0</td>\n",
              "    </tr>\n",
              "  </tbody>\n",
              "</table>\n",
              "</div>"
            ],
            "text/plain": [
              "  res_state age_group sex race\n",
              "0        CA         1   1    1\n",
              "1        CA         1   0    1\n",
              "2        CA         1   1    5\n",
              "3        CA         1   1    0\n",
              "4        CA         1   1    0"
            ]
          },
          "metadata": {
            "tags": []
          },
          "execution_count": 7
        }
      ]
    },
    {
      "cell_type": "code",
      "metadata": {
        "id": "eqRlR6yaTsEj",
        "colab": {
          "base_uri": "https://localhost:8080/",
          "height": 204
        },
        "outputId": "42a4cb0a-783d-4972-d64a-31711cb549cd"
      },
      "source": [
        "ca_df_part2 = pd.DataFrame(faker_categorical(num=18516742, seed=0))\n",
        "ca_df_part2.head(5)"
      ],
      "execution_count": null,
      "outputs": [
        {
          "output_type": "execute_result",
          "data": {
            "text/html": [
              "<div>\n",
              "<style scoped>\n",
              "    .dataframe tbody tr th:only-of-type {\n",
              "        vertical-align: middle;\n",
              "    }\n",
              "\n",
              "    .dataframe tbody tr th {\n",
              "        vertical-align: top;\n",
              "    }\n",
              "\n",
              "    .dataframe thead th {\n",
              "        text-align: right;\n",
              "    }\n",
              "</style>\n",
              "<table border=\"1\" class=\"dataframe\">\n",
              "  <thead>\n",
              "    <tr style=\"text-align: right;\">\n",
              "      <th></th>\n",
              "      <th>res_state</th>\n",
              "      <th>age_group</th>\n",
              "      <th>sex</th>\n",
              "      <th>race</th>\n",
              "    </tr>\n",
              "  </thead>\n",
              "  <tbody>\n",
              "    <tr>\n",
              "      <th>0</th>\n",
              "      <td>CA</td>\n",
              "      <td>1</td>\n",
              "      <td>1</td>\n",
              "      <td>1</td>\n",
              "    </tr>\n",
              "    <tr>\n",
              "      <th>1</th>\n",
              "      <td>CA</td>\n",
              "      <td>1</td>\n",
              "      <td>0</td>\n",
              "      <td>1</td>\n",
              "    </tr>\n",
              "    <tr>\n",
              "      <th>2</th>\n",
              "      <td>CA</td>\n",
              "      <td>1</td>\n",
              "      <td>1</td>\n",
              "      <td>5</td>\n",
              "    </tr>\n",
              "    <tr>\n",
              "      <th>3</th>\n",
              "      <td>CA</td>\n",
              "      <td>1</td>\n",
              "      <td>1</td>\n",
              "      <td>0</td>\n",
              "    </tr>\n",
              "    <tr>\n",
              "      <th>4</th>\n",
              "      <td>CA</td>\n",
              "      <td>1</td>\n",
              "      <td>1</td>\n",
              "      <td>0</td>\n",
              "    </tr>\n",
              "  </tbody>\n",
              "</table>\n",
              "</div>"
            ],
            "text/plain": [
              "  res_state age_group sex race\n",
              "0        CA         1   1    1\n",
              "1        CA         1   0    1\n",
              "2        CA         1   1    5\n",
              "3        CA         1   1    0\n",
              "4        CA         1   1    0"
            ]
          },
          "metadata": {
            "tags": []
          },
          "execution_count": 6
        }
      ]
    },
    {
      "cell_type": "code",
      "metadata": {
        "id": "tQMfFu0IT495"
      },
      "source": [
        "# Region: 0-Northeast, 1-Southeast, 2-Midwest, 3-Southwest, 4-West\n",
        "ca_df_part1.insert(4, \"region\", \"4\")\n",
        "\n",
        "# Population density\n",
        "ca_df_part1.insert(5, \"pop_density\", \"254\")\n",
        "\n",
        "# Median income\n",
        "ca_df_part1.insert(6, \"median_income\", \"78105\")\n",
        "\n",
        "# Airport Per Square Mile\n",
        "ca_df_part1.insert(7, \"airport_area\", \"0.01\")\n",
        "\n",
        "# State Policy Prevention Mandate Score\n",
        "ca_df_part1.insert(8, \"policy_prevention\", \"32\")"
      ],
      "execution_count": null,
      "outputs": []
    },
    {
      "cell_type": "code",
      "metadata": {
        "id": "jZL4I0gkT6vR"
      },
      "source": [
        "# Region: 0-Northeast, 1-Southeast, 2-Midwest, 3-Southwest, 4-West\n",
        "ca_df_part2.insert(4, \"region\", \"4\")\n",
        "\n",
        "# Population density\n",
        "ca_df_part2.insert(5, \"pop_density\", \"254\")\n",
        "\n",
        "# Median income\n",
        "ca_df_part2.insert(6, \"median_income\", \"78105\")\n",
        "\n",
        "# Airport Per Square Mile\n",
        "ca_df_part2.insert(7, \"airport_area\", \"0.01\")\n",
        "\n",
        "# State Policy Prevention Mandate Score\n",
        "ca_df_part2.insert(8, \"policy_prevention\", \"32\")"
      ],
      "execution_count": null,
      "outputs": []
    },
    {
      "cell_type": "code",
      "metadata": {
        "id": "XexZJLjgTtgr"
      },
      "source": [
        "# Add column to identify all persons without COVID\n",
        "# has_covid: O-Yes, 1-No\n",
        "ca_df_part1.insert(9, \"has_covid\", \"1\")"
      ],
      "execution_count": null,
      "outputs": []
    },
    {
      "cell_type": "code",
      "metadata": {
        "id": "62dXRLTvTvhQ"
      },
      "source": [
        "# Add column to identify all persons without COVID\n",
        "# has_covid: O-Yes, 1-No\n",
        "ca_df_part2.insert(9, \"has_covid\", \"1\")"
      ],
      "execution_count": null,
      "outputs": []
    },
    {
      "cell_type": "code",
      "metadata": {
        "id": "VL8iRYxzTxU3",
        "colab": {
          "base_uri": "https://localhost:8080/",
          "height": 204
        },
        "outputId": "efb66480-7e49-4f2e-d9eb-443211da5ac2"
      },
      "source": [
        "ca_df_part1.head(5)"
      ],
      "execution_count": null,
      "outputs": [
        {
          "output_type": "execute_result",
          "data": {
            "text/html": [
              "<div>\n",
              "<style scoped>\n",
              "    .dataframe tbody tr th:only-of-type {\n",
              "        vertical-align: middle;\n",
              "    }\n",
              "\n",
              "    .dataframe tbody tr th {\n",
              "        vertical-align: top;\n",
              "    }\n",
              "\n",
              "    .dataframe thead th {\n",
              "        text-align: right;\n",
              "    }\n",
              "</style>\n",
              "<table border=\"1\" class=\"dataframe\">\n",
              "  <thead>\n",
              "    <tr style=\"text-align: right;\">\n",
              "      <th></th>\n",
              "      <th>res_state</th>\n",
              "      <th>age_group</th>\n",
              "      <th>sex</th>\n",
              "      <th>race</th>\n",
              "      <th>region</th>\n",
              "      <th>pop_density</th>\n",
              "      <th>median_income</th>\n",
              "      <th>airport_area</th>\n",
              "      <th>policy_prevention</th>\n",
              "      <th>has_covid</th>\n",
              "    </tr>\n",
              "  </thead>\n",
              "  <tbody>\n",
              "    <tr>\n",
              "      <th>0</th>\n",
              "      <td>CA</td>\n",
              "      <td>1</td>\n",
              "      <td>1</td>\n",
              "      <td>1</td>\n",
              "      <td>4</td>\n",
              "      <td>254</td>\n",
              "      <td>78105</td>\n",
              "      <td>0.01</td>\n",
              "      <td>32</td>\n",
              "      <td>1</td>\n",
              "    </tr>\n",
              "    <tr>\n",
              "      <th>1</th>\n",
              "      <td>CA</td>\n",
              "      <td>1</td>\n",
              "      <td>0</td>\n",
              "      <td>1</td>\n",
              "      <td>4</td>\n",
              "      <td>254</td>\n",
              "      <td>78105</td>\n",
              "      <td>0.01</td>\n",
              "      <td>32</td>\n",
              "      <td>1</td>\n",
              "    </tr>\n",
              "    <tr>\n",
              "      <th>2</th>\n",
              "      <td>CA</td>\n",
              "      <td>1</td>\n",
              "      <td>1</td>\n",
              "      <td>5</td>\n",
              "      <td>4</td>\n",
              "      <td>254</td>\n",
              "      <td>78105</td>\n",
              "      <td>0.01</td>\n",
              "      <td>32</td>\n",
              "      <td>1</td>\n",
              "    </tr>\n",
              "    <tr>\n",
              "      <th>3</th>\n",
              "      <td>CA</td>\n",
              "      <td>1</td>\n",
              "      <td>1</td>\n",
              "      <td>0</td>\n",
              "      <td>4</td>\n",
              "      <td>254</td>\n",
              "      <td>78105</td>\n",
              "      <td>0.01</td>\n",
              "      <td>32</td>\n",
              "      <td>1</td>\n",
              "    </tr>\n",
              "    <tr>\n",
              "      <th>4</th>\n",
              "      <td>CA</td>\n",
              "      <td>1</td>\n",
              "      <td>1</td>\n",
              "      <td>0</td>\n",
              "      <td>4</td>\n",
              "      <td>254</td>\n",
              "      <td>78105</td>\n",
              "      <td>0.01</td>\n",
              "      <td>32</td>\n",
              "      <td>1</td>\n",
              "    </tr>\n",
              "  </tbody>\n",
              "</table>\n",
              "</div>"
            ],
            "text/plain": [
              "  res_state age_group sex  ... airport_area policy_prevention has_covid\n",
              "0        CA         1   1  ...         0.01                32         1\n",
              "1        CA         1   0  ...         0.01                32         1\n",
              "2        CA         1   1  ...         0.01                32         1\n",
              "3        CA         1   1  ...         0.01                32         1\n",
              "4        CA         1   1  ...         0.01                32         1\n",
              "\n",
              "[5 rows x 10 columns]"
            ]
          },
          "metadata": {
            "tags": []
          },
          "execution_count": 10
        }
      ]
    },
    {
      "cell_type": "code",
      "metadata": {
        "id": "on5GU2k0TykJ",
        "colab": {
          "base_uri": "https://localhost:8080/",
          "height": 204
        },
        "outputId": "e83c98a3-3220-4cbd-c319-91e66f252617"
      },
      "source": [
        "ca_df_part2.head(5)"
      ],
      "execution_count": null,
      "outputs": [
        {
          "output_type": "execute_result",
          "data": {
            "text/html": [
              "<div>\n",
              "<style scoped>\n",
              "    .dataframe tbody tr th:only-of-type {\n",
              "        vertical-align: middle;\n",
              "    }\n",
              "\n",
              "    .dataframe tbody tr th {\n",
              "        vertical-align: top;\n",
              "    }\n",
              "\n",
              "    .dataframe thead th {\n",
              "        text-align: right;\n",
              "    }\n",
              "</style>\n",
              "<table border=\"1\" class=\"dataframe\">\n",
              "  <thead>\n",
              "    <tr style=\"text-align: right;\">\n",
              "      <th></th>\n",
              "      <th>res_state</th>\n",
              "      <th>age_group</th>\n",
              "      <th>sex</th>\n",
              "      <th>race</th>\n",
              "      <th>region</th>\n",
              "      <th>pop_density</th>\n",
              "      <th>median_income</th>\n",
              "      <th>airport_area</th>\n",
              "      <th>policy_prevention</th>\n",
              "      <th>has_covid</th>\n",
              "    </tr>\n",
              "  </thead>\n",
              "  <tbody>\n",
              "    <tr>\n",
              "      <th>0</th>\n",
              "      <td>CA</td>\n",
              "      <td>1</td>\n",
              "      <td>1</td>\n",
              "      <td>1</td>\n",
              "      <td>4</td>\n",
              "      <td>254</td>\n",
              "      <td>78105</td>\n",
              "      <td>0.01</td>\n",
              "      <td>32</td>\n",
              "      <td>1</td>\n",
              "    </tr>\n",
              "    <tr>\n",
              "      <th>1</th>\n",
              "      <td>CA</td>\n",
              "      <td>1</td>\n",
              "      <td>0</td>\n",
              "      <td>1</td>\n",
              "      <td>4</td>\n",
              "      <td>254</td>\n",
              "      <td>78105</td>\n",
              "      <td>0.01</td>\n",
              "      <td>32</td>\n",
              "      <td>1</td>\n",
              "    </tr>\n",
              "    <tr>\n",
              "      <th>2</th>\n",
              "      <td>CA</td>\n",
              "      <td>1</td>\n",
              "      <td>1</td>\n",
              "      <td>5</td>\n",
              "      <td>4</td>\n",
              "      <td>254</td>\n",
              "      <td>78105</td>\n",
              "      <td>0.01</td>\n",
              "      <td>32</td>\n",
              "      <td>1</td>\n",
              "    </tr>\n",
              "    <tr>\n",
              "      <th>3</th>\n",
              "      <td>CA</td>\n",
              "      <td>1</td>\n",
              "      <td>1</td>\n",
              "      <td>0</td>\n",
              "      <td>4</td>\n",
              "      <td>254</td>\n",
              "      <td>78105</td>\n",
              "      <td>0.01</td>\n",
              "      <td>32</td>\n",
              "      <td>1</td>\n",
              "    </tr>\n",
              "    <tr>\n",
              "      <th>4</th>\n",
              "      <td>CA</td>\n",
              "      <td>1</td>\n",
              "      <td>1</td>\n",
              "      <td>0</td>\n",
              "      <td>4</td>\n",
              "      <td>254</td>\n",
              "      <td>78105</td>\n",
              "      <td>0.01</td>\n",
              "      <td>32</td>\n",
              "      <td>1</td>\n",
              "    </tr>\n",
              "  </tbody>\n",
              "</table>\n",
              "</div>"
            ],
            "text/plain": [
              "  res_state age_group sex  ... airport_area policy_prevention has_covid\n",
              "0        CA         1   1  ...         0.01                32         1\n",
              "1        CA         1   0  ...         0.01                32         1\n",
              "2        CA         1   1  ...         0.01                32         1\n",
              "3        CA         1   1  ...         0.01                32         1\n",
              "4        CA         1   1  ...         0.01                32         1\n",
              "\n",
              "[5 rows x 10 columns]"
            ]
          },
          "metadata": {
            "tags": []
          },
          "execution_count": 9
        }
      ]
    },
    {
      "cell_type": "code",
      "metadata": {
        "id": "gsSOBGhmTztS"
      },
      "source": [
        "ca_df_part1.to_csv('ca_no_covid_part1.csv', index=False)"
      ],
      "execution_count": null,
      "outputs": []
    },
    {
      "cell_type": "code",
      "metadata": {
        "id": "hXS0zClsT1bp"
      },
      "source": [
        "ca_df_part2.to_csv('ca_no_covid_part2.csv', index=False)"
      ],
      "execution_count": null,
      "outputs": []
    },
    {
      "cell_type": "code",
      "metadata": {
        "id": "HFunaFzqUori"
      },
      "source": [
        "# Idaho\n",
        "def faker_categorical(num=1, seed=None):\n",
        "  np.random.seed(seed)\n",
        "  fake.seed_instance(seed)\n",
        "\n",
        "  output = [\n",
        "    {\n",
        "        \"res_state\": \"ID\",\n",
        "        # age_group: 0: 0-17 years, 1: 18-49 years, 2: 50-64 years, 3: 65+ years\n",
        "        \"age_group\": np.random.choice([\"0\", \"1\", \"2\", \"3\"], p=[0.27, 0.39, 0.18, 0.16]),\n",
        "        # sex: 0-Male, 1-Female\n",
        "        \"sex\": np.random.choice([\"0\", \"1\"], p=[0.50, 0.50]),\n",
        "        # race: 0-White, 1-Black, 2-Asian, 3-American Indian/Alaska Native, 4-Native Hawaiian/Other Pacific Islander, 5-Multiple/Other\n",
        "        \"race\": np.random.choice([\"0\", \"1\", \"2\", \"3\", \"4\", \"5\"], p=(0.8936, 0.0071, 0.0145, 0.0128, 0.0014, 0.0706)),\n",
        "    }\n",
        "    for x in range(num)\n",
        "  ]\n",
        "  return output"
      ],
      "execution_count": null,
      "outputs": []
    },
    {
      "cell_type": "code",
      "metadata": {
        "id": "lvV1Uxa-UxF1",
        "colab": {
          "base_uri": "https://localhost:8080/",
          "height": 204
        },
        "outputId": "99c22cfd-c863-4e7f-9055-21f314fd8381"
      },
      "source": [
        "id_df = pd.DataFrame(faker_categorical(num=1650851, seed=0))\n",
        "id_df.head(5)"
      ],
      "execution_count": null,
      "outputs": [
        {
          "output_type": "execute_result",
          "data": {
            "text/html": [
              "<div>\n",
              "<style scoped>\n",
              "    .dataframe tbody tr th:only-of-type {\n",
              "        vertical-align: middle;\n",
              "    }\n",
              "\n",
              "    .dataframe tbody tr th {\n",
              "        vertical-align: top;\n",
              "    }\n",
              "\n",
              "    .dataframe thead th {\n",
              "        text-align: right;\n",
              "    }\n",
              "</style>\n",
              "<table border=\"1\" class=\"dataframe\">\n",
              "  <thead>\n",
              "    <tr style=\"text-align: right;\">\n",
              "      <th></th>\n",
              "      <th>res_state</th>\n",
              "      <th>age_group</th>\n",
              "      <th>sex</th>\n",
              "      <th>race</th>\n",
              "    </tr>\n",
              "  </thead>\n",
              "  <tbody>\n",
              "    <tr>\n",
              "      <th>0</th>\n",
              "      <td>ID</td>\n",
              "      <td>1</td>\n",
              "      <td>1</td>\n",
              "      <td>0</td>\n",
              "    </tr>\n",
              "    <tr>\n",
              "      <th>1</th>\n",
              "      <td>ID</td>\n",
              "      <td>1</td>\n",
              "      <td>0</td>\n",
              "      <td>0</td>\n",
              "    </tr>\n",
              "    <tr>\n",
              "      <th>2</th>\n",
              "      <td>ID</td>\n",
              "      <td>1</td>\n",
              "      <td>1</td>\n",
              "      <td>5</td>\n",
              "    </tr>\n",
              "    <tr>\n",
              "      <th>3</th>\n",
              "      <td>ID</td>\n",
              "      <td>1</td>\n",
              "      <td>1</td>\n",
              "      <td>0</td>\n",
              "    </tr>\n",
              "    <tr>\n",
              "      <th>4</th>\n",
              "      <td>ID</td>\n",
              "      <td>1</td>\n",
              "      <td>1</td>\n",
              "      <td>0</td>\n",
              "    </tr>\n",
              "  </tbody>\n",
              "</table>\n",
              "</div>"
            ],
            "text/plain": [
              "  res_state age_group sex race\n",
              "0        ID         1   1    0\n",
              "1        ID         1   0    0\n",
              "2        ID         1   1    5\n",
              "3        ID         1   1    0\n",
              "4        ID         1   1    0"
            ]
          },
          "metadata": {
            "tags": []
          },
          "execution_count": 12
        }
      ]
    },
    {
      "cell_type": "code",
      "metadata": {
        "id": "xFHYzGCuU4qp"
      },
      "source": [
        "# Region: 0-Northeast, 1-Southeast, 2-Midwest, 3-Southwest, 4-West\n",
        "id_df.insert(4, \"region\", \"4\")\n",
        "\n",
        "# Population density\n",
        "id_df.insert(5, \"pop_density\", \"32\")\n",
        "\n",
        "# Median income\n",
        "id_df.insert(6, \"median_income\", \"65988\")\n",
        "\n",
        "# Airport Per Square Mile\n",
        "id_df.insert(7, \"airport_area\", \"0.01\")\n",
        "\n",
        "# State Policy Prevention Mandate Score\n",
        "id_df.insert(8, \"policy_prevention\", \"83\")"
      ],
      "execution_count": null,
      "outputs": []
    },
    {
      "cell_type": "code",
      "metadata": {
        "id": "GH62ZaX5UzZH"
      },
      "source": [
        "# Add column to identify all persons without COVID\n",
        "# has_covid: O-Yes, 1-No\n",
        "id_df.insert(9, \"has_covid\", \"1\")"
      ],
      "execution_count": null,
      "outputs": []
    },
    {
      "cell_type": "code",
      "metadata": {
        "id": "mDUPEGtqU0lp",
        "colab": {
          "base_uri": "https://localhost:8080/",
          "height": 204
        },
        "outputId": "28128cbb-9403-4627-f443-1022e2f76d13"
      },
      "source": [
        "id_df.head(5)"
      ],
      "execution_count": null,
      "outputs": [
        {
          "output_type": "execute_result",
          "data": {
            "text/html": [
              "<div>\n",
              "<style scoped>\n",
              "    .dataframe tbody tr th:only-of-type {\n",
              "        vertical-align: middle;\n",
              "    }\n",
              "\n",
              "    .dataframe tbody tr th {\n",
              "        vertical-align: top;\n",
              "    }\n",
              "\n",
              "    .dataframe thead th {\n",
              "        text-align: right;\n",
              "    }\n",
              "</style>\n",
              "<table border=\"1\" class=\"dataframe\">\n",
              "  <thead>\n",
              "    <tr style=\"text-align: right;\">\n",
              "      <th></th>\n",
              "      <th>res_state</th>\n",
              "      <th>age_group</th>\n",
              "      <th>sex</th>\n",
              "      <th>race</th>\n",
              "      <th>region</th>\n",
              "      <th>pop_density</th>\n",
              "      <th>median_income</th>\n",
              "      <th>airport_area</th>\n",
              "      <th>policy_prevention</th>\n",
              "      <th>has_covid</th>\n",
              "    </tr>\n",
              "  </thead>\n",
              "  <tbody>\n",
              "    <tr>\n",
              "      <th>0</th>\n",
              "      <td>ID</td>\n",
              "      <td>1</td>\n",
              "      <td>1</td>\n",
              "      <td>0</td>\n",
              "      <td>4</td>\n",
              "      <td>32</td>\n",
              "      <td>65988</td>\n",
              "      <td>0.01</td>\n",
              "      <td>83</td>\n",
              "      <td>1</td>\n",
              "    </tr>\n",
              "    <tr>\n",
              "      <th>1</th>\n",
              "      <td>ID</td>\n",
              "      <td>1</td>\n",
              "      <td>0</td>\n",
              "      <td>0</td>\n",
              "      <td>4</td>\n",
              "      <td>32</td>\n",
              "      <td>65988</td>\n",
              "      <td>0.01</td>\n",
              "      <td>83</td>\n",
              "      <td>1</td>\n",
              "    </tr>\n",
              "    <tr>\n",
              "      <th>2</th>\n",
              "      <td>ID</td>\n",
              "      <td>1</td>\n",
              "      <td>1</td>\n",
              "      <td>5</td>\n",
              "      <td>4</td>\n",
              "      <td>32</td>\n",
              "      <td>65988</td>\n",
              "      <td>0.01</td>\n",
              "      <td>83</td>\n",
              "      <td>1</td>\n",
              "    </tr>\n",
              "    <tr>\n",
              "      <th>3</th>\n",
              "      <td>ID</td>\n",
              "      <td>1</td>\n",
              "      <td>1</td>\n",
              "      <td>0</td>\n",
              "      <td>4</td>\n",
              "      <td>32</td>\n",
              "      <td>65988</td>\n",
              "      <td>0.01</td>\n",
              "      <td>83</td>\n",
              "      <td>1</td>\n",
              "    </tr>\n",
              "    <tr>\n",
              "      <th>4</th>\n",
              "      <td>ID</td>\n",
              "      <td>1</td>\n",
              "      <td>1</td>\n",
              "      <td>0</td>\n",
              "      <td>4</td>\n",
              "      <td>32</td>\n",
              "      <td>65988</td>\n",
              "      <td>0.01</td>\n",
              "      <td>83</td>\n",
              "      <td>1</td>\n",
              "    </tr>\n",
              "  </tbody>\n",
              "</table>\n",
              "</div>"
            ],
            "text/plain": [
              "  res_state age_group sex  ... airport_area policy_prevention has_covid\n",
              "0        ID         1   1  ...         0.01                83         1\n",
              "1        ID         1   0  ...         0.01                83         1\n",
              "2        ID         1   1  ...         0.01                83         1\n",
              "3        ID         1   1  ...         0.01                83         1\n",
              "4        ID         1   1  ...         0.01                83         1\n",
              "\n",
              "[5 rows x 10 columns]"
            ]
          },
          "metadata": {
            "tags": []
          },
          "execution_count": 15
        }
      ]
    },
    {
      "cell_type": "code",
      "metadata": {
        "id": "YQe1XYJxU14q"
      },
      "source": [
        "id_df.to_csv('id_no_covid.csv', index=False)"
      ],
      "execution_count": null,
      "outputs": []
    },
    {
      "cell_type": "code",
      "metadata": {
        "id": "tnq04lQ3VmCS"
      },
      "source": [
        "# Utah\n",
        "def faker_categorical(num=1, seed=None):\n",
        "  np.random.seed(seed)\n",
        "  fake.seed_instance(seed)\n",
        "\n",
        "  output = [\n",
        "    {\n",
        "        \"res_state\": \"UT\",\n",
        "        # age_group: 0: 0-17 years, 1: 18-49 years, 2: 50-64 years, 3: 65+ years\n",
        "        \"age_group\": np.random.choice([\"0\", \"1\", \"2\", \"3\"], p=[0.30, 0.44, 0.14, 0.12]),\n",
        "        # sex: 0-Male, 1-Female\n",
        "        \"sex\": np.random.choice([\"0\", \"1\"], p=[0.50, 0.50]),\n",
        "        # race: 0-White, 1-Black, 2-Asian, 3-American Indian/Alaska Native, 4-Native Hawaiian/Other Pacific Islander, 5-Multiple/Other\n",
        "        \"race\": np.random.choice([\"0\", \"1\", \"2\", \"3\", \"4\", \"5\"], p=(0.8732, 0.0115, 0.0239, 0.0110, 0.0096, 0.0708)),\n",
        "    }\n",
        "    for x in range(num)\n",
        "  ]\n",
        "  return output"
      ],
      "execution_count": null,
      "outputs": []
    },
    {
      "cell_type": "code",
      "metadata": {
        "id": "6GEl91yiVqFK",
        "colab": {
          "base_uri": "https://localhost:8080/",
          "height": 204
        },
        "outputId": "dc3c1be7-e5bb-4adf-ec43-ddaffa3963bd"
      },
      "source": [
        "ut_df = pd.DataFrame(faker_categorical(num=2915467, seed=0))\n",
        "ut_df.head(5)"
      ],
      "execution_count": null,
      "outputs": [
        {
          "output_type": "execute_result",
          "data": {
            "text/html": [
              "<div>\n",
              "<style scoped>\n",
              "    .dataframe tbody tr th:only-of-type {\n",
              "        vertical-align: middle;\n",
              "    }\n",
              "\n",
              "    .dataframe tbody tr th {\n",
              "        vertical-align: top;\n",
              "    }\n",
              "\n",
              "    .dataframe thead th {\n",
              "        text-align: right;\n",
              "    }\n",
              "</style>\n",
              "<table border=\"1\" class=\"dataframe\">\n",
              "  <thead>\n",
              "    <tr style=\"text-align: right;\">\n",
              "      <th></th>\n",
              "      <th>res_state</th>\n",
              "      <th>age_group</th>\n",
              "      <th>sex</th>\n",
              "      <th>race</th>\n",
              "    </tr>\n",
              "  </thead>\n",
              "  <tbody>\n",
              "    <tr>\n",
              "      <th>0</th>\n",
              "      <td>UT</td>\n",
              "      <td>1</td>\n",
              "      <td>1</td>\n",
              "      <td>0</td>\n",
              "    </tr>\n",
              "    <tr>\n",
              "      <th>1</th>\n",
              "      <td>UT</td>\n",
              "      <td>1</td>\n",
              "      <td>0</td>\n",
              "      <td>0</td>\n",
              "    </tr>\n",
              "    <tr>\n",
              "      <th>2</th>\n",
              "      <td>UT</td>\n",
              "      <td>1</td>\n",
              "      <td>1</td>\n",
              "      <td>5</td>\n",
              "    </tr>\n",
              "    <tr>\n",
              "      <th>3</th>\n",
              "      <td>UT</td>\n",
              "      <td>1</td>\n",
              "      <td>1</td>\n",
              "      <td>0</td>\n",
              "    </tr>\n",
              "    <tr>\n",
              "      <th>4</th>\n",
              "      <td>UT</td>\n",
              "      <td>1</td>\n",
              "      <td>1</td>\n",
              "      <td>0</td>\n",
              "    </tr>\n",
              "  </tbody>\n",
              "</table>\n",
              "</div>"
            ],
            "text/plain": [
              "  res_state age_group sex race\n",
              "0        UT         1   1    0\n",
              "1        UT         1   0    0\n",
              "2        UT         1   1    5\n",
              "3        UT         1   1    0\n",
              "4        UT         1   1    0"
            ]
          },
          "metadata": {
            "tags": []
          },
          "execution_count": 18
        }
      ]
    },
    {
      "cell_type": "code",
      "metadata": {
        "id": "VjzTQ7SRV1Ze"
      },
      "source": [
        "# Region: 0-Northeast, 1-Southeast, 2-Midwest, 3-Southwest, 4-West\n",
        "ut_df.insert(4, \"region\", \"4\")\n",
        "\n",
        "# Population density\n",
        "ut_df.insert(5, \"pop_density\", \"39\")\n",
        "\n",
        "# Median income\n",
        "ut_df.insert(6, \"median_income\", \"84523\")\n",
        "\n",
        "# Airport Per Square Mile\n",
        "ut_df.insert(7, \"airport_area\", \"0.01\")\n",
        "\n",
        "# State Policy Prevention Mandate Score\n",
        "ut_df.insert(8, \"policy_prevention\", \"80\")"
      ],
      "execution_count": null,
      "outputs": []
    },
    {
      "cell_type": "code",
      "metadata": {
        "id": "8VQ1LL-NVrYG"
      },
      "source": [
        "# Add column to identify all persons without COVID\n",
        "# has_covid: O-Yes, 1-No\n",
        "ut_df.insert(9, \"has_covid\", \"1\")"
      ],
      "execution_count": null,
      "outputs": []
    },
    {
      "cell_type": "code",
      "metadata": {
        "id": "sgmJe-ctVs2n",
        "colab": {
          "base_uri": "https://localhost:8080/",
          "height": 204
        },
        "outputId": "e5c37e63-6a59-4e1b-9d30-e3852b2c0dd3"
      },
      "source": [
        "ut_df.head(5)"
      ],
      "execution_count": null,
      "outputs": [
        {
          "output_type": "execute_result",
          "data": {
            "text/html": [
              "<div>\n",
              "<style scoped>\n",
              "    .dataframe tbody tr th:only-of-type {\n",
              "        vertical-align: middle;\n",
              "    }\n",
              "\n",
              "    .dataframe tbody tr th {\n",
              "        vertical-align: top;\n",
              "    }\n",
              "\n",
              "    .dataframe thead th {\n",
              "        text-align: right;\n",
              "    }\n",
              "</style>\n",
              "<table border=\"1\" class=\"dataframe\">\n",
              "  <thead>\n",
              "    <tr style=\"text-align: right;\">\n",
              "      <th></th>\n",
              "      <th>res_state</th>\n",
              "      <th>age_group</th>\n",
              "      <th>sex</th>\n",
              "      <th>race</th>\n",
              "      <th>region</th>\n",
              "      <th>pop_density</th>\n",
              "      <th>median_income</th>\n",
              "      <th>airport_area</th>\n",
              "      <th>policy_prevention</th>\n",
              "      <th>has_covid</th>\n",
              "    </tr>\n",
              "  </thead>\n",
              "  <tbody>\n",
              "    <tr>\n",
              "      <th>0</th>\n",
              "      <td>UT</td>\n",
              "      <td>1</td>\n",
              "      <td>1</td>\n",
              "      <td>0</td>\n",
              "      <td>4</td>\n",
              "      <td>39</td>\n",
              "      <td>84523</td>\n",
              "      <td>0.01</td>\n",
              "      <td>80</td>\n",
              "      <td>1</td>\n",
              "    </tr>\n",
              "    <tr>\n",
              "      <th>1</th>\n",
              "      <td>UT</td>\n",
              "      <td>1</td>\n",
              "      <td>0</td>\n",
              "      <td>0</td>\n",
              "      <td>4</td>\n",
              "      <td>39</td>\n",
              "      <td>84523</td>\n",
              "      <td>0.01</td>\n",
              "      <td>80</td>\n",
              "      <td>1</td>\n",
              "    </tr>\n",
              "    <tr>\n",
              "      <th>2</th>\n",
              "      <td>UT</td>\n",
              "      <td>1</td>\n",
              "      <td>1</td>\n",
              "      <td>5</td>\n",
              "      <td>4</td>\n",
              "      <td>39</td>\n",
              "      <td>84523</td>\n",
              "      <td>0.01</td>\n",
              "      <td>80</td>\n",
              "      <td>1</td>\n",
              "    </tr>\n",
              "    <tr>\n",
              "      <th>3</th>\n",
              "      <td>UT</td>\n",
              "      <td>1</td>\n",
              "      <td>1</td>\n",
              "      <td>0</td>\n",
              "      <td>4</td>\n",
              "      <td>39</td>\n",
              "      <td>84523</td>\n",
              "      <td>0.01</td>\n",
              "      <td>80</td>\n",
              "      <td>1</td>\n",
              "    </tr>\n",
              "    <tr>\n",
              "      <th>4</th>\n",
              "      <td>UT</td>\n",
              "      <td>1</td>\n",
              "      <td>1</td>\n",
              "      <td>0</td>\n",
              "      <td>4</td>\n",
              "      <td>39</td>\n",
              "      <td>84523</td>\n",
              "      <td>0.01</td>\n",
              "      <td>80</td>\n",
              "      <td>1</td>\n",
              "    </tr>\n",
              "  </tbody>\n",
              "</table>\n",
              "</div>"
            ],
            "text/plain": [
              "  res_state age_group sex  ... airport_area policy_prevention has_covid\n",
              "0        UT         1   1  ...         0.01                80         1\n",
              "1        UT         1   0  ...         0.01                80         1\n",
              "2        UT         1   1  ...         0.01                80         1\n",
              "3        UT         1   1  ...         0.01                80         1\n",
              "4        UT         1   1  ...         0.01                80         1\n",
              "\n",
              "[5 rows x 10 columns]"
            ]
          },
          "metadata": {
            "tags": []
          },
          "execution_count": 21
        }
      ]
    },
    {
      "cell_type": "code",
      "metadata": {
        "id": "1HZQjOmxVuGX"
      },
      "source": [
        "ut_df.to_csv('ut_no_covid.csv', index=False)"
      ],
      "execution_count": null,
      "outputs": []
    }
  ]
}